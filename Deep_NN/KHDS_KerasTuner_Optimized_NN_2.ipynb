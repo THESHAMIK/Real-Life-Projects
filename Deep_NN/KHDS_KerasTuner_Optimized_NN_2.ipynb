{
  "nbformat": 4,
  "nbformat_minor": 0,
  "metadata": {
    "colab": {
      "name": "KHDS_KerasTuner_Optimized_NN_2.ipynb",
      "provenance": [],
      "collapsed_sections": [],
      "authorship_tag": "ABX9TyON0KF+owT55q28MZ3EFquY",
      "include_colab_link": true
    },
    "kernelspec": {
      "name": "python3",
      "display_name": "Python 3"
    },
    "language_info": {
      "name": "python"
    }
  },
  "cells": [
    {
      "cell_type": "markdown",
      "metadata": {
        "id": "view-in-github",
        "colab_type": "text"
      },
      "source": [
        "<a href=\"https://colab.research.google.com/github/THESHAMIK/Real-Life-Projects/blob/main/Deep_NN/KHDS_KerasTuner_Optimized_NN_2.ipynb\" target=\"_parent\"><img src=\"https://colab.research.google.com/assets/colab-badge.svg\" alt=\"Open In Colab\"/></a>"
      ]
    },
    {
      "cell_type": "markdown",
      "source": [
        "First pass with basic ==> The R2 score on the Train set is:\t0.632\n",
        "The R2 score on the Test set is:\t0.236\n",
        "\n",
        "2nd pass ==> BATCH = 10, epochs = 200, lr = 0.001, units = 64, Middle layer = 1(apart from i/p & o/p layer) kernel_initializer='he_uniform', activation=tf.nn.relu + Early Stopping + validation_split = 0.2,shuffle = True\n",
        "\n",
        "The R2 score on the Train set is:\t**0.666**\n",
        "The RMSE score on the Train set is:\t2.605\n",
        "The MSE score on the Test set is:\t6.785\n",
        "The MSA score on the Test set is:\t1.434\n",
        "The MAPE score on the Test set is:\t0.411\n",
        "Now scores on TEST data ==> all scores best for test\n",
        "The R2 score on the Test set is:\t**0.190**\n",
        "The RMSE score on the Test set is:\t4.107\n",
        "The MSE score on the Test set is:\t**16.870**\n",
        "The MSA score on the Test set is:\t**1.759**\n",
        "The MAPE score on the Test set is:\t**0.435**\n",
        "Epoch 32: early stopping\n",
        "\n",
        "PASS 3: Here we added 9 middle layers with all dropouts. R2 reduced.\n",
        "The R2 score on the Train set is:\t0.217\n",
        "The RMSE score on the Train set is:\t3.989\n",
        "The MSE score on the Test set is:\t15.910\n",
        "The MSA score on the Test set is:\t1.718\n",
        "The MAPE score on the Test set is:\t0.534\n",
        "Now scores on TEST data\n",
        "The R2 score on the Test set is:\t0.017\n",
        "The RMSE score on the Test set is:\t4.525\n",
        "The MSE score on the Test set is:\t20.480\n",
        "The MSA score on the Test set is:\t1.994\n",
        "The MAPE score on the Test set is:\t0.536\n",
        "\n",
        "PASS 4:: lr = 0.0001 from 0.001. epoch = 500 from 200. batch size still at 10.\n",
        "loss = mae from mse.\n",
        "The R2 score on the Train set is:\t**-0.152**\n",
        "The RMSE score on the Train set is:\t4.841\n",
        "The MSE score on the Test set is:\t23.430\n",
        "The MSA score on the Test set is:\t2.149\n",
        "The MAPE score on the Test set is:\t0.424\n",
        "Now scores on TEST data\n",
        "The R2 score on the Test set is:\t-0.220\n",
        "The RMSE score on the Test set is:\t5.042\n",
        "The MSE score on the Test set is:\t25.417\n",
        "The MSA score on the Test set is:\t2.386\n",
        "The MAPE score on the Test set is:\t0.440\n",
        "\n",
        "PASS 5 :: loss during complie returned/changed to mse from mae + epoch =200 from 500. Immediately r2 returned positive with higest value!!\n",
        "The R2 score on the Train set is:\t**0.685**\n",
        "The RMSE score on the Train set is:\t2.529\n",
        "The MSE score on the Test set is:\t6.396\n",
        "The MSA score on the Test set is:\t1.497\n",
        "The MAPE score on the Test set is:\t0.362\n",
        "Now scores on TEST data\n",
        "The R2 score on the Test set is:\t0.142\n",
        "The RMSE score on the Test set is:\t4.226\n",
        "The MSE score on the Test set is:\t17.859\n",
        "The MSA score on the Test set is:\t1.818\n",
        "The MAPE score on the Test set is:\t0.388\n",
        "Epoch 87: early stopping\n",
        "\n",
        "PASS 6:: Following KHDS_KerasTuner_NN_1 params for middle layer keeping all others same. Still r2 not good inspite of 16 middle layers!\n",
        "The R2 score on the Train set is:\t0.601\n",
        "The RMSE score on the Train set is:\t2.847\n",
        "The MSE score on the Test set is:\t8.103\n",
        "The MSA score on the Test set is:\t1.726\n",
        "The MAPE score on the Test set is:\t0.382\n",
        "Now scores on TEST data\n",
        "The R2 score on the Test set is:\t0.036\n",
        "The RMSE score on the Test set is:\t4.480\n",
        "The MSE score on the Test set is:\t20.071\n",
        "The MSA score on the Test set is:\t1.991\n",
        "The MAPE score on the Test set is:\t0.381\n",
        "\n",
        "PASS 7::BACTH = 20 from 10. epoch =300 from 200. Middle layers reduced/changed from 15 to 5\n",
        "The R2 score on the Train set is:\t**0.704**\n",
        "The RMSE score on the Train set is:\t2.453\n",
        "The MSE score on the Test set is:\t6.019\n",
        "The MSA score on the Test set is:\t1.388\n",
        "The MAPE score on the Test set is:\t0.381\n",
        "Now scores on TEST data\n",
        "The R2 score on the Test set is:\t0.087\n",
        "The RMSE score on the Test set is:\t4.361\n",
        "The MSE score on the Test set is:\t19.014\n",
        "The MSA score on the Test set is:\t1.895\n",
        "The MAPE score on the Test set is:\t0.454\n",
        "\n",
        "PASS 8:: All same as PASS7 except just 1 middle layer kept. all other 15 middle layers reduced.\n",
        "The R2 score on the Train set is:\t0.552\n",
        "The RMSE score on the Train set is:\t3.018\n",
        "The MSE score on the Test set is:\t9.110\n",
        "The MSA score on the Test set is:\t1.523\n",
        "The MAPE score on the Test set is:\t0.457\n",
        "Now scores on TEST data\n",
        "The R2 score on the Test set is:\t0.161\n",
        "The RMSE score on the Test set is:\t4.181\n",
        "The MSE score on the Test set is:\t17.478\n",
        "The MSA score on the Test set is:\t**1.754**\n",
        "The MAPE score on the Test set is:\t0.479\n",
        "Epoch 83: early stopping.   Graph looks good!\n",
        "\n",
        "PASS 10: Replica of pass 2 but reduced patience to 10 from 15 & neurons to 128 from 64.\n",
        "\n",
        "The R2 score on the Train set is:\t0.707\n",
        "The RMSE score on the Train set is:\t2.439\n",
        "The MSE score on the Test set is:\t5.951\n",
        "The MSA score on the Test set is:\t1.338\n",
        "The MAPE score on the Test set is:\t0.342\n",
        "Now scores on TEST data\n",
        "The R2 score on the Test set is:\t0.201\n",
        "The RMSE score on the Test set is:\t4.078\n",
        "The MSE score on the Test set is:\t16.632\n",
        "The MSA score on the Test set is:\t1.700\n",
        "The MAPE score on the Test set is:\t0.387\n",
        "Epoch 28: early stopping\n",
        "\n",
        "pass 10+1 :: same like pass 10 with little increase/decrease of neurons only\n",
        "The R2 score on the Train set is:\t0.673\n",
        "The RMSE score on the Train set is:\t2.578\n",
        "The MSE score on the Test set is:\t6.646\n",
        "The MSA score on the Test set is:\t1.342\n",
        "The MAPE score on the Test set is:\t0.365\n",
        "Now scores on TEST data\n",
        "The R2 score on the Test set is:\t0.186\n",
        "The RMSE score on the Test set is:\t4.118\n",
        "The MSE score on the Test set is:\t16.959\n",
        "The MSA score on the Test set is:\t**1.654**\n",
        "The MAPE score on the Test set is:\t0.387"
      ],
      "metadata": {
        "id": "m-Z2ta2-KaCb"
      }
    },
    {
      "cell_type": "code",
      "execution_count": null,
      "metadata": {
        "id": "pcXTFK35FxdY"
      },
      "outputs": [],
      "source": [
        "# Import packages\n",
        "import numpy as np\n",
        "import pandas as pd\n",
        "import random\n",
        "import matplotlib.pyplot as plt\n",
        "import seaborn as sns\n",
        "from sklearn.model_selection import train_test_split\n",
        "from sklearn.model_selection import cross_val_score\n",
        "from keras.models import Sequential\n",
        "from keras.layers import Dense, BatchNormalization, Dropout\n",
        "#from keras.optimizers import SGD, RMSprop, Adadelta, Adagrad, Adamax, Nadam, Ftrl\n",
        "from tensorflow.keras.optimizers import SGD, RMSprop, Adadelta, Adagrad, Adamax, Nadam, Ftrl\n",
        "from tensorflow.keras.optimizers import Adam ##because cannot import name 'Adam' from 'keras.optimizers'\n",
        "from keras.callbacks import EarlyStopping, ModelCheckpoint\n",
        "#from keras.wrappers.scikit_learn import KerasClassifier\n",
        "from keras.wrappers.scikit_learn import KerasRegressor\n",
        "from math import floor\n",
        "from sklearn.metrics import make_scorer, accuracy_score\n",
        "from sklearn.metrics import mean_squared_error\n",
        "from sklearn.metrics import mean_absolute_error\n",
        "\n",
        "from sklearn.metrics import r2_score\n",
        "#from bayes_opt import BayesianOptimization\n",
        "from sklearn.model_selection import StratifiedKFold\n",
        "from keras.layers import LeakyReLU\n",
        "LeakyReLU = LeakyReLU(alpha=0.1)\n",
        "import tensorflow as tf\n",
        "\n",
        "import warnings\n",
        "warnings.filterwarnings('ignore')\n",
        "pd.set_option(\"display.max_columns\", None)"
      ]
    },
    {
      "cell_type": "code",
      "source": [
        "  df = pd.read_csv(\"khds_final_1.csv\")\n",
        "  df['Product Sulphur'] = pd.to_numeric(df['Product Sulphur'],errors = 'coerce') ##==> This one works as pd.to_numeric works for convert a list, a series, an array, or a tuple to a numeric datatype\n",
        "  filtered_df = df[df['Product Sulphur'].notnull()]\n",
        "  df.dropna(axis=0)\n",
        "  filtered_df.info()"
      ],
      "metadata": {
        "colab": {
          "base_uri": "https://localhost:8080/"
        },
        "id": "250Z8uvLF_TO",
        "outputId": "795a7e7d-3446-406a-89d3-3e299754b1c8"
      },
      "execution_count": null,
      "outputs": [
        {
          "output_type": "stream",
          "name": "stdout",
          "text": [
            "<class 'pandas.core.frame.DataFrame'>\n",
            "Int64Index: 711 entries, 0 to 710\n",
            "Data columns (total 34 columns):\n",
            " #   Column                                     Non-Null Count  Dtype  \n",
            "---  ------                                     --------------  -----  \n",
            " 0   LABfeed Sulphur                            711 non-null    float64\n",
            " 1   T1 : FRESH FEED FLOW TO KHDS KGPerHour     711 non-null    float64\n",
            " 2   T1 : Reactor inlet temperature DEGC        711 non-null    float64\n",
            " 3   T1 : Hydrogen make-up flow NM3perHour      711 non-null    float64\n",
            " 4   T1 : Recycle hydrogen flow NM3perHour      711 non-null    float64\n",
            " 5   T1 : REACTOR OUTLET Temp DEGC              711 non-null    float64\n",
            " 6   T1 : REACTOR FEED INLET Pressure KGperCM2  711 non-null    float64\n",
            " 7   T1 : Cold separator pressure KGperCM2      711 non-null    float64\n",
            " 8   T1 : KERO FEED DENSITY KGperCM2            711 non-null    float64\n",
            " 9   T2 : FRESH FEED FLOW TO KHDS KGPerHour     711 non-null    float64\n",
            " 10  T2 : Reactor inlet temperature DEGC        711 non-null    float64\n",
            " 11  T2 : Hydrogen make-up flow NM3perHour      711 non-null    float64\n",
            " 12  T2 : Recycle hydrogen flow NM3perHour      711 non-null    float64\n",
            " 13  T2 : REACTOR OUTLET Temp DEGC              711 non-null    float64\n",
            " 14  T2 : REACTOR FEED INLET Pressure KGperCM2  711 non-null    float64\n",
            " 15  T2 : Cold separator pressure KGperCM2      711 non-null    float64\n",
            " 16  T2 : KERO FEED DENSITY KGperCM2            711 non-null    float64\n",
            " 17  T3 : FRESH FEED FLOW TO KHDS KGPerHour     711 non-null    float64\n",
            " 18  T3 : Reactor inlet temperature DEGC        711 non-null    float64\n",
            " 19  T3 : Hydrogen make-up flow NM3perHour      711 non-null    float64\n",
            " 20  T3 : Recycle hydrogen flow NM3perHour      711 non-null    float64\n",
            " 21  T3 : REACTOR OUTLET Temp DEGC              711 non-null    float64\n",
            " 22  T3 : REACTOR FEED INLET Pressure KGperCM2  711 non-null    float64\n",
            " 23  T3 : Cold separator pressure KGperCM2      711 non-null    float64\n",
            " 24  T3 : KERO FEED DENSITY KGperCM2            711 non-null    float64\n",
            " 25  T4 : FRESH FEED FLOW TO KHDS KGPerHour     711 non-null    float64\n",
            " 26  T4 : Reactor inlet temperature DEGC        711 non-null    float64\n",
            " 27  T4 : Hydrogen make-up flow NM3perHour      711 non-null    float64\n",
            " 28  T4 : Recycle hydrogen flow NM3perHour      711 non-null    float64\n",
            " 29  T4 : REACTOR OUTLET Temp DEGC              711 non-null    float64\n",
            " 30  T4 : REACTOR FEED INLET Pressure KGperCM2  711 non-null    float64\n",
            " 31  T4 : Cold separator pressure KGperCM2      711 non-null    float64\n",
            " 32  T4 : KERO FEED DENSITY KGperCM2            711 non-null    float64\n",
            " 33  Product Sulphur                            711 non-null    float64\n",
            "dtypes: float64(34)\n",
            "memory usage: 194.4 KB\n"
          ]
        }
      ]
    },
    {
      "cell_type": "code",
      "source": [
        "target_col = \"Product Sulphur\"\n",
        "X = filtered_df.loc[:, filtered_df.columns != target_col]\n",
        "y = filtered_df.loc[:, target_col]\n",
        "\n",
        "X_train, X_test, y_train, y_test = train_test_split(X, y, \n",
        "                                                    test_size=0.20, \n",
        "                                                    random_state=2021)"
      ],
      "metadata": {
        "id": "l2ZyAO4CGDSg"
      },
      "execution_count": null,
      "outputs": []
    },
    {
      "cell_type": "code",
      "source": [
        "print(\"XTRAIN :: ytrain shapes::\"+ str(X_train.shape + y_train.shape))"
      ],
      "metadata": {
        "colab": {
          "base_uri": "https://localhost:8080/"
        },
        "id": "sVQmcE0cGGdY",
        "outputId": "53e2cf8f-b324-4d97-a2d0-4238fbbc0ea2"
      },
      "execution_count": null,
      "outputs": [
        {
          "output_type": "stream",
          "name": "stdout",
          "text": [
            "XTRAIN :: ytrain shapes::(568, 33, 568)\n"
          ]
        }
      ]
    },
    {
      "cell_type": "code",
      "source": [
        "#Scale data, otherwise model will fail.\n",
        "#Standardize features by removing the mean and scaling to unit variance\n",
        "from sklearn.preprocessing import StandardScaler\n",
        "scaler=StandardScaler()\n",
        "scaler.fit(X_train)\n",
        "\n",
        "X_train_scaled = scaler.transform(X_train)\n",
        "X_test_scaled = scaler.transform(X_test)"
      ],
      "metadata": {
        "id": "k2xYpf3UGL4R"
      },
      "execution_count": null,
      "outputs": []
    },
    {
      "cell_type": "code",
      "source": [
        "#PASS 2: This has best result so far on both test & train = R2. \n",
        "from keras.activations import linear\n",
        "batch_size = 10\n",
        "epochs = 200\n",
        "\n",
        "# build the model\n",
        "input_dim = X_train_scaled.shape[1]\n",
        "\n",
        "lr_model = Sequential()\n",
        "lr_model.add(Dense(64, input_shape=(33,), activation=tf.nn.relu, kernel_initializer='he_uniform')) \n",
        "lr_model.add(Dropout(0.1))\n",
        "lr_model.add(Dense(64, kernel_initializer='he_uniform', activation=tf.nn.relu))\n",
        "lr_model.add(Dense(1, kernel_initializer='he_uniform',activation='linear'))\n",
        "\n",
        "# compile the model\n",
        "#lr_model.compile(loss='mean_squared_error',optimizer=sgd)\n",
        "lr_model.compile(loss='mse', optimizer=tf.keras.optimizers.Adam(0.001), metrics=['mse', 'mae', 'mape'])\n",
        "\n",
        "# Pass several parameters to 'EarlyStopping' function and assigns it to 'earlystopper'\n",
        "earlystopper = EarlyStopping(monitor='val_loss', min_delta=0, patience=15, verbose=1, mode='auto')\n",
        "\n",
        "# Fits model over 2000 iterations with 'earlystopper' callback, and assigns it to history\n",
        "history = lr_model.fit(X_train_scaled, y_train, batch_size=batch_size, epochs = epochs, validation_split = 0.2,shuffle = True, verbose = 0, callbacks = [earlystopper])"
      ],
      "metadata": {
        "colab": {
          "base_uri": "https://localhost:8080/"
        },
        "id": "DCsc0tiIGNpL",
        "outputId": "ad6a8a4a-edb2-4c80-aae0-345663006d48"
      },
      "execution_count": null,
      "outputs": [
        {
          "output_type": "stream",
          "name": "stdout",
          "text": [
            "Epoch 41: early stopping\n"
          ]
        }
      ]
    },
    {
      "cell_type": "code",
      "source": [
        "# Plots 'history'\n",
        "history_dict=history.history\n",
        "loss_values = history_dict['loss']\n",
        "val_loss_values=history_dict['val_loss']\n",
        "plt.plot(loss_values,'bo',label='training loss')\n",
        "plt.plot(val_loss_values,'r',label='training loss val')\n",
        "\n",
        "# Runs model with its current weights on the training and testing data\n",
        "y_train_pred = lr_model.predict(X_train_scaled)\n",
        "y_test_pred = lr_model.predict(X_test_scaled)\n",
        "\n",
        "import numpy as np\n",
        "from sklearn.metrics import mean_absolute_percentage_error\n",
        "# Calculates and prints r2 score of training and testing data\n",
        "print(\"The R2 score on the Train set is:\\t{:0.3f}\".format(r2_score(y_train, y_train_pred)))\n",
        "print(\"The RMSE score on the Train set is:\\t{:0.3f}\".format(np.sqrt(mean_squared_error(y_train, y_train_pred))))\n",
        "print(\"The MSE score on the Test set is:\\t{:0.3f}\".format(mean_squared_error(y_train, y_train_pred)))\n",
        "print(\"The MSA score on the Test set is:\\t{:0.3f}\".format(mean_absolute_error(y_train, y_train_pred)))\n",
        "print(\"The MAPE score on the Test set is:\\t{:0.3f}\".format(mean_absolute_percentage_error(y_train, y_train_pred)))\n",
        "\n",
        "print(\"Now scores on TEST data\")\n",
        "print(\"The R2 score on the Test set is:\\t{:0.3f}\".format(r2_score(y_test, y_test_pred)))\n",
        "print(\"The RMSE score on the Test set is:\\t{:0.3f}\".format(np.sqrt(mean_squared_error(y_test, y_test_pred))))\n",
        "print(\"The MSE score on the Test set is:\\t{:0.3f}\".format(mean_squared_error(y_test, y_test_pred)))\n",
        "print(\"The MSA score on the Test set is:\\t{:0.3f}\".format(mean_absolute_error(y_test, y_test_pred)))\n",
        "print(\"The MAPE score on the Test set is:\\t{:0.3f}\".format(mean_absolute_percentage_error(y_test, y_test_pred)))\n"
      ],
      "metadata": {
        "colab": {
          "base_uri": "https://localhost:8080/",
          "height": 460
        },
        "id": "WOQlqIJjJM_I",
        "outputId": "cace3f7f-a4ab-404b-f8ae-8bc4b83078ac"
      },
      "execution_count": null,
      "outputs": [
        {
          "output_type": "stream",
          "name": "stdout",
          "text": [
            "The R2 score on the Train set is:\t0.666\n",
            "The RMSE score on the Train set is:\t2.605\n",
            "The MSE score on the Test set is:\t6.785\n",
            "The MSA score on the Test set is:\t1.434\n",
            "The MAPE score on the Test set is:\t0.411\n",
            "Now scores on TEST data\n",
            "The R2 score on the Test set is:\t0.190\n",
            "The RMSE score on the Test set is:\t4.107\n",
            "The MSE score on the Test set is:\t16.870\n",
            "The MSA score on the Test set is:\t1.759\n",
            "The MA[E] score on the Test set is:\t0.435\n"
          ]
        },
        {
          "output_type": "display_data",
          "data": {
            "text/plain": [
              "<Figure size 432x288 with 1 Axes>"
            ],
            "image/png": "[encoded data removed]"
          },
          "metadata": {
            "needs_background": "light"
          }
        }
      ]
    },
    {
      "cell_type": "code",
      "source": [
        "#PASS 4::\n",
        "from keras.activations import linear\n",
        "batch_size = 10\n",
        "epochs = 200\n",
        "\n",
        "# build the model\n",
        "input_dim = X_train_scaled.shape[1]\n",
        "\n",
        "lr_model = Sequential()\n",
        "lr_model.add(Dense(64, input_shape=(33,), activation=tf.nn.relu, kernel_initializer='he_uniform')) \n",
        "lr_model.add(Dropout(0.1))\n",
        "lr_model.add(Dense(64, kernel_initializer='he_uniform', activation=tf.nn.relu))\n",
        "lr_model.add(Dropout(0.1))\n",
        "lr_model.add(Dense(64, kernel_initializer='he_uniform', activation=tf.nn.relu))\n",
        "lr_model.add(Dropout(0.1))\n",
        "lr_model.add(Dense(64, kernel_initializer='he_uniform', activation=tf.nn.relu))\n",
        "lr_model.add(Dropout(0.1))\n",
        "lr_model.add(Dense(64, kernel_initializer='he_uniform', activation=tf.nn.relu))\n",
        "lr_model.add(Dropout(0.1))\n",
        "lr_model.add(Dense(64, kernel_initializer='he_uniform', activation=tf.nn.relu))\n",
        "lr_model.add(Dropout(0.1))\n",
        "lr_model.add(Dense(64, kernel_initializer='he_uniform', activation=tf.nn.relu))\n",
        "lr_model.add(Dropout(0.1))\n",
        "lr_model.add(Dense(64, kernel_initializer='he_uniform', activation=tf.nn.relu))\n",
        "lr_model.add(Dropout(0.1))\n",
        "lr_model.add(Dense(64, kernel_initializer='he_uniform', activation=tf.nn.relu))\n",
        "lr_model.add(Dropout(0.1))\n",
        "lr_model.add(Dense(64, kernel_initializer='he_uniform', activation=tf.nn.relu))\n",
        "\n",
        "lr_model.add(Dense(1, kernel_initializer='he_uniform',activation='linear'))\n",
        "\n",
        "# compile the model\n",
        "#lr_model.compile(loss='mean_squared_error',optimizer=sgd)\n",
        "lr_model.compile(loss='mse', optimizer=tf.keras.optimizers.Adam(0.001), metrics=['mse', 'mae', 'mape'])\n",
        "\n",
        "# Pass several parameters to 'EarlyStopping' function and assigns it to 'earlystopper'\n",
        "earlystopper = EarlyStopping(monitor='val_loss', min_delta=0, patience=15, verbose=1, mode='auto')\n",
        "\n",
        "# Fits model over 2000 iterations with 'earlystopper' callback, and assigns it to history\n",
        "history_1 = lr_model.fit(X_train_scaled, y_train, batch_size=batch_size, epochs = epochs, validation_split = 0.2,shuffle = True, verbose = 0, callbacks = [earlystopper])"
      ],
      "metadata": {
        "colab": {
          "base_uri": "https://localhost:8080/"
        },
        "id": "byrvpQpJN0I6",
        "outputId": "c102d8ce-966c-463a-98eb-3a139f81107b"
      },
      "execution_count": null,
      "outputs": [
        {
          "output_type": "stream",
          "name": "stdout",
          "text": [
            "Epoch 24: early stopping\n"
          ]
        }
      ]
    },
    {
      "cell_type": "code",
      "source": [
        "# Plots 'history'\n",
        "history_dict=history_1.history\n",
        "loss_values = history_dict['loss']\n",
        "val_loss_values=history_dict['val_loss']\n",
        "plt.plot(loss_values,'bo',label='training loss')\n",
        "plt.plot(val_loss_values,'r',label='training loss val')\n",
        "\n",
        "# Runs model with its current weights on the training and testing data\n",
        "y_train_pred = lr_model.predict(X_train_scaled)\n",
        "y_test_pred = lr_model.predict(X_test_scaled)\n",
        "\n",
        "import numpy as np\n",
        "from sklearn.metrics import mean_absolute_percentage_error\n",
        "# Calculates and prints r2 score of training and testing data\n",
        "print(\"The R2 score on the Train set is:\\t{:0.3f}\".format(r2_score(y_train, y_train_pred)))\n",
        "print(\"The RMSE score on the Train set is:\\t{:0.3f}\".format(np.sqrt(mean_squared_error(y_train, y_train_pred))))\n",
        "print(\"The MSE score on the Test set is:\\t{:0.3f}\".format(mean_squared_error(y_train, y_train_pred)))\n",
        "print(\"The MSA score on the Test set is:\\t{:0.3f}\".format(mean_absolute_error(y_train, y_train_pred)))\n",
        "print(\"The MAPE score on the Test set is:\\t{:0.3f}\".format(mean_absolute_percentage_error(y_train, y_train_pred)))\n",
        "\n",
        "print(\"Now scores on TEST data\")\n",
        "print(\"The R2 score on the Test set is:\\t{:0.3f}\".format(r2_score(y_test, y_test_pred)))\n",
        "print(\"The RMSE score on the Test set is:\\t{:0.3f}\".format(np.sqrt(mean_squared_error(y_test, y_test_pred))))\n",
        "print(\"The MSE score on the Test set is:\\t{:0.3f}\".format(mean_squared_error(y_test, y_test_pred)))\n",
        "print(\"The MSA score on the Test set is:\\t{:0.3f}\".format(mean_absolute_error(y_test, y_test_pred)))\n",
        "print(\"The MAPE score on the Test set is:\\t{:0.3f}\".format(mean_absolute_percentage_error(y_test, y_test_pred)))"
      ],
      "metadata": {
        "colab": {
          "base_uri": "https://localhost:8080/",
          "height": 460
        },
        "id": "ugVo_JjwPr-1",
        "outputId": "a75fb0a7-b0b1-4787-c0b8-6893752c2a18"
      },
      "execution_count": null,
      "outputs": [
        {
          "output_type": "stream",
          "name": "stdout",
          "text": [
            "The R2 score on the Train set is:\t0.217\n",
            "The RMSE score on the Train set is:\t3.989\n",
            "The MSE score on the Test set is:\t15.910\n",
            "The MSA score on the Test set is:\t1.718\n",
            "The MAPE score on the Test set is:\t0.534\n",
            "Now scores on TEST data\n",
            "The R2 score on the Test set is:\t0.017\n",
            "The RMSE score on the Test set is:\t4.525\n",
            "The MSE score on the Test set is:\t20.480\n",
            "The MSA score on the Test set is:\t1.994\n",
            "The MAPE score on the Test set is:\t0.536\n"
          ]
        },
        {
          "output_type": "display_data",
          "data": {
            "text/plain": [
              "<Figure size 432x288 with 1 Axes>"
            ],
            "image/png": "[encoded data removed]"
          },
          "metadata": {
            "needs_background": "light"
          }
        }
      ]
    },
    {
      "cell_type": "code",
      "source": [
        "#PASS 5::\n",
        "from keras.activations import linear\n",
        "batch_size = 10\n",
        "epochs = 200 #This is a change from above 200. We can take this risk as there is early stopping.\n",
        "learning_rate = 0.0001 #This is change from above 0.001\n",
        "\n",
        "# build the model\n",
        "input_dim = X_train_scaled.shape[1]\n",
        "\n",
        "lr_model = Sequential()\n",
        "lr_model.add(Dense(64, input_shape=(33,), activation=tf.nn.relu, kernel_initializer='he_uniform')) \n",
        "lr_model.add(Dropout(0.1))\n",
        "lr_model.add(Dense(64, kernel_initializer='he_uniform', activation=tf.nn.relu))\n",
        "lr_model.add(Dropout(0.1))\n",
        "lr_model.add(Dense(64, kernel_initializer='he_uniform', activation=tf.nn.relu))\n",
        "lr_model.add(Dropout(0.1))\n",
        "lr_model.add(Dense(64, kernel_initializer='he_uniform', activation=tf.nn.relu))\n",
        "lr_model.add(Dropout(0.1))\n",
        "lr_model.add(Dense(64, kernel_initializer='he_uniform', activation=tf.nn.relu))\n",
        "lr_model.add(Dropout(0.1))\n",
        "lr_model.add(Dense(64, kernel_initializer='he_uniform', activation=tf.nn.relu))\n",
        "lr_model.add(Dropout(0.1))\n",
        "lr_model.add(Dense(64, kernel_initializer='he_uniform', activation=tf.nn.relu))\n",
        "lr_model.add(Dropout(0.1))\n",
        "lr_model.add(Dense(64, kernel_initializer='he_uniform', activation=tf.nn.relu))\n",
        "lr_model.add(Dropout(0.1))\n",
        "lr_model.add(Dense(64, kernel_initializer='he_uniform', activation=tf.nn.relu))\n",
        "lr_model.add(Dropout(0.1))\n",
        "lr_model.add(Dense(64, kernel_initializer='he_uniform', activation=tf.nn.relu))\n",
        "\n",
        "lr_model.add(Dense(1, kernel_initializer='he_uniform',activation='linear'))\n",
        "\n",
        "# compile the model\n",
        "#lr_model.compile(loss='mean_squared_error',optimizer=sgd)## Here loss = mae. earlier it was mse\n",
        "lr_model.compile(loss='mse', optimizer=tf.keras.optimizers.Adam(0.0001), metrics=['mse', 'mae', 'mape'])\n",
        "\n",
        "# Pass several parameters to 'EarlyStopping' function and assigns it to 'earlystopper'\n",
        "earlystopper = EarlyStopping(monitor='val_loss', min_delta=0, patience=15, verbose=1, mode='auto')\n",
        "\n",
        "# Fits model over 2000 iterations with 'earlystopper' callback, and assigns it to history\n",
        "history_2 = lr_model.fit(X_train_scaled, y_train, batch_size=batch_size, epochs = epochs, validation_split = 0.2,shuffle = True, verbose = 0, callbacks = [earlystopper])"
      ],
      "metadata": {
        "colab": {
          "base_uri": "https://localhost:8080/"
        },
        "id": "ti_MuwyUN0Mn",
        "outputId": "9e4036d5-c3b6-453f-b3f2-0b3eabd591e0"
      },
      "execution_count": null,
      "outputs": [
        {
          "output_type": "stream",
          "name": "stdout",
          "text": [
            "Epoch 87: early stopping\n"
          ]
        }
      ]
    },
    {
      "cell_type": "code",
      "source": [
        "# Plots 'history'\n",
        "history_dict=history_2.history\n",
        "loss_values = history_dict['loss']\n",
        "val_loss_values=history_dict['val_loss']\n",
        "plt.plot(loss_values,'bo',label='training loss')\n",
        "plt.plot(val_loss_values,'r',label='training loss val')\n",
        "\n",
        "# Runs model with its current weights on the training and testing data\n",
        "y_train_pred = lr_model.predict(X_train_scaled)\n",
        "y_test_pred = lr_model.predict(X_test_scaled)\n",
        "\n",
        "import numpy as np\n",
        "from sklearn.metrics import mean_absolute_percentage_error\n",
        "# Calculates and prints r2 score of training and testing data\n",
        "print(\"The R2 score on the Train set is:\\t{:0.3f}\".format(r2_score(y_train, y_train_pred)))\n",
        "print(\"The RMSE score on the Train set is:\\t{:0.3f}\".format(np.sqrt(mean_squared_error(y_train, y_train_pred))))\n",
        "print(\"The MSE score on the Test set is:\\t{:0.3f}\".format(mean_squared_error(y_train, y_train_pred)))\n",
        "print(\"The MSA score on the Test set is:\\t{:0.3f}\".format(mean_absolute_error(y_train, y_train_pred)))\n",
        "print(\"The MAPE score on the Test set is:\\t{:0.3f}\".format(mean_absolute_percentage_error(y_train, y_train_pred)))\n",
        "\n",
        "print(\"Now scores on TEST data\")\n",
        "print(\"The R2 score on the Test set is:\\t{:0.3f}\".format(r2_score(y_test, y_test_pred)))\n",
        "print(\"The RMSE score on the Test set is:\\t{:0.3f}\".format(np.sqrt(mean_squared_error(y_test, y_test_pred))))\n",
        "print(\"The MSE score on the Test set is:\\t{:0.3f}\".format(mean_squared_error(y_test, y_test_pred)))\n",
        "print(\"The MSA score on the Test set is:\\t{:0.3f}\".format(mean_absolute_error(y_test, y_test_pred)))\n",
        "print(\"The MAPE score on the Test set is:\\t{:0.3f}\".format(mean_absolute_percentage_error(y_test, y_test_pred)))"
      ],
      "metadata": {
        "colab": {
          "base_uri": "https://localhost:8080/",
          "height": 460
        },
        "id": "K9T2LT4pN0QL",
        "outputId": "11f266dd-6264-4911-9079-ea3731075383"
      },
      "execution_count": null,
      "outputs": [
        {
          "output_type": "stream",
          "name": "stdout",
          "text": [
            "The R2 score on the Train set is:\t0.685\n",
            "The RMSE score on the Train set is:\t2.529\n",
            "The MSE score on the Test set is:\t6.396\n",
            "The MSA score on the Test set is:\t1.497\n",
            "The MAPE score on the Test set is:\t0.362\n",
            "Now scores on TEST data\n",
            "The R2 score on the Test set is:\t0.142\n",
            "The RMSE score on the Test set is:\t4.226\n",
            "The MSE score on the Test set is:\t17.859\n",
            "The MSA score on the Test set is:\t1.818\n",
            "The MAPE score on the Test set is:\t0.388\n"
          ]
        },
        {
          "output_type": "display_data",
          "data": {
            "text/plain": [
              "<Figure size 432x288 with 1 Axes>"
            ],
            "image/png": "[encoded data removed]"
          },
          "metadata": {
            "needs_background": "light"
          }
        }
      ]
    },
    {
      "cell_type": "markdown",
      "source": [
        "Hyperparameters:\n",
        "num_layers: 10\n",
        "units_0: 384\n",
        "units_1: 352\n",
        "learning_rate: 0.0001\n",
        "units_2: 352\n",
        "units_3: 224\n",
        "units_4: 384\n",
        "units_5: 256\n",
        "units_6: 192\n",
        "units_7: 192\n",
        "units_8: 192\n",
        "units_9: 320\n",
        "units_10: 256\n",
        "units_11: 32\n",
        "units_12: 352\n",
        "units_13: 416\n",
        "units_14: 64\n",
        "units_15: 288\n",
        "units_16: 96\n",
        "batch_size: 30\n",
        "epochs: 200\n",
        "Score: 1.449507474899292\n",
        "\n",
        "Lets follow this above model from KHDS_KerasTuner_Optimzized_NN_1 keeping all other params same."
      ],
      "metadata": {
        "id": "LqaBYZGHVuvh"
      }
    },
    {
      "cell_type": "code",
      "source": [
        "#PASS 6:: plus 7+8+9\n",
        "from keras.activations import linear\n",
        "batch_size = 10\n",
        "epochs = 300 #This is a change from above 200. We can take this risk as there is early stopping.\n",
        "learning_rate = 0.0001 #This is change from above 0.001\n",
        "\n",
        "# build the model\n",
        "input_dim = X_train_scaled.shape[1]\n",
        "\n",
        "lr_model = Sequential()\n",
        "lr_model.add(Dense(384, input_shape=(33,), activation=tf.nn.relu, kernel_initializer='he_uniform')) \n",
        "#lr_model.add(Dropout(0.1))\n",
        "lr_model.add(Dense(352, kernel_initializer='he_uniform', activation=tf.nn.relu))\n",
        "lr_model.add(Dropout(0.1))\n",
        "'''lr_model.add(Dense(352, kernel_initializer='he_uniform', activation=tf.nn.relu))\n",
        "lr_model.add(Dropout(0.1))\n",
        "lr_model.add(Dense(224, kernel_initializer='he_uniform', activation=tf.nn.relu))\n",
        "lr_model.add(Dropout(0.1))\n",
        "lr_model.add(Dense(384, kernel_initializer='he_uniform', activation=tf.nn.relu))\n",
        "lr_model.add(Dropout(0.1))\n",
        "lr_model.add(Dense(256, kernel_initializer='he_uniform', activation=tf.nn.relu))\n",
        "lr_model.add(Dropout(0.1))\n",
        "lr_model.add(Dense(192, kernel_initializer='he_uniform', activation=tf.nn.relu))\n",
        "lr_model.add(Dropout(0.1))\n",
        "lr_model.add(Dense(192, kernel_initializer='he_uniform', activation=tf.nn.relu))\n",
        "lr_model.add(Dropout(0.1))\n",
        "lr_model.add(Dense(192, kernel_initializer='he_uniform', activation=tf.nn.relu))\n",
        "lr_model.add(Dropout(0.1))\n",
        "lr_model.add(Dense(320, kernel_initializer='he_uniform', activation=tf.nn.relu))\n",
        "lr_model.add(Dropout(0.1))\n",
        "lr_model.add(Dense(256, kernel_initializer='he_uniform', activation=tf.nn.relu))\n",
        "lr_model.add(Dropout(0.1))\n",
        "lr_model.add(Dense(32, kernel_initializer='he_uniform', activation=tf.nn.relu))\n",
        "lr_model.add(Dropout(0.1))\n",
        "lr_model.add(Dense(352, kernel_initializer='he_uniform', activation=tf.nn.relu))\n",
        "lr_model.add(Dropout(0.1))\n",
        "lr_model.add(Dense(416, kernel_initializer='he_uniform', activation=tf.nn.relu))\n",
        "lr_model.add(Dropout(0.1))\n",
        "lr_model.add(Dense(64, kernel_initializer='he_uniform', activation=tf.nn.relu))\n",
        "lr_model.add(Dropout(0.1))\n",
        "lr_model.add(Dense(288, kernel_initializer='he_uniform', activation=tf.nn.relu))\n",
        "lr_model.add(Dropout(0.1))\n",
        "lr_model.add(Dense(96, kernel_initializer='he_uniform', activation=tf.nn.relu))\n",
        "'''\n",
        "#lr_model.add(Dropout(0.1))\n",
        "lr_model.add(Dense(1, kernel_initializer='he_uniform',activation='linear'))\n",
        "\n",
        "# compile the model\n",
        "#lr_model.compile(loss='mean_squared_error',optimizer=sgd)## Here loss = mae. earlier it was mse\n",
        "lr_model.compile(loss='mse', optimizer=tf.keras.optimizers.Adam(0.0001), metrics=['mse', 'mae', 'mape'])\n",
        "\n",
        "# Pass several parameters to 'EarlyStopping' function and assigns it to 'earlystopper'\n",
        "earlystopper = EarlyStopping(monitor='val_loss', min_delta=0, patience=5, verbose=1, mode='auto')\n",
        "\n",
        "# Fits model over 2000 iterations with 'earlystopper' callback, and assigns it to history\n",
        "history_3 = lr_model.fit(X_train_scaled, y_train, batch_size=batch_size, epochs = epochs, validation_split = 0.2,shuffle = True, verbose = 0, callbacks = [earlystopper])"
      ],
      "metadata": {
        "colab": {
          "base_uri": "https://localhost:8080/"
        },
        "id": "Hvhrpq0ZN0TN",
        "outputId": "66db1eab-f40a-43ae-e4ce-76aa09dbb76f"
      },
      "execution_count": null,
      "outputs": [
        {
          "output_type": "stream",
          "name": "stdout",
          "text": [
            "Epoch 42: early stopping\n"
          ]
        }
      ]
    },
    {
      "cell_type": "code",
      "source": [
        "# Plots 'history'\n",
        "history_dict=history_3.history\n",
        "loss_values = history_dict['loss']\n",
        "val_loss_values=history_dict['val_loss']\n",
        "plt.plot(loss_values,'bo',label='training loss')\n",
        "plt.plot(val_loss_values,'r',label='training loss val')\n",
        "\n",
        "# Runs model with its current weights on the training and testing data\n",
        "y_train_pred = lr_model.predict(X_train_scaled)\n",
        "y_test_pred = lr_model.predict(X_test_scaled)\n",
        "\n",
        "import numpy as np\n",
        "from sklearn.metrics import mean_absolute_percentage_error\n",
        "# Calculates and prints r2 score of training and testing data\n",
        "print(\"The R2 score on the Train set is:\\t{:0.3f}\".format(r2_score(y_train, y_train_pred)))\n",
        "print(\"The RMSE score on the Train set is:\\t{:0.3f}\".format(np.sqrt(mean_squared_error(y_train, y_train_pred))))\n",
        "print(\"The MSE score on the Test set is:\\t{:0.3f}\".format(mean_squared_error(y_train, y_train_pred)))\n",
        "print(\"The MSA score on the Test set is:\\t{:0.3f}\".format(mean_absolute_error(y_train, y_train_pred)))\n",
        "print(\"The MAPE score on the Test set is:\\t{:0.3f}\".format(mean_absolute_percentage_error(y_train, y_train_pred)))\n",
        "\n",
        "print(\"Now scores on TEST data\")\n",
        "print(\"The R2 score on the Test set is:\\t{:0.3f}\".format(r2_score(y_test, y_test_pred)))\n",
        "print(\"The RMSE score on the Test set is:\\t{:0.3f}\".format(np.sqrt(mean_squared_error(y_test, y_test_pred))))\n",
        "print(\"The MSE score on the Test set is:\\t{:0.3f}\".format(mean_squared_error(y_test, y_test_pred)))\n",
        "print(\"The MSA score on the Test set is:\\t{:0.3f}\".format(mean_absolute_error(y_test, y_test_pred)))\n",
        "print(\"The MAPE score on the Test set is:\\t{:0.3f}\".format(mean_absolute_percentage_error(y_test, y_test_pred)))"
      ],
      "metadata": {
        "colab": {
          "base_uri": "https://localhost:8080/",
          "height": 460
        },
        "id": "f6ttUevuN0ZP",
        "outputId": "3b4e4511-dff0-4ac6-89cb-c74cf4dfb7b2"
      },
      "execution_count": null,
      "outputs": [
        {
          "output_type": "stream",
          "name": "stdout",
          "text": [
            "The R2 score on the Train set is:\t0.475\n",
            "The RMSE score on the Train set is:\t3.268\n",
            "The MSE score on the Test set is:\t10.678\n",
            "The MSA score on the Test set is:\t1.583\n",
            "The MAPE score on the Test set is:\t0.512\n",
            "Now scores on TEST data\n",
            "The R2 score on the Test set is:\t0.150\n",
            "The RMSE score on the Test set is:\t4.207\n",
            "The MSE score on the Test set is:\t17.702\n",
            "The MSA score on the Test set is:\t1.876\n",
            "The MAPE score on the Test set is:\t0.563\n"
          ]
        },
        {
          "output_type": "display_data",
          "data": {
            "text/plain": [
              "<Figure size 432x288 with 1 Axes>"
            ],
            "image/png": "[encoded data removed]"
          },
          "metadata": {
            "needs_background": "light"
          }
        }
      ]
    },
    {
      "cell_type": "code",
      "source": [
        "##PASS 10: ==> lETS replicate pass 2 --> PASS 2: This has best result so far on both test & train = R2. \n",
        "from keras.activations import linear\n",
        "batch_size = 10\n",
        "epochs = 200\n",
        "\n",
        "# build the model\n",
        "input_dim = X_train_scaled.shape[1]\n",
        "\n",
        "lr_model = Sequential()\n",
        "lr_model.add(Dense(64, input_shape=(33,), activation=tf.nn.relu, kernel_initializer='he_uniform')) \n",
        "lr_model.add(Dropout(0.1))\n",
        "lr_model.add(Dense(512, kernel_initializer='he_uniform', activation=tf.nn.relu)) #from 64 to 128\n",
        "lr_model.add(Dropout(0.1))\n",
        "lr_model.add(Dense(128, kernel_initializer='he_uniform', activation=tf.nn.relu)) #from 64 to 128\n",
        "lr_model.add(Dropout(0.1))\n",
        "#lr_model.add(Dense(256, kernel_initializer='he_uniform', activation=tf.nn.relu)) #from 64 to 128\n",
        "#lr_model.add(Dropout(0.1))\n",
        "lr_model.add(Dense(1, kernel_initializer='he_uniform',activation='linear'))\n",
        "\n",
        "# compile the model\n",
        "#lr_model.compile(loss='mean_squared_error',optimizer=sgd)\n",
        "lr_model.compile(loss='mse', optimizer=tf.keras.optimizers.Adam(0.0001), metrics=['mse', 'mae', 'mape'])\n",
        "\n",
        "# Pass several parameters to 'EarlyStopping' function and assigns it to 'earlystopper'\n",
        "earlystopper = EarlyStopping(monitor='val_loss', min_delta=0, patience=10, verbose=1, mode='auto') #patience reduced to 10 from 15\n",
        "\n",
        "# Fits model over 2000 iterations with 'earlystopper' callback, and assigns it to history\n",
        "history_4 = lr_model.fit(X_train_scaled, y_train, batch_size=batch_size, epochs = epochs, validation_split = 0.2,shuffle = True, verbose = 0, callbacks = [earlystopper])"
      ],
      "metadata": {
        "colab": {
          "base_uri": "https://localhost:8080/"
        },
        "id": "-pk2bXu0N0co",
        "outputId": "eba1707b-77c8-443b-bab4-53cdd93717cb"
      },
      "execution_count": null,
      "outputs": [
        {
          "output_type": "stream",
          "name": "stdout",
          "text": [
            "Epoch 86: early stopping\n"
          ]
        }
      ]
    },
    {
      "cell_type": "code",
      "source": [
        "# Plots 'history'\n",
        "history_dict=history_4.history\n",
        "loss_values = history_dict['loss']\n",
        "val_loss_values=history_dict['val_loss']\n",
        "plt.plot(loss_values,'bo',label='training loss')\n",
        "plt.plot(val_loss_values,'r',label='training loss val')\n",
        "\n",
        "# Runs model with its current weights on the training and testing data\n",
        "y_train_pred = lr_model.predict(X_train_scaled)\n",
        "y_test_pred = lr_model.predict(X_test_scaled)\n",
        "\n",
        "import numpy as np\n",
        "from sklearn.metrics import mean_absolute_percentage_error\n",
        "# Calculates and prints r2 score of training and testing data\n",
        "print(\"The R2 score on the Train set is:\\t{:0.3f}\".format(r2_score(y_train, y_train_pred)))\n",
        "print(\"The RMSE score on the Train set is:\\t{:0.3f}\".format(np.sqrt(mean_squared_error(y_train, y_train_pred))))\n",
        "print(\"The MSE score on the Test set is:\\t{:0.3f}\".format(mean_squared_error(y_train, y_train_pred)))\n",
        "print(\"The MSA score on the Test set is:\\t{:0.3f}\".format(mean_absolute_error(y_train, y_train_pred)))\n",
        "print(\"The MAPE score on the Test set is:\\t{:0.3f}\".format(mean_absolute_percentage_error(y_train, y_train_pred)))\n",
        "\n",
        "print(\"Now scores on TEST data\")\n",
        "print(\"The R2 score on the Test set is:\\t{:0.3f}\".format(r2_score(y_test, y_test_pred)))\n",
        "print(\"The RMSE score on the Test set is:\\t{:0.3f}\".format(np.sqrt(mean_squared_error(y_test, y_test_pred))))\n",
        "print(\"The MSE score on the Test set is:\\t{:0.3f}\".format(mean_squared_error(y_test, y_test_pred)))\n",
        "print(\"The MSA score on the Test set is:\\t{:0.3f}\".format(mean_absolute_error(y_test, y_test_pred)))\n",
        "print(\"The MAPE score on the Test set is:\\t{:0.3f}\".format(mean_absolute_percentage_error(y_test, y_test_pred)))"
      ],
      "metadata": {
        "colab": {
          "base_uri": "https://localhost:8080/",
          "height": 460
        },
        "id": "-XV7TzUqN2IN",
        "outputId": "b8c7e8a3-ff7a-4824-f933-95504c677f7f"
      },
      "execution_count": null,
      "outputs": [
        {
          "output_type": "stream",
          "name": "stdout",
          "text": [
            "The R2 score on the Train set is:\t0.673\n",
            "The RMSE score on the Train set is:\t2.578\n",
            "The MSE score on the Test set is:\t6.646\n",
            "The MSA score on the Test set is:\t1.342\n",
            "The MAPE score on the Test set is:\t0.365\n",
            "Now scores on TEST data\n",
            "The R2 score on the Test set is:\t0.186\n",
            "The RMSE score on the Test set is:\t4.118\n",
            "The MSE score on the Test set is:\t16.959\n",
            "The MSA score on the Test set is:\t1.654\n",
            "The MAPE score on the Test set is:\t0.387\n"
          ]
        },
        {
          "output_type": "display_data",
          "data": {
            "text/plain": [
              "<Figure size 432x288 with 1 Axes>"
            ],
            "image/png": "[encoded data removed]"
          },
          "metadata": {
            "needs_background": "light"
          }
        }
      ]
    },
    {
      "cell_type": "code",
      "source": [
        "##PASS 11: ==> lETS replicate pass 2 OR pass10 --> PASS 2/10: This has best result so far on both test & train = R2. \n",
        "from keras.activations import linear\n",
        "batch_size = 10\n",
        "epochs = 200\n",
        "\n",
        "# build the model\n",
        "input_dim = X_train_scaled.shape[1]\n",
        "\n",
        "lr_model = Sequential()\n",
        "lr_model.add(Dense(64, input_shape=(33,), activation=tf.nn.relu, kernel_initializer='he_uniform')) \n",
        "lr_model.add(Dropout(0.1))\n",
        "lr_model.add(Dense(512, kernel_initializer='he_uniform', activation=tf.nn.relu)) #from 64 to 128\n",
        "lr_model.add(Dropout(0.1))\n",
        "lr_model.add(Dense(128, kernel_initializer='he_uniform', activation=tf.nn.relu)) #from 64 to 128\n",
        "lr_model.add(Dropout(0.1))\n",
        "#lr_model.add(Dense(64, kernel_initializer='he_uniform', activation=tf.nn.relu)) #from 64 to 128\n",
        "#lr_model.add(Dropout(0.1))\n",
        "lr_model.add(Dense(1, kernel_initializer='he_uniform',activation='linear'))\n",
        "\n",
        "# compile the model\n",
        "#lr_model.compile(loss='mean_squared_error',optimizer=sgd)\n",
        "lr_model.compile(loss='mse', optimizer=tf.keras.optimizers.Adam(0.0001), metrics=['mse', 'mae', 'mape'])\n",
        "\n",
        "# Pass several parameters to 'EarlyStopping' function and assigns it to 'earlystopper'\n",
        "earlystopper = EarlyStopping(monitor='val_loss', min_delta=0, patience=10, verbose=1, mode='auto') #patience reduced to 10 from 15\n",
        "\n",
        "# Fits model over 2000 iterations with 'earlystopper' callback, and assigns it to history\n",
        "history_5 = lr_model.fit(X_train_scaled, y_train, batch_size=batch_size, epochs = epochs, validation_split = 0.2,shuffle = True, verbose = 0, callbacks = [earlystopper])"
      ],
      "metadata": {
        "colab": {
          "base_uri": "https://localhost:8080/"
        },
        "id": "CgPvV8IuN2LT",
        "outputId": "c5d93bc7-b3e9-4eba-cb3a-31e6154fb7d1"
      },
      "execution_count": null,
      "outputs": [
        {
          "output_type": "stream",
          "name": "stdout",
          "text": [
            "Epoch 69: early stopping\n"
          ]
        }
      ]
    },
    {
      "cell_type": "code",
      "source": [
        "# Plots 'history'\n",
        "history_dict=history_5.history\n",
        "loss_values = history_dict['loss']\n",
        "val_loss_values=history_dict['val_loss']\n",
        "plt.plot(loss_values,'bo',label='training loss')\n",
        "plt.plot(val_loss_values,'r',label='training loss val')\n",
        "\n",
        "# Runs model with its current weights on the training and testing data\n",
        "y_train_pred = lr_model.predict(X_train_scaled)\n",
        "y_test_pred = lr_model.predict(X_test_scaled)\n",
        "\n",
        "import numpy as np\n",
        "from sklearn.metrics import mean_absolute_percentage_error\n",
        "# Calculates and prints r2 score of training and testing data\n",
        "print(\"The R2 score on the Train set is:\\t{:0.3f}\".format(r2_score(y_train, y_train_pred)))\n",
        "print(\"The RMSE score on the Train set is:\\t{:0.3f}\".format(np.sqrt(mean_squared_error(y_train, y_train_pred))))\n",
        "print(\"The MSE score on the Test set is:\\t{:0.3f}\".format(mean_squared_error(y_train, y_train_pred)))\n",
        "print(\"The MSA score on the Test set is:\\t{:0.3f}\".format(mean_absolute_error(y_train, y_train_pred)))\n",
        "print(\"The MAPE score on the Test set is:\\t{:0.3f}\".format(mean_absolute_percentage_error(y_train, y_train_pred)))\n",
        "\n",
        "print(\"Now scores on TEST data\")\n",
        "print(\"The R2 score on the Test set is:\\t{:0.3f}\".format(r2_score(y_test, y_test_pred)))\n",
        "print(\"The RMSE score on the Test set is:\\t{:0.3f}\".format(np.sqrt(mean_squared_error(y_test, y_test_pred))))\n",
        "print(\"The MSE score on the Test set is:\\t{:0.3f}\".format(mean_squared_error(y_test, y_test_pred)))\n",
        "print(\"The MSA score on the Test set is:\\t{:0.3f}\".format(mean_absolute_error(y_test, y_test_pred)))\n",
        "print(\"The MAPE score on the Test set is:\\t{:0.3f}\".format(mean_absolute_percentage_error(y_test, y_test_pred)))"
      ],
      "metadata": {
        "colab": {
          "base_uri": "https://localhost:8080/",
          "height": 460
        },
        "id": "aCydnFsMN2N8",
        "outputId": "ab333c9d-9407-496e-88cf-c2f12fe441d0"
      },
      "execution_count": null,
      "outputs": [
        {
          "output_type": "stream",
          "name": "stdout",
          "text": [
            "The R2 score on the Train set is:\t0.587\n",
            "The RMSE score on the Train set is:\t2.896\n",
            "The MSE score on the Test set is:\t8.389\n",
            "The MSA score on the Test set is:\t1.386\n",
            "The MAPE score on the Test set is:\t0.378\n",
            "Now scores on TEST data\n",
            "The R2 score on the Test set is:\t0.211\n",
            "The RMSE score on the Test set is:\t4.054\n",
            "The MSE score on the Test set is:\t16.436\n",
            "The MSA score on the Test set is:\t1.569\n",
            "The MAPE score on the Test set is:\t0.379\n"
          ]
        },
        {
          "output_type": "display_data",
          "data": {
            "text/plain": [
              "<Figure size 432x288 with 1 Axes>"
            ],
            "image/png": "[encoded data removed]"
          },
          "metadata": {
            "needs_background": "light"
          }
        }
      ]
    },
    {
      "cell_type": "code",
      "source": [
        ""
      ],
      "metadata": {
        "id": "hCJgNdjTN2QU"
      },
      "execution_count": null,
      "outputs": []
    },
    {
      "cell_type": "code",
      "source": [
        ""
      ],
      "metadata": {
        "id": "8wZ64BakvPV3"
      },
      "execution_count": null,
      "outputs": []
    },
    {
      "cell_type": "code",
      "source": [
        ""
      ],
      "metadata": {
        "id": "FRB9A0bQvPe2"
      },
      "execution_count": null,
      "outputs": []
    },
    {
      "cell_type": "code",
      "source": [
        ""
      ],
      "metadata": {
        "id": "JbQeEBj1vPn5"
      },
      "execution_count": null,
      "outputs": []
    },
    {
      "cell_type": "code",
      "source": [
        "es = EarlyStopping(monitor='mean_squared_error', mode='max', verbose=0, patience=20)\n",
        "    nn = KerasRegressor(build_fn=nn_cl_fun, epochs=epochs, batch_size=batch_size,\n",
        "                         verbose=0)\n",
        "    #kfold = StratifiedKFold(n_splits=5, shuffle=True, random_state=123)\n",
        "    kfold = 5\n",
        "    #score = cross_val_score(nn, X_train, y_train, scoring=r2, cv=kfold, fit_params={'callbacks':[es]}).mean()\n",
        "    score = cross_val_score(nn, X_train, y_train, cv=kfold, fit_params={'callbacks':[es]}).mean()\n",
        "    return score"
      ],
      "metadata": {
        "id": "sTKzknh0GyB_"
      },
      "execution_count": null,
      "outputs": []
    }
  ]
}