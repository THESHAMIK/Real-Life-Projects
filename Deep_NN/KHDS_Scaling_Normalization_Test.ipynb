{
  "nbformat": 4,
  "nbformat_minor": 0,
  "metadata": {
    "colab": {
      "name": "KHDS_Scaling_Normalization_Test.ipynb",
      "provenance": [],
      "collapsed_sections": [],
      "authorship_tag": "ABX9TyNlU8uQ8v4EBXprb2jZErVb",
      "include_colab_link": true
    },
    "kernelspec": {
      "name": "python3",
      "display_name": "Python 3"
    },
    "language_info": {
      "name": "python"
    }
  },
  "cells": [
    {
      "cell_type": "markdown",
      "metadata": {
        "id": "view-in-github",
        "colab_type": "text"
      },
      "source": [
        "<a href=\"https://colab.research.google.com/github/THESHAMIK/Real-Life-Projects/blob/main/Deep_NN/KHDS_Scaling_Normalization_Test.ipynb\" target=\"_parent\"><img src=\"https://colab.research.google.com/assets/colab-badge.svg\" alt=\"Open In Colab\"/></a>"
      ]
    },
    {
      "cell_type": "markdown",
      "source": [
        "https://machinelearningmastery.com/how-to-improve-neural-network-stability-and-modeling-performance-with-data-scaling/"
      ],
      "metadata": {
        "id": "WyTvTs1rd6k8"
      }
    },
    {
      "cell_type": "markdown",
      "source": [
        "4 methods r tried basically to check MSE:\n",
        "==> No scaling of inputs, no scaling of outputs.\n",
        "==> No scaling of inputs, standardized outputs.\n",
        "==> Normalized inputs, standardized outputs.\n",
        "==> Standardized inputs, standardized outputs.\n",
        "\n",
        "With NO SCALING MSE was ::\n",
        "Train: 11871.008, Test: 17262.006 (This was actually coming as NAN when SGD was used. Even changing learning rate did not help. Then used ADAM to get rid of nan).\n",
        "\n",
        "After scaling of target (ONLY) y values Train: 4310.841, Test: 6117.738.\n",
        "So MSE came to 1/3rd.\n",
        "\n",
        "Now lets scale X also. So both X & y scaled now. Look at score wow!!\n",
        "**Train: 0.790, Test: 7.451**\n",
        "MSE moved from 11.8k to 4k to just 0.79!! \n",
        "\n",
        "4TH attempt failed miserably where y is scaled (with StandardScaler) BUT X is normalized(with MinMaxScaler - from sklearn.preprocessing import MinMaxScaler)!!\n",
        "Train: 1630137856.000, Test: 2735642112.000\n",
        "\n"
      ],
      "metadata": {
        "id": "L-_T4AH474fR"
      }
    },
    {
      "cell_type": "code",
      "execution_count": null,
      "metadata": {
        "id": "U8XvhZkIG7YZ"
      },
      "outputs": [],
      "source": [
        "# Import packages\n",
        "import numpy as np\n",
        "import pandas as pd\n",
        "import random\n",
        "import matplotlib.pyplot as plt\n",
        "import seaborn as sns\n",
        "from sklearn.model_selection import train_test_split\n",
        "from sklearn.model_selection import cross_val_score\n",
        "from keras.models import Sequential\n",
        "from keras.layers import Dense, BatchNormalization, Dropout\n",
        "#from keras.optimizers import SGD, RMSprop, Adadelta, Adagrad, Adamax, Nadam, Ftrl\n",
        "from tensorflow.keras.optimizers import SGD, RMSprop, Adadelta, Adagrad, Adamax, Nadam, Ftrl\n",
        "from tensorflow.keras.optimizers import Adam ##because cannot import name 'Adam' from 'keras.optimizers'\n",
        "from keras.callbacks import EarlyStopping, ModelCheckpoint\n",
        "#from keras.wrappers.scikit_learn import KerasClassifier\n",
        "from keras.wrappers.scikit_learn import KerasRegressor\n",
        "from math import floor\n",
        "from sklearn.metrics import make_scorer, accuracy_score\n",
        "from sklearn.metrics import mean_squared_error\n",
        "from sklearn.metrics import mean_absolute_error\n",
        "from sklearn.metrics import r2_score\n",
        "#from bayes_opt import BayesianOptimization\n",
        "from sklearn.model_selection import StratifiedKFold\n",
        "from keras.layers import LeakyReLU\n",
        "LeakyReLU = LeakyReLU(alpha=0.1)\n",
        "import tensorflow as tf\n",
        "\n",
        "import warnings\n",
        "warnings.filterwarnings('ignore')\n",
        "pd.set_option(\"display.max_columns\", None)"
      ]
    },
    {
      "cell_type": "code",
      "source": [
        "  df = pd.read_csv(\"khds_final_1.csv\")\n",
        "  df['Product Sulphur'] = pd.to_numeric(df['Product Sulphur'],errors = 'coerce') ##==> This one works as pd.to_numeric works for convert a list, a series, an array, or a tuple to a numeric datatype\n",
        "  filtered_df = df[df['Product Sulphur'].notnull()]\n",
        "  df.dropna(axis=0)\n",
        "  filtered_df.info()"
      ],
      "metadata": {
        "colab": {
          "base_uri": "https://localhost:8080/"
        },
        "id": "jY802VlnG9aP",
        "outputId": "5a0ecdc6-373b-4981-94ad-bb2b0989528d"
      },
      "execution_count": null,
      "outputs": [
        {
          "output_type": "stream",
          "name": "stdout",
          "text": [
            "<class 'pandas.core.frame.DataFrame'>\n",
            "Int64Index: 711 entries, 0 to 710\n",
            "Data columns (total 34 columns):\n",
            " #   Column                                     Non-Null Count  Dtype  \n",
            "---  ------                                     --------------  -----  \n",
            " 0   LABfeed Sulphur                            711 non-null    float64\n",
            " 1   T1 : FRESH FEED FLOW TO KHDS KGPerHour     711 non-null    float64\n",
            " 2   T1 : Reactor inlet temperature DEGC        711 non-null    float64\n",
            " 3   T1 : Hydrogen make-up flow NM3perHour      711 non-null    float64\n",
            " 4   T1 : Recycle hydrogen flow NM3perHour      711 non-null    float64\n",
            " 5   T1 : REACTOR OUTLET Temp DEGC              711 non-null    float64\n",
            " 6   T1 : REACTOR FEED INLET Pressure KGperCM2  711 non-null    float64\n",
            " 7   T1 : Cold separator pressure KGperCM2      711 non-null    float64\n",
            " 8   T1 : KERO FEED DENSITY KGperCM2            711 non-null    float64\n",
            " 9   T2 : FRESH FEED FLOW TO KHDS KGPerHour     711 non-null    float64\n",
            " 10  T2 : Reactor inlet temperature DEGC        711 non-null    float64\n",
            " 11  T2 : Hydrogen make-up flow NM3perHour      711 non-null    float64\n",
            " 12  T2 : Recycle hydrogen flow NM3perHour      711 non-null    float64\n",
            " 13  T2 : REACTOR OUTLET Temp DEGC              711 non-null    float64\n",
            " 14  T2 : REACTOR FEED INLET Pressure KGperCM2  711 non-null    float64\n",
            " 15  T2 : Cold separator pressure KGperCM2      711 non-null    float64\n",
            " 16  T2 : KERO FEED DENSITY KGperCM2            711 non-null    float64\n",
            " 17  T3 : FRESH FEED FLOW TO KHDS KGPerHour     711 non-null    float64\n",
            " 18  T3 : Reactor inlet temperature DEGC        711 non-null    float64\n",
            " 19  T3 : Hydrogen make-up flow NM3perHour      711 non-null    float64\n",
            " 20  T3 : Recycle hydrogen flow NM3perHour      711 non-null    float64\n",
            " 21  T3 : REACTOR OUTLET Temp DEGC              711 non-null    float64\n",
            " 22  T3 : REACTOR FEED INLET Pressure KGperCM2  711 non-null    float64\n",
            " 23  T3 : Cold separator pressure KGperCM2      711 non-null    float64\n",
            " 24  T3 : KERO FEED DENSITY KGperCM2            711 non-null    float64\n",
            " 25  T4 : FRESH FEED FLOW TO KHDS KGPerHour     711 non-null    float64\n",
            " 26  T4 : Reactor inlet temperature DEGC        711 non-null    float64\n",
            " 27  T4 : Hydrogen make-up flow NM3perHour      711 non-null    float64\n",
            " 28  T4 : Recycle hydrogen flow NM3perHour      711 non-null    float64\n",
            " 29  T4 : REACTOR OUTLET Temp DEGC              711 non-null    float64\n",
            " 30  T4 : REACTOR FEED INLET Pressure KGperCM2  711 non-null    float64\n",
            " 31  T4 : Cold separator pressure KGperCM2      711 non-null    float64\n",
            " 32  T4 : KERO FEED DENSITY KGperCM2            711 non-null    float64\n",
            " 33  Product Sulphur                            711 non-null    float64\n",
            "dtypes: float64(34)\n",
            "memory usage: 194.4 KB\n"
          ]
        }
      ]
    },
    {
      "cell_type": "code",
      "source": [
        "target_col = \"Product Sulphur\"\n",
        "X = filtered_df.loc[:, filtered_df.columns != target_col]\n",
        "y = filtered_df.loc[:, target_col]\n",
        "\n",
        "X_train, X_test, y_train, y_test = train_test_split(X, y, \n",
        "                                                    test_size=0.20, \n",
        "                                                    random_state=2021)"
      ],
      "metadata": {
        "id": "F2LktZodHCke"
      },
      "execution_count": null,
      "outputs": []
    },
    {
      "cell_type": "code",
      "source": [
        "print(\"XTRAIN :: ytrain shapes::\"+ str(X_train.shape + y_train.shape))"
      ],
      "metadata": {
        "colab": {
          "base_uri": "https://localhost:8080/"
        },
        "id": "g33dQxGWHPzm",
        "outputId": "ca18084b-2433-42f5-cfd2-7c96f88db31f"
      },
      "execution_count": null,
      "outputs": [
        {
          "output_type": "stream",
          "name": "stdout",
          "text": [
            "XTRAIN :: ytrain shapes::(568, 33, 568)\n"
          ]
        }
      ]
    },
    {
      "cell_type": "code",
      "source": [
        "from matplotlib import pyplot\n",
        "pyplot.hist(y)\n",
        "pyplot.show()"
      ],
      "metadata": {
        "colab": {
          "base_uri": "https://localhost:8080/",
          "height": 269
        },
        "id": "DlaZyolqImN2",
        "outputId": "4c76d694-1373-47eb-ef76-81021a7d491f"
      },
      "execution_count": null,
      "outputs": [
        {
          "output_type": "display_data",
          "data": {
            "text/plain": [
              "<Figure size 432x288 with 1 Axes>"
            ],
            "image/png": "[encoded data removed]"
          },
          "metadata": {
            "needs_background": "light"
          }
        }
      ]
    },
    {
      "cell_type": "code",
      "source": [
        "# split into train and test ==> Not using train_test_split which is vertical split. Instead going for HORIZONTAL split\n",
        "n_train = 568\n",
        "trainX, testX = X.iloc[:n_train, :], X.iloc[n_train:, :]\n",
        "#trainX = X.iloc[:n_train, :]\n",
        "trainy, testy = y.iloc[:n_train], y.iloc[n_train:]"
      ],
      "metadata": {
        "id": "tn1XoDDzI0_n"
      },
      "execution_count": null,
      "outputs": []
    },
    {
      "cell_type": "code",
      "source": [
        "len(trainX)"
      ],
      "metadata": {
        "colab": {
          "base_uri": "https://localhost:8080/"
        },
        "id": "vKjbjduvcX-w",
        "outputId": "fb3bfacb-2cb4-448f-af7c-4bdc1c0358cd"
      },
      "execution_count": null,
      "outputs": [
        {
          "output_type": "execute_result",
          "data": {
            "text/plain": [
              "568"
            ]
          },
          "metadata": {},
          "execution_count": 140
        }
      ]
    },
    {
      "cell_type": "code",
      "source": [
        "len(testX)"
      ],
      "metadata": {
        "colab": {
          "base_uri": "https://localhost:8080/"
        },
        "id": "9lGfFdxWcfff",
        "outputId": "5c298b22-69c8-45f8-f62a-63469346f779"
      },
      "execution_count": null,
      "outputs": [
        {
          "output_type": "execute_result",
          "data": {
            "text/plain": [
              "143"
            ]
          },
          "metadata": {},
          "execution_count": 141
        }
      ]
    },
    {
      "cell_type": "code",
      "source": [
        "len(trainy)"
      ],
      "metadata": {
        "colab": {
          "base_uri": "https://localhost:8080/"
        },
        "id": "CCcF_MGwcs9k",
        "outputId": "61cf134a-6314-4fe1-8672-b28efe34f1d3"
      },
      "execution_count": null,
      "outputs": [
        {
          "output_type": "execute_result",
          "data": {
            "text/plain": [
              "568"
            ]
          },
          "metadata": {},
          "execution_count": 142
        }
      ]
    },
    {
      "cell_type": "code",
      "source": [
        "type(testy)"
      ],
      "metadata": {
        "colab": {
          "base_uri": "https://localhost:8080/"
        },
        "id": "Va10253OqKkk",
        "outputId": "940920c4-4b85-440f-a331-fb38b9d7c057"
      },
      "execution_count": null,
      "outputs": [
        {
          "output_type": "execute_result",
          "data": {
            "text/plain": [
              "pandas.core.series.Series"
            ]
          },
          "metadata": {},
          "execution_count": 145
        }
      ]
    },
    {
      "cell_type": "code",
      "source": [
        "testy = testy.to_numpy()"
      ],
      "metadata": {
        "id": "HVUlud6vqQts"
      },
      "execution_count": null,
      "outputs": []
    },
    {
      "cell_type": "code",
      "source": [
        "type(testy)"
      ],
      "metadata": {
        "colab": {
          "base_uri": "https://localhost:8080/"
        },
        "id": "6ig83bg-qWT7",
        "outputId": "c68f06e2-5056-45e0-9f33-4ecb1c075c99"
      },
      "execution_count": null,
      "outputs": [
        {
          "output_type": "execute_result",
          "data": {
            "text/plain": [
              "numpy.ndarray"
            ]
          },
          "metadata": {},
          "execution_count": 147
        }
      ]
    },
    {
      "cell_type": "code",
      "source": [
        "len(testy)"
      ],
      "metadata": {
        "colab": {
          "base_uri": "https://localhost:8080/"
        },
        "id": "ljX4hR7cqYSv",
        "outputId": "465a5656-a42d-4262-df05-6b0f4ae4b597"
      },
      "execution_count": null,
      "outputs": [
        {
          "output_type": "execute_result",
          "data": {
            "text/plain": [
              "143"
            ]
          },
          "metadata": {},
          "execution_count": 148
        }
      ]
    },
    {
      "cell_type": "code",
      "source": [
        "testy = testy.reshape(-1,1)"
      ],
      "metadata": {
        "id": "5a-Uzd9AqhcD"
      },
      "execution_count": null,
      "outputs": []
    },
    {
      "cell_type": "code",
      "source": [
        "len(testy)"
      ],
      "metadata": {
        "colab": {
          "base_uri": "https://localhost:8080/"
        },
        "id": "QT-gHx6Iq0Fa",
        "outputId": "ef0bffd7-802c-4fb1-d531-e4511481d311"
      },
      "execution_count": null,
      "outputs": [
        {
          "output_type": "execute_result",
          "data": {
            "text/plain": [
              "143"
            ]
          },
          "metadata": {},
          "execution_count": 150
        }
      ]
    },
    {
      "cell_type": "code",
      "source": [
        "len(testy)"
      ],
      "metadata": {
        "colab": {
          "base_uri": "https://localhost:8080/"
        },
        "id": "PTkg_eLvc2KY",
        "outputId": "4ae6c3fe-3a64-41f9-e5a7-396f1c4bfd87"
      },
      "execution_count": null,
      "outputs": [
        {
          "output_type": "execute_result",
          "data": {
            "text/plain": [
              "143"
            ]
          },
          "metadata": {},
          "execution_count": 151
        }
      ]
    },
    {
      "cell_type": "code",
      "source": [
        "type(trainy)"
      ],
      "metadata": {
        "colab": {
          "base_uri": "https://localhost:8080/"
        },
        "id": "TZTQvetRrTsk",
        "outputId": "7fbdb789-ec7c-4404-dae0-7fa5c6b68355"
      },
      "execution_count": null,
      "outputs": [
        {
          "output_type": "execute_result",
          "data": {
            "text/plain": [
              "pandas.core.series.Series"
            ]
          },
          "metadata": {},
          "execution_count": 152
        }
      ]
    },
    {
      "cell_type": "code",
      "source": [
        "trainy = trainy.to_numpy()"
      ],
      "metadata": {
        "id": "ZdYU7si0rYOL"
      },
      "execution_count": null,
      "outputs": []
    },
    {
      "cell_type": "code",
      "source": [
        "type(trainy)"
      ],
      "metadata": {
        "colab": {
          "base_uri": "https://localhost:8080/"
        },
        "id": "4eaty_iMre7d",
        "outputId": "e701b1b0-de90-4f12-8966-19e8589427a7"
      },
      "execution_count": null,
      "outputs": [
        {
          "output_type": "execute_result",
          "data": {
            "text/plain": [
              "numpy.ndarray"
            ]
          },
          "metadata": {},
          "execution_count": 154
        }
      ]
    },
    {
      "cell_type": "code",
      "source": [
        "trainy = trainy.reshape(-1,1)"
      ],
      "metadata": {
        "id": "UqXVI_VOrhes"
      },
      "execution_count": null,
      "outputs": []
    },
    {
      "cell_type": "code",
      "source": [
        "trainy = trainy.to_numpy()\n",
        "trainy = trainy.reshape(-1,1)"
      ],
      "metadata": {
        "id": "LCS4lndNCLDG"
      },
      "execution_count": null,
      "outputs": []
    },
    {
      "cell_type": "code",
      "source": [
        "len(trainy)"
      ],
      "metadata": {
        "colab": {
          "base_uri": "https://localhost:8080/"
        },
        "id": "I4x2mD8HrpXc",
        "outputId": "799a5879-564d-41af-911c-aaf0af9addf5"
      },
      "execution_count": null,
      "outputs": [
        {
          "output_type": "execute_result",
          "data": {
            "text/plain": [
              "568"
            ]
          },
          "metadata": {},
          "execution_count": 156
        }
      ]
    },
    {
      "cell_type": "code",
      "source": [
        "trainX.info"
      ],
      "metadata": {
        "colab": {
          "base_uri": "https://localhost:8080/"
        },
        "id": "4HTu1oDi6Vh8",
        "outputId": "08bb454f-d11c-4c2f-a052-3e8ec3325100"
      },
      "execution_count": null,
      "outputs": [
        {
          "output_type": "execute_result",
          "data": {
            "text/plain": [
              "<bound method DataFrame.info of      LABfeed Sulphur  T1 : FRESH FEED FLOW TO KHDS KGPerHour  \\\n",
              "0             1000.0                             72482.43948   \n",
              "1             1400.0                             75588.69117   \n",
              "2             1300.0                             75675.29792   \n",
              "3             1500.0                             46269.02109   \n",
              "4             1400.0                             45394.43555   \n",
              "..               ...                                     ...   \n",
              "563           2000.0                             91905.65938   \n",
              "564           1600.0                             91530.30352   \n",
              "565           1700.0                             91737.18555   \n",
              "566           1600.0                             92207.36333   \n",
              "567           1600.0                             91894.50188   \n",
              "\n",
              "     T1 : Reactor inlet temperature DEGC  \\\n",
              "0                             288.485914   \n",
              "1                             286.406314   \n",
              "2                             284.035734   \n",
              "3                             276.210773   \n",
              "4                             276.126803   \n",
              "..                                   ...   \n",
              "563                           295.949350   \n",
              "564                           296.004048   \n",
              "565                           295.881531   \n",
              "566                           295.952830   \n",
              "567                           294.868680   \n",
              "\n",
              "     T1 : Hydrogen make-up flow NM3perHour  \\\n",
              "0                               685.146132   \n",
              "1                               571.248477   \n",
              "2                               564.716667   \n",
              "3                               371.162782   \n",
              "4                               296.835800   \n",
              "..                                     ...   \n",
              "563                             885.404846   \n",
              "564                             822.318153   \n",
              "565                             817.320867   \n",
              "566                             888.139270   \n",
              "567                             872.069841   \n",
              "\n",
              "     T1 : Recycle hydrogen flow NM3perHour  T1 : REACTOR OUTLET Temp DEGC  \\\n",
              "0                              11114.58673                     288.637635   \n",
              "1                              11259.14433                     286.921575   \n",
              "2                              10668.45313                     284.140627   \n",
              "3                              14497.57829                     276.808471   \n",
              "4                              14606.11231                     276.776767   \n",
              "..                                     ...                            ...   \n",
              "563                            15377.05508                     297.384451   \n",
              "564                            15179.00382                     296.653305   \n",
              "565                            15146.88621                     296.659057   \n",
              "566                            15159.32264                     297.286691   \n",
              "567                            15235.35575                     296.370463   \n",
              "\n",
              "     T1 : REACTOR FEED INLET Pressure KGperCM2  \\\n",
              "0                                    21.927602   \n",
              "1                                    21.911739   \n",
              "2                                    21.900282   \n",
              "3                                    21.747162   \n",
              "4                                    21.560785   \n",
              "..                                         ...   \n",
              "563                                  22.895849   \n",
              "564                                  22.822175   \n",
              "565                                  22.833489   \n",
              "566                                  22.827162   \n",
              "567                                  22.813994   \n",
              "\n",
              "     T1 : Cold separator pressure KGperCM2  T1 : KERO FEED DENSITY KGperCM2  \\\n",
              "0                                18.775248                              0.0   \n",
              "1                                18.702087                              0.0   \n",
              "2                                18.734029                              0.0   \n",
              "3                                19.528809                              0.0   \n",
              "4                                19.492783                              0.0   \n",
              "..                                     ...                              ...   \n",
              "563                              18.639679                              0.0   \n",
              "564                              18.603795                              0.0   \n",
              "565                              18.611506                              0.0   \n",
              "566                              18.602336                              0.0   \n",
              "567                              18.611496                              0.0   \n",
              "\n",
              "     T2 : FRESH FEED FLOW TO KHDS KGPerHour  \\\n",
              "0                               72337.37151   \n",
              "1                               75746.39266   \n",
              "2                               75628.86875   \n",
              "3                               46001.59297   \n",
              "4                               45231.54465   \n",
              "..                                      ...   \n",
              "563                             91840.47500   \n",
              "564                             91695.17177   \n",
              "565                             91849.57724   \n",
              "566                             92462.57896   \n",
              "567                             91600.71367   \n",
              "\n",
              "     T2 : Reactor inlet temperature DEGC  \\\n",
              "0                             287.651367   \n",
              "1                             286.441067   \n",
              "2                             284.037801   \n",
              "3                             276.116185   \n",
              "4                             276.010997   \n",
              "..                                   ...   \n",
              "563                           295.596237   \n",
              "564                           295.948301   \n",
              "565                           296.089355   \n",
              "566                           295.873882   \n",
              "567                           294.917026   \n",
              "\n",
              "     T2 : Hydrogen make-up flow NM3perHour  \\\n",
              "0                               740.221182   \n",
              "1                               549.330129   \n",
              "2                               582.175509   \n",
              "3                               527.354706   \n",
              "4                               441.971037   \n",
              "..                                     ...   \n",
              "563                             848.345459   \n",
              "564                             819.536300   \n",
              "565                             815.770183   \n",
              "566                             841.548473   \n",
              "567                             868.293728   \n",
              "\n",
              "     T2 : Recycle hydrogen flow NM3perHour  T2 : REACTOR OUTLET Temp DEGC  \\\n",
              "0                              11041.21585                     288.761036   \n",
              "1                              11228.98135                     286.630241   \n",
              "2                              10721.20293                     284.517944   \n",
              "3                              14646.65260                     277.295914   \n",
              "4                              14684.18629                     276.807028   \n",
              "..                                     ...                            ...   \n",
              "563                            15276.79541                     296.221048   \n",
              "564                            15162.12464                     296.605610   \n",
              "565                            15199.79468                     296.996879   \n",
              "566                            15137.34707                     297.107610   \n",
              "567                            15136.22220                     296.073666   \n",
              "\n",
              "     T2 : REACTOR FEED INLET Pressure KGperCM2  \\\n",
              "0                                    21.810156   \n",
              "1                                    21.870260   \n",
              "2                                    21.882274   \n",
              "3                                    21.531470   \n",
              "4                                    21.579045   \n",
              "..                                         ...   \n",
              "563                                  22.806128   \n",
              "564                                  22.836395   \n",
              "565                                  22.837127   \n",
              "566                                  22.818789   \n",
              "567                                  22.811186   \n",
              "\n",
              "     T2 : Cold separator pressure KGperCM2  T2 : KERO FEED DENSITY KGperCM2  \\\n",
              "0                                18.688527                              0.0   \n",
              "1                                18.674408                              0.0   \n",
              "2                                18.724772                              0.0   \n",
              "3                                19.330088                              0.0   \n",
              "4                                19.508255                              0.0   \n",
              "..                                     ...                              ...   \n",
              "563                              18.570099                              0.0   \n",
              "564                              18.617798                              0.0   \n",
              "565                              18.604207                              0.0   \n",
              "566                              18.597066                              0.0   \n",
              "567                              18.599350                              0.0   \n",
              "\n",
              "     T3 : FRESH FEED FLOW TO KHDS KGPerHour  \\\n",
              "0                               72376.86708   \n",
              "1                               75963.37102   \n",
              "2                               75646.63073   \n",
              "3                               46411.94089   \n",
              "4                               45301.01027   \n",
              "..                                      ...   \n",
              "563                             91829.15625   \n",
              "564                             91490.51747   \n",
              "565                             92135.43240   \n",
              "566                             92279.32917   \n",
              "567                             91597.65883   \n",
              "\n",
              "     T3 : Reactor inlet temperature DEGC  \\\n",
              "0                             287.823835   \n",
              "1                             286.687275   \n",
              "2                             283.697494   \n",
              "3                             275.763115   \n",
              "4                             276.366341   \n",
              "..                                   ...   \n",
              "563                           296.212811   \n",
              "564                           296.344612   \n",
              "565                           295.952126   \n",
              "566                           296.052909   \n",
              "567                           295.019690   \n",
              "\n",
              "     T3 : Hydrogen make-up flow NM3perHour  \\\n",
              "0                               660.058960   \n",
              "1                               617.336266   \n",
              "2                               559.376522   \n",
              "3                               258.167509   \n",
              "4                               365.445542   \n",
              "..                                     ...   \n",
              "563                             862.674194   \n",
              "564                             872.179856   \n",
              "565                             833.973095   \n",
              "566                             820.129946   \n",
              "567                             838.857569   \n",
              "\n",
              "     T3 : Recycle hydrogen flow NM3perHour  T3 : REACTOR OUTLET Temp DEGC  \\\n",
              "0                              11072.44088                     287.738775   \n",
              "1                              11004.25626                     286.128780   \n",
              "2                              10763.02799                     284.325244   \n",
              "3                              14658.63428                     277.148141   \n",
              "4                              14693.11828                     276.877170   \n",
              "..                                     ...                            ...   \n",
              "563                            15254.75469                     296.491504   \n",
              "564                            15073.39775                     296.642679   \n",
              "565                            15197.61837                     296.783794   \n",
              "566                            15061.26516                     296.952242   \n",
              "567                            15115.33475                     295.770767   \n",
              "\n",
              "     T3 : REACTOR FEED INLET Pressure KGperCM2  \\\n",
              "0                                    21.813427   \n",
              "1                                    21.711249   \n",
              "2                                    21.813410   \n",
              "3                                    21.664635   \n",
              "4                                    21.526057   \n",
              "..                                         ...   \n",
              "563                                  22.820269   \n",
              "564                                  22.786928   \n",
              "565                                  22.850480   \n",
              "566                                  22.834499   \n",
              "567                                  22.816768   \n",
              "\n",
              "     T3 : Cold separator pressure KGperCM2  T3 : KERO FEED DENSITY KGperCM2  \\\n",
              "0                                18.693064                              0.0   \n",
              "1                                18.533493                              0.0   \n",
              "2                                18.677979                              0.0   \n",
              "3                                19.450734                              0.0   \n",
              "4                                19.478851                              0.0   \n",
              "..                                     ...                              ...   \n",
              "563                              18.596039                              0.0   \n",
              "564                              18.603633                              0.0   \n",
              "565                              18.592662                              0.0   \n",
              "566                              18.618123                              0.0   \n",
              "567                              18.606979                              0.0   \n",
              "\n",
              "     T4 : FRESH FEED FLOW TO KHDS KGPerHour  \\\n",
              "0                               72353.77432   \n",
              "1                               75918.19844   \n",
              "2                               76002.57969   \n",
              "3                               46176.64115   \n",
              "4                               45265.78914   \n",
              "..                                      ...   \n",
              "563                             92316.08984   \n",
              "564                             91593.75781   \n",
              "565                             91790.22010   \n",
              "566                             92036.61792   \n",
              "567                             92151.14000   \n",
              "\n",
              "     T4 : Reactor inlet temperature DEGC  \\\n",
              "0                             287.978641   \n",
              "1                             287.134693   \n",
              "2                             284.800492   \n",
              "3                             275.822623   \n",
              "4                             276.090728   \n",
              "..                                   ...   \n",
              "563                           296.152722   \n",
              "564                           295.789801   \n",
              "565                           296.074087   \n",
              "566                           295.966523   \n",
              "567                           295.059367   \n",
              "\n",
              "     T4 : Hydrogen make-up flow NM3perHour  \\\n",
              "0                               614.163076   \n",
              "1                               464.921691   \n",
              "2                               580.681543   \n",
              "3                               565.165267   \n",
              "4                               409.074912   \n",
              "..                                     ...   \n",
              "563                             936.822864   \n",
              "564                             826.651705   \n",
              "565                             819.362151   \n",
              "566                             864.576813   \n",
              "567                             876.641655   \n",
              "\n",
              "     T4 : Recycle hydrogen flow NM3perHour  T4 : REACTOR OUTLET Temp DEGC  \\\n",
              "0                              11226.93106                     288.712160   \n",
              "1                              11066.97566                     286.615329   \n",
              "2                              10701.71289                     284.840621   \n",
              "3                              14783.88027                     276.540142   \n",
              "4                              14675.20297                     277.132889   \n",
              "..                                     ...                            ...   \n",
              "563                            15183.76543                     296.805450   \n",
              "564                            15128.34661                     297.344292   \n",
              "565                            15208.21052                     296.041928   \n",
              "566                            15088.96703                     296.887573   \n",
              "567                            15059.26399                     295.779565   \n",
              "\n",
              "     T4 : REACTOR FEED INLET Pressure KGperCM2  \\\n",
              "0                                    21.805388   \n",
              "1                                    21.934672   \n",
              "2                                    21.848295   \n",
              "3                                    21.547435   \n",
              "4                                    21.597432   \n",
              "..                                         ...   \n",
              "563                                  22.760737   \n",
              "564                                  22.808510   \n",
              "565                                  22.860432   \n",
              "566                                  22.778482   \n",
              "567                                  22.788558   \n",
              "\n",
              "     T4 : Cold separator pressure KGperCM2  T4 : KERO FEED DENSITY KGperCM2  \n",
              "0                                18.666758                              0.0  \n",
              "1                                18.747208                              0.0  \n",
              "2                                18.704427                              0.0  \n",
              "3                                19.357554                              0.0  \n",
              "4                                19.496689                              0.0  \n",
              "..                                     ...                              ...  \n",
              "563                              18.586426                              0.0  \n",
              "564                              18.607930                              0.0  \n",
              "565                              18.588598                              0.0  \n",
              "566                              18.578389                              0.0  \n",
              "567                              18.607544                              0.0  \n",
              "\n",
              "[568 rows x 33 columns]>"
            ]
          },
          "metadata": {},
          "execution_count": 120
        }
      ]
    },
    {
      "cell_type": "code",
      "source": [
        "\n",
        "from tensorflow.keras.optimizers import Adam# define model\n",
        "from keras.optimizer_v2.adam import Adam\n",
        "model = Sequential()\n",
        "model.add(Dense(64, input_dim=33, activation='relu', kernel_initializer='he_uniform'))\n",
        "model.add(Dense(1, activation='linear'))\n",
        "# compile model\n",
        "#model.compile(loss='mean_squared_error', optimizer=SGD(lr=0.00001, momentum=0.9))\n",
        "model.compile(loss='mean_squared_error', optimizer=Adam(lr=0.001))\n",
        "# fit model\n",
        "history = model.fit(trainX, trainy, validation_data=(testX, testy), epochs=100, verbose=0)"
      ],
      "metadata": {
        "id": "NpMMW7gyc7RL"
      },
      "execution_count": null,
      "outputs": []
    },
    {
      "cell_type": "code",
      "source": [
        "# evaluate the model\n",
        "train_mse = model.evaluate(trainX, trainy, verbose=0)\n",
        "test_mse = model.evaluate(testX, testy, verbose=0)\n",
        "print('Train: %.3f, Test: %.3f' % (train_mse, test_mse))"
      ],
      "metadata": {
        "colab": {
          "base_uri": "https://localhost:8080/"
        },
        "id": "pxfPE13FdPv1",
        "outputId": "b50db9c3-6d83-4db6-db9a-c7f7a3e99620"
      },
      "execution_count": null,
      "outputs": [
        {
          "output_type": "stream",
          "name": "stdout",
          "text": [
            "Train: 11871.008, Test: 17262.006\n"
          ]
        }
      ]
    },
    {
      "cell_type": "markdown",
      "source": [
        "Running the example fits the model and calculates the mean squared error on the train and test sets.\n",
        "\n",
        "https://machinelearningmastery.com/how-to-improve-neural-network-stability-and-modeling-performance-with-data-scaling/\n",
        "\n",
        "In this case, the model is unable to learn the problem, resulting in predictions of NaN values. The model weights exploded during training given the very large errors and, in turn, error gradients calculated for weight updates.\n",
        "\n",
        "This demonstrates that, at the very least, some data scaling is required for the target variable.\n",
        "\n",
        "A line plot of training history is created but does not show anything as the model almost immediately results in a NaN mean squared error."
      ],
      "metadata": {
        "id": "6w9FV4fbd1Pt"
      }
    },
    {
      "cell_type": "code",
      "source": [
        "from matplotlib import pyplot\n",
        "# plot loss during training\n",
        "pyplot.title('Mean Squared Error')\n",
        "pyplot.plot(history.history['loss'], label='train')\n",
        "pyplot.plot(history.history['val_loss'], label='test')\n",
        "pyplot.legend()\n",
        "pyplot.show()"
      ],
      "metadata": {
        "colab": {
          "base_uri": "https://localhost:8080/",
          "height": 281
        },
        "id": "f5XLsD5-de9R",
        "outputId": "108aceec-fe4f-42ba-fedb-648cf9a0e871"
      },
      "execution_count": null,
      "outputs": [
        {
          "output_type": "display_data",
          "data": {
            "text/plain": [
              "<Figure size 432x288 with 1 Axes>"
            ],
            "image/png": "[encoded data removed]"
          },
          "metadata": {
            "needs_background": "light"
          }
        }
      ]
    },
    {
      "cell_type": "code",
      "source": [
        "# demonstrate data standardization with sklearn\n",
        "from sklearn.preprocessing import StandardScaler\n",
        "import numpy as np\n",
        "type(trainy)\n",
        "trainy.shape[0]"
      ],
      "metadata": {
        "colab": {
          "base_uri": "https://localhost:8080/"
        },
        "id": "BzoyWF44dpQb",
        "outputId": "ae33e910-bf21-47f2-fdb0-3fad5d508088"
      },
      "execution_count": null,
      "outputs": [
        {
          "output_type": "execute_result",
          "data": {
            "text/plain": [
              "568"
            ]
          },
          "metadata": {},
          "execution_count": 39
        }
      ]
    },
    {
      "cell_type": "code",
      "source": [
        "#You can see the number of dimensions for a pandas data structure with the ndim attribute.\n",
        "trainy.ndim"
      ],
      "metadata": {
        "colab": {
          "base_uri": "https://localhost:8080/"
        },
        "id": "_DJH0KPphJta",
        "outputId": "d81e28e0-f4a2-4722-f743-a110cb081cf4"
      },
      "execution_count": null,
      "outputs": [
        {
          "output_type": "execute_result",
          "data": {
            "text/plain": [
              "1"
            ]
          },
          "metadata": {},
          "execution_count": 40
        }
      ]
    },
    {
      "cell_type": "code",
      "source": [
        "testy.size"
      ],
      "metadata": {
        "colab": {
          "base_uri": "https://localhost:8080/"
        },
        "id": "UPWC-BwSkTax",
        "outputId": "f18821dc-4bf6-4362-9783-ea52ca31f170"
      },
      "execution_count": null,
      "outputs": [
        {
          "output_type": "execute_result",
          "data": {
            "text/plain": [
              "143"
            ]
          },
          "metadata": {},
          "execution_count": 57
        }
      ]
    },
    {
      "cell_type": "code",
      "source": [
        "trainy.shape"
      ],
      "metadata": {
        "colab": {
          "base_uri": "https://localhost:8080/"
        },
        "id": "M6IuiEZYhW6E",
        "outputId": "f81d99eb-6766-4968-adec-8691258bf14f"
      },
      "execution_count": null,
      "outputs": [
        {
          "output_type": "execute_result",
          "data": {
            "text/plain": [
              "(568,)"
            ]
          },
          "metadata": {},
          "execution_count": 41
        }
      ]
    },
    {
      "cell_type": "code",
      "source": [
        "trainy.size"
      ],
      "metadata": {
        "colab": {
          "base_uri": "https://localhost:8080/"
        },
        "id": "tTanR1b1hb-x",
        "outputId": "7a12f122-1e72-48fe-8551-c353f95979ab"
      },
      "execution_count": null,
      "outputs": [
        {
          "output_type": "execute_result",
          "data": {
            "text/plain": [
              "568"
            ]
          },
          "metadata": {},
          "execution_count": 42
        }
      ]
    },
    {
      "cell_type": "code",
      "source": [
        "type(testy)"
      ],
      "metadata": {
        "colab": {
          "base_uri": "https://localhost:8080/"
        },
        "id": "mPKJl_kXmk_4",
        "outputId": "13ef6645-6a8f-4a51-bad3-42c7ca7b1395"
      },
      "execution_count": null,
      "outputs": [
        {
          "output_type": "execute_result",
          "data": {
            "text/plain": [
              "pandas.core.series.Series"
            ]
          },
          "metadata": {},
          "execution_count": 69
        }
      ]
    },
    {
      "cell_type": "code",
      "source": [
        "type(trainy)"
      ],
      "metadata": {
        "colab": {
          "base_uri": "https://localhost:8080/"
        },
        "id": "x_nkw2U7mnrE",
        "outputId": "710bf260-2374-4c55-a399-06afc83cfd20"
      },
      "execution_count": null,
      "outputs": [
        {
          "output_type": "execute_result",
          "data": {
            "text/plain": [
              "numpy.ndarray"
            ]
          },
          "metadata": {},
          "execution_count": 70
        }
      ]
    },
    {
      "cell_type": "code",
      "source": [
        "testy = testy.to_numpy()"
      ],
      "metadata": {
        "id": "7wj1IEIhm3sX"
      },
      "execution_count": null,
      "outputs": []
    },
    {
      "cell_type": "code",
      "source": [
        "type(testy)"
      ],
      "metadata": {
        "colab": {
          "base_uri": "https://localhost:8080/"
        },
        "id": "3g7dPCXVoE5a",
        "outputId": "6f5060d6-22e6-40aa-f400-c4a5b3c0bc52"
      },
      "execution_count": null,
      "outputs": [
        {
          "output_type": "execute_result",
          "data": {
            "text/plain": [
              "numpy.ndarray"
            ]
          },
          "metadata": {},
          "execution_count": 75
        }
      ]
    },
    {
      "cell_type": "code",
      "source": [
        "trainy[:0]"
      ],
      "metadata": {
        "colab": {
          "base_uri": "https://localhost:8080/"
        },
        "id": "Dg5l5i4nmN3o",
        "outputId": "20f9cc75-ddca-4b38-c54f-1ee0f2fbd2b9"
      },
      "execution_count": null,
      "outputs": [
        {
          "output_type": "execute_result",
          "data": {
            "text/plain": [
              "array([], shape=(0, 1), dtype=float64)"
            ]
          },
          "metadata": {},
          "execution_count": 68
        }
      ]
    },
    {
      "cell_type": "code",
      "source": [
        "testy[0]"
      ],
      "metadata": {
        "colab": {
          "base_uri": "https://localhost:8080/"
        },
        "id": "KjqOW-MjmKWG",
        "outputId": "812f15d6-3655-4f8a-cfff-bcf980928406"
      },
      "execution_count": null,
      "outputs": [
        {
          "output_type": "execute_result",
          "data": {
            "text/plain": [
              "array([9.])"
            ]
          },
          "metadata": {},
          "execution_count": 80
        }
      ]
    },
    {
      "cell_type": "code",
      "source": [
        "#The scikit-learn transformers expect input data to be matrices of rows and columns, therefore the 1D arrays for the target variable will have to be reshaped into 2D arrays prior to the transforms.\n",
        "# reshape 1d arrays to 2d arrays ==> ar.reshape(-1, 1) OR ar.reshape(ar.shape[0],-1)\n",
        "#trainy = trainy.np.reshape(len(trainy), 1)\n",
        "#trainy = trainy.reshape(trainy.shape[0],-1)\n",
        "#trainy = trainy[0].reshape(-1,1)\n",
        "#testy = testy.np.reshape(len(trainy), 1)\n",
        "#testy = testy[0].reshape(1,-1) ##Do this step after converting testy which is a  series to numpy.ndarray. To do this use testy.to_numpy() to convert into a numy array first"
      ],
      "metadata": {
        "id": "8zhsizwFebpf"
      },
      "execution_count": null,
      "outputs": []
    },
    {
      "cell_type": "code",
      "source": [
        "trainy = trainy.reshape(-1,1)"
      ],
      "metadata": {
        "id": "xrAxhJtCpf02"
      },
      "execution_count": null,
      "outputs": []
    },
    {
      "cell_type": "code",
      "source": [
        "trainy"
      ],
      "metadata": {
        "colab": {
          "base_uri": "https://localhost:8080/"
        },
        "id": "nlGtDsS0pkZo",
        "outputId": "3d88eb5e-9b23-44fa-8b64-b12c386547e3"
      },
      "execution_count": null,
      "outputs": [
        {
          "output_type": "execute_result",
          "data": {
            "text/plain": [
              "array([[0.]])"
            ]
          },
          "metadata": {},
          "execution_count": 88
        }
      ]
    },
    {
      "cell_type": "code",
      "source": [
        "\n",
        "# created scaler\n",
        "scaler = StandardScaler()\n",
        "# fit scaler on training dataset\n",
        "scaler.fit(trainy)\n",
        "# transform training dataset\n",
        "trainy = scaler.transform(trainy)\n",
        "# transform test dataset\n",
        "testy = scaler.transform(testy)"
      ],
      "metadata": {
        "id": "ebFjmQ0fePug"
      },
      "execution_count": null,
      "outputs": []
    },
    {
      "cell_type": "code",
      "source": [
        "testy.shape"
      ],
      "metadata": {
        "colab": {
          "base_uri": "https://localhost:8080/"
        },
        "id": "J55dAKu9pHF7",
        "outputId": "8f015438-b924-41a7-d7a3-65022ce8f70c"
      },
      "execution_count": null,
      "outputs": [
        {
          "output_type": "execute_result",
          "data": {
            "text/plain": [
              "(143, 1)"
            ]
          },
          "metadata": {},
          "execution_count": 158
        }
      ]
    },
    {
      "cell_type": "code",
      "source": [
        "trainy.shape"
      ],
      "metadata": {
        "colab": {
          "base_uri": "https://localhost:8080/"
        },
        "id": "VCGfzVbvrD2T",
        "outputId": "41bd696b-cfa9-46da-d18f-46b6194c7a22"
      },
      "execution_count": null,
      "outputs": [
        {
          "output_type": "execute_result",
          "data": {
            "text/plain": [
              "(568, 1)"
            ]
          },
          "metadata": {},
          "execution_count": 159
        }
      ]
    },
    {
      "cell_type": "code",
      "source": [
        "trainy"
      ],
      "metadata": {
        "colab": {
          "base_uri": "https://localhost:8080/"
        },
        "id": "j2vhKBnHr6s4",
        "outputId": "47f9499f-c01b-416e-da30-51e5acdd4c46"
      },
      "execution_count": null,
      "outputs": [
        {
          "output_type": "execute_result",
          "data": {
            "text/plain": [
              "array([[-0.62028486],\n",
              "       [-1.1344231 ],\n",
              "       [-0.27752603],\n",
              "       [ 0.0652328 ],\n",
              "       [-0.27752603],\n",
              "       [-0.27752603],\n",
              "       [-0.62028486],\n",
              "       [-0.62028486],\n",
              "       [-0.62028486],\n",
              "       [-0.27752603],\n",
              "       [-0.27752603],\n",
              "       [-0.62028486],\n",
              "       [-0.62028486],\n",
              "       [-0.96304369],\n",
              "       [-0.27752603],\n",
              "       [ 0.75075046],\n",
              "       [-0.62028486],\n",
              "       [-0.27752603],\n",
              "       [-0.27752603],\n",
              "       [-0.96304369],\n",
              "       [-0.27752603],\n",
              "       [-0.96304369],\n",
              "       [-1.1344231 ],\n",
              "       [-0.96304369],\n",
              "       [-0.96304369],\n",
              "       [-0.96304369],\n",
              "       [ 1.95040636],\n",
              "       [-0.10614662],\n",
              "       [-0.27752603],\n",
              "       [-0.27752603],\n",
              "       [-0.27752603],\n",
              "       [ 0.40799163],\n",
              "       [ 0.0652328 ],\n",
              "       [ 1.77902694],\n",
              "       [ 0.40799163],\n",
              "       [ 1.77902694],\n",
              "       [-0.27752603],\n",
              "       [-0.27752603],\n",
              "       [ 0.0652328 ],\n",
              "       [-0.27752603],\n",
              "       [-1.1344231 ],\n",
              "       [-0.62028486],\n",
              "       [-0.27752603],\n",
              "       [-0.96304369],\n",
              "       [-0.62028486],\n",
              "       [-0.62028486],\n",
              "       [-0.62028486],\n",
              "       [-0.96304369],\n",
              "       [-0.96304369],\n",
              "       [-0.96304369],\n",
              "       [-0.96304369],\n",
              "       [-0.62028486],\n",
              "       [-0.72311251],\n",
              "       [-0.62028486],\n",
              "       [-0.62028486],\n",
              "       [-0.79166427],\n",
              "       [ 0.0652328 ],\n",
              "       [-0.96304369],\n",
              "       [-0.62028486],\n",
              "       [-0.62028486],\n",
              "       [-0.89449192],\n",
              "       [-0.96304369],\n",
              "       [-0.96304369],\n",
              "       [-0.96304369],\n",
              "       [-0.96304369],\n",
              "       [-0.96304369],\n",
              "       [13.43282713],\n",
              "       [-0.96304369],\n",
              "       [-0.96304369],\n",
              "       [-0.27752603],\n",
              "       [-0.79166427],\n",
              "       [-0.96304369],\n",
              "       [ 0.0652328 ],\n",
              "       [ 0.0652328 ],\n",
              "       [-0.79166427],\n",
              "       [-0.27752603],\n",
              "       [ 1.43626811],\n",
              "       [-0.27752603],\n",
              "       [-0.62028486],\n",
              "       [-0.96304369],\n",
              "       [-0.96304369],\n",
              "       [-0.62028486],\n",
              "       [-0.62028486],\n",
              "       [-0.96304369],\n",
              "       [-0.62028486],\n",
              "       [ 0.40799163],\n",
              "       [-0.27752603],\n",
              "       [-0.27752603],\n",
              "       [-0.27752603],\n",
              "       [-0.27752603],\n",
              "       [-0.27752603],\n",
              "       [ 0.23661221],\n",
              "       [ 1.09350929],\n",
              "       [ 3.15006226],\n",
              "       [ 0.75075046],\n",
              "       [ 1.09350929],\n",
              "       [ 0.40799163],\n",
              "       [ 0.0652328 ],\n",
              "       [-0.44890545],\n",
              "       [-0.96304369],\n",
              "       [-0.27752603],\n",
              "       [-0.55173309],\n",
              "       [-0.27752603],\n",
              "       [-0.27752603],\n",
              "       [-0.27752603],\n",
              "       [-0.27752603],\n",
              "       [-0.96304369],\n",
              "       [-0.62028486],\n",
              "       [-0.62028486],\n",
              "       [-0.27752603],\n",
              "       [-0.62028486],\n",
              "       [ 0.75075046],\n",
              "       [-0.62028486],\n",
              "       [-0.96304369],\n",
              "       [ 1.77902694],\n",
              "       [ 1.77902694],\n",
              "       [ 0.75075046],\n",
              "       [ 0.75075046],\n",
              "       [ 0.0652328 ],\n",
              "       [-0.62028486],\n",
              "       [ 3.15006226],\n",
              "       [ 0.0652328 ],\n",
              "       [-0.27752603],\n",
              "       [ 2.80730343],\n",
              "       [-0.27752603],\n",
              "       [-0.96304369],\n",
              "       [-0.96304369],\n",
              "       [-0.96304369],\n",
              "       [-0.96304369],\n",
              "       [-0.96304369],\n",
              "       [-0.82594016],\n",
              "       [-0.82594016],\n",
              "       [-0.62028486],\n",
              "       [-0.79166427],\n",
              "       [ 0.0652328 ],\n",
              "       [-0.1404225 ],\n",
              "       [-0.27752603],\n",
              "       [-0.27752603],\n",
              "       [ 0.0652328 ],\n",
              "       [-0.62028486],\n",
              "       [-0.62028486],\n",
              "       [-0.62028486],\n",
              "       [ 0.0652328 ],\n",
              "       [-0.27752603],\n",
              "       [ 1.95040636],\n",
              "       [ 1.43626811],\n",
              "       [-0.27752603],\n",
              "       [-0.27752603],\n",
              "       [-0.96304369],\n",
              "       [-0.62028486],\n",
              "       [-0.27752603],\n",
              "       [-0.62028486],\n",
              "       [-0.62028486],\n",
              "       [ 0.0652328 ],\n",
              "       [-0.62028486],\n",
              "       [-0.27752603],\n",
              "       [-1.06587134],\n",
              "       [-0.96304369],\n",
              "       [-0.96304369],\n",
              "       [-0.96304369],\n",
              "       [-0.96304369],\n",
              "       [-0.96304369],\n",
              "       [-0.96304369],\n",
              "       [-1.06587134],\n",
              "       [-0.96304369],\n",
              "       [-0.96304369],\n",
              "       [ 0.0652328 ],\n",
              "       [-0.96304369],\n",
              "       [-0.79166427],\n",
              "       [-0.96304369],\n",
              "       [-0.96304369],\n",
              "       [-0.96304369],\n",
              "       [-0.62028486],\n",
              "       [-0.86021604],\n",
              "       [-0.96304369],\n",
              "       [-0.96304369],\n",
              "       [-0.96304369],\n",
              "       [-0.62028486],\n",
              "       [-0.62028486],\n",
              "       [-0.62028486],\n",
              "       [-0.79166427],\n",
              "       [-0.62028486],\n",
              "       [-0.96304369],\n",
              "       [-0.96304369],\n",
              "       [-0.96304369],\n",
              "       [-0.96304369],\n",
              "       [-0.96304369],\n",
              "       [-0.96304369],\n",
              "       [-0.96304369],\n",
              "       [-0.96304369],\n",
              "       [-0.96304369],\n",
              "       [-0.96304369],\n",
              "       [ 0.40799163],\n",
              "       [-0.62028486],\n",
              "       [-0.27752603],\n",
              "       [-0.27752603],\n",
              "       [ 1.09350929],\n",
              "       [-0.96304369],\n",
              "       [-0.96304369],\n",
              "       [-0.96304369],\n",
              "       [-0.96304369],\n",
              "       [-0.96304369],\n",
              "       [-0.96304369],\n",
              "       [-0.89449192],\n",
              "       [-0.96304369],\n",
              "       [-0.96304369],\n",
              "       [-0.62028486],\n",
              "       [-0.62028486],\n",
              "       [-0.27752603],\n",
              "       [-0.62028486],\n",
              "       [ 0.0652328 ],\n",
              "       [-0.27752603],\n",
              "       [ 0.40799163],\n",
              "       [-0.27752603],\n",
              "       [-0.68883663],\n",
              "       [-0.27752603],\n",
              "       [ 0.75075046],\n",
              "       [ 0.92212987],\n",
              "       [-0.27752603],\n",
              "       [ 0.0652328 ],\n",
              "       [ 0.0652328 ],\n",
              "       [-0.62028486],\n",
              "       [-0.27752603],\n",
              "       [-0.62028486],\n",
              "       [-0.27752603],\n",
              "       [-0.27752603],\n",
              "       [-0.96304369],\n",
              "       [-0.96304369],\n",
              "       [-0.27752603],\n",
              "       [ 0.0652328 ],\n",
              "       [ 0.0652328 ],\n",
              "       [ 0.0652328 ],\n",
              "       [ 0.0652328 ],\n",
              "       [ 0.40799163],\n",
              "       [ 0.40799163],\n",
              "       [ 0.0652328 ],\n",
              "       [ 0.0652328 ],\n",
              "       [-0.27752603],\n",
              "       [ 0.40799163],\n",
              "       [-0.27752603],\n",
              "       [ 0.40799163],\n",
              "       [ 0.40799163],\n",
              "       [ 0.40799163],\n",
              "       [-0.62028486],\n",
              "       [-0.27752603],\n",
              "       [-0.62028486],\n",
              "       [-0.62028486],\n",
              "       [ 0.0652328 ],\n",
              "       [ 0.0652328 ],\n",
              "       [ 0.40799163],\n",
              "       [ 0.0652328 ],\n",
              "       [ 0.0652328 ],\n",
              "       [ 0.0652328 ],\n",
              "       [ 0.0652328 ],\n",
              "       [-0.68883663],\n",
              "       [-0.44890545],\n",
              "       [ 1.43626811],\n",
              "       [-0.27752603],\n",
              "       [-0.27752603],\n",
              "       [ 0.40799163],\n",
              "       [-0.96304369],\n",
              "       [-0.62028486],\n",
              "       [-0.62028486],\n",
              "       [-0.62028486],\n",
              "       [-0.10614662],\n",
              "       [-0.27752603],\n",
              "       [ 0.75075046],\n",
              "       [ 0.0652328 ],\n",
              "       [ 0.40799163],\n",
              "       [-0.62028486],\n",
              "       [-0.62028486],\n",
              "       [-0.44890545],\n",
              "       [ 0.40799163],\n",
              "       [-0.96304369],\n",
              "       [-0.62028486],\n",
              "       [ 0.75075046],\n",
              "       [ 0.40799163],\n",
              "       [ 0.40799163],\n",
              "       [ 0.40799163],\n",
              "       [ 1.09350929],\n",
              "       [ 1.43626811],\n",
              "       [ 1.09350929],\n",
              "       [ 0.0652328 ],\n",
              "       [ 1.43626811],\n",
              "       [ 0.0652328 ],\n",
              "       [-0.27752603],\n",
              "       [ 2.12178577],\n",
              "       [ 0.75075046],\n",
              "       [ 0.40799163],\n",
              "       [ 0.0652328 ],\n",
              "       [ 0.75075046],\n",
              "       [ 0.40799163],\n",
              "       [-0.27752603],\n",
              "       [-0.27752603],\n",
              "       [-0.27752603],\n",
              "       [-0.27752603],\n",
              "       [-0.62028486],\n",
              "       [-0.62028486],\n",
              "       [ 0.75075046],\n",
              "       [ 1.09350929],\n",
              "       [ 0.0652328 ],\n",
              "       [ 0.75075046],\n",
              "       [-0.27752603],\n",
              "       [ 0.75075046],\n",
              "       [ 0.0652328 ],\n",
              "       [ 0.0652328 ],\n",
              "       [ 2.12178577],\n",
              "       [ 0.0652328 ],\n",
              "       [ 0.40799163],\n",
              "       [-0.27752603],\n",
              "       [-0.62028486],\n",
              "       [-0.96304369],\n",
              "       [-0.62028486],\n",
              "       [-0.27752603],\n",
              "       [-0.62028486],\n",
              "       [-0.27752603],\n",
              "       [ 0.0652328 ],\n",
              "       [ 0.0652328 ],\n",
              "       [ 0.40799163],\n",
              "       [ 0.0652328 ],\n",
              "       [ 0.40799163],\n",
              "       [-0.27752603],\n",
              "       [ 0.75075046],\n",
              "       [-0.27752603],\n",
              "       [-0.62028486],\n",
              "       [-0.27752603],\n",
              "       [ 0.40799163],\n",
              "       [ 0.75075046],\n",
              "       [ 0.40799163],\n",
              "       [ 0.40799163],\n",
              "       [ 0.40799163],\n",
              "       [ 0.75075046],\n",
              "       [ 0.75075046],\n",
              "       [ 0.40799163],\n",
              "       [ 1.09350929],\n",
              "       [ 1.09350929],\n",
              "       [ 0.0652328 ],\n",
              "       [-0.27752603],\n",
              "       [-0.27752603],\n",
              "       [ 0.0652328 ],\n",
              "       [ 1.43626811],\n",
              "       [ 1.43626811],\n",
              "       [ 0.0652328 ],\n",
              "       [ 1.09350929],\n",
              "       [ 0.75075046],\n",
              "       [ 0.40799163],\n",
              "       [ 1.09350929],\n",
              "       [-0.27752603],\n",
              "       [-0.27752603],\n",
              "       [-0.27752603],\n",
              "       [-0.27752603],\n",
              "       [-0.48318133],\n",
              "       [ 0.40799163],\n",
              "       [-0.27752603],\n",
              "       [ 0.0652328 ],\n",
              "       [ 0.0652328 ],\n",
              "       [ 0.0652328 ],\n",
              "       [-0.62028486],\n",
              "       [ 0.0652328 ],\n",
              "       [ 0.75075046],\n",
              "       [ 0.75075046],\n",
              "       [-0.62028486],\n",
              "       [ 0.40799163],\n",
              "       [-0.96304369],\n",
              "       [-0.62028486],\n",
              "       [-0.27752603],\n",
              "       [ 1.09350929],\n",
              "       [-0.27752603],\n",
              "       [ 3.15006226],\n",
              "       [ 4.86385641],\n",
              "       [ 5.54937406],\n",
              "       [ 1.43626811],\n",
              "       [ 0.75075046],\n",
              "       [ 0.40799163],\n",
              "       [ 0.40799163],\n",
              "       [ 0.0652328 ],\n",
              "       [ 0.40799163],\n",
              "       [ 0.40799163],\n",
              "       [ 0.75075046],\n",
              "       [ 0.75075046],\n",
              "       [-0.27752603],\n",
              "       [-0.27752603],\n",
              "       [-0.62028486],\n",
              "       [ 0.0652328 ],\n",
              "       [ 0.0652328 ],\n",
              "       [ 0.0652328 ],\n",
              "       [ 0.40799163],\n",
              "       [ 0.0652328 ],\n",
              "       [-0.27752603],\n",
              "       [ 0.0652328 ],\n",
              "       [-0.27752603],\n",
              "       [-0.27752603],\n",
              "       [-0.27752603],\n",
              "       [ 0.0652328 ],\n",
              "       [ 0.0652328 ],\n",
              "       [ 0.0652328 ],\n",
              "       [ 0.0652328 ],\n",
              "       [-0.62028486],\n",
              "       [-0.96304369],\n",
              "       [-0.62028486],\n",
              "       [-0.62028486],\n",
              "       [ 0.40799163],\n",
              "       [-0.62028486],\n",
              "       [ 0.75075046],\n",
              "       [ 0.0652328 ],\n",
              "       [ 0.40799163],\n",
              "       [ 0.75075046],\n",
              "       [-0.27752603],\n",
              "       [ 0.40799163],\n",
              "       [ 0.40799163],\n",
              "       [ 1.09350929],\n",
              "       [-0.62028486],\n",
              "       [ 1.43626811],\n",
              "       [-0.27752603],\n",
              "       [-0.62028486],\n",
              "       [-0.27752603],\n",
              "       [-0.27752603],\n",
              "       [ 0.40799163],\n",
              "       [ 0.0652328 ],\n",
              "       [ 0.0652328 ],\n",
              "       [-0.10614662],\n",
              "       [-0.27752603],\n",
              "       [-0.27752603],\n",
              "       [ 0.40799163],\n",
              "       [ 0.0652328 ],\n",
              "       [ 0.75075046],\n",
              "       [ 0.40799163],\n",
              "       [ 0.40799163],\n",
              "       [-0.27752603],\n",
              "       [ 0.75075046],\n",
              "       [ 0.75075046],\n",
              "       [ 0.40799163],\n",
              "       [ 0.40799163],\n",
              "       [-0.62028486],\n",
              "       [ 2.12178577],\n",
              "       [ 0.0652328 ],\n",
              "       [-0.44890545],\n",
              "       [-0.27752603],\n",
              "       [-0.27752603],\n",
              "       [ 1.77902694],\n",
              "       [ 0.0652328 ],\n",
              "       [ 0.0652328 ],\n",
              "       [ 1.43626811],\n",
              "       [ 0.0652328 ],\n",
              "       [-0.27752603],\n",
              "       [ 0.0652328 ],\n",
              "       [-0.27752603],\n",
              "       [ 0.40799163],\n",
              "       [ 1.09350929],\n",
              "       [ 0.0652328 ],\n",
              "       [ 1.09350929],\n",
              "       [-0.27752603],\n",
              "       [ 0.75075046],\n",
              "       [ 0.0652328 ],\n",
              "       [ 0.0652328 ],\n",
              "       [-0.62028486],\n",
              "       [-0.27752603],\n",
              "       [-0.27752603],\n",
              "       [ 0.0652328 ],\n",
              "       [ 0.0652328 ],\n",
              "       [ 0.40799163],\n",
              "       [ 0.40799163],\n",
              "       [ 0.0652328 ],\n",
              "       [-0.27752603],\n",
              "       [ 0.0652328 ],\n",
              "       [ 0.40799163],\n",
              "       [ 1.09350929],\n",
              "       [ 0.0652328 ],\n",
              "       [ 0.0652328 ],\n",
              "       [ 1.43626811],\n",
              "       [ 0.75075046],\n",
              "       [ 0.75075046],\n",
              "       [ 0.75075046],\n",
              "       [ 0.0652328 ],\n",
              "       [ 0.0652328 ],\n",
              "       [ 0.75075046],\n",
              "       [ 0.40799163],\n",
              "       [ 1.43626811],\n",
              "       [-0.62028486],\n",
              "       [ 0.75075046],\n",
              "       [-0.27752603],\n",
              "       [-0.27752603],\n",
              "       [ 0.40799163],\n",
              "       [ 0.40799163],\n",
              "       [ 1.43626811],\n",
              "       [-0.44890545],\n",
              "       [-0.62028486],\n",
              "       [-0.62028486],\n",
              "       [-0.62028486],\n",
              "       [ 0.0652328 ],\n",
              "       [-0.62028486],\n",
              "       [-0.62028486],\n",
              "       [ 0.0652328 ],\n",
              "       [-0.96304369],\n",
              "       [-0.96304369],\n",
              "       [ 2.80730343],\n",
              "       [ 2.80730343],\n",
              "       [ 2.12178577],\n",
              "       [ 0.0652328 ],\n",
              "       [ 0.0652328 ],\n",
              "       [ 0.40799163],\n",
              "       [ 0.40799163],\n",
              "       [ 0.75075046],\n",
              "       [ 0.40799163],\n",
              "       [-0.10614662],\n",
              "       [-0.27752603],\n",
              "       [ 0.0652328 ],\n",
              "       [-0.27752603],\n",
              "       [-0.20897426],\n",
              "       [-0.27752603],\n",
              "       [-0.27752603],\n",
              "       [ 1.43626811],\n",
              "       [-0.62028486],\n",
              "       [ 0.0652328 ],\n",
              "       [ 0.0652328 ],\n",
              "       [ 0.0652328 ],\n",
              "       [-0.27752603],\n",
              "       [ 1.43626811],\n",
              "       [-0.62028486],\n",
              "       [-0.62028486],\n",
              "       [-0.62028486],\n",
              "       [-0.27752603],\n",
              "       [-0.62028486],\n",
              "       [ 0.75075046],\n",
              "       [ 0.40799163],\n",
              "       [ 0.75075046],\n",
              "       [ 0.75075046],\n",
              "       [ 0.40799163],\n",
              "       [ 0.0652328 ],\n",
              "       [ 3.15006226],\n",
              "       [ 0.40799163],\n",
              "       [ 0.40799163],\n",
              "       [-0.62028486],\n",
              "       [ 0.0652328 ],\n",
              "       [-0.62028486],\n",
              "       [-0.62028486],\n",
              "       [-0.62028486],\n",
              "       [-0.27752603],\n",
              "       [ 0.40799163],\n",
              "       [ 0.40799163],\n",
              "       [ 0.40799163],\n",
              "       [ 2.12178577],\n",
              "       [ 0.75075046],\n",
              "       [ 0.75075046],\n",
              "       [ 0.0652328 ],\n",
              "       [-0.27752603],\n",
              "       [-0.27752603],\n",
              "       [-0.27752603],\n",
              "       [-0.62028486],\n",
              "       [ 0.0652328 ],\n",
              "       [-0.27752603],\n",
              "       [ 0.40799163],\n",
              "       [ 0.23661221],\n",
              "       [ 0.75075046],\n",
              "       [ 0.75075046],\n",
              "       [ 2.80730343],\n",
              "       [ 0.0652328 ],\n",
              "       [ 0.23661221],\n",
              "       [-0.27752603],\n",
              "       [-0.27752603],\n",
              "       [ 1.09350929],\n",
              "       [ 1.43626811],\n",
              "       [ 0.40799163],\n",
              "       [ 0.0652328 ],\n",
              "       [-0.27752603],\n",
              "       [ 0.0652328 ],\n",
              "       [-0.27752603],\n",
              "       [ 0.23661221]])"
            ]
          },
          "metadata": {},
          "execution_count": 160
        }
      ]
    },
    {
      "cell_type": "code",
      "source": [
        "# fit model\n",
        "history = model.fit(trainX, trainy, validation_data=(testX, testy), epochs=100, verbose=0)\n",
        "# evaluate the model\n",
        "train_mse = model.evaluate(trainX, trainy, verbose=0)\n",
        "test_mse = model.evaluate(testX, testy, verbose=0)\n",
        "print('Train: %.3f, Test: %.3f' % (train_mse, test_mse))"
      ],
      "metadata": {
        "colab": {
          "base_uri": "https://localhost:8080/"
        },
        "id": "V13iCG6iozUd",
        "outputId": "c6367340-e831-43d0-8f8c-ac4b0abf4882"
      },
      "execution_count": null,
      "outputs": [
        {
          "output_type": "stream",
          "name": "stdout",
          "text": [
            "Train: 4310.841, Test: 6117.738\n"
          ]
        }
      ]
    },
    {
      "cell_type": "code",
      "source": [
        "scores = model.evaluate(trainX, trainy, verbose=0)\n",
        "scores"
      ],
      "metadata": {
        "colab": {
          "base_uri": "https://localhost:8080/"
        },
        "id": "A7GP2-ky4Mun",
        "outputId": "d419b1f8-a7c0-4f14-dbe8-0fe0105c0244"
      },
      "execution_count": null,
      "outputs": [
        {
          "output_type": "execute_result",
          "data": {
            "text/plain": [
              "4310.84130859375"
            ]
          },
          "metadata": {},
          "execution_count": 162
        }
      ]
    },
    {
      "cell_type": "code",
      "source": [
        "print(model.metrics_names)"
      ],
      "metadata": {
        "colab": {
          "base_uri": "https://localhost:8080/"
        },
        "id": "SSuAI3Ed4cgd",
        "outputId": "b8e4d53f-9061-4624-defe-beed4b133daf"
      },
      "execution_count": null,
      "outputs": [
        {
          "output_type": "stream",
          "name": "stdout",
          "text": [
            "['loss']\n"
          ]
        }
      ]
    },
    {
      "cell_type": "code",
      "source": [
        "# plot loss during training\n",
        "pyplot.title('Loss / Mean Squared Error')\n",
        "pyplot.plot(history.history['loss'], label='train')\n",
        "pyplot.plot(history.history['val_loss'], label='test')\n",
        "pyplot.legend()\n",
        "pyplot.show()"
      ],
      "metadata": {
        "colab": {
          "base_uri": "https://localhost:8080/",
          "height": 281
        },
        "id": "c6kh9Dg89SaH",
        "outputId": "7a107204-934b-43ef-aed9-71a14d40f15b"
      },
      "execution_count": null,
      "outputs": [
        {
          "output_type": "display_data",
          "data": {
            "text/plain": [
              "<Figure size 432x288 with 1 Axes>"
            ],
            "image/png": "[encoded data removed]"
          },
          "metadata": {
            "needs_background": "light"
          }
        }
      ]
    },
    {
      "cell_type": "markdown",
      "source": [
        "So first no scaling done at all. Then we scaled only target thats y.\n",
        "Now lets scale Predictors thats X also. So now both X and y is scaled."
      ],
      "metadata": {
        "id": "6tbJ6o5C_Riu"
      }
    },
    {
      "cell_type": "code",
      "source": [
        "# created scaler for only X predictors\n",
        "input_scaler = StandardScaler()\n",
        "# fit scaler on training dataset\n",
        "# fit scaler\n",
        "input_scaler.fit(trainX)\n",
        "# transform training dataset\n",
        "trainX = input_scaler.transform(trainX)\n",
        "# transform test dataset\n",
        "testX = input_scaler.transform(testX)"
      ],
      "metadata": {
        "id": "raSRTZCN-OaC"
      },
      "execution_count": null,
      "outputs": []
    },
    {
      "cell_type": "code",
      "source": [
        "# fit model\n",
        "history_scaled_ip_op = model.fit(trainX, trainy, validation_data=(testX, testy), epochs=100, verbose=0)\n",
        "# evaluate the model\n",
        "train_mse = model.evaluate(trainX, trainy, verbose=0)\n",
        "test_mse = model.evaluate(testX, testy, verbose=0)\n",
        "print('Train: %.3f, Test: %.3f' % (train_mse, test_mse))"
      ],
      "metadata": {
        "colab": {
          "base_uri": "https://localhost:8080/"
        },
        "id": "jOQ03TsL-Oc1",
        "outputId": "9596acca-dbdf-48f7-f192-9cf35a3e1787"
      },
      "execution_count": null,
      "outputs": [
        {
          "output_type": "stream",
          "name": "stdout",
          "text": [
            "Train: 0.790, Test: 7.451\n"
          ]
        }
      ]
    },
    {
      "cell_type": "code",
      "source": [
        "trainX.view()"
      ],
      "metadata": {
        "colab": {
          "base_uri": "https://localhost:8080/"
        },
        "id": "raBDx-fX-Of0",
        "outputId": "bf1eb7e7-1dca-4f38-f2f7-7378a00e8230"
      },
      "execution_count": null,
      "outputs": [
        {
          "output_type": "execute_result",
          "data": {
            "text/plain": [
              "array([[-1.82440656,  0.58437134,  0.19860015, ...,  0.31775113,\n",
              "         0.15023232, -4.22005476],\n",
              "       [-0.90892455,  0.72039435,  0.13503184, ...,  0.37045466,\n",
              "         0.18941687, -4.22005476],\n",
              "       [-1.13779505,  0.72418687,  0.06256897, ...,  0.3352423 ,\n",
              "         0.16857972, -4.22005476],\n",
              "       ...,\n",
              "       [-0.22231304,  1.42753823,  0.42466614, ...,  0.7478497 ,\n",
              "         0.11216259, -4.22005476],\n",
              "       [-0.45118354,  1.44812736,  0.42684557, ...,  0.71444178,\n",
              "         0.10719051, -4.22005476],\n",
              "       [-0.45118354,  1.43442713,  0.39370575, ...,  0.71854973,\n",
              "         0.12139079, -4.22005476]])"
            ]
          },
          "metadata": {},
          "execution_count": 174
        }
      ]
    },
    {
      "cell_type": "code",
      "source": [
        "input_scaler.inverse_transform(trainX)"
      ],
      "metadata": {
        "colab": {
          "base_uri": "https://localhost:8080/"
        },
        "id": "tLQAHjKq-OiW",
        "outputId": "0d7f80bf-5ca4-43ef-a0a6-c737efa8f9aa"
      },
      "execution_count": null,
      "outputs": [
        {
          "output_type": "execute_result",
          "data": {
            "text/plain": [
              "array([[1.00000000e+03, 7.24824395e+04, 2.88485914e+02, ...,\n",
              "        2.18053884e+01, 1.86667582e+01, 0.00000000e+00],\n",
              "       [1.40000000e+03, 7.55886912e+04, 2.86406314e+02, ...,\n",
              "        2.19346716e+01, 1.87472076e+01, 0.00000000e+00],\n",
              "       [1.30000000e+03, 7.56752979e+04, 2.84035734e+02, ...,\n",
              "        2.18482947e+01, 1.87044271e+01, 0.00000000e+00],\n",
              "       ...,\n",
              "       [1.70000000e+03, 9.17371855e+04, 2.95881531e+02, ...,\n",
              "        2.28604321e+01, 1.85885976e+01, 0.00000000e+00],\n",
              "       [1.60000000e+03, 9.22073633e+04, 2.95952830e+02, ...,\n",
              "        2.27784815e+01, 1.85783895e+01, 0.00000000e+00],\n",
              "       [1.60000000e+03, 9.18945019e+04, 2.94868680e+02, ...,\n",
              "        2.27885584e+01, 1.86075440e+01, 0.00000000e+00]])"
            ]
          },
          "metadata": {},
          "execution_count": 175
        }
      ]
    },
    {
      "cell_type": "code",
      "source": [
        "testX.view()"
      ],
      "metadata": {
        "colab": {
          "base_uri": "https://localhost:8080/"
        },
        "id": "hOJwTeDu-Okl",
        "outputId": "b734909e-5b16-4f07-ec34-13d66ff86966"
      },
      "execution_count": null,
      "outputs": [
        {
          "output_type": "execute_result",
          "data": {
            "text/plain": [
              "array([[ 1.15090998,  1.43619098,  0.36547055, ...,  0.69458799,\n",
              "         0.11612886, -4.22005476],\n",
              "       [-0.22231304,  1.44892871,  0.3871206 , ...,  0.73733087,\n",
              "         0.13901975, -4.22005476],\n",
              "       [ 0.92203947,  1.43561116,  0.3786829 , ...,  0.64187577,\n",
              "         0.10892467, -4.22005476],\n",
              "       ...,\n",
              "       [-1.36666555,  0.0563918 , -0.36454385, ...,  0.00603575,\n",
              "         0.12344205,  0.16443284],\n",
              "       [-1.13779505,  0.25108123, -0.36249281, ...,  0.0807327 ,\n",
              "         0.11915125,  0.19741943],\n",
              "       [-1.36666555,  0.72445903, -0.36462077, ...,  0.42562053,\n",
              "         0.11313372,  0.27184167]])"
            ]
          },
          "metadata": {},
          "execution_count": 176
        }
      ]
    },
    {
      "cell_type": "code",
      "source": [
        "testX_reversed = input_scaler.inverse_transform(testX)"
      ],
      "metadata": {
        "id": "hEAcEsz7-Om9"
      },
      "execution_count": null,
      "outputs": []
    },
    {
      "cell_type": "code",
      "source": [
        "testX.view()"
      ],
      "metadata": {
        "colab": {
          "base_uri": "https://localhost:8080/"
        },
        "id": "hPujwW63A81x",
        "outputId": "db74b8f6-61c0-42ef-c770-2acf4397fa74"
      },
      "execution_count": null,
      "outputs": [
        {
          "output_type": "execute_result",
          "data": {
            "text/plain": [
              "array([[ 1.15090998,  1.43619098,  0.36547055, ...,  0.69458799,\n",
              "         0.11612886, -4.22005476],\n",
              "       [-0.22231304,  1.44892871,  0.3871206 , ...,  0.73733087,\n",
              "         0.13901975, -4.22005476],\n",
              "       [ 0.92203947,  1.43561116,  0.3786829 , ...,  0.64187577,\n",
              "         0.10892467, -4.22005476],\n",
              "       ...,\n",
              "       [-1.36666555,  0.0563918 , -0.36454385, ...,  0.00603575,\n",
              "         0.12344205,  0.16443284],\n",
              "       [-1.13779505,  0.25108123, -0.36249281, ...,  0.0807327 ,\n",
              "         0.11915125,  0.19741943],\n",
              "       [-1.36666555,  0.72445903, -0.36462077, ...,  0.42562053,\n",
              "         0.11313372,  0.27184167]])"
            ]
          },
          "metadata": {},
          "execution_count": 178
        }
      ]
    },
    {
      "cell_type": "code",
      "source": [
        "testX_reversed.view()"
      ],
      "metadata": {
        "colab": {
          "base_uri": "https://localhost:8080/"
        },
        "id": "s1UXSdJMBITk",
        "outputId": "37a6dc0c-498d-4cb4-b6f8-a65ee8ca37dd"
      },
      "execution_count": null,
      "outputs": [
        {
          "output_type": "execute_result",
          "data": {
            "text/plain": [
              "array([[2.30000000e+03, 9.19347816e+04, 2.93944982e+02, ...,\n",
              "        2.27297796e+01, 1.85967407e+01, 0.00000000e+00],\n",
              "       [1.70000000e+03, 9.22256631e+04, 2.94653251e+02, ...,\n",
              "        2.28346291e+01, 1.86437378e+01, 0.00000000e+00],\n",
              "       [2.20000000e+03, 9.19215408e+04, 2.94377216e+02, ...,\n",
              "        2.26004751e+01, 1.85819499e+01, 0.00000000e+00],\n",
              "       ...,\n",
              "       [1.20000000e+03, 6.04253819e+04, 2.70062989e+02, ...,\n",
              "        2.10407419e+01, 1.86117554e+01, 6.93730737e+02],\n",
              "       [1.30000000e+03, 6.48713527e+04, 2.70130087e+02, ...,\n",
              "        2.12239756e+01, 1.86029460e+01, 6.98950006e+02],\n",
              "       [1.20000000e+03, 7.56815130e+04, 2.70060472e+02, ...,\n",
              "        2.20699950e+01, 1.85905914e+01, 7.10725383e+02]])"
            ]
          },
          "metadata": {},
          "execution_count": 180
        }
      ]
    },
    {
      "cell_type": "code",
      "source": [
        "# split into train and test ==> Not using train_test_split which is vertical split. Instead going for HORIZONTAL split\n",
        "n_train = 568\n",
        "trainX, testX = X.iloc[:n_train, :], X.iloc[n_train:, :]\n",
        "#trainX = X.iloc[:n_train, :]\n",
        "trainy, testy = y.iloc[:n_train], y.iloc[n_train:]"
      ],
      "metadata": {
        "id": "bi3BWCiTBase"
      },
      "execution_count": null,
      "outputs": []
    },
    {
      "cell_type": "code",
      "source": [
        "trainX"
      ],
      "metadata": {
        "colab": {
          "base_uri": "https://localhost:8080/",
          "height": 536
        },
        "id": "dmG1SsCmBdap",
        "outputId": "ffdd6df0-d856-4820-d20e-2d17b7b3ce89"
      },
      "execution_count": null,
      "outputs": [
        {
          "output_type": "execute_result",
          "data": {
            "text/plain": [
              "     LABfeed Sulphur  T1 : FRESH FEED FLOW TO KHDS KGPerHour  \\\n",
              "0             1000.0                             72482.43948   \n",
              "1             1400.0                             75588.69117   \n",
              "2             1300.0                             75675.29792   \n",
              "3             1500.0                             46269.02109   \n",
              "4             1400.0                             45394.43555   \n",
              "..               ...                                     ...   \n",
              "563           2000.0                             91905.65938   \n",
              "564           1600.0                             91530.30352   \n",
              "565           1700.0                             91737.18555   \n",
              "566           1600.0                             92207.36333   \n",
              "567           1600.0                             91894.50188   \n",
              "\n",
              "     T1 : Reactor inlet temperature DEGC  \\\n",
              "0                             288.485914   \n",
              "1                             286.406314   \n",
              "2                             284.035734   \n",
              "3                             276.210773   \n",
              "4                             276.126803   \n",
              "..                                   ...   \n",
              "563                           295.949350   \n",
              "564                           296.004048   \n",
              "565                           295.881531   \n",
              "566                           295.952830   \n",
              "567                           294.868680   \n",
              "\n",
              "     T1 : Hydrogen make-up flow NM3perHour  \\\n",
              "0                               685.146132   \n",
              "1                               571.248477   \n",
              "2                               564.716667   \n",
              "3                               371.162782   \n",
              "4                               296.835800   \n",
              "..                                     ...   \n",
              "563                             885.404846   \n",
              "564                             822.318153   \n",
              "565                             817.320867   \n",
              "566                             888.139270   \n",
              "567                             872.069841   \n",
              "\n",
              "     T1 : Recycle hydrogen flow NM3perHour  T1 : REACTOR OUTLET Temp DEGC  \\\n",
              "0                              11114.58673                     288.637635   \n",
              "1                              11259.14433                     286.921575   \n",
              "2                              10668.45313                     284.140627   \n",
              "3                              14497.57829                     276.808471   \n",
              "4                              14606.11231                     276.776767   \n",
              "..                                     ...                            ...   \n",
              "563                            15377.05508                     297.384451   \n",
              "564                            15179.00382                     296.653305   \n",
              "565                            15146.88621                     296.659057   \n",
              "566                            15159.32264                     297.286691   \n",
              "567                            15235.35575                     296.370463   \n",
              "\n",
              "     T1 : REACTOR FEED INLET Pressure KGperCM2  \\\n",
              "0                                    21.927602   \n",
              "1                                    21.911739   \n",
              "2                                    21.900282   \n",
              "3                                    21.747162   \n",
              "4                                    21.560785   \n",
              "..                                         ...   \n",
              "563                                  22.895849   \n",
              "564                                  22.822175   \n",
              "565                                  22.833489   \n",
              "566                                  22.827162   \n",
              "567                                  22.813994   \n",
              "\n",
              "     T1 : Cold separator pressure KGperCM2  T1 : KERO FEED DENSITY KGperCM2  \\\n",
              "0                                18.775248                              0.0   \n",
              "1                                18.702087                              0.0   \n",
              "2                                18.734029                              0.0   \n",
              "3                                19.528809                              0.0   \n",
              "4                                19.492783                              0.0   \n",
              "..                                     ...                              ...   \n",
              "563                              18.639679                              0.0   \n",
              "564                              18.603795                              0.0   \n",
              "565                              18.611506                              0.0   \n",
              "566                              18.602336                              0.0   \n",
              "567                              18.611496                              0.0   \n",
              "\n",
              "     T2 : FRESH FEED FLOW TO KHDS KGPerHour  \\\n",
              "0                               72337.37151   \n",
              "1                               75746.39266   \n",
              "2                               75628.86875   \n",
              "3                               46001.59297   \n",
              "4                               45231.54465   \n",
              "..                                      ...   \n",
              "563                             91840.47500   \n",
              "564                             91695.17177   \n",
              "565                             91849.57724   \n",
              "566                             92462.57896   \n",
              "567                             91600.71367   \n",
              "\n",
              "     T2 : Reactor inlet temperature DEGC  \\\n",
              "0                             287.651367   \n",
              "1                             286.441067   \n",
              "2                             284.037801   \n",
              "3                             276.116185   \n",
              "4                             276.010997   \n",
              "..                                   ...   \n",
              "563                           295.596237   \n",
              "564                           295.948301   \n",
              "565                           296.089355   \n",
              "566                           295.873882   \n",
              "567                           294.917026   \n",
              "\n",
              "     T2 : Hydrogen make-up flow NM3perHour  \\\n",
              "0                               740.221182   \n",
              "1                               549.330129   \n",
              "2                               582.175509   \n",
              "3                               527.354706   \n",
              "4                               441.971037   \n",
              "..                                     ...   \n",
              "563                             848.345459   \n",
              "564                             819.536300   \n",
              "565                             815.770183   \n",
              "566                             841.548473   \n",
              "567                             868.293728   \n",
              "\n",
              "     T2 : Recycle hydrogen flow NM3perHour  T2 : REACTOR OUTLET Temp DEGC  \\\n",
              "0                              11041.21585                     288.761036   \n",
              "1                              11228.98135                     286.630241   \n",
              "2                              10721.20293                     284.517944   \n",
              "3                              14646.65260                     277.295914   \n",
              "4                              14684.18629                     276.807028   \n",
              "..                                     ...                            ...   \n",
              "563                            15276.79541                     296.221048   \n",
              "564                            15162.12464                     296.605610   \n",
              "565                            15199.79468                     296.996879   \n",
              "566                            15137.34707                     297.107610   \n",
              "567                            15136.22220                     296.073666   \n",
              "\n",
              "     T2 : REACTOR FEED INLET Pressure KGperCM2  \\\n",
              "0                                    21.810156   \n",
              "1                                    21.870260   \n",
              "2                                    21.882274   \n",
              "3                                    21.531470   \n",
              "4                                    21.579045   \n",
              "..                                         ...   \n",
              "563                                  22.806128   \n",
              "564                                  22.836395   \n",
              "565                                  22.837127   \n",
              "566                                  22.818789   \n",
              "567                                  22.811186   \n",
              "\n",
              "     T2 : Cold separator pressure KGperCM2  T2 : KERO FEED DENSITY KGperCM2  \\\n",
              "0                                18.688527                              0.0   \n",
              "1                                18.674408                              0.0   \n",
              "2                                18.724772                              0.0   \n",
              "3                                19.330088                              0.0   \n",
              "4                                19.508255                              0.0   \n",
              "..                                     ...                              ...   \n",
              "563                              18.570099                              0.0   \n",
              "564                              18.617798                              0.0   \n",
              "565                              18.604207                              0.0   \n",
              "566                              18.597066                              0.0   \n",
              "567                              18.599350                              0.0   \n",
              "\n",
              "     T3 : FRESH FEED FLOW TO KHDS KGPerHour  \\\n",
              "0                               72376.86708   \n",
              "1                               75963.37102   \n",
              "2                               75646.63073   \n",
              "3                               46411.94089   \n",
              "4                               45301.01027   \n",
              "..                                      ...   \n",
              "563                             91829.15625   \n",
              "564                             91490.51747   \n",
              "565                             92135.43240   \n",
              "566                             92279.32917   \n",
              "567                             91597.65883   \n",
              "\n",
              "     T3 : Reactor inlet temperature DEGC  \\\n",
              "0                             287.823835   \n",
              "1                             286.687275   \n",
              "2                             283.697494   \n",
              "3                             275.763115   \n",
              "4                             276.366341   \n",
              "..                                   ...   \n",
              "563                           296.212811   \n",
              "564                           296.344612   \n",
              "565                           295.952126   \n",
              "566                           296.052909   \n",
              "567                           295.019690   \n",
              "\n",
              "     T3 : Hydrogen make-up flow NM3perHour  \\\n",
              "0                               660.058960   \n",
              "1                               617.336266   \n",
              "2                               559.376522   \n",
              "3                               258.167509   \n",
              "4                               365.445542   \n",
              "..                                     ...   \n",
              "563                             862.674194   \n",
              "564                             872.179856   \n",
              "565                             833.973095   \n",
              "566                             820.129946   \n",
              "567                             838.857569   \n",
              "\n",
              "     T3 : Recycle hydrogen flow NM3perHour  T3 : REACTOR OUTLET Temp DEGC  \\\n",
              "0                              11072.44088                     287.738775   \n",
              "1                              11004.25626                     286.128780   \n",
              "2                              10763.02799                     284.325244   \n",
              "3                              14658.63428                     277.148141   \n",
              "4                              14693.11828                     276.877170   \n",
              "..                                     ...                            ...   \n",
              "563                            15254.75469                     296.491504   \n",
              "564                            15073.39775                     296.642679   \n",
              "565                            15197.61837                     296.783794   \n",
              "566                            15061.26516                     296.952242   \n",
              "567                            15115.33475                     295.770767   \n",
              "\n",
              "     T3 : REACTOR FEED INLET Pressure KGperCM2  \\\n",
              "0                                    21.813427   \n",
              "1                                    21.711249   \n",
              "2                                    21.813410   \n",
              "3                                    21.664635   \n",
              "4                                    21.526057   \n",
              "..                                         ...   \n",
              "563                                  22.820269   \n",
              "564                                  22.786928   \n",
              "565                                  22.850480   \n",
              "566                                  22.834499   \n",
              "567                                  22.816768   \n",
              "\n",
              "     T3 : Cold separator pressure KGperCM2  T3 : KERO FEED DENSITY KGperCM2  \\\n",
              "0                                18.693064                              0.0   \n",
              "1                                18.533493                              0.0   \n",
              "2                                18.677979                              0.0   \n",
              "3                                19.450734                              0.0   \n",
              "4                                19.478851                              0.0   \n",
              "..                                     ...                              ...   \n",
              "563                              18.596039                              0.0   \n",
              "564                              18.603633                              0.0   \n",
              "565                              18.592662                              0.0   \n",
              "566                              18.618123                              0.0   \n",
              "567                              18.606979                              0.0   \n",
              "\n",
              "     T4 : FRESH FEED FLOW TO KHDS KGPerHour  \\\n",
              "0                               72353.77432   \n",
              "1                               75918.19844   \n",
              "2                               76002.57969   \n",
              "3                               46176.64115   \n",
              "4                               45265.78914   \n",
              "..                                      ...   \n",
              "563                             92316.08984   \n",
              "564                             91593.75781   \n",
              "565                             91790.22010   \n",
              "566                             92036.61792   \n",
              "567                             92151.14000   \n",
              "\n",
              "     T4 : Reactor inlet temperature DEGC  \\\n",
              "0                             287.978641   \n",
              "1                             287.134693   \n",
              "2                             284.800492   \n",
              "3                             275.822623   \n",
              "4                             276.090728   \n",
              "..                                   ...   \n",
              "563                           296.152722   \n",
              "564                           295.789801   \n",
              "565                           296.074087   \n",
              "566                           295.966523   \n",
              "567                           295.059367   \n",
              "\n",
              "     T4 : Hydrogen make-up flow NM3perHour  \\\n",
              "0                               614.163076   \n",
              "1                               464.921691   \n",
              "2                               580.681543   \n",
              "3                               565.165267   \n",
              "4                               409.074912   \n",
              "..                                     ...   \n",
              "563                             936.822864   \n",
              "564                             826.651705   \n",
              "565                             819.362151   \n",
              "566                             864.576813   \n",
              "567                             876.641655   \n",
              "\n",
              "     T4 : Recycle hydrogen flow NM3perHour  T4 : REACTOR OUTLET Temp DEGC  \\\n",
              "0                              11226.93106                     288.712160   \n",
              "1                              11066.97566                     286.615329   \n",
              "2                              10701.71289                     284.840621   \n",
              "3                              14783.88027                     276.540142   \n",
              "4                              14675.20297                     277.132889   \n",
              "..                                     ...                            ...   \n",
              "563                            15183.76543                     296.805450   \n",
              "564                            15128.34661                     297.344292   \n",
              "565                            15208.21052                     296.041928   \n",
              "566                            15088.96703                     296.887573   \n",
              "567                            15059.26399                     295.779565   \n",
              "\n",
              "     T4 : REACTOR FEED INLET Pressure KGperCM2  \\\n",
              "0                                    21.805388   \n",
              "1                                    21.934672   \n",
              "2                                    21.848295   \n",
              "3                                    21.547435   \n",
              "4                                    21.597432   \n",
              "..                                         ...   \n",
              "563                                  22.760737   \n",
              "564                                  22.808510   \n",
              "565                                  22.860432   \n",
              "566                                  22.778482   \n",
              "567                                  22.788558   \n",
              "\n",
              "     T4 : Cold separator pressure KGperCM2  T4 : KERO FEED DENSITY KGperCM2  \n",
              "0                                18.666758                              0.0  \n",
              "1                                18.747208                              0.0  \n",
              "2                                18.704427                              0.0  \n",
              "3                                19.357554                              0.0  \n",
              "4                                19.496689                              0.0  \n",
              "..                                     ...                              ...  \n",
              "563                              18.586426                              0.0  \n",
              "564                              18.607930                              0.0  \n",
              "565                              18.588598                              0.0  \n",
              "566                              18.578389                              0.0  \n",
              "567                              18.607544                              0.0  \n",
              "\n",
              "[568 rows x 33 columns]"
            ],
            "text/html": [
              "\n",
              "  <div id=\"df-661e848e-8e87-40ef-8d39-f9401ff5306d\">\n",
              "    <div class=\"colab-df-container\">\n",
              "      <div>\n",
              "<style scoped>\n",
              "    .dataframe tbody tr th:only-of-type {\n",
              "        vertical-align: middle;\n",
              "    }\n",
              "\n",
              "    .dataframe tbody tr th {\n",
              "        vertical-align: top;\n",
              "    }\n",
              "\n",
              "    .dataframe thead th {\n",
              "        text-align: right;\n",
              "    }\n",
              "</style>\n",
              "<table border=\"1\" class=\"dataframe\">\n",
              "  <thead>\n",
              "    <tr style=\"text-align: right;\">\n",
              "      <th></th>\n",
              "      <th>LABfeed Sulphur</th>\n",
              "      <th>T1 : FRESH FEED FLOW TO KHDS KGPerHour</th>\n",
              "      <th>T1 : Reactor inlet temperature DEGC</th>\n",
              "      <th>T1 : Hydrogen make-up flow NM3perHour</th>\n",
              "      <th>T1 : Recycle hydrogen flow NM3perHour</th>\n",
              "      <th>T1 : REACTOR OUTLET Temp DEGC</th>\n",
              "      <th>T1 : REACTOR FEED INLET Pressure KGperCM2</th>\n",
              "      <th>T1 : Cold separator pressure KGperCM2</th>\n",
              "      <th>T1 : KERO FEED DENSITY KGperCM2</th>\n",
              "      <th>T2 : FRESH FEED FLOW TO KHDS KGPerHour</th>\n",
              "      <th>T2 : Reactor inlet temperature DEGC</th>\n",
              "      <th>T2 : Hydrogen make-up flow NM3perHour</th>\n",
              "      <th>T2 : Recycle hydrogen flow NM3perHour</th>\n",
              "      <th>T2 : REACTOR OUTLET Temp DEGC</th>\n",
              "      <th>T2 : REACTOR FEED INLET Pressure KGperCM2</th>\n",
              "      <th>T2 : Cold separator pressure KGperCM2</th>\n",
              "      <th>T2 : KERO FEED DENSITY KGperCM2</th>\n",
              "      <th>T3 : FRESH FEED FLOW TO KHDS KGPerHour</th>\n",
              "      <th>T3 : Reactor inlet temperature DEGC</th>\n",
              "      <th>T3 : Hydrogen make-up flow NM3perHour</th>\n",
              "      <th>T3 : Recycle hydrogen flow NM3perHour</th>\n",
              "      <th>T3 : REACTOR OUTLET Temp DEGC</th>\n",
              "      <th>T3 : REACTOR FEED INLET Pressure KGperCM2</th>\n",
              "      <th>T3 : Cold separator pressure KGperCM2</th>\n",
              "      <th>T3 : KERO FEED DENSITY KGperCM2</th>\n",
              "      <th>T4 : FRESH FEED FLOW TO KHDS KGPerHour</th>\n",
              "      <th>T4 : Reactor inlet temperature DEGC</th>\n",
              "      <th>T4 : Hydrogen make-up flow NM3perHour</th>\n",
              "      <th>T4 : Recycle hydrogen flow NM3perHour</th>\n",
              "      <th>T4 : REACTOR OUTLET Temp DEGC</th>\n",
              "      <th>T4 : REACTOR FEED INLET Pressure KGperCM2</th>\n",
              "      <th>T4 : Cold separator pressure KGperCM2</th>\n",
              "      <th>T4 : KERO FEED DENSITY KGperCM2</th>\n",
              "    </tr>\n",
              "  </thead>\n",
              "  <tbody>\n",
              "    <tr>\n",
              "      <th>0</th>\n",
              "      <td>1000.0</td>\n",
              "      <td>72482.43948</td>\n",
              "      <td>288.485914</td>\n",
              "      <td>685.146132</td>\n",
              "      <td>11114.58673</td>\n",
              "      <td>288.637635</td>\n",
              "      <td>21.927602</td>\n",
              "      <td>18.775248</td>\n",
              "      <td>0.0</td>\n",
              "      <td>72337.37151</td>\n",
              "      <td>287.651367</td>\n",
              "      <td>740.221182</td>\n",
              "      <td>11041.21585</td>\n",
              "      <td>288.761036</td>\n",
              "      <td>21.810156</td>\n",
              "      <td>18.688527</td>\n",
              "      <td>0.0</td>\n",
              "      <td>72376.86708</td>\n",
              "      <td>287.823835</td>\n",
              "      <td>660.058960</td>\n",
              "      <td>11072.44088</td>\n",
              "      <td>287.738775</td>\n",
              "      <td>21.813427</td>\n",
              "      <td>18.693064</td>\n",
              "      <td>0.0</td>\n",
              "      <td>72353.77432</td>\n",
              "      <td>287.978641</td>\n",
              "      <td>614.163076</td>\n",
              "      <td>11226.93106</td>\n",
              "      <td>288.712160</td>\n",
              "      <td>21.805388</td>\n",
              "      <td>18.666758</td>\n",
              "      <td>0.0</td>\n",
              "    </tr>\n",
              "    <tr>\n",
              "      <th>1</th>\n",
              "      <td>1400.0</td>\n",
              "      <td>75588.69117</td>\n",
              "      <td>286.406314</td>\n",
              "      <td>571.248477</td>\n",
              "      <td>11259.14433</td>\n",
              "      <td>286.921575</td>\n",
              "      <td>21.911739</td>\n",
              "      <td>18.702087</td>\n",
              "      <td>0.0</td>\n",
              "      <td>75746.39266</td>\n",
              "      <td>286.441067</td>\n",
              "      <td>549.330129</td>\n",
              "      <td>11228.98135</td>\n",
              "      <td>286.630241</td>\n",
              "      <td>21.870260</td>\n",
              "      <td>18.674408</td>\n",
              "      <td>0.0</td>\n",
              "      <td>75963.37102</td>\n",
              "      <td>286.687275</td>\n",
              "      <td>617.336266</td>\n",
              "      <td>11004.25626</td>\n",
              "      <td>286.128780</td>\n",
              "      <td>21.711249</td>\n",
              "      <td>18.533493</td>\n",
              "      <td>0.0</td>\n",
              "      <td>75918.19844</td>\n",
              "      <td>287.134693</td>\n",
              "      <td>464.921691</td>\n",
              "      <td>11066.97566</td>\n",
              "      <td>286.615329</td>\n",
              "      <td>21.934672</td>\n",
              "      <td>18.747208</td>\n",
              "      <td>0.0</td>\n",
              "    </tr>\n",
              "    <tr>\n",
              "      <th>2</th>\n",
              "      <td>1300.0</td>\n",
              "      <td>75675.29792</td>\n",
              "      <td>284.035734</td>\n",
              "      <td>564.716667</td>\n",
              "      <td>10668.45313</td>\n",
              "      <td>284.140627</td>\n",
              "      <td>21.900282</td>\n",
              "      <td>18.734029</td>\n",
              "      <td>0.0</td>\n",
              "      <td>75628.86875</td>\n",
              "      <td>284.037801</td>\n",
              "      <td>582.175509</td>\n",
              "      <td>10721.20293</td>\n",
              "      <td>284.517944</td>\n",
              "      <td>21.882274</td>\n",
              "      <td>18.724772</td>\n",
              "      <td>0.0</td>\n",
              "      <td>75646.63073</td>\n",
              "      <td>283.697494</td>\n",
              "      <td>559.376522</td>\n",
              "      <td>10763.02799</td>\n",
              "      <td>284.325244</td>\n",
              "      <td>21.813410</td>\n",
              "      <td>18.677979</td>\n",
              "      <td>0.0</td>\n",
              "      <td>76002.57969</td>\n",
              "      <td>284.800492</td>\n",
              "      <td>580.681543</td>\n",
              "      <td>10701.71289</td>\n",
              "      <td>284.840621</td>\n",
              "      <td>21.848295</td>\n",
              "      <td>18.704427</td>\n",
              "      <td>0.0</td>\n",
              "    </tr>\n",
              "    <tr>\n",
              "      <th>3</th>\n",
              "      <td>1500.0</td>\n",
              "      <td>46269.02109</td>\n",
              "      <td>276.210773</td>\n",
              "      <td>371.162782</td>\n",
              "      <td>14497.57829</td>\n",
              "      <td>276.808471</td>\n",
              "      <td>21.747162</td>\n",
              "      <td>19.528809</td>\n",
              "      <td>0.0</td>\n",
              "      <td>46001.59297</td>\n",
              "      <td>276.116185</td>\n",
              "      <td>527.354706</td>\n",
              "      <td>14646.65260</td>\n",
              "      <td>277.295914</td>\n",
              "      <td>21.531470</td>\n",
              "      <td>19.330088</td>\n",
              "      <td>0.0</td>\n",
              "      <td>46411.94089</td>\n",
              "      <td>275.763115</td>\n",
              "      <td>258.167509</td>\n",
              "      <td>14658.63428</td>\n",
              "      <td>277.148141</td>\n",
              "      <td>21.664635</td>\n",
              "      <td>19.450734</td>\n",
              "      <td>0.0</td>\n",
              "      <td>46176.64115</td>\n",
              "      <td>275.822623</td>\n",
              "      <td>565.165267</td>\n",
              "      <td>14783.88027</td>\n",
              "      <td>276.540142</td>\n",
              "      <td>21.547435</td>\n",
              "      <td>19.357554</td>\n",
              "      <td>0.0</td>\n",
              "    </tr>\n",
              "    <tr>\n",
              "      <th>4</th>\n",
              "      <td>1400.0</td>\n",
              "      <td>45394.43555</td>\n",
              "      <td>276.126803</td>\n",
              "      <td>296.835800</td>\n",
              "      <td>14606.11231</td>\n",
              "      <td>276.776767</td>\n",
              "      <td>21.560785</td>\n",
              "      <td>19.492783</td>\n",
              "      <td>0.0</td>\n",
              "      <td>45231.54465</td>\n",
              "      <td>276.010997</td>\n",
              "      <td>441.971037</td>\n",
              "      <td>14684.18629</td>\n",
              "      <td>276.807028</td>\n",
              "      <td>21.579045</td>\n",
              "      <td>19.508255</td>\n",
              "      <td>0.0</td>\n",
              "      <td>45301.01027</td>\n",
              "      <td>276.366341</td>\n",
              "      <td>365.445542</td>\n",
              "      <td>14693.11828</td>\n",
              "      <td>276.877170</td>\n",
              "      <td>21.526057</td>\n",
              "      <td>19.478851</td>\n",
              "      <td>0.0</td>\n",
              "      <td>45265.78914</td>\n",
              "      <td>276.090728</td>\n",
              "      <td>409.074912</td>\n",
              "      <td>14675.20297</td>\n",
              "      <td>277.132889</td>\n",
              "      <td>21.597432</td>\n",
              "      <td>19.496689</td>\n",
              "      <td>0.0</td>\n",
              "    </tr>\n",
              "    <tr>\n",
              "      <th>...</th>\n",
              "      <td>...</td>\n",
              "      <td>...</td>\n",
              "      <td>...</td>\n",
              "      <td>...</td>\n",
              "      <td>...</td>\n",
              "      <td>...</td>\n",
              "      <td>...</td>\n",
              "      <td>...</td>\n",
              "      <td>...</td>\n",
              "      <td>...</td>\n",
              "      <td>...</td>\n",
              "      <td>...</td>\n",
              "      <td>...</td>\n",
              "      <td>...</td>\n",
              "      <td>...</td>\n",
              "      <td>...</td>\n",
              "      <td>...</td>\n",
              "      <td>...</td>\n",
              "      <td>...</td>\n",
              "      <td>...</td>\n",
              "      <td>...</td>\n",
              "      <td>...</td>\n",
              "      <td>...</td>\n",
              "      <td>...</td>\n",
              "      <td>...</td>\n",
              "      <td>...</td>\n",
              "      <td>...</td>\n",
              "      <td>...</td>\n",
              "      <td>...</td>\n",
              "      <td>...</td>\n",
              "      <td>...</td>\n",
              "      <td>...</td>\n",
              "      <td>...</td>\n",
              "    </tr>\n",
              "    <tr>\n",
              "      <th>563</th>\n",
              "      <td>2000.0</td>\n",
              "      <td>91905.65938</td>\n",
              "      <td>295.949350</td>\n",
              "      <td>885.404846</td>\n",
              "      <td>15377.05508</td>\n",
              "      <td>297.384451</td>\n",
              "      <td>22.895849</td>\n",
              "      <td>18.639679</td>\n",
              "      <td>0.0</td>\n",
              "      <td>91840.47500</td>\n",
              "      <td>295.596237</td>\n",
              "      <td>848.345459</td>\n",
              "      <td>15276.79541</td>\n",
              "      <td>296.221048</td>\n",
              "      <td>22.806128</td>\n",
              "      <td>18.570099</td>\n",
              "      <td>0.0</td>\n",
              "      <td>91829.15625</td>\n",
              "      <td>296.212811</td>\n",
              "      <td>862.674194</td>\n",
              "      <td>15254.75469</td>\n",
              "      <td>296.491504</td>\n",
              "      <td>22.820269</td>\n",
              "      <td>18.596039</td>\n",
              "      <td>0.0</td>\n",
              "      <td>92316.08984</td>\n",
              "      <td>296.152722</td>\n",
              "      <td>936.822864</td>\n",
              "      <td>15183.76543</td>\n",
              "      <td>296.805450</td>\n",
              "      <td>22.760737</td>\n",
              "      <td>18.586426</td>\n",
              "      <td>0.0</td>\n",
              "    </tr>\n",
              "    <tr>\n",
              "      <th>564</th>\n",
              "      <td>1600.0</td>\n",
              "      <td>91530.30352</td>\n",
              "      <td>296.004048</td>\n",
              "      <td>822.318153</td>\n",
              "      <td>15179.00382</td>\n",
              "      <td>296.653305</td>\n",
              "      <td>22.822175</td>\n",
              "      <td>18.603795</td>\n",
              "      <td>0.0</td>\n",
              "      <td>91695.17177</td>\n",
              "      <td>295.948301</td>\n",
              "      <td>819.536300</td>\n",
              "      <td>15162.12464</td>\n",
              "      <td>296.605610</td>\n",
              "      <td>22.836395</td>\n",
              "      <td>18.617798</td>\n",
              "      <td>0.0</td>\n",
              "      <td>91490.51747</td>\n",
              "      <td>296.344612</td>\n",
              "      <td>872.179856</td>\n",
              "      <td>15073.39775</td>\n",
              "      <td>296.642679</td>\n",
              "      <td>22.786928</td>\n",
              "      <td>18.603633</td>\n",
              "      <td>0.0</td>\n",
              "      <td>91593.75781</td>\n",
              "      <td>295.789801</td>\n",
              "      <td>826.651705</td>\n",
              "      <td>15128.34661</td>\n",
              "      <td>297.344292</td>\n",
              "      <td>22.808510</td>\n",
              "      <td>18.607930</td>\n",
              "      <td>0.0</td>\n",
              "    </tr>\n",
              "    <tr>\n",
              "      <th>565</th>\n",
              "      <td>1700.0</td>\n",
              "      <td>91737.18555</td>\n",
              "      <td>295.881531</td>\n",
              "      <td>817.320867</td>\n",
              "      <td>15146.88621</td>\n",
              "      <td>296.659057</td>\n",
              "      <td>22.833489</td>\n",
              "      <td>18.611506</td>\n",
              "      <td>0.0</td>\n",
              "      <td>91849.57724</td>\n",
              "      <td>296.089355</td>\n",
              "      <td>815.770183</td>\n",
              "      <td>15199.79468</td>\n",
              "      <td>296.996879</td>\n",
              "      <td>22.837127</td>\n",
              "      <td>18.604207</td>\n",
              "      <td>0.0</td>\n",
              "      <td>92135.43240</td>\n",
              "      <td>295.952126</td>\n",
              "      <td>833.973095</td>\n",
              "      <td>15197.61837</td>\n",
              "      <td>296.783794</td>\n",
              "      <td>22.850480</td>\n",
              "      <td>18.592662</td>\n",
              "      <td>0.0</td>\n",
              "      <td>91790.22010</td>\n",
              "      <td>296.074087</td>\n",
              "      <td>819.362151</td>\n",
              "      <td>15208.21052</td>\n",
              "      <td>296.041928</td>\n",
              "      <td>22.860432</td>\n",
              "      <td>18.588598</td>\n",
              "      <td>0.0</td>\n",
              "    </tr>\n",
              "    <tr>\n",
              "      <th>566</th>\n",
              "      <td>1600.0</td>\n",
              "      <td>92207.36333</td>\n",
              "      <td>295.952830</td>\n",
              "      <td>888.139270</td>\n",
              "      <td>15159.32264</td>\n",
              "      <td>297.286691</td>\n",
              "      <td>22.827162</td>\n",
              "      <td>18.602336</td>\n",
              "      <td>0.0</td>\n",
              "      <td>92462.57896</td>\n",
              "      <td>295.873882</td>\n",
              "      <td>841.548473</td>\n",
              "      <td>15137.34707</td>\n",
              "      <td>297.107610</td>\n",
              "      <td>22.818789</td>\n",
              "      <td>18.597066</td>\n",
              "      <td>0.0</td>\n",
              "      <td>92279.32917</td>\n",
              "      <td>296.052909</td>\n",
              "      <td>820.129946</td>\n",
              "      <td>15061.26516</td>\n",
              "      <td>296.952242</td>\n",
              "      <td>22.834499</td>\n",
              "      <td>18.618123</td>\n",
              "      <td>0.0</td>\n",
              "      <td>92036.61792</td>\n",
              "      <td>295.966523</td>\n",
              "      <td>864.576813</td>\n",
              "      <td>15088.96703</td>\n",
              "      <td>296.887573</td>\n",
              "      <td>22.778482</td>\n",
              "      <td>18.578389</td>\n",
              "      <td>0.0</td>\n",
              "    </tr>\n",
              "    <tr>\n",
              "      <th>567</th>\n",
              "      <td>1600.0</td>\n",
              "      <td>91894.50188</td>\n",
              "      <td>294.868680</td>\n",
              "      <td>872.069841</td>\n",
              "      <td>15235.35575</td>\n",
              "      <td>296.370463</td>\n",
              "      <td>22.813994</td>\n",
              "      <td>18.611496</td>\n",
              "      <td>0.0</td>\n",
              "      <td>91600.71367</td>\n",
              "      <td>294.917026</td>\n",
              "      <td>868.293728</td>\n",
              "      <td>15136.22220</td>\n",
              "      <td>296.073666</td>\n",
              "      <td>22.811186</td>\n",
              "      <td>18.599350</td>\n",
              "      <td>0.0</td>\n",
              "      <td>91597.65883</td>\n",
              "      <td>295.019690</td>\n",
              "      <td>838.857569</td>\n",
              "      <td>15115.33475</td>\n",
              "      <td>295.770767</td>\n",
              "      <td>22.816768</td>\n",
              "      <td>18.606979</td>\n",
              "      <td>0.0</td>\n",
              "      <td>92151.14000</td>\n",
              "      <td>295.059367</td>\n",
              "      <td>876.641655</td>\n",
              "      <td>15059.26399</td>\n",
              "      <td>295.779565</td>\n",
              "      <td>22.788558</td>\n",
              "      <td>18.607544</td>\n",
              "      <td>0.0</td>\n",
              "    </tr>\n",
              "  </tbody>\n",
              "</table>\n",
              "<p>568 rows × 33 columns</p>\n",
              "</div>\n",
              "      <button class=\"colab-df-convert\" onclick=\"convertToInteractive('df-661e848e-8e87-40ef-8d39-f9401ff5306d')\"\n",
              "              title=\"Convert this dataframe to an interactive table.\"\n",
              "              style=\"display:none;\">\n",
              "        \n",
              "  <svg xmlns=\"http://www.w3.org/2000/svg\" height=\"24px\"viewBox=\"0 0 24 24\"\n",
              "       width=\"24px\">\n",
              "    <path d=\"M0 0h24v24H0V0z\" fill=\"none\"/>\n",
              "    <path d=\"M18.56 5.44l.94 2.06.94-2.06 2.06-.94-2.06-.94-.94-2.06-.94 2.06-2.06.94zm-11 1L8.5 8.5l.94-2.06 2.06-.94-2.06-.94L8.5 2.5l-.94 2.06-2.06.94zm10 10l.94 2.06.94-2.06 2.06-.94-2.06-.94-.94-2.06-.94 2.06-2.06.94z\"/><path d=\"M17.41 7.96l-1.37-1.37c-.4-.4-.92-.59-1.43-.59-.52 0-1.04.2-1.43.59L10.3 9.45l-7.72 7.72c-.78.78-.78 2.05 0 2.83L4 21.41c.39.39.9.59 1.41.59.51 0 1.02-.2 1.41-.59l7.78-7.78 2.81-2.81c.8-.78.8-2.07 0-2.86zM5.41 20L4 18.59l7.72-7.72 1.47 1.35L5.41 20z\"/>\n",
              "  </svg>\n",
              "      </button>\n",
              "      \n",
              "  <style>\n",
              "    .colab-df-container {\n",
              "      display:flex;\n",
              "      flex-wrap:wrap;\n",
              "      gap: 12px;\n",
              "    }\n",
              "\n",
              "    .colab-df-convert {\n",
              "      background-color: #E8F0FE;\n",
              "      border: none;\n",
              "      border-radius: 50%;\n",
              "      cursor: pointer;\n",
              "      display: none;\n",
              "      fill: #1967D2;\n",
              "      height: 32px;\n",
              "      padding: 0 0 0 0;\n",
              "      width: 32px;\n",
              "    }\n",
              "\n",
              "    .colab-df-convert:hover {\n",
              "      background-color: #E2EBFA;\n",
              "      box-shadow: 0px 1px 2px rgba(60, 64, 67, 0.3), 0px 1px 3px 1px rgba(60, 64, 67, 0.15);\n",
              "      fill: #174EA6;\n",
              "    }\n",
              "\n",
              "    [theme=dark] .colab-df-convert {\n",
              "      background-color: #3B4455;\n",
              "      fill: #D2E3FC;\n",
              "    }\n",
              "\n",
              "    [theme=dark] .colab-df-convert:hover {\n",
              "      background-color: #434B5C;\n",
              "      box-shadow: 0px 1px 3px 1px rgba(0, 0, 0, 0.15);\n",
              "      filter: drop-shadow(0px 1px 2px rgba(0, 0, 0, 0.3));\n",
              "      fill: #FFFFFF;\n",
              "    }\n",
              "  </style>\n",
              "\n",
              "      <script>\n",
              "        const buttonEl =\n",
              "          document.querySelector('#df-661e848e-8e87-40ef-8d39-f9401ff5306d button.colab-df-convert');\n",
              "        buttonEl.style.display =\n",
              "          google.colab.kernel.accessAllowed ? 'block' : 'none';\n",
              "\n",
              "        async function convertToInteractive(key) {\n",
              "          const element = document.querySelector('#df-661e848e-8e87-40ef-8d39-f9401ff5306d');\n",
              "          const dataTable =\n",
              "            await google.colab.kernel.invokeFunction('convertToInteractive',\n",
              "                                                     [key], {});\n",
              "          if (!dataTable) return;\n",
              "\n",
              "          const docLinkHtml = 'Like what you see? Visit the ' +\n",
              "            '<a target=\"_blank\" href=https://colab.research.google.com/notebooks/data_table.ipynb>data table notebook</a>'\n",
              "            + ' to learn more about interactive tables.';\n",
              "          element.innerHTML = '';\n",
              "          dataTable['output_type'] = 'display_data';\n",
              "          await google.colab.output.renderOutput(dataTable, element);\n",
              "          const docLink = document.createElement('div');\n",
              "          docLink.innerHTML = docLinkHtml;\n",
              "          element.appendChild(docLink);\n",
              "        }\n",
              "      </script>\n",
              "    </div>\n",
              "  </div>\n",
              "  "
            ]
          },
          "metadata": {},
          "execution_count": 182
        }
      ]
    },
    {
      "cell_type": "code",
      "source": [
        "testX"
      ],
      "metadata": {
        "colab": {
          "base_uri": "https://localhost:8080/",
          "height": 536
        },
        "id": "zO4PWGfDBpkv",
        "outputId": "3148f67a-99cc-4a6a-df2c-894f121995db"
      },
      "execution_count": null,
      "outputs": [
        {
          "output_type": "execute_result",
          "data": {
            "text/plain": [
              "     LABfeed Sulphur  T1 : FRESH FEED FLOW TO KHDS KGPerHour  \\\n",
              "568           2300.0                             91934.78161   \n",
              "569           1700.0                             92225.66313   \n",
              "570           2200.0                             91921.54076   \n",
              "571           2200.0                             91930.43893   \n",
              "572           2100.0                             90946.23169   \n",
              "..               ...                                     ...   \n",
              "706           1100.0                             60139.03926   \n",
              "707           1200.0                             60362.18822   \n",
              "708           1200.0                             60425.38188   \n",
              "709           1300.0                             64871.35271   \n",
              "710           1200.0                             75681.51297   \n",
              "\n",
              "     T1 : Reactor inlet temperature DEGC  \\\n",
              "568                           293.944982   \n",
              "569                           294.653251   \n",
              "570                           294.377216   \n",
              "571                           294.509000   \n",
              "572                           294.316768   \n",
              "..                                   ...   \n",
              "706                           269.888446   \n",
              "707                           269.971474   \n",
              "708                           270.062989   \n",
              "709                           270.130087   \n",
              "710                           270.060472   \n",
              "\n",
              "     T1 : Hydrogen make-up flow NM3perHour  \\\n",
              "568                            1048.915358   \n",
              "569                             865.999334   \n",
              "570                            1002.522011   \n",
              "571                            1031.850290   \n",
              "572                             886.756133   \n",
              "..                                     ...   \n",
              "706                             511.399785   \n",
              "707                             558.111740   \n",
              "708                             528.413451   \n",
              "709                             561.401982   \n",
              "710                             558.725180   \n",
              "\n",
              "     T1 : Recycle hydrogen flow NM3perHour  T1 : REACTOR OUTLET Temp DEGC  \\\n",
              "568                            15368.26424                     296.009623   \n",
              "569                            15056.71337                     295.635782   \n",
              "570                            15516.87456                     296.867797   \n",
              "571                            15014.30361                     296.510093   \n",
              "572                            15117.55440                     295.927983   \n",
              "..                                     ...                            ...   \n",
              "706                            12541.86891                     271.360266   \n",
              "707                            12542.77303                     272.554566   \n",
              "708                            12517.83553                     272.306049   \n",
              "709                            12287.34497                     272.229078   \n",
              "710                            15276.91775                     271.317535   \n",
              "\n",
              "     T1 : REACTOR FEED INLET Pressure KGperCM2  \\\n",
              "568                                  22.725670   \n",
              "569                                  22.806791   \n",
              "570                                  22.799840   \n",
              "571                                  22.708521   \n",
              "572                                  22.743711   \n",
              "..                                         ...   \n",
              "706                                  21.023166   \n",
              "707                                  21.018436   \n",
              "708                                  21.014648   \n",
              "709                                  21.142253   \n",
              "710                                  22.077146   \n",
              "\n",
              "     T1 : Cold separator pressure KGperCM2  T1 : KERO FEED DENSITY KGperCM2  \\\n",
              "568                              18.570567                         0.000000   \n",
              "569                              18.605184                         0.000000   \n",
              "570                              18.603185                         0.000000   \n",
              "571                              18.612823                         0.000000   \n",
              "572                              18.608816                         0.000000   \n",
              "..                                     ...                              ...   \n",
              "706                              18.624649                       694.466242   \n",
              "707                              18.601252                       697.014856   \n",
              "708                              18.605937                       693.293790   \n",
              "709                              18.609416                       697.181100   \n",
              "710                              18.619949                       711.038150   \n",
              "\n",
              "     T2 : FRESH FEED FLOW TO KHDS KGPerHour  \\\n",
              "568                             91969.80734   \n",
              "569                             92335.05208   \n",
              "570                             88662.81797   \n",
              "571                             92110.16510   \n",
              "572                             91279.84828   \n",
              "..                                      ...   \n",
              "706                             59989.55111   \n",
              "707                             60543.49408   \n",
              "708                             60522.48813   \n",
              "709                             66726.60260   \n",
              "710                             75932.53164   \n",
              "\n",
              "     T2 : Reactor inlet temperature DEGC  \\\n",
              "568                           293.988959   \n",
              "569                           295.071352   \n",
              "570                           293.803389   \n",
              "571                           294.467209   \n",
              "572                           294.505407   \n",
              "..                                   ...   \n",
              "706                           270.211539   \n",
              "707                           270.135722   \n",
              "708                           269.937830   \n",
              "709                           269.983363   \n",
              "710                           269.968262   \n",
              "\n",
              "     T2 : Hydrogen make-up flow NM3perHour  \\\n",
              "568                            1000.914876   \n",
              "569                             817.719299   \n",
              "570                             997.551568   \n",
              "571                            1003.370647   \n",
              "572                             959.919648   \n",
              "..                                     ...   \n",
              "706                             540.839133   \n",
              "707                             593.864419   \n",
              "708                             543.695607   \n",
              "709                             565.513286   \n",
              "710                             574.246387   \n",
              "\n",
              "     T2 : Recycle hydrogen flow NM3perHour  T2 : REACTOR OUTLET Temp DEGC  \\\n",
              "568                            15339.22460                     296.019320   \n",
              "569                            15099.53081                     295.710297   \n",
              "570                            15554.90332                     296.196263   \n",
              "571                            15003.88530                     296.435098   \n",
              "572                            15083.45492                     295.830229   \n",
              "..                                     ...                            ...   \n",
              "706                            12484.32941                     272.175701   \n",
              "707                            12558.97292                     272.846240   \n",
              "708                            12538.70984                     272.363892   \n",
              "709                            12302.77052                     272.319412   \n",
              "710                            15235.66442                     271.163940   \n",
              "\n",
              "     T2 : REACTOR FEED INLET Pressure KGperCM2  \\\n",
              "568                                  22.794247   \n",
              "569                                  22.814445   \n",
              "570                                  22.680963   \n",
              "571                                  22.717885   \n",
              "572                                  22.760677   \n",
              "..                                         ...   \n",
              "706                                  21.005653   \n",
              "707                                  20.994644   \n",
              "708                                  21.024867   \n",
              "709                                  21.148441   \n",
              "710                                  22.054197   \n",
              "\n",
              "     T2 : Cold separator pressure KGperCM2  T2 : KERO FEED DENSITY KGperCM2  \\\n",
              "568                              18.617533                         0.000000   \n",
              "569                              18.590749                         0.000000   \n",
              "570                              18.608805                         0.000000   \n",
              "571                              18.608297                         0.000000   \n",
              "572                              18.629868                         0.000000   \n",
              "..                                     ...                              ...   \n",
              "706                              18.603541                       694.511919   \n",
              "707                              18.566004                       696.803418   \n",
              "708                              18.610148                       693.428608   \n",
              "709                              18.618632                       697.798685   \n",
              "710                              18.603012                       711.060362   \n",
              "\n",
              "     T3 : FRESH FEED FLOW TO KHDS KGPerHour  \\\n",
              "568                             92162.34177   \n",
              "569                             92195.03255   \n",
              "570                             87613.47839   \n",
              "571                             92560.16758   \n",
              "572                             91543.88089   \n",
              "..                                      ...   \n",
              "706                             60149.79883   \n",
              "707                             60547.30573   \n",
              "708                             60362.94141   \n",
              "709                             67078.13063   \n",
              "710                             75933.10414   \n",
              "\n",
              "     T3 : Reactor inlet temperature DEGC  \\\n",
              "568                           293.974900   \n",
              "569                           295.122350   \n",
              "570                           293.590561   \n",
              "571                           294.418152   \n",
              "572                           294.484896   \n",
              "..                                   ...   \n",
              "706                           270.286752   \n",
              "707                           269.939566   \n",
              "708                           270.056110   \n",
              "709                           270.047684   \n",
              "710                           269.801967   \n",
              "\n",
              "     T3 : Hydrogen make-up flow NM3perHour  \\\n",
              "568                            1069.329932   \n",
              "569                             818.817434   \n",
              "570                             976.721413   \n",
              "571                             986.749867   \n",
              "572                             845.313388   \n",
              "..                                     ...   \n",
              "706                             554.881517   \n",
              "707                             458.611999   \n",
              "708                             533.556605   \n",
              "709                             573.050990   \n",
              "710                             550.098812   \n",
              "\n",
              "     T3 : Recycle hydrogen flow NM3perHour  T3 : REACTOR OUTLET Temp DEGC  \\\n",
              "568                            15329.08592                     295.732364   \n",
              "569                            15079.48403                     295.796840   \n",
              "570                            15547.87482                     295.632885   \n",
              "571                            15066.90400                     296.269898   \n",
              "572                            15102.81009                     295.821107   \n",
              "..                                     ...                            ...   \n",
              "706                            12506.45005                     272.583015   \n",
              "707                            12542.78582                     272.927622   \n",
              "708                            12546.30783                     272.405243   \n",
              "709                            12297.07466                     272.234691   \n",
              "710                            15281.83400                     271.019332   \n",
              "\n",
              "     T3 : REACTOR FEED INLET Pressure KGperCM2  \\\n",
              "568                                  22.730029   \n",
              "569                                  22.871260   \n",
              "570                                  22.606351   \n",
              "571                                  22.713945   \n",
              "572                                  22.718328   \n",
              "..                                         ...   \n",
              "706                                  21.021043   \n",
              "707                                  21.076758   \n",
              "708                                  21.015765   \n",
              "709                                  21.212972   \n",
              "710                                  22.078051   \n",
              "\n",
              "     T3 : Cold separator pressure KGperCM2  T3 : KERO FEED DENSITY KGperCM2  \\\n",
              "568                              18.594025                         0.000000   \n",
              "569                              18.673696                         0.000000   \n",
              "570                              18.593903                         0.000000   \n",
              "571                              18.589783                         0.000000   \n",
              "572                              18.573023                         0.000000   \n",
              "..                                     ...                              ...   \n",
              "706                              18.628108                       695.525236   \n",
              "707                              18.634313                       696.144514   \n",
              "708                              18.600281                       693.736376   \n",
              "709                              18.614482                       697.110177   \n",
              "710                              18.610626                       710.682523   \n",
              "\n",
              "     T4 : FRESH FEED FLOW TO KHDS KGPerHour  \\\n",
              "568                             92279.63776   \n",
              "569                             92292.04714   \n",
              "570                             85841.41862   \n",
              "571                             92102.99453   \n",
              "572                             91597.28951   \n",
              "..                                      ...   \n",
              "706                             60417.56009   \n",
              "707                             60372.60352   \n",
              "708                             60353.13302   \n",
              "709                             69193.52375   \n",
              "710                             75555.75766   \n",
              "\n",
              "     T4 : Reactor inlet temperature DEGC  \\\n",
              "568                           294.291840   \n",
              "569                           295.111333   \n",
              "570                           293.610726   \n",
              "571                           294.501193   \n",
              "572                           294.457803   \n",
              "..                                   ...   \n",
              "706                           270.061212   \n",
              "707                           270.042269   \n",
              "708                           270.083814   \n",
              "709                           269.897449   \n",
              "710                           270.219450   \n",
              "\n",
              "     T4 : Hydrogen make-up flow NM3perHour  \\\n",
              "568                            1069.565347   \n",
              "569                             979.997685   \n",
              "570                             975.215975   \n",
              "571                             997.667592   \n",
              "572                             952.756145   \n",
              "..                                     ...   \n",
              "706                             581.807254   \n",
              "707                             501.625794   \n",
              "708                             536.398630   \n",
              "709                             575.264706   \n",
              "710                             563.059551   \n",
              "\n",
              "     T4 : Recycle hydrogen flow NM3perHour  T4 : REACTOR OUTLET Temp DEGC  \\\n",
              "568                            15335.59848                     296.365590   \n",
              "569                            15115.32055                     296.190329   \n",
              "570                            15609.12904                     295.884931   \n",
              "571                            15042.80368                     296.281433   \n",
              "572                            15043.58153                     295.855251   \n",
              "..                                     ...                            ...   \n",
              "706                            12470.92394                     272.810638   \n",
              "707                            12590.90794                     272.603820   \n",
              "708                            12618.29635                     272.570469   \n",
              "709                            12380.30654                     272.226493   \n",
              "710                            15331.67330                     270.990628   \n",
              "\n",
              "     T4 : REACTOR FEED INLET Pressure KGperCM2  \\\n",
              "568                                  22.729780   \n",
              "569                                  22.834629   \n",
              "570                                  22.600475   \n",
              "571                                  22.710663   \n",
              "572                                  22.720511   \n",
              "..                                         ...   \n",
              "706                                  20.995547   \n",
              "707                                  21.103575   \n",
              "708                                  21.040742   \n",
              "709                                  21.223976   \n",
              "710                                  22.069995   \n",
              "\n",
              "     T4 : Cold separator pressure KGperCM2  T4 : KERO FEED DENSITY KGperCM2  \n",
              "568                              18.596741                         0.000000  \n",
              "569                              18.643738                         0.000000  \n",
              "570                              18.581950                         0.000000  \n",
              "571                              18.594437                         0.000000  \n",
              "572                              18.605189                         0.000000  \n",
              "..                                     ...                              ...  \n",
              "706                              18.596115                       694.614817  \n",
              "707                              18.656947                       696.279553  \n",
              "708                              18.611755                       693.730737  \n",
              "709                              18.602946                       698.950006  \n",
              "710                              18.590591                       710.725383  \n",
              "\n",
              "[143 rows x 33 columns]"
            ],
            "text/html": [
              "\n",
              "  <div id=\"df-8095ba43-dd13-4779-88de-be3655e59f99\">\n",
              "    <div class=\"colab-df-container\">\n",
              "      <div>\n",
              "<style scoped>\n",
              "    .dataframe tbody tr th:only-of-type {\n",
              "        vertical-align: middle;\n",
              "    }\n",
              "\n",
              "    .dataframe tbody tr th {\n",
              "        vertical-align: top;\n",
              "    }\n",
              "\n",
              "    .dataframe thead th {\n",
              "        text-align: right;\n",
              "    }\n",
              "</style>\n",
              "<table border=\"1\" class=\"dataframe\">\n",
              "  <thead>\n",
              "    <tr style=\"text-align: right;\">\n",
              "      <th></th>\n",
              "      <th>LABfeed Sulphur</th>\n",
              "      <th>T1 : FRESH FEED FLOW TO KHDS KGPerHour</th>\n",
              "      <th>T1 : Reactor inlet temperature DEGC</th>\n",
              "      <th>T1 : Hydrogen make-up flow NM3perHour</th>\n",
              "      <th>T1 : Recycle hydrogen flow NM3perHour</th>\n",
              "      <th>T1 : REACTOR OUTLET Temp DEGC</th>\n",
              "      <th>T1 : REACTOR FEED INLET Pressure KGperCM2</th>\n",
              "      <th>T1 : Cold separator pressure KGperCM2</th>\n",
              "      <th>T1 : KERO FEED DENSITY KGperCM2</th>\n",
              "      <th>T2 : FRESH FEED FLOW TO KHDS KGPerHour</th>\n",
              "      <th>T2 : Reactor inlet temperature DEGC</th>\n",
              "      <th>T2 : Hydrogen make-up flow NM3perHour</th>\n",
              "      <th>T2 : Recycle hydrogen flow NM3perHour</th>\n",
              "      <th>T2 : REACTOR OUTLET Temp DEGC</th>\n",
              "      <th>T2 : REACTOR FEED INLET Pressure KGperCM2</th>\n",
              "      <th>T2 : Cold separator pressure KGperCM2</th>\n",
              "      <th>T2 : KERO FEED DENSITY KGperCM2</th>\n",
              "      <th>T3 : FRESH FEED FLOW TO KHDS KGPerHour</th>\n",
              "      <th>T3 : Reactor inlet temperature DEGC</th>\n",
              "      <th>T3 : Hydrogen make-up flow NM3perHour</th>\n",
              "      <th>T3 : Recycle hydrogen flow NM3perHour</th>\n",
              "      <th>T3 : REACTOR OUTLET Temp DEGC</th>\n",
              "      <th>T3 : REACTOR FEED INLET Pressure KGperCM2</th>\n",
              "      <th>T3 : Cold separator pressure KGperCM2</th>\n",
              "      <th>T3 : KERO FEED DENSITY KGperCM2</th>\n",
              "      <th>T4 : FRESH FEED FLOW TO KHDS KGPerHour</th>\n",
              "      <th>T4 : Reactor inlet temperature DEGC</th>\n",
              "      <th>T4 : Hydrogen make-up flow NM3perHour</th>\n",
              "      <th>T4 : Recycle hydrogen flow NM3perHour</th>\n",
              "      <th>T4 : REACTOR OUTLET Temp DEGC</th>\n",
              "      <th>T4 : REACTOR FEED INLET Pressure KGperCM2</th>\n",
              "      <th>T4 : Cold separator pressure KGperCM2</th>\n",
              "      <th>T4 : KERO FEED DENSITY KGperCM2</th>\n",
              "    </tr>\n",
              "  </thead>\n",
              "  <tbody>\n",
              "    <tr>\n",
              "      <th>568</th>\n",
              "      <td>2300.0</td>\n",
              "      <td>91934.78161</td>\n",
              "      <td>293.944982</td>\n",
              "      <td>1048.915358</td>\n",
              "      <td>15368.26424</td>\n",
              "      <td>296.009623</td>\n",
              "      <td>22.725670</td>\n",
              "      <td>18.570567</td>\n",
              "      <td>0.000000</td>\n",
              "      <td>91969.80734</td>\n",
              "      <td>293.988959</td>\n",
              "      <td>1000.914876</td>\n",
              "      <td>15339.22460</td>\n",
              "      <td>296.019320</td>\n",
              "      <td>22.794247</td>\n",
              "      <td>18.617533</td>\n",
              "      <td>0.000000</td>\n",
              "      <td>92162.34177</td>\n",
              "      <td>293.974900</td>\n",
              "      <td>1069.329932</td>\n",
              "      <td>15329.08592</td>\n",
              "      <td>295.732364</td>\n",
              "      <td>22.730029</td>\n",
              "      <td>18.594025</td>\n",
              "      <td>0.000000</td>\n",
              "      <td>92279.63776</td>\n",
              "      <td>294.291840</td>\n",
              "      <td>1069.565347</td>\n",
              "      <td>15335.59848</td>\n",
              "      <td>296.365590</td>\n",
              "      <td>22.729780</td>\n",
              "      <td>18.596741</td>\n",
              "      <td>0.000000</td>\n",
              "    </tr>\n",
              "    <tr>\n",
              "      <th>569</th>\n",
              "      <td>1700.0</td>\n",
              "      <td>92225.66313</td>\n",
              "      <td>294.653251</td>\n",
              "      <td>865.999334</td>\n",
              "      <td>15056.71337</td>\n",
              "      <td>295.635782</td>\n",
              "      <td>22.806791</td>\n",
              "      <td>18.605184</td>\n",
              "      <td>0.000000</td>\n",
              "      <td>92335.05208</td>\n",
              "      <td>295.071352</td>\n",
              "      <td>817.719299</td>\n",
              "      <td>15099.53081</td>\n",
              "      <td>295.710297</td>\n",
              "      <td>22.814445</td>\n",
              "      <td>18.590749</td>\n",
              "      <td>0.000000</td>\n",
              "      <td>92195.03255</td>\n",
              "      <td>295.122350</td>\n",
              "      <td>818.817434</td>\n",
              "      <td>15079.48403</td>\n",
              "      <td>295.796840</td>\n",
              "      <td>22.871260</td>\n",
              "      <td>18.673696</td>\n",
              "      <td>0.000000</td>\n",
              "      <td>92292.04714</td>\n",
              "      <td>295.111333</td>\n",
              "      <td>979.997685</td>\n",
              "      <td>15115.32055</td>\n",
              "      <td>296.190329</td>\n",
              "      <td>22.834629</td>\n",
              "      <td>18.643738</td>\n",
              "      <td>0.000000</td>\n",
              "    </tr>\n",
              "    <tr>\n",
              "      <th>570</th>\n",
              "      <td>2200.0</td>\n",
              "      <td>91921.54076</td>\n",
              "      <td>294.377216</td>\n",
              "      <td>1002.522011</td>\n",
              "      <td>15516.87456</td>\n",
              "      <td>296.867797</td>\n",
              "      <td>22.799840</td>\n",
              "      <td>18.603185</td>\n",
              "      <td>0.000000</td>\n",
              "      <td>88662.81797</td>\n",
              "      <td>293.803389</td>\n",
              "      <td>997.551568</td>\n",
              "      <td>15554.90332</td>\n",
              "      <td>296.196263</td>\n",
              "      <td>22.680963</td>\n",
              "      <td>18.608805</td>\n",
              "      <td>0.000000</td>\n",
              "      <td>87613.47839</td>\n",
              "      <td>293.590561</td>\n",
              "      <td>976.721413</td>\n",
              "      <td>15547.87482</td>\n",
              "      <td>295.632885</td>\n",
              "      <td>22.606351</td>\n",
              "      <td>18.593903</td>\n",
              "      <td>0.000000</td>\n",
              "      <td>85841.41862</td>\n",
              "      <td>293.610726</td>\n",
              "      <td>975.215975</td>\n",
              "      <td>15609.12904</td>\n",
              "      <td>295.884931</td>\n",
              "      <td>22.600475</td>\n",
              "      <td>18.581950</td>\n",
              "      <td>0.000000</td>\n",
              "    </tr>\n",
              "    <tr>\n",
              "      <th>571</th>\n",
              "      <td>2200.0</td>\n",
              "      <td>91930.43893</td>\n",
              "      <td>294.509000</td>\n",
              "      <td>1031.850290</td>\n",
              "      <td>15014.30361</td>\n",
              "      <td>296.510093</td>\n",
              "      <td>22.708521</td>\n",
              "      <td>18.612823</td>\n",
              "      <td>0.000000</td>\n",
              "      <td>92110.16510</td>\n",
              "      <td>294.467209</td>\n",
              "      <td>1003.370647</td>\n",
              "      <td>15003.88530</td>\n",
              "      <td>296.435098</td>\n",
              "      <td>22.717885</td>\n",
              "      <td>18.608297</td>\n",
              "      <td>0.000000</td>\n",
              "      <td>92560.16758</td>\n",
              "      <td>294.418152</td>\n",
              "      <td>986.749867</td>\n",
              "      <td>15066.90400</td>\n",
              "      <td>296.269898</td>\n",
              "      <td>22.713945</td>\n",
              "      <td>18.589783</td>\n",
              "      <td>0.000000</td>\n",
              "      <td>92102.99453</td>\n",
              "      <td>294.501193</td>\n",
              "      <td>997.667592</td>\n",
              "      <td>15042.80368</td>\n",
              "      <td>296.281433</td>\n",
              "      <td>22.710663</td>\n",
              "      <td>18.594437</td>\n",
              "      <td>0.000000</td>\n",
              "    </tr>\n",
              "    <tr>\n",
              "      <th>572</th>\n",
              "      <td>2100.0</td>\n",
              "      <td>90946.23169</td>\n",
              "      <td>294.316768</td>\n",
              "      <td>886.756133</td>\n",
              "      <td>15117.55440</td>\n",
              "      <td>295.927983</td>\n",
              "      <td>22.743711</td>\n",
              "      <td>18.608816</td>\n",
              "      <td>0.000000</td>\n",
              "      <td>91279.84828</td>\n",
              "      <td>294.505407</td>\n",
              "      <td>959.919648</td>\n",
              "      <td>15083.45492</td>\n",
              "      <td>295.830229</td>\n",
              "      <td>22.760677</td>\n",
              "      <td>18.629868</td>\n",
              "      <td>0.000000</td>\n",
              "      <td>91543.88089</td>\n",
              "      <td>294.484896</td>\n",
              "      <td>845.313388</td>\n",
              "      <td>15102.81009</td>\n",
              "      <td>295.821107</td>\n",
              "      <td>22.718328</td>\n",
              "      <td>18.573023</td>\n",
              "      <td>0.000000</td>\n",
              "      <td>91597.28951</td>\n",
              "      <td>294.457803</td>\n",
              "      <td>952.756145</td>\n",
              "      <td>15043.58153</td>\n",
              "      <td>295.855251</td>\n",
              "      <td>22.720511</td>\n",
              "      <td>18.605189</td>\n",
              "      <td>0.000000</td>\n",
              "    </tr>\n",
              "    <tr>\n",
              "      <th>...</th>\n",
              "      <td>...</td>\n",
              "      <td>...</td>\n",
              "      <td>...</td>\n",
              "      <td>...</td>\n",
              "      <td>...</td>\n",
              "      <td>...</td>\n",
              "      <td>...</td>\n",
              "      <td>...</td>\n",
              "      <td>...</td>\n",
              "      <td>...</td>\n",
              "      <td>...</td>\n",
              "      <td>...</td>\n",
              "      <td>...</td>\n",
              "      <td>...</td>\n",
              "      <td>...</td>\n",
              "      <td>...</td>\n",
              "      <td>...</td>\n",
              "      <td>...</td>\n",
              "      <td>...</td>\n",
              "      <td>...</td>\n",
              "      <td>...</td>\n",
              "      <td>...</td>\n",
              "      <td>...</td>\n",
              "      <td>...</td>\n",
              "      <td>...</td>\n",
              "      <td>...</td>\n",
              "      <td>...</td>\n",
              "      <td>...</td>\n",
              "      <td>...</td>\n",
              "      <td>...</td>\n",
              "      <td>...</td>\n",
              "      <td>...</td>\n",
              "      <td>...</td>\n",
              "    </tr>\n",
              "    <tr>\n",
              "      <th>706</th>\n",
              "      <td>1100.0</td>\n",
              "      <td>60139.03926</td>\n",
              "      <td>269.888446</td>\n",
              "      <td>511.399785</td>\n",
              "      <td>12541.86891</td>\n",
              "      <td>271.360266</td>\n",
              "      <td>21.023166</td>\n",
              "      <td>18.624649</td>\n",
              "      <td>694.466242</td>\n",
              "      <td>59989.55111</td>\n",
              "      <td>270.211539</td>\n",
              "      <td>540.839133</td>\n",
              "      <td>12484.32941</td>\n",
              "      <td>272.175701</td>\n",
              "      <td>21.005653</td>\n",
              "      <td>18.603541</td>\n",
              "      <td>694.511919</td>\n",
              "      <td>60149.79883</td>\n",
              "      <td>270.286752</td>\n",
              "      <td>554.881517</td>\n",
              "      <td>12506.45005</td>\n",
              "      <td>272.583015</td>\n",
              "      <td>21.021043</td>\n",
              "      <td>18.628108</td>\n",
              "      <td>695.525236</td>\n",
              "      <td>60417.56009</td>\n",
              "      <td>270.061212</td>\n",
              "      <td>581.807254</td>\n",
              "      <td>12470.92394</td>\n",
              "      <td>272.810638</td>\n",
              "      <td>20.995547</td>\n",
              "      <td>18.596115</td>\n",
              "      <td>694.614817</td>\n",
              "    </tr>\n",
              "    <tr>\n",
              "      <th>707</th>\n",
              "      <td>1200.0</td>\n",
              "      <td>60362.18822</td>\n",
              "      <td>269.971474</td>\n",
              "      <td>558.111740</td>\n",
              "      <td>12542.77303</td>\n",
              "      <td>272.554566</td>\n",
              "      <td>21.018436</td>\n",
              "      <td>18.601252</td>\n",
              "      <td>697.014856</td>\n",
              "      <td>60543.49408</td>\n",
              "      <td>270.135722</td>\n",
              "      <td>593.864419</td>\n",
              "      <td>12558.97292</td>\n",
              "      <td>272.846240</td>\n",
              "      <td>20.994644</td>\n",
              "      <td>18.566004</td>\n",
              "      <td>696.803418</td>\n",
              "      <td>60547.30573</td>\n",
              "      <td>269.939566</td>\n",
              "      <td>458.611999</td>\n",
              "      <td>12542.78582</td>\n",
              "      <td>272.927622</td>\n",
              "      <td>21.076758</td>\n",
              "      <td>18.634313</td>\n",
              "      <td>696.144514</td>\n",
              "      <td>60372.60352</td>\n",
              "      <td>270.042269</td>\n",
              "      <td>501.625794</td>\n",
              "      <td>12590.90794</td>\n",
              "      <td>272.603820</td>\n",
              "      <td>21.103575</td>\n",
              "      <td>18.656947</td>\n",
              "      <td>696.279553</td>\n",
              "    </tr>\n",
              "    <tr>\n",
              "      <th>708</th>\n",
              "      <td>1200.0</td>\n",
              "      <td>60425.38188</td>\n",
              "      <td>270.062989</td>\n",
              "      <td>528.413451</td>\n",
              "      <td>12517.83553</td>\n",
              "      <td>272.306049</td>\n",
              "      <td>21.014648</td>\n",
              "      <td>18.605937</td>\n",
              "      <td>693.293790</td>\n",
              "      <td>60522.48813</td>\n",
              "      <td>269.937830</td>\n",
              "      <td>543.695607</td>\n",
              "      <td>12538.70984</td>\n",
              "      <td>272.363892</td>\n",
              "      <td>21.024867</td>\n",
              "      <td>18.610148</td>\n",
              "      <td>693.428608</td>\n",
              "      <td>60362.94141</td>\n",
              "      <td>270.056110</td>\n",
              "      <td>533.556605</td>\n",
              "      <td>12546.30783</td>\n",
              "      <td>272.405243</td>\n",
              "      <td>21.015765</td>\n",
              "      <td>18.600281</td>\n",
              "      <td>693.736376</td>\n",
              "      <td>60353.13302</td>\n",
              "      <td>270.083814</td>\n",
              "      <td>536.398630</td>\n",
              "      <td>12618.29635</td>\n",
              "      <td>272.570469</td>\n",
              "      <td>21.040742</td>\n",
              "      <td>18.611755</td>\n",
              "      <td>693.730737</td>\n",
              "    </tr>\n",
              "    <tr>\n",
              "      <th>709</th>\n",
              "      <td>1300.0</td>\n",
              "      <td>64871.35271</td>\n",
              "      <td>270.130087</td>\n",
              "      <td>561.401982</td>\n",
              "      <td>12287.34497</td>\n",
              "      <td>272.229078</td>\n",
              "      <td>21.142253</td>\n",
              "      <td>18.609416</td>\n",
              "      <td>697.181100</td>\n",
              "      <td>66726.60260</td>\n",
              "      <td>269.983363</td>\n",
              "      <td>565.513286</td>\n",
              "      <td>12302.77052</td>\n",
              "      <td>272.319412</td>\n",
              "      <td>21.148441</td>\n",
              "      <td>18.618632</td>\n",
              "      <td>697.798685</td>\n",
              "      <td>67078.13063</td>\n",
              "      <td>270.047684</td>\n",
              "      <td>573.050990</td>\n",
              "      <td>12297.07466</td>\n",
              "      <td>272.234691</td>\n",
              "      <td>21.212972</td>\n",
              "      <td>18.614482</td>\n",
              "      <td>697.110177</td>\n",
              "      <td>69193.52375</td>\n",
              "      <td>269.897449</td>\n",
              "      <td>575.264706</td>\n",
              "      <td>12380.30654</td>\n",
              "      <td>272.226493</td>\n",
              "      <td>21.223976</td>\n",
              "      <td>18.602946</td>\n",
              "      <td>698.950006</td>\n",
              "    </tr>\n",
              "    <tr>\n",
              "      <th>710</th>\n",
              "      <td>1200.0</td>\n",
              "      <td>75681.51297</td>\n",
              "      <td>270.060472</td>\n",
              "      <td>558.725180</td>\n",
              "      <td>15276.91775</td>\n",
              "      <td>271.317535</td>\n",
              "      <td>22.077146</td>\n",
              "      <td>18.619949</td>\n",
              "      <td>711.038150</td>\n",
              "      <td>75932.53164</td>\n",
              "      <td>269.968262</td>\n",
              "      <td>574.246387</td>\n",
              "      <td>15235.66442</td>\n",
              "      <td>271.163940</td>\n",
              "      <td>22.054197</td>\n",
              "      <td>18.603012</td>\n",
              "      <td>711.060362</td>\n",
              "      <td>75933.10414</td>\n",
              "      <td>269.801967</td>\n",
              "      <td>550.098812</td>\n",
              "      <td>15281.83400</td>\n",
              "      <td>271.019332</td>\n",
              "      <td>22.078051</td>\n",
              "      <td>18.610626</td>\n",
              "      <td>710.682523</td>\n",
              "      <td>75555.75766</td>\n",
              "      <td>270.219450</td>\n",
              "      <td>563.059551</td>\n",
              "      <td>15331.67330</td>\n",
              "      <td>270.990628</td>\n",
              "      <td>22.069995</td>\n",
              "      <td>18.590591</td>\n",
              "      <td>710.725383</td>\n",
              "    </tr>\n",
              "  </tbody>\n",
              "</table>\n",
              "<p>143 rows × 33 columns</p>\n",
              "</div>\n",
              "      <button class=\"colab-df-convert\" onclick=\"convertToInteractive('df-8095ba43-dd13-4779-88de-be3655e59f99')\"\n",
              "              title=\"Convert this dataframe to an interactive table.\"\n",
              "              style=\"display:none;\">\n",
              "        \n",
              "  <svg xmlns=\"http://www.w3.org/2000/svg\" height=\"24px\"viewBox=\"0 0 24 24\"\n",
              "       width=\"24px\">\n",
              "    <path d=\"M0 0h24v24H0V0z\" fill=\"none\"/>\n",
              "    <path d=\"M18.56 5.44l.94 2.06.94-2.06 2.06-.94-2.06-.94-.94-2.06-.94 2.06-2.06.94zm-11 1L8.5 8.5l.94-2.06 2.06-.94-2.06-.94L8.5 2.5l-.94 2.06-2.06.94zm10 10l.94 2.06.94-2.06 2.06-.94-2.06-.94-.94-2.06-.94 2.06-2.06.94z\"/><path d=\"M17.41 7.96l-1.37-1.37c-.4-.4-.92-.59-1.43-.59-.52 0-1.04.2-1.43.59L10.3 9.45l-7.72 7.72c-.78.78-.78 2.05 0 2.83L4 21.41c.39.39.9.59 1.41.59.51 0 1.02-.2 1.41-.59l7.78-7.78 2.81-2.81c.8-.78.8-2.07 0-2.86zM5.41 20L4 18.59l7.72-7.72 1.47 1.35L5.41 20z\"/>\n",
              "  </svg>\n",
              "      </button>\n",
              "      \n",
              "  <style>\n",
              "    .colab-df-container {\n",
              "      display:flex;\n",
              "      flex-wrap:wrap;\n",
              "      gap: 12px;\n",
              "    }\n",
              "\n",
              "    .colab-df-convert {\n",
              "      background-color: #E8F0FE;\n",
              "      border: none;\n",
              "      border-radius: 50%;\n",
              "      cursor: pointer;\n",
              "      display: none;\n",
              "      fill: #1967D2;\n",
              "      height: 32px;\n",
              "      padding: 0 0 0 0;\n",
              "      width: 32px;\n",
              "    }\n",
              "\n",
              "    .colab-df-convert:hover {\n",
              "      background-color: #E2EBFA;\n",
              "      box-shadow: 0px 1px 2px rgba(60, 64, 67, 0.3), 0px 1px 3px 1px rgba(60, 64, 67, 0.15);\n",
              "      fill: #174EA6;\n",
              "    }\n",
              "\n",
              "    [theme=dark] .colab-df-convert {\n",
              "      background-color: #3B4455;\n",
              "      fill: #D2E3FC;\n",
              "    }\n",
              "\n",
              "    [theme=dark] .colab-df-convert:hover {\n",
              "      background-color: #434B5C;\n",
              "      box-shadow: 0px 1px 3px 1px rgba(0, 0, 0, 0.15);\n",
              "      filter: drop-shadow(0px 1px 2px rgba(0, 0, 0, 0.3));\n",
              "      fill: #FFFFFF;\n",
              "    }\n",
              "  </style>\n",
              "\n",
              "      <script>\n",
              "        const buttonEl =\n",
              "          document.querySelector('#df-8095ba43-dd13-4779-88de-be3655e59f99 button.colab-df-convert');\n",
              "        buttonEl.style.display =\n",
              "          google.colab.kernel.accessAllowed ? 'block' : 'none';\n",
              "\n",
              "        async function convertToInteractive(key) {\n",
              "          const element = document.querySelector('#df-8095ba43-dd13-4779-88de-be3655e59f99');\n",
              "          const dataTable =\n",
              "            await google.colab.kernel.invokeFunction('convertToInteractive',\n",
              "                                                     [key], {});\n",
              "          if (!dataTable) return;\n",
              "\n",
              "          const docLinkHtml = 'Like what you see? Visit the ' +\n",
              "            '<a target=\"_blank\" href=https://colab.research.google.com/notebooks/data_table.ipynb>data table notebook</a>'\n",
              "            + ' to learn more about interactive tables.';\n",
              "          element.innerHTML = '';\n",
              "          dataTable['output_type'] = 'display_data';\n",
              "          await google.colab.output.renderOutput(dataTable, element);\n",
              "          const docLink = document.createElement('div');\n",
              "          docLink.innerHTML = docLinkHtml;\n",
              "          element.appendChild(docLink);\n",
              "        }\n",
              "      </script>\n",
              "    </div>\n",
              "  </div>\n",
              "  "
            ]
          },
          "metadata": {},
          "execution_count": 183
        }
      ]
    },
    {
      "cell_type": "code",
      "source": [
        "trainy"
      ],
      "metadata": {
        "colab": {
          "base_uri": "https://localhost:8080/"
        },
        "id": "Ccdw5wmLB8cz",
        "outputId": "e9ce0021-8e7a-42b9-e49a-2d3c9743326c"
      },
      "execution_count": null,
      "outputs": [
        {
          "output_type": "execute_result",
          "data": {
            "text/plain": [
              "0      2.0\n",
              "1      0.5\n",
              "2      3.0\n",
              "3      4.0\n",
              "4      3.0\n",
              "      ... \n",
              "563    4.0\n",
              "564    3.0\n",
              "565    4.0\n",
              "566    3.0\n",
              "567    4.5\n",
              "Name: Product Sulphur, Length: 568, dtype: float64"
            ]
          },
          "metadata": {},
          "execution_count": 184
        }
      ]
    },
    {
      "cell_type": "code",
      "source": [
        "trainy = trainy.to_numpy()\n",
        "trainy = trainy.reshape(-1,1)\n",
        "testy = testy.to_numpy()\n",
        "testy = testy.reshape(-1,1)"
      ],
      "metadata": {
        "id": "94PlC1csCBA7"
      },
      "execution_count": null,
      "outputs": []
    },
    {
      "cell_type": "code",
      "source": [
        "\n",
        "# created scaler\n",
        "scaler = StandardScaler()\n",
        "# fit scaler on training dataset\n",
        "scaler.fit(trainy)\n",
        "# transform training dataset\n",
        "trainy = scaler.transform(trainy)\n",
        "# transform test dataset\n",
        "testy = scaler.transform(testy)"
      ],
      "metadata": {
        "id": "HrFWtIUuCZ2E"
      },
      "execution_count": null,
      "outputs": []
    },
    {
      "cell_type": "code",
      "source": [
        "testy.view()"
      ],
      "metadata": {
        "colab": {
          "base_uri": "https://localhost:8080/"
        },
        "id": "MLgFchfPCcrs",
        "outputId": "ce7dc0aa-e17d-4951-e6a9-59b34e8da0f7"
      },
      "execution_count": null,
      "outputs": [
        {
          "output_type": "execute_result",
          "data": {
            "text/plain": [
              "array([[ 1.77902694],\n",
              "       [-0.27752603],\n",
              "       [ 1.09350929],\n",
              "       [ 0.0652328 ],\n",
              "       [ 0.75075046],\n",
              "       [ 0.75075046],\n",
              "       [ 2.4645446 ],\n",
              "       [ 0.92212987],\n",
              "       [ 1.09350929],\n",
              "       [-0.27752603],\n",
              "       [ 0.0652328 ],\n",
              "       [-0.27752603],\n",
              "       [ 2.4645446 ],\n",
              "       [ 0.0652328 ],\n",
              "       [ 1.77902694],\n",
              "       [ 1.77902694],\n",
              "       [-0.27752603],\n",
              "       [ 0.40799163],\n",
              "       [-0.62028486],\n",
              "       [-0.27752603],\n",
              "       [-0.62028486],\n",
              "       [-0.96304369],\n",
              "       [-0.62028486],\n",
              "       [-0.96304369],\n",
              "       [ 2.12178577],\n",
              "       [-0.27752603],\n",
              "       [ 0.40799163],\n",
              "       [ 0.0652328 ],\n",
              "       [ 0.0652328 ],\n",
              "       [-0.27752603],\n",
              "       [-0.27752603],\n",
              "       [ 0.0652328 ],\n",
              "       [-0.27752603],\n",
              "       [-0.27752603],\n",
              "       [ 0.0652328 ],\n",
              "       [ 1.09350929],\n",
              "       [-0.27752603],\n",
              "       [ 0.40799163],\n",
              "       [ 0.0652328 ],\n",
              "       [ 1.43626811],\n",
              "       [ 0.0652328 ],\n",
              "       [ 1.77902694],\n",
              "       [ 0.0652328 ],\n",
              "       [ 1.09350929],\n",
              "       [ 0.75075046],\n",
              "       [-0.27752603],\n",
              "       [ 0.0652328 ],\n",
              "       [ 0.40799163],\n",
              "       [-0.62028486],\n",
              "       [-0.27752603],\n",
              "       [-0.62028486],\n",
              "       [ 0.0652328 ],\n",
              "       [ 1.43626811],\n",
              "       [ 2.12178577],\n",
              "       [ 2.4645446 ],\n",
              "       [ 7.60592704],\n",
              "       [27.14318029],\n",
              "       [-0.27752603],\n",
              "       [ 0.40799163],\n",
              "       [ 0.40799163],\n",
              "       [ 0.40799163],\n",
              "       [-0.62028486],\n",
              "       [ 0.75075046],\n",
              "       [ 0.0652328 ],\n",
              "       [ 0.40799163],\n",
              "       [ 0.0652328 ],\n",
              "       [ 0.40799163],\n",
              "       [ 0.40799163],\n",
              "       [ 1.09350929],\n",
              "       [ 0.40799163],\n",
              "       [ 0.75075046],\n",
              "       [ 1.09350929],\n",
              "       [-0.62028486],\n",
              "       [-0.27752603],\n",
              "       [-0.27752603],\n",
              "       [-0.27752603],\n",
              "       [ 0.0652328 ],\n",
              "       [ 0.0652328 ],\n",
              "       [ 0.0652328 ],\n",
              "       [ 0.0652328 ],\n",
              "       [ 0.0652328 ],\n",
              "       [ 0.0652328 ],\n",
              "       [ 0.0652328 ],\n",
              "       [ 0.0652328 ],\n",
              "       [ 0.75075046],\n",
              "       [-0.27752603],\n",
              "       [-0.55173309],\n",
              "       [-0.27752603],\n",
              "       [ 0.09950868],\n",
              "       [-0.27752603],\n",
              "       [ 0.0652328 ],\n",
              "       [ 2.12178577],\n",
              "       [ 0.40799163],\n",
              "       [-0.62028486],\n",
              "       [-0.27752603],\n",
              "       [ 0.0652328 ],\n",
              "       [ 0.0652328 ],\n",
              "       [ 0.40799163],\n",
              "       [ 0.0652328 ],\n",
              "       [ 0.0652328 ],\n",
              "       [-0.27752603],\n",
              "       [ 0.75075046],\n",
              "       [ 0.40799163],\n",
              "       [-0.27752603],\n",
              "       [ 0.23661221],\n",
              "       [ 0.40799163],\n",
              "       [-0.27752603],\n",
              "       [-0.62028486],\n",
              "       [-0.62028486],\n",
              "       [-0.62028486],\n",
              "       [ 6.23489172],\n",
              "       [ 0.40799163],\n",
              "       [-0.10614662],\n",
              "       [ 0.0652328 ],\n",
              "       [-0.27752603],\n",
              "       [-0.27752603],\n",
              "       [-0.27752603],\n",
              "       [-0.27752603],\n",
              "       [-0.27752603],\n",
              "       [-0.27752603],\n",
              "       [-0.27752603],\n",
              "       [-0.62028486],\n",
              "       [ 0.0652328 ],\n",
              "       [-0.27752603],\n",
              "       [ 0.40799163],\n",
              "       [ 0.40799163],\n",
              "       [ 0.40799163],\n",
              "       [ 0.0652328 ],\n",
              "       [ 0.75075046],\n",
              "       [-0.10614662],\n",
              "       [ 0.0652328 ],\n",
              "       [-0.27752603],\n",
              "       [-0.27752603],\n",
              "       [-0.27752603],\n",
              "       [ 0.75075046],\n",
              "       [ 1.09350929],\n",
              "       [ 5.54937406],\n",
              "       [ 3.15006226],\n",
              "       [ 5.20661523],\n",
              "       [ 5.54937406],\n",
              "       [ 7.26316821],\n",
              "       [ 8.2914447 ],\n",
              "       [ 5.20661523]])"
            ]
          },
          "metadata": {},
          "execution_count": 188
        }
      ]
    },
    {
      "cell_type": "code",
      "source": [
        "# demonstrate data normalization with sklearn\n",
        "from sklearn.preprocessing import MinMaxScaler"
      ],
      "metadata": {
        "id": "5rNmSYOYeOvM"
      },
      "execution_count": null,
      "outputs": []
    },
    {
      "cell_type": "code",
      "source": [
        "# create scaler\n",
        "scaler_MIN_MAX = MinMaxScaler()\n",
        "# fit scaler on data\n",
        "scaler_MIN_MAX.fit(trainX)\n",
        "# apply transform\n",
        "trainX_norm = scaler_MIN_MAX.transform(trainX)\n",
        "testX_norm = scaler_MIN_MAX.transform(testX)\n",
        "# inverse transform\n",
        "#inverse = scaler.inverse_transform(normalized)"
      ],
      "metadata": {
        "id": "g1-P1Gst-NyS"
      },
      "execution_count": null,
      "outputs": []
    },
    {
      "cell_type": "code",
      "source": [
        "# fit model\n",
        "history_normX_scaledY = model.fit(trainX_norm, trainy, validation_data=(testX_norm, testy), epochs=100, verbose=0)\n",
        "# evaluate the model\n",
        "train_mse = model.evaluate(trainX, trainy, verbose=0)\n",
        "test_mse = model.evaluate(testX, testy, verbose=0)\n",
        "print('Train: %.3f, Test: %.3f' % (train_mse, test_mse))"
      ],
      "metadata": {
        "colab": {
          "base_uri": "https://localhost:8080/"
        },
        "id": "CK_nS8An-N1U",
        "outputId": "f92b455d-e38f-4736-ecf6-e03be4b1e9e6"
      },
      "execution_count": null,
      "outputs": [
        {
          "output_type": "stream",
          "name": "stdout",
          "text": [
            "Train: 1630137856.000, Test: 2735642112.000\n"
          ]
        }
      ]
    },
    {
      "cell_type": "code",
      "source": [
        ""
      ],
      "metadata": {
        "id": "yiVrLHzx-N7S"
      },
      "execution_count": null,
      "outputs": []
    }
  ]
}