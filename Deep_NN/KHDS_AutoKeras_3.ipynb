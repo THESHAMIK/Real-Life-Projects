{
  "nbformat": 4,
  "nbformat_minor": 0,
  "metadata": {
    "colab": {
      "name": "KHDS_AutoKeras_3.ipynb",
      "provenance": [],
      "collapsed_sections": [],
      "authorship_tag": "ABX9TyM5TWriY5Xs3V84eU5InZTw",
      "include_colab_link": true
    },
    "kernelspec": {
      "name": "python3",
      "display_name": "Python 3"
    },
    "language_info": {
      "name": "python"
    }
  },
  "cells": [
    {
      "cell_type": "markdown",
      "metadata": {
        "id": "view-in-github",
        "colab_type": "text"
      },
      "source": [
        "<a href=\"https://colab.research.google.com/github/THESHAMIK/Real-Life-Projects/blob/main/Deep_NN/KHDS_AutoKeras_3.ipynb\" target=\"_parent\"><img src=\"https://colab.research.google.com/assets/colab-badge.svg\" alt=\"Open In Colab\"/></a>"
      ]
    },
    {
      "cell_type": "markdown",
      "source": [
        "Here we tried to re-visit AUTOKERAS & tried to optimize it using more epochs, max trails, loss, metrics, callbacks, objective, tuner etc as per below site:\n",
        "https://autokeras.com/structured_data_regressor/\n",
        "\n",
        "Done most of experiments with both X & y as SCALED.\n",
        "\n",
        "https://machinelearningmastery.com/autokeras-for-classification-and-regression/ \n",
        "\n"
      ],
      "metadata": {
        "id": "SrySqTvtBZub"
      }
    },
    {
      "cell_type": "code",
      "execution_count": null,
      "metadata": {
        "id": "scCptK8q3jDo"
      },
      "outputs": [],
      "source": [
        "# Import packages\n",
        "import numpy as np\n",
        "import pandas as pd\n",
        "import random\n",
        "import matplotlib.pyplot as plt\n",
        "import seaborn as sns\n",
        "from sklearn.model_selection import train_test_split\n",
        "from sklearn.model_selection import cross_val_score\n",
        "from keras.models import Sequential\n",
        "from keras.layers import Dense, BatchNormalization, Dropout\n",
        "#from keras.optimizers import SGD, RMSprop, Adadelta, Adagrad, Adamax, Nadam, Ftrl\n",
        "from tensorflow.keras.optimizers import SGD, RMSprop, Adadelta, Adagrad, Adamax, Nadam, Ftrl\n",
        "from tensorflow.keras.optimizers import Adam ##because cannot import name 'Adam' from 'keras.optimizers'\n",
        "from keras.callbacks import EarlyStopping, ModelCheckpoint\n",
        "#from keras.wrappers.scikit_learn import KerasClassifier\n",
        "from keras.wrappers.scikit_learn import KerasRegressor\n",
        "from math import floor\n",
        "from sklearn.metrics import make_scorer, accuracy_score\n",
        "from sklearn.metrics import mean_squared_error\n",
        "from sklearn.metrics import mean_absolute_error\n",
        "from sklearn.metrics import r2_score\n",
        "#from bayes_opt import BayesianOptimization\n",
        "from sklearn.model_selection import StratifiedKFold\n",
        "from keras.layers import LeakyReLU\n",
        "LeakyReLU = LeakyReLU(alpha=0.1)\n",
        "import tensorflow as tf\n",
        "\n",
        "import warnings\n",
        "warnings.filterwarnings('ignore')\n",
        "pd.set_option(\"display.max_columns\", None)"
      ]
    },
    {
      "cell_type": "code",
      "source": [
        "df = pd.read_csv(\"khds_final_1.csv\")\n",
        "df['Product Sulphur'] = pd.to_numeric(df['Product Sulphur'],errors = 'coerce') ##==> This one works as pd.to_numeric works for convert a list, a series, an array, or a tuple to a numeric datatype\n",
        "filtered_df = df[df['Product Sulphur'].notnull()]\n",
        "df.dropna(axis=0)\n",
        "filtered_df.info()"
      ],
      "metadata": {
        "colab": {
          "base_uri": "https://localhost:8080/"
        },
        "id": "ZvO4zrnk3rWW",
        "outputId": "96d77761-ac4d-4055-c7db-61308e3bc035"
      },
      "execution_count": null,
      "outputs": [
        {
          "output_type": "stream",
          "name": "stdout",
          "text": [
            "<class 'pandas.core.frame.DataFrame'>\n",
            "Int64Index: 711 entries, 0 to 710\n",
            "Data columns (total 34 columns):\n",
            " #   Column                                     Non-Null Count  Dtype  \n",
            "---  ------                                     --------------  -----  \n",
            " 0   LABfeed Sulphur                            711 non-null    float64\n",
            " 1   T1 : FRESH FEED FLOW TO KHDS KGPerHour     711 non-null    float64\n",
            " 2   T1 : Reactor inlet temperature DEGC        711 non-null    float64\n",
            " 3   T1 : Hydrogen make-up flow NM3perHour      711 non-null    float64\n",
            " 4   T1 : Recycle hydrogen flow NM3perHour      711 non-null    float64\n",
            " 5   T1 : REACTOR OUTLET Temp DEGC              711 non-null    float64\n",
            " 6   T1 : REACTOR FEED INLET Pressure KGperCM2  711 non-null    float64\n",
            " 7   T1 : Cold separator pressure KGperCM2      711 non-null    float64\n",
            " 8   T1 : KERO FEED DENSITY KGperCM2            711 non-null    float64\n",
            " 9   T2 : FRESH FEED FLOW TO KHDS KGPerHour     711 non-null    float64\n",
            " 10  T2 : Reactor inlet temperature DEGC        711 non-null    float64\n",
            " 11  T2 : Hydrogen make-up flow NM3perHour      711 non-null    float64\n",
            " 12  T2 : Recycle hydrogen flow NM3perHour      711 non-null    float64\n",
            " 13  T2 : REACTOR OUTLET Temp DEGC              711 non-null    float64\n",
            " 14  T2 : REACTOR FEED INLET Pressure KGperCM2  711 non-null    float64\n",
            " 15  T2 : Cold separator pressure KGperCM2      711 non-null    float64\n",
            " 16  T2 : KERO FEED DENSITY KGperCM2            711 non-null    float64\n",
            " 17  T3 : FRESH FEED FLOW TO KHDS KGPerHour     711 non-null    float64\n",
            " 18  T3 : Reactor inlet temperature DEGC        711 non-null    float64\n",
            " 19  T3 : Hydrogen make-up flow NM3perHour      711 non-null    float64\n",
            " 20  T3 : Recycle hydrogen flow NM3perHour      711 non-null    float64\n",
            " 21  T3 : REACTOR OUTLET Temp DEGC              711 non-null    float64\n",
            " 22  T3 : REACTOR FEED INLET Pressure KGperCM2  711 non-null    float64\n",
            " 23  T3 : Cold separator pressure KGperCM2      711 non-null    float64\n",
            " 24  T3 : KERO FEED DENSITY KGperCM2            711 non-null    float64\n",
            " 25  T4 : FRESH FEED FLOW TO KHDS KGPerHour     711 non-null    float64\n",
            " 26  T4 : Reactor inlet temperature DEGC        711 non-null    float64\n",
            " 27  T4 : Hydrogen make-up flow NM3perHour      711 non-null    float64\n",
            " 28  T4 : Recycle hydrogen flow NM3perHour      711 non-null    float64\n",
            " 29  T4 : REACTOR OUTLET Temp DEGC              711 non-null    float64\n",
            " 30  T4 : REACTOR FEED INLET Pressure KGperCM2  711 non-null    float64\n",
            " 31  T4 : Cold separator pressure KGperCM2      711 non-null    float64\n",
            " 32  T4 : KERO FEED DENSITY KGperCM2            711 non-null    float64\n",
            " 33  Product Sulphur                            711 non-null    float64\n",
            "dtypes: float64(34)\n",
            "memory usage: 194.4 KB\n"
          ]
        }
      ]
    },
    {
      "cell_type": "code",
      "source": [
        "target_col = \"Product Sulphur\"\n",
        "X = filtered_df.loc[:, filtered_df.columns != target_col]\n",
        "y = filtered_df.loc[:, target_col]"
      ],
      "metadata": {
        "id": "OvP1UQdO3y5i"
      },
      "execution_count": null,
      "outputs": []
    },
    {
      "cell_type": "code",
      "source": [
        "from sklearn import metrics\n",
        "import pandas\n",
        "from keras.models import Sequential\n",
        "from keras.layers import Dense\n",
        "from keras.wrappers.scikit_learn import KerasRegressor\n",
        "from sklearn.model_selection import cross_val_score\n",
        "from sklearn.model_selection import KFold\n",
        "from sklearn.preprocessing import StandardScaler\n",
        "from sklearn.pipeline import Pipeline\n",
        "from keras.activations import linear\n",
        "import tensorflow.keras as keras\n",
        "from tensorflow.keras import regularizers\n",
        "import matplotlib.pyplot as plt\n",
        "from keras.models import Sequential\n",
        "from tensorflow.keras.optimizers import Adam# define model\n",
        "from keras.optimizer_v2.adam import Adam"
      ],
      "metadata": {
        "id": "3lLu7ZF14zap"
      },
      "execution_count": null,
      "outputs": []
    },
    {
      "cell_type": "code",
      "source": [
        "y = y.to_numpy()\n",
        "y = y.reshape(-1,1)\n",
        "#trainy = trainy.to_numpy()\n",
        "#trainy = trainy.reshape(-1,1)"
      ],
      "metadata": {
        "id": "EgmlE__I4kBu"
      },
      "execution_count": null,
      "outputs": []
    },
    {
      "cell_type": "code",
      "source": [
        "#from sklearn.preprocessing import StandardScaler\n",
        "#import numpy as np\n",
        "# created scaler for only X predictors\n",
        "input_scaler = StandardScaler()\n",
        "# fit scaler on training dataset\n",
        "# fit scaler\n",
        "input_scaler.fit(y)\n",
        "# transform training dataset\n",
        "y_scaled = input_scaler.transform(y)\n",
        "# transform test dataset\n",
        "#testX_scaled = input_scaler.transform(testX)"
      ],
      "metadata": {
        "id": "rCAkloFz4k6L"
      },
      "execution_count": null,
      "outputs": []
    },
    {
      "cell_type": "code",
      "source": [
        "#from sklearn.preprocessing import StandardScaler\n",
        "#import numpy as np\n",
        "# created scaler for only X predictors\n",
        "input_scaler = StandardScaler()\n",
        "# fit scaler on training dataset\n",
        "# fit scaler\n",
        "input_scaler.fit(X)\n",
        "# transform training dataset\n",
        "X_scaled = input_scaler.transform(X)\n",
        "# transform test dataset\n",
        "#testX_scaled = input_scaler.transform(testX)"
      ],
      "metadata": {
        "id": "m0jxWHyH46zA"
      },
      "execution_count": null,
      "outputs": []
    },
    {
      "cell_type": "code",
      "source": [
        "y.shape"
      ],
      "metadata": {
        "colab": {
          "base_uri": "https://localhost:8080/"
        },
        "id": "RFd0nwfH4nsX",
        "outputId": "e0bd5edf-f6a0-435b-ab4c-9fff03aef82d"
      },
      "execution_count": null,
      "outputs": [
        {
          "output_type": "execute_result",
          "data": {
            "text/plain": [
              "(711, 1)"
            ]
          },
          "metadata": {},
          "execution_count": 8
        }
      ]
    },
    {
      "cell_type": "code",
      "source": [
        "!pip install autokeras"
      ],
      "metadata": {
        "colab": {
          "base_uri": "https://localhost:8080/"
        },
        "id": "rs_YShck5HTN",
        "outputId": "4a80667d-89e1-49e8-ca5f-8ca1526fa754"
      },
      "execution_count": null,
      "outputs": [
        {
          "output_type": "stream",
          "name": "stdout",
          "text": [
            "Collecting autokeras\n",
            "  Downloading autokeras-1.0.19-py3-none-any.whl (162 kB)\n",
            "\u001b[?25l\r\u001b[K     |██                              | 10 kB 19.4 MB/s eta 0:00:01\r\u001b[K     |████                            | 20 kB 9.5 MB/s eta 0:00:01\r\u001b[K     |██████                          | 30 kB 8.0 MB/s eta 0:00:01\r\u001b[K     |████████                        | 40 kB 7.5 MB/s eta 0:00:01\r\u001b[K     |██████████                      | 51 kB 3.6 MB/s eta 0:00:01\r\u001b[K     |████████████                    | 61 kB 4.3 MB/s eta 0:00:01\r\u001b[K     |██████████████▏                 | 71 kB 4.8 MB/s eta 0:00:01\r\u001b[K     |████████████████▏               | 81 kB 4.6 MB/s eta 0:00:01\r\u001b[K     |██████████████████▏             | 92 kB 5.1 MB/s eta 0:00:01\r\u001b[K     |████████████████████▏           | 102 kB 4.3 MB/s eta 0:00:01\r\u001b[K     |██████████████████████▏         | 112 kB 4.3 MB/s eta 0:00:01\r\u001b[K     |████████████████████████▏       | 122 kB 4.3 MB/s eta 0:00:01\r\u001b[K     |██████████████████████████▎     | 133 kB 4.3 MB/s eta 0:00:01\r\u001b[K     |████████████████████████████▎   | 143 kB 4.3 MB/s eta 0:00:01\r\u001b[K     |██████████████████████████████▎ | 153 kB 4.3 MB/s eta 0:00:01\r\u001b[K     |████████████████████████████████| 162 kB 4.3 MB/s \n",
            "\u001b[?25hRequirement already satisfied: packaging in /usr/local/lib/python3.7/dist-packages (from autokeras) (21.3)\n",
            "Requirement already satisfied: pandas in /usr/local/lib/python3.7/dist-packages (from autokeras) (1.3.5)\n",
            "Requirement already satisfied: tensorflow>=2.8.0 in /usr/local/lib/python3.7/dist-packages (from autokeras) (2.8.0)\n",
            "Collecting keras-tuner>=1.1.0\n",
            "  Downloading keras_tuner-1.1.2-py3-none-any.whl (133 kB)\n",
            "\u001b[K     |████████████████████████████████| 133 kB 59.4 MB/s \n",
            "\u001b[?25hRequirement already satisfied: numpy in /usr/local/lib/python3.7/dist-packages (from keras-tuner>=1.1.0->autokeras) (1.21.6)\n",
            "Requirement already satisfied: requests in /usr/local/lib/python3.7/dist-packages (from keras-tuner>=1.1.0->autokeras) (2.23.0)\n",
            "Requirement already satisfied: tensorboard in /usr/local/lib/python3.7/dist-packages (from keras-tuner>=1.1.0->autokeras) (2.8.0)\n",
            "Requirement already satisfied: ipython in /usr/local/lib/python3.7/dist-packages (from keras-tuner>=1.1.0->autokeras) (5.5.0)\n",
            "Collecting kt-legacy\n",
            "  Downloading kt_legacy-1.0.4-py3-none-any.whl (9.6 kB)\n",
            "Requirement already satisfied: protobuf>=3.9.2 in /usr/local/lib/python3.7/dist-packages (from tensorflow>=2.8.0->autokeras) (3.17.3)\n",
            "Requirement already satisfied: h5py>=2.9.0 in /usr/local/lib/python3.7/dist-packages (from tensorflow>=2.8.0->autokeras) (3.1.0)\n",
            "Requirement already satisfied: six>=1.12.0 in /usr/local/lib/python3.7/dist-packages (from tensorflow>=2.8.0->autokeras) (1.15.0)\n",
            "Requirement already satisfied: tensorflow-io-gcs-filesystem>=0.23.1 in /usr/local/lib/python3.7/dist-packages (from tensorflow>=2.8.0->autokeras) (0.25.0)\n",
            "Requirement already satisfied: keras<2.9,>=2.8.0rc0 in /usr/local/lib/python3.7/dist-packages (from tensorflow>=2.8.0->autokeras) (2.8.0)\n",
            "Requirement already satisfied: absl-py>=0.4.0 in /usr/local/lib/python3.7/dist-packages (from tensorflow>=2.8.0->autokeras) (1.0.0)\n",
            "Requirement already satisfied: grpcio<2.0,>=1.24.3 in /usr/local/lib/python3.7/dist-packages (from tensorflow>=2.8.0->autokeras) (1.44.0)\n",
            "Requirement already satisfied: astunparse>=1.6.0 in /usr/local/lib/python3.7/dist-packages (from tensorflow>=2.8.0->autokeras) (1.6.3)\n",
            "Requirement already satisfied: libclang>=9.0.1 in /usr/local/lib/python3.7/dist-packages (from tensorflow>=2.8.0->autokeras) (14.0.1)\n",
            "Requirement already satisfied: keras-preprocessing>=1.1.1 in /usr/local/lib/python3.7/dist-packages (from tensorflow>=2.8.0->autokeras) (1.1.2)\n",
            "Requirement already satisfied: gast>=0.2.1 in /usr/local/lib/python3.7/dist-packages (from tensorflow>=2.8.0->autokeras) (0.5.3)\n",
            "Requirement already satisfied: google-pasta>=0.1.1 in /usr/local/lib/python3.7/dist-packages (from tensorflow>=2.8.0->autokeras) (0.2.0)\n",
            "Requirement already satisfied: flatbuffers>=1.12 in /usr/local/lib/python3.7/dist-packages (from tensorflow>=2.8.0->autokeras) (2.0)\n",
            "Collecting tf-estimator-nightly==2.8.0.dev2021122109\n",
            "  Downloading tf_estimator_nightly-2.8.0.dev2021122109-py2.py3-none-any.whl (462 kB)\n",
            "\u001b[K     |████████████████████████████████| 462 kB 53.8 MB/s \n",
            "\u001b[?25hRequirement already satisfied: wrapt>=1.11.0 in /usr/local/lib/python3.7/dist-packages (from tensorflow>=2.8.0->autokeras) (1.14.0)\n",
            "Requirement already satisfied: termcolor>=1.1.0 in /usr/local/lib/python3.7/dist-packages (from tensorflow>=2.8.0->autokeras) (1.1.0)\n",
            "Requirement already satisfied: setuptools in /usr/local/lib/python3.7/dist-packages (from tensorflow>=2.8.0->autokeras) (57.4.0)\n",
            "Requirement already satisfied: typing-extensions>=3.6.6 in /usr/local/lib/python3.7/dist-packages (from tensorflow>=2.8.0->autokeras) (4.2.0)\n",
            "Requirement already satisfied: opt-einsum>=2.3.2 in /usr/local/lib/python3.7/dist-packages (from tensorflow>=2.8.0->autokeras) (3.3.0)\n",
            "Requirement already satisfied: wheel<1.0,>=0.23.0 in /usr/local/lib/python3.7/dist-packages (from astunparse>=1.6.0->tensorflow>=2.8.0->autokeras) (0.37.1)\n",
            "Requirement already satisfied: cached-property in /usr/local/lib/python3.7/dist-packages (from h5py>=2.9.0->tensorflow>=2.8.0->autokeras) (1.5.2)\n",
            "Requirement already satisfied: google-auth<3,>=1.6.3 in /usr/local/lib/python3.7/dist-packages (from tensorboard->keras-tuner>=1.1.0->autokeras) (1.35.0)\n",
            "Requirement already satisfied: tensorboard-data-server<0.7.0,>=0.6.0 in /usr/local/lib/python3.7/dist-packages (from tensorboard->keras-tuner>=1.1.0->autokeras) (0.6.1)\n",
            "Requirement already satisfied: tensorboard-plugin-wit>=1.6.0 in /usr/local/lib/python3.7/dist-packages (from tensorboard->keras-tuner>=1.1.0->autokeras) (1.8.1)\n",
            "Requirement already satisfied: werkzeug>=0.11.15 in /usr/local/lib/python3.7/dist-packages (from tensorboard->keras-tuner>=1.1.0->autokeras) (1.0.1)\n",
            "Requirement already satisfied: google-auth-oauthlib<0.5,>=0.4.1 in /usr/local/lib/python3.7/dist-packages (from tensorboard->keras-tuner>=1.1.0->autokeras) (0.4.6)\n",
            "Requirement already satisfied: markdown>=2.6.8 in /usr/local/lib/python3.7/dist-packages (from tensorboard->keras-tuner>=1.1.0->autokeras) (3.3.6)\n",
            "Requirement already satisfied: pyasn1-modules>=0.2.1 in /usr/local/lib/python3.7/dist-packages (from google-auth<3,>=1.6.3->tensorboard->keras-tuner>=1.1.0->autokeras) (0.2.8)\n",
            "Requirement already satisfied: rsa<5,>=3.1.4 in /usr/local/lib/python3.7/dist-packages (from google-auth<3,>=1.6.3->tensorboard->keras-tuner>=1.1.0->autokeras) (4.8)\n",
            "Requirement already satisfied: cachetools<5.0,>=2.0.0 in /usr/local/lib/python3.7/dist-packages (from google-auth<3,>=1.6.3->tensorboard->keras-tuner>=1.1.0->autokeras) (4.2.4)\n",
            "Requirement already satisfied: requests-oauthlib>=0.7.0 in /usr/local/lib/python3.7/dist-packages (from google-auth-oauthlib<0.5,>=0.4.1->tensorboard->keras-tuner>=1.1.0->autokeras) (1.3.1)\n",
            "Requirement already satisfied: importlib-metadata>=4.4 in /usr/local/lib/python3.7/dist-packages (from markdown>=2.6.8->tensorboard->keras-tuner>=1.1.0->autokeras) (4.11.3)\n",
            "Requirement already satisfied: zipp>=0.5 in /usr/local/lib/python3.7/dist-packages (from importlib-metadata>=4.4->markdown>=2.6.8->tensorboard->keras-tuner>=1.1.0->autokeras) (3.8.0)\n",
            "Requirement already satisfied: pyasn1<0.5.0,>=0.4.6 in /usr/local/lib/python3.7/dist-packages (from pyasn1-modules>=0.2.1->google-auth<3,>=1.6.3->tensorboard->keras-tuner>=1.1.0->autokeras) (0.4.8)\n",
            "Requirement already satisfied: certifi>=2017.4.17 in /usr/local/lib/python3.7/dist-packages (from requests->keras-tuner>=1.1.0->autokeras) (2021.10.8)\n",
            "Requirement already satisfied: idna<3,>=2.5 in /usr/local/lib/python3.7/dist-packages (from requests->keras-tuner>=1.1.0->autokeras) (2.10)\n",
            "Requirement already satisfied: urllib3!=1.25.0,!=1.25.1,<1.26,>=1.21.1 in /usr/local/lib/python3.7/dist-packages (from requests->keras-tuner>=1.1.0->autokeras) (1.24.3)\n",
            "Requirement already satisfied: chardet<4,>=3.0.2 in /usr/local/lib/python3.7/dist-packages (from requests->keras-tuner>=1.1.0->autokeras) (3.0.4)\n",
            "Requirement already satisfied: oauthlib>=3.0.0 in /usr/local/lib/python3.7/dist-packages (from requests-oauthlib>=0.7.0->google-auth-oauthlib<0.5,>=0.4.1->tensorboard->keras-tuner>=1.1.0->autokeras) (3.2.0)\n",
            "Requirement already satisfied: prompt-toolkit<2.0.0,>=1.0.4 in /usr/local/lib/python3.7/dist-packages (from ipython->keras-tuner>=1.1.0->autokeras) (1.0.18)\n",
            "Requirement already satisfied: pickleshare in /usr/local/lib/python3.7/dist-packages (from ipython->keras-tuner>=1.1.0->autokeras) (0.7.5)\n",
            "Requirement already satisfied: simplegeneric>0.8 in /usr/local/lib/python3.7/dist-packages (from ipython->keras-tuner>=1.1.0->autokeras) (0.8.1)\n",
            "Requirement already satisfied: pygments in /usr/local/lib/python3.7/dist-packages (from ipython->keras-tuner>=1.1.0->autokeras) (2.6.1)\n",
            "Requirement already satisfied: pexpect in /usr/local/lib/python3.7/dist-packages (from ipython->keras-tuner>=1.1.0->autokeras) (4.8.0)\n",
            "Requirement already satisfied: decorator in /usr/local/lib/python3.7/dist-packages (from ipython->keras-tuner>=1.1.0->autokeras) (4.4.2)\n",
            "Requirement already satisfied: traitlets>=4.2 in /usr/local/lib/python3.7/dist-packages (from ipython->keras-tuner>=1.1.0->autokeras) (5.1.1)\n",
            "Requirement already satisfied: wcwidth in /usr/local/lib/python3.7/dist-packages (from prompt-toolkit<2.0.0,>=1.0.4->ipython->keras-tuner>=1.1.0->autokeras) (0.2.5)\n",
            "Requirement already satisfied: pyparsing!=3.0.5,>=2.0.2 in /usr/local/lib/python3.7/dist-packages (from packaging->autokeras) (3.0.8)\n",
            "Requirement already satisfied: pytz>=2017.3 in /usr/local/lib/python3.7/dist-packages (from pandas->autokeras) (2022.1)\n",
            "Requirement already satisfied: python-dateutil>=2.7.3 in /usr/local/lib/python3.7/dist-packages (from pandas->autokeras) (2.8.2)\n",
            "Requirement already satisfied: ptyprocess>=0.5 in /usr/local/lib/python3.7/dist-packages (from pexpect->ipython->keras-tuner>=1.1.0->autokeras) (0.7.0)\n",
            "Installing collected packages: tf-estimator-nightly, kt-legacy, keras-tuner, autokeras\n",
            "Successfully installed autokeras-1.0.19 keras-tuner-1.1.2 kt-legacy-1.0.4 tf-estimator-nightly-2.8.0.dev2021122109\n"
          ]
        }
      ]
    },
    {
      "cell_type": "code",
      "source": [
        "import plotly.express as px\n",
        "import autokeras as ak\n",
        "from autokeras import StructuredDataRegressor\n",
        "from sklearn.model_selection import train_test_split\n",
        "from IPython.display import HTML"
      ],
      "metadata": {
        "id": "yJiJ3vA15fmA"
      },
      "execution_count": null,
      "outputs": []
    },
    {
      "cell_type": "code",
      "source": [
        "earlystopper = EarlyStopping(monitor='loss', min_delta=0, patience=15, verbose=1, mode='auto') #patience reduced to 10 from 15\n",
        "#estimator = KerasRegressor(build_fn=baseline_model, epochs=100, batch_size=5, verbose=0, shuffle=False)\n",
        "#history_5_4 = lr_model_d.fit(trainX_scaled, trainy_scaled, batch_size=30, epochs = 500, validation_data=(testX_scaled, testy_scaled),shuffle = True, verbose = 0, callbacks = [earlystopper])\n",
        "#history_5_4 = lr_model_d_1.fit(trainX, trainy_scaled, batch_size=30, epochs = 500, validation_data=(testX, testy_scaled),shuffle = True, verbose = 0, callbacks = [earlystopper])\n",
        "#estimator = KerasRegressor(build_fn=baseline_model, epochs=100, batch_size=5, verbose=0, shuffle=False,callbacks=[EarlyStopping(monitor='val_loss', patience=20)])\n",
        "#estimator = KerasRegressor(build_fn=baseline_model, epochs=100, batch_size=5, verbose=0, shuffle=False,callbacks=[earlystopper])"
      ],
      "metadata": {
        "id": "sNpm90l9JDFS"
      },
      "execution_count": null,
      "outputs": []
    },
    {
      "cell_type": "code",
      "source": [
        "# It tries 10 different models.\n",
        "reg = ak.StructuredDataRegressor(max_trials=40, overwrite=True, loss=\"mean_squared_error\",metrics=None, objective=\"val_loss\")\n",
        "#reg = ak.StructuredDataRegressor(overwrite=True, loss=\"mean_squared_error\",metrics=None, objective=\"val_loss\", tuner='random')\n",
        "# Feed the structured data regressor with training data.\n",
        "reg.fit(X_scaled, y_scaled, epochs=200, callbacks=[earlystopper])"
      ],
      "metadata": {
        "colab": {
          "base_uri": "https://localhost:8080/"
        },
        "id": "YXeGDjCk5jEA",
        "outputId": "820b9e8b-44e5-47ad-8137-966cd00631b8"
      },
      "execution_count": null,
      "outputs": [
        {
          "output_type": "stream",
          "name": "stdout",
          "text": [
            "Trial 40 Complete [00h 00m 09s]\n",
            "val_loss: 4.023104667663574\n",
            "\n",
            "Best val_loss So Far: 2.275585651397705\n",
            "Total elapsed time: 00h 19m 59s\n",
            "INFO:tensorflow:Oracle triggered exit\n",
            "Epoch 1/200\n",
            "23/23 [==============================] - 1s 4ms/step - loss: 1.2016 - mean_squared_error: 1.2016\n",
            "Epoch 2/200\n",
            "23/23 [==============================] - 0s 3ms/step - loss: 1.6616 - mean_squared_error: 1.6616\n",
            "Epoch 3/200\n",
            "23/23 [==============================] - 0s 3ms/step - loss: 0.9121 - mean_squared_error: 0.9121\n",
            "Epoch 4/200\n",
            "23/23 [==============================] - 0s 4ms/step - loss: 0.8055 - mean_squared_error: 0.8055\n",
            "Epoch 5/200\n",
            "23/23 [==============================] - 0s 4ms/step - loss: 0.7894 - mean_squared_error: 0.7894\n",
            "Epoch 6/200\n",
            "23/23 [==============================] - 0s 4ms/step - loss: 0.7485 - mean_squared_error: 0.7485\n",
            "Epoch 7/200\n",
            "23/23 [==============================] - 0s 4ms/step - loss: 0.7397 - mean_squared_error: 0.7397\n",
            "Epoch 8/200\n",
            "23/23 [==============================] - 0s 3ms/step - loss: 0.7164 - mean_squared_error: 0.7164\n",
            "Epoch 9/200\n",
            "23/23 [==============================] - 0s 3ms/step - loss: 0.8226 - mean_squared_error: 0.8226\n",
            "Epoch 10/200\n",
            "23/23 [==============================] - 0s 3ms/step - loss: 0.8195 - mean_squared_error: 0.8195\n",
            "Epoch 11/200\n",
            "23/23 [==============================] - 0s 2ms/step - loss: 0.9587 - mean_squared_error: 0.9587\n",
            "Epoch 12/200\n",
            "23/23 [==============================] - 0s 2ms/step - loss: 0.8272 - mean_squared_error: 0.8272\n",
            "Epoch 13/200\n",
            "23/23 [==============================] - 0s 3ms/step - loss: 0.7604 - mean_squared_error: 0.7604\n",
            "Epoch 14/200\n",
            "23/23 [==============================] - 0s 3ms/step - loss: 0.6384 - mean_squared_error: 0.6384\n",
            "Epoch 15/200\n",
            "23/23 [==============================] - 0s 3ms/step - loss: 0.6305 - mean_squared_error: 0.6305\n",
            "Epoch 16/200\n",
            "23/23 [==============================] - 0s 2ms/step - loss: 0.5953 - mean_squared_error: 0.5953\n",
            "Epoch 17/200\n",
            "23/23 [==============================] - 0s 2ms/step - loss: 0.5818 - mean_squared_error: 0.5818\n",
            "Epoch 18/200\n",
            "23/23 [==============================] - 0s 3ms/step - loss: 0.5432 - mean_squared_error: 0.5432\n",
            "Epoch 19/200\n",
            "23/23 [==============================] - 0s 3ms/step - loss: 0.5351 - mean_squared_error: 0.5351\n",
            "Epoch 20/200\n",
            "23/23 [==============================] - 0s 3ms/step - loss: 0.5072 - mean_squared_error: 0.5072\n",
            "Epoch 21/200\n",
            "23/23 [==============================] - 0s 3ms/step - loss: 0.5020 - mean_squared_error: 0.5020\n",
            "Epoch 22/200\n",
            "23/23 [==============================] - 0s 2ms/step - loss: 0.4818 - mean_squared_error: 0.4818\n",
            "Epoch 23/200\n",
            "23/23 [==============================] - 0s 3ms/step - loss: 0.4792 - mean_squared_error: 0.4792\n",
            "Epoch 24/200\n",
            "23/23 [==============================] - 0s 3ms/step - loss: 0.4620 - mean_squared_error: 0.4620\n",
            "Epoch 25/200\n",
            "23/23 [==============================] - 0s 2ms/step - loss: 0.4594 - mean_squared_error: 0.4594\n",
            "Epoch 26/200\n",
            "23/23 [==============================] - 0s 3ms/step - loss: 0.4455 - mean_squared_error: 0.4455\n",
            "Epoch 27/200\n",
            "23/23 [==============================] - 0s 3ms/step - loss: 0.4616 - mean_squared_error: 0.4616\n",
            "Epoch 28/200\n",
            "23/23 [==============================] - 0s 3ms/step - loss: 0.4532 - mean_squared_error: 0.4532\n",
            "Epoch 29/200\n",
            "23/23 [==============================] - 0s 2ms/step - loss: 0.4558 - mean_squared_error: 0.4558\n",
            "Epoch 30/200\n",
            "23/23 [==============================] - 0s 3ms/step - loss: 0.4208 - mean_squared_error: 0.4208\n",
            "Epoch 31/200\n",
            "23/23 [==============================] - 0s 3ms/step - loss: 0.4108 - mean_squared_error: 0.4108\n",
            "Epoch 32/200\n",
            "23/23 [==============================] - 0s 3ms/step - loss: 0.3817 - mean_squared_error: 0.3817\n",
            "Epoch 33/200\n",
            "23/23 [==============================] - 0s 3ms/step - loss: 0.3776 - mean_squared_error: 0.3776\n",
            "Epoch 34/200\n",
            "23/23 [==============================] - 0s 3ms/step - loss: 0.3575 - mean_squared_error: 0.3575\n",
            "Epoch 35/200\n",
            "23/23 [==============================] - 0s 2ms/step - loss: 0.3571 - mean_squared_error: 0.3571\n",
            "Epoch 36/200\n",
            "23/23 [==============================] - 0s 2ms/step - loss: 0.3403 - mean_squared_error: 0.3403\n",
            "Epoch 37/200\n",
            "23/23 [==============================] - 0s 3ms/step - loss: 0.3396 - mean_squared_error: 0.3396\n",
            "Epoch 38/200\n",
            "23/23 [==============================] - 0s 3ms/step - loss: 0.3246 - mean_squared_error: 0.3246\n",
            "Epoch 39/200\n",
            "23/23 [==============================] - 0s 3ms/step - loss: 0.3226 - mean_squared_error: 0.3226\n",
            "Epoch 40/200\n",
            "23/23 [==============================] - 0s 2ms/step - loss: 0.3106 - mean_squared_error: 0.3106\n",
            "Epoch 41/200\n",
            "23/23 [==============================] - 0s 3ms/step - loss: 0.3099 - mean_squared_error: 0.3099\n",
            "Epoch 42/200\n",
            "23/23 [==============================] - 0s 3ms/step - loss: 0.3015 - mean_squared_error: 0.3015\n",
            "Epoch 43/200\n",
            "23/23 [==============================] - 0s 3ms/step - loss: 0.3064 - mean_squared_error: 0.3064\n",
            "Epoch 44/200\n",
            "23/23 [==============================] - 0s 2ms/step - loss: 0.2981 - mean_squared_error: 0.2981\n",
            "Epoch 45/200\n",
            "23/23 [==============================] - 0s 3ms/step - loss: 0.3102 - mean_squared_error: 0.3102\n",
            "Epoch 46/200\n",
            "23/23 [==============================] - 0s 2ms/step - loss: 0.2976 - mean_squared_error: 0.2976\n",
            "Epoch 47/200\n",
            "23/23 [==============================] - 0s 3ms/step - loss: 0.3071 - mean_squared_error: 0.3071\n",
            "Epoch 48/200\n",
            "23/23 [==============================] - 0s 2ms/step - loss: 0.2914 - mean_squared_error: 0.2914\n",
            "Epoch 49/200\n",
            "23/23 [==============================] - 0s 3ms/step - loss: 0.2882 - mean_squared_error: 0.2882\n",
            "Epoch 50/200\n",
            "23/23 [==============================] - 0s 3ms/step - loss: 0.2786 - mean_squared_error: 0.2786\n",
            "Epoch 51/200\n",
            "23/23 [==============================] - 0s 2ms/step - loss: 0.2724 - mean_squared_error: 0.2724\n",
            "Epoch 52/200\n",
            "23/23 [==============================] - 0s 3ms/step - loss: 0.2678 - mean_squared_error: 0.2678\n",
            "Epoch 53/200\n",
            "23/23 [==============================] - 0s 2ms/step - loss: 0.2602 - mean_squared_error: 0.2602\n",
            "Epoch 54/200\n",
            "23/23 [==============================] - 0s 3ms/step - loss: 0.2559 - mean_squared_error: 0.2559\n",
            "Epoch 55/200\n",
            "23/23 [==============================] - 0s 2ms/step - loss: 0.2492 - mean_squared_error: 0.2492\n",
            "Epoch 56/200\n",
            "23/23 [==============================] - 0s 3ms/step - loss: 0.2487 - mean_squared_error: 0.2487\n",
            "Epoch 57/200\n",
            "23/23 [==============================] - 0s 3ms/step - loss: 0.2445 - mean_squared_error: 0.2445\n",
            "Epoch 58/200\n",
            "23/23 [==============================] - 0s 2ms/step - loss: 0.2512 - mean_squared_error: 0.2512\n",
            "Epoch 59/200\n",
            "23/23 [==============================] - 0s 3ms/step - loss: 0.2416 - mean_squared_error: 0.2416\n",
            "Epoch 60/200\n",
            "23/23 [==============================] - 0s 4ms/step - loss: 0.2509 - mean_squared_error: 0.2509\n",
            "Epoch 61/200\n",
            "23/23 [==============================] - 0s 4ms/step - loss: 0.2417 - mean_squared_error: 0.2417\n",
            "Epoch 62/200\n",
            "23/23 [==============================] - 0s 3ms/step - loss: 0.2525 - mean_squared_error: 0.2525\n",
            "Epoch 63/200\n",
            "23/23 [==============================] - 0s 4ms/step - loss: 0.2554 - mean_squared_error: 0.2554\n",
            "Epoch 64/200\n",
            "23/23 [==============================] - 0s 4ms/step - loss: 0.2542 - mean_squared_error: 0.2542\n",
            "Epoch 65/200\n",
            "23/23 [==============================] - 0s 4ms/step - loss: 0.2568 - mean_squared_error: 0.2568\n",
            "Epoch 66/200\n",
            "23/23 [==============================] - 0s 4ms/step - loss: 0.2689 - mean_squared_error: 0.2689\n",
            "Epoch 67/200\n",
            "23/23 [==============================] - 0s 3ms/step - loss: 0.2632 - mean_squared_error: 0.2632\n",
            "Epoch 68/200\n",
            "23/23 [==============================] - 0s 4ms/step - loss: 0.2357 - mean_squared_error: 0.2357\n",
            "Epoch 69/200\n",
            "23/23 [==============================] - 0s 4ms/step - loss: 0.2283 - mean_squared_error: 0.2283\n",
            "Epoch 70/200\n",
            "23/23 [==============================] - 0s 4ms/step - loss: 0.2145 - mean_squared_error: 0.2145\n",
            "Epoch 71/200\n",
            "23/23 [==============================] - 0s 4ms/step - loss: 0.2153 - mean_squared_error: 0.2153\n",
            "Epoch 72/200\n",
            "23/23 [==============================] - 0s 3ms/step - loss: 0.2090 - mean_squared_error: 0.2090\n",
            "Epoch 73/200\n",
            "23/23 [==============================] - 0s 3ms/step - loss: 0.2102 - mean_squared_error: 0.2102\n",
            "Epoch 74/200\n",
            "23/23 [==============================] - 0s 2ms/step - loss: 0.2068 - mean_squared_error: 0.2068\n",
            "Epoch 75/200\n",
            "23/23 [==============================] - 0s 2ms/step - loss: 0.2072 - mean_squared_error: 0.2072\n",
            "Epoch 76/200\n",
            "23/23 [==============================] - 0s 3ms/step - loss: 0.2032 - mean_squared_error: 0.2032\n",
            "Epoch 77/200\n",
            "23/23 [==============================] - 0s 2ms/step - loss: 0.2033 - mean_squared_error: 0.2033\n",
            "Epoch 78/200\n",
            "23/23 [==============================] - 0s 2ms/step - loss: 0.2023 - mean_squared_error: 0.2023\n",
            "Epoch 79/200\n",
            "23/23 [==============================] - 0s 2ms/step - loss: 0.1997 - mean_squared_error: 0.1997\n",
            "Epoch 80/200\n",
            "23/23 [==============================] - 0s 3ms/step - loss: 0.2009 - mean_squared_error: 0.2009\n",
            "Epoch 81/200\n",
            "23/23 [==============================] - 0s 3ms/step - loss: 0.1948 - mean_squared_error: 0.1948\n",
            "Epoch 82/200\n",
            "23/23 [==============================] - 0s 2ms/step - loss: 0.1978 - mean_squared_error: 0.1978\n",
            "Epoch 83/200\n",
            "23/23 [==============================] - 0s 2ms/step - loss: 0.1938 - mean_squared_error: 0.1938\n",
            "Epoch 84/200\n",
            "23/23 [==============================] - 0s 3ms/step - loss: 0.1963 - mean_squared_error: 0.1963\n",
            "Epoch 85/200\n",
            "23/23 [==============================] - 0s 3ms/step - loss: 0.1925 - mean_squared_error: 0.1925\n",
            "Epoch 86/200\n",
            "23/23 [==============================] - 0s 2ms/step - loss: 0.1937 - mean_squared_error: 0.1937\n",
            "Epoch 87/200\n",
            "23/23 [==============================] - 0s 2ms/step - loss: 0.1902 - mean_squared_error: 0.1902\n",
            "Epoch 88/200\n",
            "23/23 [==============================] - 0s 2ms/step - loss: 0.1939 - mean_squared_error: 0.1939\n",
            "Epoch 89/200\n",
            "23/23 [==============================] - 0s 2ms/step - loss: 0.1906 - mean_squared_error: 0.1906\n",
            "Epoch 90/200\n",
            "23/23 [==============================] - 0s 4ms/step - loss: 0.1980 - mean_squared_error: 0.1980\n",
            "Epoch 91/200\n",
            "23/23 [==============================] - 0s 3ms/step - loss: 0.1936 - mean_squared_error: 0.1936\n",
            "Epoch 92/200\n",
            "23/23 [==============================] - 0s 4ms/step - loss: 0.2181 - mean_squared_error: 0.2181\n",
            "Epoch 93/200\n",
            "23/23 [==============================] - 0s 4ms/step - loss: 0.2119 - mean_squared_error: 0.2119\n",
            "Epoch 94/200\n",
            "23/23 [==============================] - 0s 3ms/step - loss: 0.2376 - mean_squared_error: 0.2376\n",
            "Epoch 95/200\n",
            "23/23 [==============================] - 0s 3ms/step - loss: 0.3110 - mean_squared_error: 0.3110\n",
            "Epoch 96/200\n",
            "23/23 [==============================] - 0s 4ms/step - loss: 0.3864 - mean_squared_error: 0.3864\n",
            "Epoch 97/200\n",
            "23/23 [==============================] - 0s 3ms/step - loss: 0.4133 - mean_squared_error: 0.4133\n",
            "Epoch 98/200\n",
            "23/23 [==============================] - 0s 4ms/step - loss: 0.9574 - mean_squared_error: 0.9574\n",
            "Epoch 99/200\n",
            "23/23 [==============================] - 0s 3ms/step - loss: 0.2774 - mean_squared_error: 0.2774\n",
            "Epoch 100/200\n",
            "23/23 [==============================] - 0s 4ms/step - loss: 0.3508 - mean_squared_error: 0.3508\n",
            "Epoch 101/200\n",
            "23/23 [==============================] - 0s 3ms/step - loss: 0.3063 - mean_squared_error: 0.3063\n",
            "Epoch 102/200\n",
            "23/23 [==============================] - 0s 3ms/step - loss: 0.2019 - mean_squared_error: 0.2019\n",
            "Epoch 103/200\n",
            "23/23 [==============================] - 0s 3ms/step - loss: 0.2045 - mean_squared_error: 0.2045\n",
            "Epoch 104/200\n",
            "23/23 [==============================] - 0s 3ms/step - loss: 0.1977 - mean_squared_error: 0.1977\n",
            "Epoch 105/200\n",
            "23/23 [==============================] - 0s 3ms/step - loss: 0.2058 - mean_squared_error: 0.2058\n",
            "Epoch 106/200\n",
            "23/23 [==============================] - 0s 3ms/step - loss: 0.2018 - mean_squared_error: 0.2018\n",
            "Epoch 107/200\n",
            "23/23 [==============================] - 0s 3ms/step - loss: 0.2181 - mean_squared_error: 0.2181\n",
            "Epoch 108/200\n",
            "23/23 [==============================] - 0s 4ms/step - loss: 0.2159 - mean_squared_error: 0.2159\n",
            "Epoch 109/200\n",
            "23/23 [==============================] - 0s 3ms/step - loss: 0.2129 - mean_squared_error: 0.2129\n",
            "Epoch 110/200\n",
            "23/23 [==============================] - 0s 3ms/step - loss: 0.1998 - mean_squared_error: 0.1998\n",
            "Epoch 111/200\n",
            "23/23 [==============================] - 0s 3ms/step - loss: 0.1878 - mean_squared_error: 0.1878\n",
            "Epoch 112/200\n",
            "23/23 [==============================] - 0s 2ms/step - loss: 0.1864 - mean_squared_error: 0.1864\n",
            "Epoch 113/200\n",
            "23/23 [==============================] - 0s 3ms/step - loss: 0.1808 - mean_squared_error: 0.1808\n",
            "Epoch 114/200\n",
            "23/23 [==============================] - 0s 3ms/step - loss: 0.1756 - mean_squared_error: 0.1756\n",
            "Epoch 115/200\n",
            "23/23 [==============================] - 0s 3ms/step - loss: 0.1775 - mean_squared_error: 0.1775\n",
            "Epoch 116/200\n",
            "23/23 [==============================] - 0s 3ms/step - loss: 0.1814 - mean_squared_error: 0.1814\n",
            "Epoch 117/200\n",
            "23/23 [==============================] - 0s 2ms/step - loss: 0.1857 - mean_squared_error: 0.1857\n",
            "Epoch 118/200\n",
            "23/23 [==============================] - 0s 3ms/step - loss: 0.1840 - mean_squared_error: 0.1840\n",
            "Epoch 119/200\n",
            "23/23 [==============================] - 0s 4ms/step - loss: 0.1830 - mean_squared_error: 0.1830\n",
            "Epoch 120/200\n",
            "23/23 [==============================] - 0s 3ms/step - loss: 0.1734 - mean_squared_error: 0.1734\n",
            "Epoch 121/200\n",
            "23/23 [==============================] - 0s 3ms/step - loss: 0.1710 - mean_squared_error: 0.1710\n",
            "Epoch 122/200\n",
            "23/23 [==============================] - 0s 4ms/step - loss: 0.1700 - mean_squared_error: 0.1700\n",
            "Epoch 123/200\n",
            "23/23 [==============================] - 0s 4ms/step - loss: 0.1673 - mean_squared_error: 0.1673\n",
            "Epoch 124/200\n",
            "23/23 [==============================] - 0s 3ms/step - loss: 0.1723 - mean_squared_error: 0.1723\n",
            "Epoch 125/200\n",
            "23/23 [==============================] - 0s 3ms/step - loss: 0.1700 - mean_squared_error: 0.1700\n",
            "Epoch 126/200\n",
            "23/23 [==============================] - 0s 3ms/step - loss: 0.1729 - mean_squared_error: 0.1729\n",
            "Epoch 127/200\n",
            "23/23 [==============================] - 0s 3ms/step - loss: 0.1695 - mean_squared_error: 0.1695\n",
            "Epoch 128/200\n",
            "23/23 [==============================] - 0s 2ms/step - loss: 0.1705 - mean_squared_error: 0.1705\n",
            "Epoch 129/200\n",
            "23/23 [==============================] - 0s 3ms/step - loss: 0.1699 - mean_squared_error: 0.1699\n",
            "Epoch 130/200\n",
            "23/23 [==============================] - 0s 3ms/step - loss: 0.1713 - mean_squared_error: 0.1713\n",
            "Epoch 131/200\n",
            "23/23 [==============================] - 0s 3ms/step - loss: 0.1764 - mean_squared_error: 0.1764\n",
            "Epoch 132/200\n",
            "23/23 [==============================] - 0s 2ms/step - loss: 0.1743 - mean_squared_error: 0.1743\n",
            "Epoch 133/200\n",
            "23/23 [==============================] - 0s 2ms/step - loss: 0.1827 - mean_squared_error: 0.1827\n",
            "Epoch 134/200\n",
            "23/23 [==============================] - 0s 3ms/step - loss: 0.1727 - mean_squared_error: 0.1727\n",
            "Epoch 135/200\n",
            "23/23 [==============================] - 0s 4ms/step - loss: 0.1768 - mean_squared_error: 0.1768\n",
            "Epoch 136/200\n",
            "23/23 [==============================] - 0s 3ms/step - loss: 0.1692 - mean_squared_error: 0.1692\n",
            "Epoch 137/200\n",
            "23/23 [==============================] - 0s 3ms/step - loss: 0.1721 - mean_squared_error: 0.1721\n",
            "Epoch 138/200\n",
            "23/23 [==============================] - 0s 4ms/step - loss: 0.1813 - mean_squared_error: 0.1813\n",
            "Epoch 139/200\n",
            "23/23 [==============================] - 0s 4ms/step - loss: 0.1865 - mean_squared_error: 0.1865\n",
            "Epoch 140/200\n",
            "23/23 [==============================] - 0s 3ms/step - loss: 0.1878 - mean_squared_error: 0.1878\n",
            "Epoch 141/200\n",
            "23/23 [==============================] - 0s 4ms/step - loss: 0.1699 - mean_squared_error: 0.1699\n",
            "Epoch 142/200\n",
            "23/23 [==============================] - 0s 4ms/step - loss: 0.1704 - mean_squared_error: 0.1704\n",
            "Epoch 143/200\n",
            "23/23 [==============================] - 0s 3ms/step - loss: 0.1580 - mean_squared_error: 0.1580\n",
            "Epoch 144/200\n",
            "23/23 [==============================] - 0s 4ms/step - loss: 0.1588 - mean_squared_error: 0.1588\n",
            "Epoch 145/200\n",
            "23/23 [==============================] - 0s 4ms/step - loss: 0.1585 - mean_squared_error: 0.1585\n",
            "Epoch 146/200\n",
            "23/23 [==============================] - 0s 3ms/step - loss: 0.1620 - mean_squared_error: 0.1620\n",
            "Epoch 147/200\n",
            "23/23 [==============================] - 0s 3ms/step - loss: 0.1632 - mean_squared_error: 0.1632\n",
            "Epoch 148/200\n",
            "23/23 [==============================] - 0s 3ms/step - loss: 0.1594 - mean_squared_error: 0.1594\n",
            "Epoch 149/200\n",
            "23/23 [==============================] - 0s 4ms/step - loss: 0.1588 - mean_squared_error: 0.1588\n",
            "Epoch 150/200\n",
            "23/23 [==============================] - 0s 3ms/step - loss: 0.1544 - mean_squared_error: 0.1544\n",
            "Epoch 151/200\n",
            "23/23 [==============================] - 0s 2ms/step - loss: 0.1561 - mean_squared_error: 0.1561\n",
            "Epoch 152/200\n",
            "23/23 [==============================] - 0s 3ms/step - loss: 0.1544 - mean_squared_error: 0.1544\n",
            "Epoch 153/200\n",
            "23/23 [==============================] - 0s 3ms/step - loss: 0.1557 - mean_squared_error: 0.1557\n",
            "Epoch 154/200\n",
            "23/23 [==============================] - 0s 3ms/step - loss: 0.1525 - mean_squared_error: 0.1525\n",
            "Epoch 155/200\n",
            "23/23 [==============================] - 0s 3ms/step - loss: 0.1516 - mean_squared_error: 0.1516\n",
            "Epoch 156/200\n",
            "23/23 [==============================] - 0s 3ms/step - loss: 0.1449 - mean_squared_error: 0.1449\n",
            "Epoch 157/200\n",
            "23/23 [==============================] - 0s 3ms/step - loss: 0.1457 - mean_squared_error: 0.1457\n",
            "Epoch 158/200\n",
            "23/23 [==============================] - 0s 3ms/step - loss: 0.1414 - mean_squared_error: 0.1414\n",
            "Epoch 159/200\n",
            "23/23 [==============================] - 0s 3ms/step - loss: 0.1443 - mean_squared_error: 0.1443\n",
            "Epoch 160/200\n",
            "23/23 [==============================] - 0s 3ms/step - loss: 0.1418 - mean_squared_error: 0.1418\n",
            "Epoch 161/200\n",
            "23/23 [==============================] - 0s 3ms/step - loss: 0.1449 - mean_squared_error: 0.1449\n",
            "Epoch 162/200\n",
            "23/23 [==============================] - 0s 3ms/step - loss: 0.1503 - mean_squared_error: 0.1503\n",
            "Epoch 163/200\n",
            "23/23 [==============================] - 0s 2ms/step - loss: 0.1544 - mean_squared_error: 0.1544\n",
            "Epoch 164/200\n",
            "23/23 [==============================] - 0s 3ms/step - loss: 0.1670 - mean_squared_error: 0.1670\n",
            "Epoch 165/200\n",
            "23/23 [==============================] - 0s 3ms/step - loss: 0.1720 - mean_squared_error: 0.1720\n",
            "Epoch 166/200\n",
            "23/23 [==============================] - 0s 2ms/step - loss: 0.1881 - mean_squared_error: 0.1881\n",
            "Epoch 167/200\n",
            "23/23 [==============================] - 0s 3ms/step - loss: 0.1844 - mean_squared_error: 0.1844\n",
            "Epoch 168/200\n",
            "23/23 [==============================] - 0s 3ms/step - loss: 0.1896 - mean_squared_error: 0.1896\n",
            "Epoch 169/200\n",
            "23/23 [==============================] - 0s 3ms/step - loss: 0.1682 - mean_squared_error: 0.1682\n",
            "Epoch 170/200\n",
            "23/23 [==============================] - 0s 3ms/step - loss: 0.1692 - mean_squared_error: 0.1692\n",
            "Epoch 171/200\n",
            "23/23 [==============================] - 0s 2ms/step - loss: 0.1551 - mean_squared_error: 0.1551\n",
            "Epoch 172/200\n",
            "23/23 [==============================] - 0s 3ms/step - loss: 0.1565 - mean_squared_error: 0.1565\n",
            "Epoch 173/200\n",
            "23/23 [==============================] - 0s 2ms/step - loss: 0.1444 - mean_squared_error: 0.1444\n",
            "Epoch 174/200\n",
            "23/23 [==============================] - 0s 3ms/step - loss: 0.1451 - mean_squared_error: 0.1451\n",
            "Epoch 175/200\n",
            "23/23 [==============================] - 0s 4ms/step - loss: 0.1342 - mean_squared_error: 0.1342\n",
            "Epoch 176/200\n",
            "23/23 [==============================] - 0s 4ms/step - loss: 0.1393 - mean_squared_error: 0.1393\n",
            "Epoch 177/200\n",
            "23/23 [==============================] - 0s 3ms/step - loss: 0.1334 - mean_squared_error: 0.1334\n",
            "Epoch 178/200\n",
            "23/23 [==============================] - 0s 5ms/step - loss: 0.1374 - mean_squared_error: 0.1374\n",
            "Epoch 179/200\n",
            "23/23 [==============================] - 0s 4ms/step - loss: 0.1424 - mean_squared_error: 0.1424\n",
            "Epoch 180/200\n",
            "23/23 [==============================] - 0s 4ms/step - loss: 0.1448 - mean_squared_error: 0.1448\n",
            "Epoch 181/200\n",
            "23/23 [==============================] - 0s 4ms/step - loss: 0.1494 - mean_squared_error: 0.1494\n",
            "Epoch 182/200\n",
            "23/23 [==============================] - 0s 3ms/step - loss: 0.1441 - mean_squared_error: 0.1441\n",
            "Epoch 183/200\n",
            "23/23 [==============================] - 0s 3ms/step - loss: 0.1435 - mean_squared_error: 0.1435\n",
            "Epoch 184/200\n",
            "23/23 [==============================] - 0s 3ms/step - loss: 0.1463 - mean_squared_error: 0.1463\n",
            "Epoch 185/200\n",
            "23/23 [==============================] - 0s 3ms/step - loss: 0.1506 - mean_squared_error: 0.1506\n",
            "Epoch 186/200\n",
            "23/23 [==============================] - 0s 3ms/step - loss: 0.1469 - mean_squared_error: 0.1469\n",
            "Epoch 187/200\n",
            "23/23 [==============================] - 0s 2ms/step - loss: 0.1444 - mean_squared_error: 0.1444\n",
            "Epoch 188/200\n",
            "23/23 [==============================] - 0s 3ms/step - loss: 0.1517 - mean_squared_error: 0.1517\n",
            "Epoch 189/200\n",
            "23/23 [==============================] - 0s 2ms/step - loss: 0.1458 - mean_squared_error: 0.1458\n",
            "Epoch 190/200\n",
            "23/23 [==============================] - 0s 3ms/step - loss: 0.1503 - mean_squared_error: 0.1503\n",
            "Epoch 191/200\n",
            "23/23 [==============================] - 0s 4ms/step - loss: 0.1379 - mean_squared_error: 0.1379\n",
            "Epoch 192/200\n",
            "23/23 [==============================] - 0s 3ms/step - loss: 0.1420 - mean_squared_error: 0.1420\n",
            "Epoch 193/200\n",
            "23/23 [==============================] - 0s 4ms/step - loss: 0.1341 - mean_squared_error: 0.1341\n",
            "Epoch 194/200\n",
            "23/23 [==============================] - 0s 5ms/step - loss: 0.1390 - mean_squared_error: 0.1390\n",
            "Epoch 195/200\n",
            "23/23 [==============================] - 0s 3ms/step - loss: 0.1324 - mean_squared_error: 0.1324\n",
            "Epoch 196/200\n",
            "23/23 [==============================] - 0s 4ms/step - loss: 0.1369 - mean_squared_error: 0.1369\n",
            "Epoch 197/200\n",
            "23/23 [==============================] - 0s 4ms/step - loss: 0.1274 - mean_squared_error: 0.1274\n",
            "Epoch 198/200\n",
            "23/23 [==============================] - 0s 4ms/step - loss: 0.1285 - mean_squared_error: 0.1285\n",
            "Epoch 199/200\n",
            "23/23 [==============================] - 0s 3ms/step - loss: 0.1248 - mean_squared_error: 0.1248\n",
            "Epoch 200/200\n",
            "23/23 [==============================] - 0s 4ms/step - loss: 0.1273 - mean_squared_error: 0.1273\n",
            "INFO:tensorflow:Assets written to: ./structured_data_regressor/best_model/assets\n"
          ]
        },
        {
          "output_type": "execute_result",
          "data": {
            "text/plain": [
              "<keras.callbacks.History at 0x7f5726dc58d0>"
            ]
          },
          "metadata": {},
          "execution_count": 11
        }
      ]
    },
    {
      "cell_type": "markdown",
      "source": [
        "Trial 3 Complete [00h 00m 03s]\n",
        "val_loss: 4.315784931182861\n",
        "\n",
        "Best val_loss So Far: 3.6199324131011963\n",
        "Total elapsed time: 00h 00m 33s\n",
        "Epoch 100/100\n",
        "23/23 [==============================] - 0s 3ms/step - loss: 0.2593 - mean_squared_error: 0.2593\n",
        "reg = ak.StructuredDataRegressor(max_trials=3, overwrite=True) ==> These were params on first pass1.\n",
        "\n",
        "Pass2 ::\n",
        "Trial 3 Complete [00h 00m 21s]\n",
        "val_loss: 2.3486874103546143\n",
        "\n",
        "Best val_loss So Far: **2.3**486874103546143\n",
        "Total elapsed time: 00h 00m 44s\n",
        "\n",
        "reg = ak.StructuredDataRegressor(max_trials=3, overwrite=True, loss=\"mean_squared_error\",metrics=None, objective=\"val_loss\")\n",
        "\n",
        "Pass 3: With callbacks & max_trails = 30 from 3::\n",
        "Trial 30 Complete [00h 00m 29s]\n",
        "val_loss: 2.5138509273529053\n",
        "\n",
        "Best val_loss So Far: **2.303**161382675171\n",
        "Total elapsed time: 00h 10m 55s\n",
        "\n",
        "PASS 4: tuner='bayesian' added but max_trails = 15 from 25 (hyperband was worst)::\n",
        "Trial 25 Complete [00h 00m 05s]\n",
        "val_loss: 4.327514171600342\n",
        "\n",
        "Best val_loss So Far: 2.7460367679595947\n",
        "\n",
        "PASS 5: tuner ='random' max trail = 25\n",
        "Trial 25 Complete [00h 00m 05s]\n",
        "val_loss: 4.380385398864746\n",
        "\n",
        "Best val_loss So Far: 2.49894642829895\n",
        "Total elapsed time: 00h 07m 32s\n",
        "\n",
        "SO far randim works best among all tuners = bayesian, hyperband, greedy.\n",
        "\n",
        "pass6: same as pass5 except max trails removed. by default its 100 but why callback not owkring?\n",
        "Trial 100 Complete [00h 00m 16s]\n",
        "val_loss: 4.087159156799316\n",
        "\n",
        "Best val_loss So Far: 2.495527505874634\n",
        "Total elapsed time: 00h 26m 50s\n",
        "\n",
        "pass 7: all same above pass6, except epoch =200 from 100 & max trail =40\n",
        "Trial 40 Complete [00h 00m 10s]\n",
        "val_loss: 4.36867094039917\n",
        "\n",
        "Best val_loss So Far: 2.4152731895446777\n",
        "Total elapsed time: 00h 14m 13s\n",
        "\n",
        "pass 8: same as pass 7 witrh epoch =300 from 200\n",
        "Trial 40 Complete [00h 00m 06s]\n",
        "val_loss: 4.809711933135986\n",
        "\n",
        "Best val_loss So Far: 3.2346599102020264\n",
        "Total elapsed time: 00h 10m 55s\n",
        "\n",
        "PASS 9:: Replicating pass 3 with max trails = 40, epochs =200 & no tuner used\n",
        "Trial 40 Complete [00h 00m 09s]\n",
        "val_loss: 4.023104667663574\n",
        "\n",
        "Best val_loss So Far: **2.275**585651397705\n",
        "Total elapsed time: 00h 19m 59s\n",
        "\n",
        "reg = ak.StructuredDataRegressor(max_trials=40, overwrite=True, loss=\"mean_squared_error\",metrics=None, objective=\"val_loss\")\n",
        "\n",
        "pass 11: All same as pass 10 but split rati set to 0.1 than 0.2 above. Also earlystopper = EarlyStopping(monitor='mean_squared_error', min_delta=0, patience=15, verbose=1, mode='auto')--> monitor changed from 'loss' to mse\n",
        "\n",
        "Trial 30 Complete [00h 00m 32s]\n",
        "val_loss: 0.21225327253341675\n",
        "\n",
        "Best val_loss So Far: **0.121**28239125013351\n",
        "\n"
      ],
      "metadata": {
        "id": "O23wY-CF6MQz"
      }
    },
    {
      "cell_type": "code",
      "source": [
        "# Predict with the best model.\n",
        "predicted_y_scaled = reg.predict(X_scaled)"
      ],
      "metadata": {
        "colab": {
          "base_uri": "https://localhost:8080/"
        },
        "id": "aRJ1AWEf6hKh",
        "outputId": "0fd27cf8-a027-4617-b5f3-8f4333a68d98"
      },
      "execution_count": null,
      "outputs": [
        {
          "output_type": "stream",
          "name": "stdout",
          "text": [
            "23/23 [==============================] - 0s 5ms/step\n"
          ]
        }
      ]
    },
    {
      "cell_type": "code",
      "source": [
        "from sklearn import metrics\n",
        "score = np.sqrt(metrics.mean_squared_error(predicted_y_scaled,y_scaled))\n",
        "print(f\"Before save score (RMSE): {score}\")\n",
        "# Measure MSE error.  \n",
        "score = metrics.mean_squared_error(predicted_y_scaled,y_scaled)\n",
        "print(\"Final score (MSE): {}\".format(score))\n",
        "score1 = metrics.mean_absolute_error(predicted_y_scaled,y_scaled)\n",
        "print(\"Final score (MAE): {}\".format(score1))\n",
        "score2 = metrics.r2_score(predicted_y_scaled,y_scaled)\n",
        "print(\"Final score (R2): {}\".format(score2))\n",
        "score3 = metrics.mean_absolute_percentage_error(predicted_y_scaled,y_scaled)\n",
        "print(\"Final score (MAPE): {}\".format(score3))\n",
        "#score4 = metrics.mean_squared_log_error(predicted_y_scaled,testy_scaled)\n",
        "#print(\"Final score (MSLE): {}\".format(score4))\n",
        "#score5 = metrics.log_loss(predicted_y_scaled,testy_scaled)"
      ],
      "metadata": {
        "colab": {
          "base_uri": "https://localhost:8080/"
        },
        "id": "F1Ep14zl6lA_",
        "outputId": "10d220fe-5720-4d66-d7a8-8922faa956b4"
      },
      "execution_count": null,
      "outputs": [
        {
          "output_type": "stream",
          "name": "stdout",
          "text": [
            "Before save score (RMSE): 0.33888006070618804\n",
            "Final score (MSE): 0.1148396955442297\n",
            "Final score (MAE): 0.20871200024821696\n",
            "Final score (R2): 0.8726204283480066\n",
            "Final score (MAPE): 3.9401550287474296\n"
          ]
        }
      ]
    },
    {
      "cell_type": "markdown",
      "source": [
        "Earlier even with both scaling result was (for all params being same):\n",
        "Final score (MSE): 6.122893377762371\n",
        "Final score (MAE): 0.8093436874593429\n",
        "Final score (R2): -17.210139256045256\n",
        "Final score (MAPE): 5.452198501882145\n",
        "\n",
        "Now on same params result is ::\n",
        "Before save score (RMSE): 0.5015663350450803\n",
        "Final score (MSE): 0.25156878845055375\n",
        "Final score (MAE): 0.2706559128012366\n",
        "Final score (R2): **0.608**6809130830875\n",
        "Final score (MAPE): 6.073575709195961\n",
        "\n",
        "All params same yes, BUT only diff is using X(scaled),y(scaled) in totality without splitting. So results were good as model got more data for training itself but result good\n",
        "Before save score (RMSE): 0.3977670902847305\n",
        "Final score (MSE): 0.15821865811358096\n",
        "Final score (MAE): 0.23472967040490217\n",
        "Final score (R2): **0.81**51491010882141\n",
        "Final score (MAPE): 3.8867089743956265\n",
        "\n",
        "PASS3:  With callbacks & max_trails = 30 from 3 (but still with full X & no splitting)::\n",
        "\n",
        "Before save score (RMSE): 0.3536620359655597\n",
        "Final score (MSE): 0.12507683568330483\n",
        "Final score (MAE): 0.23672821980790304\n",
        "Final score (R2): **0.8761**266873177348\n",
        "Final score (MAPE): 8.117779046966902\n",
        "\n",
        "PASS4: Added tuner = 'bayesian' (hyper band worked very bad). Max trail = 25\n",
        "\n",
        "Before save score (RMSE): 0.3860245383558159\n",
        "Final score (MSE): 0.14901494421282077\n",
        "Final score (MAE): 0.24365072890837666\n",
        "Final score (R2): 0.7921041448849359\n",
        "Final score (MAPE): 3.3612951371158633\n",
        "\n",
        "pass 5: Added tuner = 'random' (hyper band worked very bad). Max trail = 25\n",
        "\n",
        "Before save score (RMSE): 0.3779711353591584\n",
        "Final score (MSE): 0.1428621791646912\n",
        "Final score (MAE): 0.19481394413346476\n",
        "Final score (R2): 0.8259287165772973\n",
        "Final score (MAPE): 10.418282811744374\n",
        "\n",
        "PASS 6:Same as pass 5 except max trails removed so its equal to 100\n",
        "Before save score (RMSE): 0.34210636155473045\n",
        "Final score (MSE): 0.11703676261621594\n",
        "Final score (MAE): 0.18231880587676905\n",
        "Final score (R2): 0.8588170049866046\n",
        "Final score (MAPE): 35.44145571959353\n",
        "No much different from max trails = 25\n",
        "\n",
        "pass 7:all same as pass6 exept epoch=200 & max trail 40 from 100\n",
        "Before save score (RMSE): 0.3545376196520452\n",
        "Final score (MSE): 0.12569692374853828\n",
        "Final score (MAE): 0.18252120878757355\n",
        "Final score (R2): 0.8411879757138232\n",
        "Final score (MAPE): 5.190196233708742\n",
        "\n",
        "PASS 9:: Replicating pass 3 with max trails = 40, epochs =200 & no tuner used\n",
        "Before save score (RMSE): 0.33888006070618804\n",
        "Final score (MSE): 0.1148396955442297\n",
        "Final score (MAE): 0.20871200024821696\n",
        "Final score (R2): **0.872**6204283480066\n",
        "Final score (MAPE): 3.9401550287474296\n",
        "\n",
        "reg = ak.StructuredDataRegressor(max_trials=40, overwrite=True, loss=\"mean_squared_error\",metrics=None, objective=\"val_loss\")\n",
        "\n",
        "PASS 10: Look at huge bad scores when train/test split is used:: All other criteria is same as above pass 9 that is epoch=200, max trail=40, no tuner used.\n",
        "\n",
        "Before save score (RMSE): 0.8593099630341421\n",
        "Final score (MSE): 0.7384136125697386\n",
        "Final score (MAE): 0.3347192538045948\n",
        "Final score (R2): -1.1029342767960197\n",
        "Final score (MAPE): 7.819765244431312\n",
        "\n",
        "pass 11: All same as pass 10 but split rati set to 0.1 than 0.2 above. Also earlystopper = EarlyStopping(monitor='mean_squared_error', min_delta=0, patience=15, verbose=1, mode='auto')--> monitor changed from 'loss' to mse\n",
        "\n",
        "Trial 30 Complete [00h 00m 32s]\n",
        "val_loss: 0.21225327253341675\n",
        "\n",
        "Best val_loss So Far: **0.121**28239125013351\n",
        "Before save score (RMSE): 0.3482562101307629\n",
        "Final score (MSE): 0.12128238789464207\n",
        "Final score (MAE): 0.26273287179509514\n",
        "Final score (R2): 0.6448275219970139\n",
        "Final score (MAPE): 2.2944849171203074\n",
        "\n",
        "pass 12:::same as pass 10 but monitor = mse than loss. scores same as pass 10\n",
        "Trial 40 Complete [00h 00m 20s]\n",
        "val_loss: 0.7478248476982117\n",
        "\n",
        "Best val_loss So Far: 0.7034339308738708\n",
        "Total elapsed time: 00h 11m 36s\n",
        "Before save score (RMSE): 0.8387097153018569\n",
        "Final score (MSE): 0.7034339865417218\n",
        "Final score (MAE): 0.328256171613517\n",
        "Final score (R2): -0.9619806941781535\n",
        "Final score (MAPE): 4.187767267610768\n"
      ],
      "metadata": {
        "id": "JnWvxRFv62m3"
      }
    },
    {
      "cell_type": "code",
      "source": [
        "X_train, X_test, y_train, y_test = train_test_split(X_scaled, y_scaled, test_size=0.20, random_state=2021)"
      ],
      "metadata": {
        "id": "EOaqtGmfueWh"
      },
      "execution_count": null,
      "outputs": []
    },
    {
      "cell_type": "markdown",
      "source": [
        "**Difference between validation split & validation data**\n",
        "validation_split: The best model found would be fit on the entire dataset **including the validation data**.\n",
        "\n",
        "validation_data:  The best model found would be fit on the training dataset **without the validation** data."
      ],
      "metadata": {
        "id": "QUnoCrcNLKK9"
      }
    },
    {
      "cell_type": "code",
      "source": [
        "earlystopper = EarlyStopping(monitor='mean_squared_error', min_delta=0, patience=15, verbose=1, mode='auto') #patience reduced to 10 from 15\n",
        "reg = ak.StructuredDataRegressor(max_trials=40, overwrite=True, loss=\"mean_squared_error\",metrics=None, objective=\"val_loss\")\n",
        "reg.fit(X_train, y_train, validation_data= (X_test, y_test), epochs=200, callbacks=[earlystopper])"
      ],
      "metadata": {
        "colab": {
          "base_uri": "https://localhost:8080/"
        },
        "id": "RkLg_wa4ueSh",
        "outputId": "de0350f1-d6dc-437d-a7d0-35cb2385600d"
      },
      "execution_count": null,
      "outputs": [
        {
          "output_type": "stream",
          "name": "stdout",
          "text": [
            "Trial 40 Complete [00h 00m 20s]\n",
            "val_loss: 0.7478248476982117\n",
            "\n",
            "Best val_loss So Far: 0.7034339308738708\n",
            "Total elapsed time: 00h 11m 36s\n",
            "INFO:tensorflow:Oracle triggered exit\n",
            "INFO:tensorflow:Assets written to: ./structured_data_regressor/best_model/assets\n",
            "WARNING:tensorflow:Detecting that an object or model or tf.train.Checkpoint is being deleted with unrestored values. See the following logs for the specific values in question. To silence these warnings, use `status.expect_partial()`. See https://www.tensorflow.org/api_docs/python/tf/train/Checkpoint#restorefor details about the status object returned by the restore function.\n",
            "WARNING:tensorflow:Value in checkpoint could not be found in the restored object: (root).optimizer.iter\n",
            "WARNING:tensorflow:Value in checkpoint could not be found in the restored object: (root).optimizer.beta_1\n",
            "WARNING:tensorflow:Value in checkpoint could not be found in the restored object: (root).optimizer.beta_2\n",
            "WARNING:tensorflow:Value in checkpoint could not be found in the restored object: (root).optimizer.decay\n",
            "WARNING:tensorflow:Value in checkpoint could not be found in the restored object: (root).optimizer.learning_rate\n"
          ]
        }
      ]
    },
    {
      "cell_type": "code",
      "source": [
        "# Predict with the best model.\n",
        "predicted_y = reg.predict(X_test)"
      ],
      "metadata": {
        "colab": {
          "base_uri": "https://localhost:8080/"
        },
        "id": "0lvPxAwwL1yn",
        "outputId": "e6a75a41-5fff-4b82-8cc5-1baffb0552c3"
      },
      "execution_count": null,
      "outputs": [
        {
          "output_type": "stream",
          "name": "stdout",
          "text": [
            "5/5 [==============================] - 0s 3ms/step\n"
          ]
        }
      ]
    },
    {
      "cell_type": "code",
      "source": [
        "from sklearn import metrics\n",
        "score = np.sqrt(metrics.mean_squared_error(predicted_y,y_test))\n",
        "print(f\"Before save score (RMSE): {score}\")\n",
        "# Measure MSE error.  \n",
        "score = metrics.mean_squared_error(predicted_y,y_test)\n",
        "print(\"Final score (MSE): {}\".format(score))\n",
        "score1 = metrics.mean_absolute_error(predicted_y,y_test)\n",
        "print(\"Final score (MAE): {}\".format(score1))\n",
        "#score2 = metrics.r2_score(predicted_y,y_test)\n",
        "score2 = metrics.r2_score(y_test, predicted_y)\n",
        "print(\"Final score (R2): {}\".format(score2))\n",
        "score3 = metrics.mean_absolute_percentage_error(predicted_y,y_test)\n",
        "print(\"Final score (MAPE): {}\".format(score3))\n",
        "#score4 = metrics.mean_squared_log_error(predicted_y_scaled,testy_scaled)\n",
        "#print(\"Final score (MSLE): {}\".format(score4))\n",
        "#score5 = metrics.log_loss(predicted_y_scaled,testy_scaled)"
      ],
      "metadata": {
        "colab": {
          "base_uri": "https://localhost:8080/"
        },
        "id": "IMvHIdNtL13D",
        "outputId": "4ac32f4d-6896-4ccc-a42c-7a0bb1fdca0e"
      },
      "execution_count": null,
      "outputs": [
        {
          "output_type": "stream",
          "name": "stdout",
          "text": [
            "Before save score (RMSE): 0.8387097153018569\n",
            "Final score (MSE): 0.7034339865417218\n",
            "Final score (MAE): 0.328256171613517\n",
            "Final score (R2): 0.3096852143066814\n",
            "Final score (MAPE): 4.187767267610768\n"
          ]
        }
      ]
    },
    {
      "cell_type": "markdown",
      "source": [
        "Look at huge reduction of R2 score when train/test split is used though Scaled COMPARED to when no spilitting is used\n",
        "Before save score (RMSE): 0.8593099630341421\n",
        "Final score (MSE): 0.7384136125697386\n",
        "Final score (MAE): 0.3347192538045948\n",
        "Final score (R2): -1.1029342767960197\n",
        "Final score (MAPE): 7.819765244431312\n",
        "\n"
      ],
      "metadata": {
        "id": "JY3WAULB-_Gc"
      }
    },
    {
      "cell_type": "code",
      "source": [
        "X_train, X_test, y_train, y_test = train_test_split(X_scaled, y_scaled, test_size=0.10, random_state=2021)"
      ],
      "metadata": {
        "id": "gfCUYl7pGZu7"
      },
      "execution_count": null,
      "outputs": []
    },
    {
      "cell_type": "code",
      "source": [
        "earlystopper = EarlyStopping(monitor='mean_squared_error', min_delta=0, patience=15, verbose=1, mode='auto') #patience reduced to 10 from 15\n",
        "reg_1 = ak.StructuredDataRegressor(max_trials=40, overwrite=True, loss=\"mean_squared_error\",metrics=None, objective=\"val_loss\")\n",
        "reg_1.fit(X_train, y_train, validation_data= (X_test, y_test), epochs=200, callbacks=[earlystopper])"
      ],
      "metadata": {
        "colab": {
          "base_uri": "https://localhost:8080/"
        },
        "id": "zthMtDKOGfjh",
        "outputId": "ffcfa08a-b052-4935-af24-f1737239e3c9"
      },
      "execution_count": null,
      "outputs": [
        {
          "output_type": "stream",
          "name": "stdout",
          "text": [
            "Trial 30 Complete [00h 00m 32s]\n",
            "val_loss: 0.21225327253341675\n",
            "\n",
            "Best val_loss So Far: 0.12128239125013351\n",
            "Total elapsed time: 00h 09m 58s\n",
            "INFO:tensorflow:Oracle triggered exit\n",
            "INFO:tensorflow:Assets written to: ./structured_data_regressor/best_model/assets\n",
            "WARNING:tensorflow:Detecting that an object or model or tf.train.Checkpoint is being deleted with unrestored values. See the following logs for the specific values in question. To silence these warnings, use `status.expect_partial()`. See https://www.tensorflow.org/api_docs/python/tf/train/Checkpoint#restorefor details about the status object returned by the restore function.\n",
            "WARNING:tensorflow:Value in checkpoint could not be found in the restored object: (root).optimizer.iter\n",
            "WARNING:tensorflow:Value in checkpoint could not be found in the restored object: (root).optimizer.beta_1\n",
            "WARNING:tensorflow:Value in checkpoint could not be found in the restored object: (root).optimizer.beta_2\n",
            "WARNING:tensorflow:Value in checkpoint could not be found in the restored object: (root).optimizer.decay\n",
            "WARNING:tensorflow:Value in checkpoint could not be found in the restored object: (root).optimizer.learning_rate\n"
          ]
        }
      ]
    },
    {
      "cell_type": "code",
      "source": [
        "# Predict with the best model.\n",
        "predicted_y = reg.predict(X_test)"
      ],
      "metadata": {
        "colab": {
          "base_uri": "https://localhost:8080/"
        },
        "id": "DwA11U0aJU3h",
        "outputId": "6432d68e-b79c-4182-f9ec-8fc924d4d44f"
      },
      "execution_count": null,
      "outputs": [
        {
          "output_type": "stream",
          "name": "stdout",
          "text": [
            "3/3 [==============================] - 0s 4ms/step\n"
          ]
        }
      ]
    },
    {
      "cell_type": "code",
      "source": [
        "from sklearn import metrics\n",
        "score = np.sqrt(metrics.mean_squared_error(predicted_y,y_test))\n",
        "print(f\"Before save score (RMSE): {score}\")\n",
        "# Measure MSE error.  \n",
        "score = metrics.mean_squared_error(predicted_y,y_test)\n",
        "print(\"Final score (MSE): {}\".format(score))\n",
        "score1 = metrics.mean_absolute_error(predicted_y,y_test)\n",
        "print(\"Final score (MAE): {}\".format(score1))\n",
        "score2 = metrics.r2_score(predicted_y,y_test)\n",
        "print(\"Final score (R2): {}\".format(score2))\n",
        "score3 = metrics.mean_absolute_percentage_error(predicted_y,y_test)\n",
        "print(\"Final score (MAPE): {}\".format(score3))\n",
        "#score4 = metrics.mean_squared_log_error(predicted_y_scaled,testy_scaled)\n",
        "#print(\"Final score (MSLE): {}\".format(score4))\n",
        "#score5 = metrics.log_loss(predicted_y_scaled,testy_scaled)"
      ],
      "metadata": {
        "colab": {
          "base_uri": "https://localhost:8080/"
        },
        "id": "qSHqlIhhJU8y",
        "outputId": "54ba8b6d-e663-411f-b72d-91ccf4ae80b2"
      },
      "execution_count": null,
      "outputs": [
        {
          "output_type": "stream",
          "name": "stdout",
          "text": [
            "Before save score (RMSE): 0.3482562101307629\n",
            "Final score (MSE): 0.12128238789464207\n",
            "Final score (MAE): 0.26273287179509514\n",
            "Final score (R2): 0.6448275219970139\n",
            "Final score (MAPE): 2.2944849171203074\n"
          ]
        }
      ]
    },
    {
      "cell_type": "code",
      "source": [
        "auto_keras_model = reg_1.export_model()\n",
        "print(type(auto_keras_model)) "
      ],
      "metadata": {
        "colab": {
          "base_uri": "https://localhost:8080/"
        },
        "id": "zEZvdy0NJVC_",
        "outputId": "9108fb1a-eb9c-4a02-f05d-9690b1466412"
      },
      "execution_count": null,
      "outputs": [
        {
          "output_type": "stream",
          "name": "stdout",
          "text": [
            "<class 'keras.engine.functional.Functional'>\n"
          ]
        }
      ]
    },
    {
      "cell_type": "code",
      "source": [
        "try:\n",
        "    auto_keras_model.save(\"model_autokeras\", save_format=\"tf\")\n",
        "except Exception:\n",
        "    auto_keras_model.save(\"model_autokeras.h5\")"
      ],
      "metadata": {
        "colab": {
          "base_uri": "https://localhost:8080/"
        },
        "id": "8mtwPqoxJVJR",
        "outputId": "fa4b51e6-8770-4df6-a973-9096d8c19ed0"
      },
      "execution_count": null,
      "outputs": [
        {
          "output_type": "stream",
          "name": "stdout",
          "text": [
            "INFO:tensorflow:Assets written to: model_autokeras/assets\n"
          ]
        }
      ]
    },
    {
      "cell_type": "code",
      "source": [
        "from tensorflow.keras.models import load_model"
      ],
      "metadata": {
        "id": "rQ3dPvz7SCZH"
      },
      "execution_count": null,
      "outputs": []
    },
    {
      "cell_type": "code",
      "source": [
        "loaded_model = load_model(\"model_autokeras\", custom_objects=ak.CUSTOM_OBJECTS)"
      ],
      "metadata": {
        "id": "YI70sJErR1mj"
      },
      "execution_count": null,
      "outputs": []
    },
    {
      "cell_type": "code",
      "source": [
        "predicted_y = loaded_model.predict(X_unseen_scaled)"
      ],
      "metadata": {
        "id": "4aBqrWyRR1q-"
      },
      "execution_count": null,
      "outputs": []
    },
    {
      "cell_type": "code",
      "source": [
        "from sklearn import metrics\n",
        "score = np.sqrt(metrics.mean_squared_error(predicted_y,y_unseen_scaled))\n",
        "print(f\"Before save score (RMSE): {score}\")\n",
        "# Measure MSE error.  \n",
        "score = metrics.mean_squared_error(predicted_y,y_unseen_scaled)\n",
        "print(\"Final score (MSE): {}\".format(score))\n",
        "score1 = metrics.mean_absolute_error(predicted_y,y_unseen_scaled)\n",
        "print(\"Final score (MAE): {}\".format(score1))\n",
        "score2 = metrics.r2_score(predicted_y,y_unseen_scaled)\n",
        "print(\"Final score (R2): {}\".format(score2))\n",
        "score3 = metrics.mean_absolute_percentage_error(predicted_y,y_unseen_scaled)\n",
        "print(\"Final score (MAPE): {}\".format(score3))\n",
        "#score4 = metrics.mean_squared_log_error(predicted_y_scaled,testy_scaled)\n",
        "#print(\"Final score (MSLE): {}\".format(score4))\n",
        "#score5 = metrics.log_loss(predicted_y_scaled,testy_scaled)"
      ],
      "metadata": {
        "colab": {
          "base_uri": "https://localhost:8080/"
        },
        "id": "KfWN5QOUR1uW",
        "outputId": "a03830df-7131-4215-9759-a53bb7871eee"
      },
      "execution_count": null,
      "outputs": [
        {
          "output_type": "stream",
          "name": "stdout",
          "text": [
            "Before save score (RMSE): 4.4050792542843915\n",
            "Final score (MSE): 19.404723236526728\n",
            "Final score (MAE): 2.527393555993899\n",
            "Final score (R2): -0.4088693349926624\n",
            "Final score (MAPE): 3.684403254055156\n"
          ]
        }
      ]
    },
    {
      "cell_type": "code",
      "source": [
        "t = pd.Dataframe(y_unseen_scaled)"
      ],
      "metadata": {
        "colab": {
          "base_uri": "https://localhost:8080/",
          "height": 292
        },
        "id": "MH7vzE_CVc88",
        "outputId": "6554fe0b-3386-4240-da01-91f1bf119954"
      },
      "execution_count": null,
      "outputs": [
        {
          "output_type": "error",
          "ename": "AttributeError",
          "evalue": "ignored",
          "traceback": [
            "\u001b[0;31m---------------------------------------------------------------------------\u001b[0m",
            "\u001b[0;31mAttributeError\u001b[0m                            Traceback (most recent call last)",
            "\u001b[0;32m<ipython-input-75-75b384fc566a>\u001b[0m in \u001b[0;36m<module>\u001b[0;34m()\u001b[0m\n\u001b[0;32m----> 1\u001b[0;31m \u001b[0mt\u001b[0m \u001b[0;34m=\u001b[0m \u001b[0mpd\u001b[0m\u001b[0;34m.\u001b[0m\u001b[0mDataframe\u001b[0m\u001b[0;34m(\u001b[0m\u001b[0my_unseen_scaled\u001b[0m\u001b[0;34m)\u001b[0m\u001b[0;34m\u001b[0m\u001b[0;34m\u001b[0m\u001b[0m\n\u001b[0m",
            "\u001b[0;32m/usr/local/lib/python3.7/dist-packages/pandas/__init__.py\u001b[0m in \u001b[0;36m__getattr__\u001b[0;34m(name)\u001b[0m\n\u001b[1;32m    242\u001b[0m         \u001b[0;32mreturn\u001b[0m \u001b[0m_SparseArray\u001b[0m\u001b[0;34m\u001b[0m\u001b[0;34m\u001b[0m\u001b[0m\n\u001b[1;32m    243\u001b[0m \u001b[0;34m\u001b[0m\u001b[0m\n\u001b[0;32m--> 244\u001b[0;31m     \u001b[0;32mraise\u001b[0m \u001b[0mAttributeError\u001b[0m\u001b[0;34m(\u001b[0m\u001b[0;34mf\"module 'pandas' has no attribute '{name}'\"\u001b[0m\u001b[0;34m)\u001b[0m\u001b[0;34m\u001b[0m\u001b[0;34m\u001b[0m\u001b[0m\n\u001b[0m\u001b[1;32m    245\u001b[0m \u001b[0;34m\u001b[0m\u001b[0m\n\u001b[1;32m    246\u001b[0m \u001b[0;34m\u001b[0m\u001b[0m\n",
            "\u001b[0;31mAttributeError\u001b[0m: module 'pandas' has no attribute 'Dataframe'"
          ]
        }
      ]
    },
    {
      "cell_type": "code",
      "source": [
        "t"
      ],
      "metadata": {
        "colab": {
          "base_uri": "https://localhost:8080/"
        },
        "id": "SgakcQsaWdlb",
        "outputId": "ad7c4836-0114-43a4-a5ad-f3aad5cd9e49"
      },
      "execution_count": null,
      "outputs": [
        {
          "output_type": "execute_result",
          "data": {
            "text/plain": [
              "array([[10.05802259],\n",
              "       [ 7.10842282],\n",
              "       [ 9.28773383],\n",
              "       [ 0.39447106],\n",
              "       [-0.107953  ],\n",
              "       [-0.17953341],\n",
              "       [-0.6941952 ],\n",
              "       [-0.79783275],\n",
              "       [-0.76415169],\n",
              "       [-0.35382616],\n",
              "       [-0.62293168],\n",
              "       [-0.42696695],\n",
              "       [-0.40182127],\n",
              "       [-2.23884102],\n",
              "       [-0.28552692],\n",
              "       [ 0.96667557],\n",
              "       [-0.89194199],\n",
              "       [-0.68320467],\n",
              "       [-0.39747204],\n",
              "       [ 2.65164796],\n",
              "       [12.06404189],\n",
              "       [ 5.90377418],\n",
              "       [ 9.47839982],\n",
              "       [-0.43754583],\n",
              "       [ 5.28918496],\n",
              "       [-1.20570087],\n",
              "       [ 3.07580998],\n",
              "       [ 0.22099734],\n",
              "       [-0.05016284],\n",
              "       [-0.02151065],\n",
              "       [-0.08047052],\n",
              "       [ 0.84180959],\n",
              "       [ 0.46319367],\n",
              "       [ 2.92380434],\n",
              "       [ 1.08643067],\n",
              "       [ 2.92132005],\n",
              "       [-0.20446928],\n",
              "       [-0.10837807],\n",
              "       [ 0.33069189],\n",
              "       [-0.06390222],\n",
              "       [-1.35648992],\n",
              "       [-0.57539349],\n",
              "       [-0.01365246],\n",
              "       [-1.26946416],\n",
              "       [-0.40773237],\n",
              "       [-0.43562643],\n",
              "       [-0.59129381],\n",
              "       [-1.12866434],\n",
              "       [-1.25934007],\n",
              "       [ 8.79608956],\n",
              "       [ 7.8953375 ],\n",
              "       [ 6.71903429]])"
            ]
          },
          "metadata": {},
          "execution_count": 74
        }
      ]
    },
    {
      "cell_type": "markdown",
      "source": [
        "After saving & loading model with split = 0.1 & r2=0.64 - pass 10\n",
        "Before save score (RMSE): 100036.98826900923\n",
        "Final score (MSE): 10007399021.933891\n",
        "Final score (MAE): 99759.53966346153\n",
        "Final score (R2): -179.5118581603864\n",
        "Final score (MAPE): 0.9999725206664197\n",
        "But this was x unseen & y both UNSCALED. Lets scale them:\n",
        "\n",
        "pass2:\n",
        "Before save score (RMSE): 4.4050792542843915\n",
        "Final score (MSE): 19.404723236526728\n",
        "Final score (MAE): 2.527393555993899\n",
        "Final score (R2): -0.4088693349926624\n",
        "Final score (MAPE): 3.684403254055156\n",
        "NOT GOOD RESULTS"
      ],
      "metadata": {
        "id": "IStnSG1qU6S4"
      }
    },
    {
      "cell_type": "code",
      "source": [
        "from sklearn.linear_model import LinearRegression\n",
        "from sklearn.model_selection import cross_val_score\n",
        "import numpy as np\n",
        "\n",
        "lr_model = LinearRegression()\n",
        "lr_model.fit(X_scaled, y_scaled)\n",
        "#scores = cross_val_score(lr_model, X_scaled, y_scaled, scoring='neg_mean_squared_error', cv=5,)\n",
        "#scores = cross_val_score(lr_model, X_scaled, y_scaled, scoring='neg_mean_squared_error', cv=5,)\n",
        "scores = cross_val_score(lr_model, X_scaled, y_scaled, scoring='r2', cv=5)"
      ],
      "metadata": {
        "id": "NV_QzblGL16n"
      },
      "execution_count": null,
      "outputs": []
    },
    {
      "cell_type": "code",
      "source": [
        "print(\"CV Scores for each fold :: \", scores, 'Mean of CV scores ::', np.mean(scores))"
      ],
      "metadata": {
        "colab": {
          "base_uri": "https://localhost:8080/"
        },
        "id": "w7OVrUzlL19t",
        "outputId": "8ec71e78-88b2-4b83-a9e2-216c9c154d9b"
      },
      "execution_count": null,
      "outputs": [
        {
          "output_type": "stream",
          "name": "stdout",
          "text": [
            "CV Scores for each fold ::  [-33.10834916  -2.17383626  -0.49123921  -0.45799046  -0.2006836 ] Mean of CV scores :: -7.28641973841322\n"
          ]
        }
      ]
    },
    {
      "cell_type": "code",
      "source": [
        "from sklearn.metrics import r2_score\n",
        "pred = lr_model.predict(X_test)\n",
        "score2 = metrics.r2_score(pred,y_test)\n",
        "print(\"Final score (R2): {}\".format(score2))"
      ],
      "metadata": {
        "colab": {
          "base_uri": "https://localhost:8080/"
        },
        "id": "JAorPMjqL2AM",
        "outputId": "14fe708e-bf5a-48af-baf5-ed829fd69c07"
      },
      "execution_count": null,
      "outputs": [
        {
          "output_type": "stream",
          "name": "stdout",
          "text": [
            "Final score (R2): -2.744527647545975\n"
          ]
        }
      ]
    },
    {
      "cell_type": "code",
      "source": [
        "lr_model.fit(X_train, y_train)\n",
        "pred_1 = lr_model.predict(X_test)\n",
        "score2 = metrics.r2_score(pred_1,y_test)\n",
        "print(\"Final score (R2): {}\".format(score2))\n"
      ],
      "metadata": {
        "colab": {
          "base_uri": "https://localhost:8080/"
        },
        "id": "dsJpRX6MFbKb",
        "outputId": "6b698fc0-2294-4085-f048-777b6f0973d1"
      },
      "execution_count": null,
      "outputs": [
        {
          "output_type": "stream",
          "name": "stdout",
          "text": [
            "Final score (R2): -1.92019810115033\n"
          ]
        }
      ]
    },
    {
      "cell_type": "code",
      "source": [
        ""
      ],
      "metadata": {
        "id": "9j-DCXX-FbOp"
      },
      "execution_count": null,
      "outputs": []
    },
    {
      "cell_type": "code",
      "source": [
        ""
      ],
      "metadata": {
        "id": "58-YomOdFbRU"
      },
      "execution_count": null,
      "outputs": []
    },
    {
      "cell_type": "code",
      "source": [
        "from sklearn.model_selection import cross_validate\n",
        "from sklearn.metrics import make_scorer\n"
      ],
      "metadata": {
        "id": "7TgetVSSdFDw"
      },
      "execution_count": null,
      "outputs": []
    },
    {
      "cell_type": "code",
      "source": [
        "#from sklearn import cross_validation, linear_model\n",
        "from sklearn.model_selection import cross_val_score\n",
        "#kfold = KFold(n_splits=10)\n",
        "#results = cross_val_score(reg, X, y, cv=kfold, scoring=mean_squared_error)\n",
        "#print(\"Baseline: %.2f (%.2f) MSE\" % (results.mean(), results.std()))\n",
        "\n",
        "#Single metric evaluation using cross_validate\n",
        "#cv_results = cross_validate(reg, X, y, cv=3)\n",
        "#sorted(cv_results.keys())\n",
        "#cv_results['test_score']\n",
        "\n",
        "#scores = cross_val_score(reg, X, y, scoring='neg_mean_squared_error', cv=5,)\n",
        "\n",
        "\n"
      ],
      "metadata": {
        "id": "azwQsAfK8HBH"
      },
      "execution_count": null,
      "outputs": []
    },
    {
      "cell_type": "code",
      "source": [
        "df_test = pd.read_csv(\"KHDS_TestData_12Apr.csv\")\n",
        "df_test['Product Sulphur'] = pd.to_numeric(df['Product Sulphur'],errors = 'coerce') ##==> This one works as pd.to_numeric works for convert a list, a series, an array, or a tuple to a numeric datatype\n",
        "df_test['LABfeed Sulphur'] = pd.to_numeric(df['LABfeed Sulphur'],errors = 'coerce')\n",
        "filtered_df_test = df_test[df_test['Product Sulphur'].notnull()]\n",
        "filtered_df_test = df_test[df_test['LABfeed Sulphur'].notnull()]\n",
        "df.dropna(axis=0)\n",
        "filtered_df_test.info()"
      ],
      "metadata": {
        "colab": {
          "base_uri": "https://localhost:8080/"
        },
        "id": "UcPPQkDZI6fq",
        "outputId": "8982c449-a901-40b7-96ec-e5fafb5a5e6b"
      },
      "execution_count": null,
      "outputs": [
        {
          "output_type": "stream",
          "name": "stdout",
          "text": [
            "<class 'pandas.core.frame.DataFrame'>\n",
            "Int64Index: 52 entries, 0 to 51\n",
            "Data columns (total 34 columns):\n",
            " #   Column                        Non-Null Count  Dtype  \n",
            "---  ------                        --------------  -----  \n",
            " 0   LABfeed Sulphur               52 non-null     float64\n",
            " 1   T1 : FRESH FEED TO 17VVHI101  52 non-null     float64\n",
            " 2   T1 : REACTOR FEED             52 non-null     float64\n",
            " 3   T1 : HYDROGEN MAKE UP         52 non-null     float64\n",
            " 4   T1 : RECYCLE HYDROGEN         52 non-null     float64\n",
            " 5   T1 : REACTOR OUTLET           52 non-null     float64\n",
            " 6   T1 : REACTOR FEED.1           52 non-null     float64\n",
            " 7   T1 : SEPARATOR   OVHD         52 non-null     float64\n",
            " 8   T1 : KERO FEED DENSITY        52 non-null     float64\n",
            " 9   T2 : FRESH FEED TO 17VVHI101  52 non-null     float64\n",
            " 10  T2 : REACTOR FEED             52 non-null     float64\n",
            " 11  T2 : HYDROGEN MAKE UP         52 non-null     float64\n",
            " 12  T2 : RECYCLE HYDROGEN         52 non-null     float64\n",
            " 13  T2 : REACTOR OUTLET           52 non-null     float64\n",
            " 14  T2 : REACTOR FEED.1           52 non-null     float64\n",
            " 15  T2 : SEPARATOR   OVHD         52 non-null     float64\n",
            " 16  T2 : KERO FEED DENSITY        52 non-null     float64\n",
            " 17  T3 : FRESH FEED TO 17VVHI101  52 non-null     float64\n",
            " 18  T3 : REACTOR FEED             52 non-null     float64\n",
            " 19  T3 : HYDROGEN MAKE UP         52 non-null     float64\n",
            " 20  T3 : RECYCLE HYDROGEN         52 non-null     float64\n",
            " 21  T3 : REACTOR OUTLET           52 non-null     float64\n",
            " 22  T3 : REACTOR FEED.1           52 non-null     float64\n",
            " 23  T3 : SEPARATOR   OVHD         52 non-null     float64\n",
            " 24  T3 : KERO FEED DENSITY        52 non-null     float64\n",
            " 25  T4 : FRESH FEED TO 17VVHI101  52 non-null     float64\n",
            " 26  T4 : REACTOR FEED             52 non-null     float64\n",
            " 27  T4 : HYDROGEN MAKE UP         52 non-null     float64\n",
            " 28  T4 : RECYCLE HYDROGEN         52 non-null     float64\n",
            " 29  T4 : REACTOR OUTLET           52 non-null     float64\n",
            " 30  T4 : REACTOR FEED.1           52 non-null     float64\n",
            " 31  T4 : SEPARATOR   OVHD         52 non-null     float64\n",
            " 32  T4 : KERO FEED DENSITY        52 non-null     float64\n",
            " 33  Product Sulphur               52 non-null     float64\n",
            "dtypes: float64(34)\n",
            "memory usage: 14.2 KB\n"
          ]
        }
      ]
    },
    {
      "cell_type": "code",
      "source": [
        "target_col = \"Product Sulphur\"\n",
        "X_unseen = filtered_df_test.loc[:, filtered_df_test.columns != target_col]\n",
        "y_unseen = filtered_df_test.loc[:, target_col]"
      ],
      "metadata": {
        "id": "emSJHzPSSdvj"
      },
      "execution_count": null,
      "outputs": []
    },
    {
      "cell_type": "code",
      "source": [
        "X_unseen.shape"
      ],
      "metadata": {
        "colab": {
          "base_uri": "https://localhost:8080/"
        },
        "id": "kkA9Yd01StrR",
        "outputId": "b9127cd2-dae4-4414-856f-beb28940b1c3"
      },
      "execution_count": null,
      "outputs": [
        {
          "output_type": "execute_result",
          "data": {
            "text/plain": [
              "(52, 33)"
            ]
          },
          "metadata": {},
          "execution_count": 59
        }
      ]
    },
    {
      "cell_type": "code",
      "source": [
        "y_unseen.shape"
      ],
      "metadata": {
        "colab": {
          "base_uri": "https://localhost:8080/"
        },
        "id": "r5nIqIVnS4XI",
        "outputId": "664b073a-7e54-4676-9fe4-5ae14318e0c3"
      },
      "execution_count": null,
      "outputs": [
        {
          "output_type": "execute_result",
          "data": {
            "text/plain": [
              "(52,)"
            ]
          },
          "metadata": {},
          "execution_count": 60
        }
      ]
    },
    {
      "cell_type": "code",
      "source": [
        "#from sklearn.preprocessing import StandardScaler\n",
        "#import numpy as np\n",
        "# created scaler for only X predictors\n",
        "input_scaler = StandardScaler()\n",
        "# fit scaler on training dataset\n",
        "# fit scaler\n",
        "input_scaler.fit(X_unseen)\n",
        "# transform training dataset\n",
        "X_unseen_scaled = input_scaler.transform(X_unseen)\n",
        "# transform test dataset\n",
        "#testX_scaled = input_scaler.transform(testX)"
      ],
      "metadata": {
        "id": "fAMw4dutTz5r"
      },
      "execution_count": null,
      "outputs": []
    },
    {
      "cell_type": "code",
      "source": [
        "y_unseen = y_unseen.to_numpy()\n",
        "y_unseen = y_unseen.reshape(-1,1)\n",
        "#trainy = trainy.to_numpy()\n",
        "#trainy = trainy.reshape(-1,1)"
      ],
      "metadata": {
        "id": "gWhx1k9jUT60"
      },
      "execution_count": null,
      "outputs": []
    },
    {
      "cell_type": "code",
      "source": [
        "#from sklearn.preprocessing import StandardScaler\n",
        "#import numpy as np\n",
        "# created scaler for only X predictors\n",
        "input_scaler = StandardScaler()\n",
        "# fit scaler on training dataset\n",
        "# fit scaler\n",
        "input_scaler.fit(y_unseen)\n",
        "# transform training dataset\n",
        "y_unseen_scaled = input_scaler.transform(y_unseen)\n",
        "# transform test dataset\n",
        "#testX_scaled = input_scaler.transform(testX)"
      ],
      "metadata": {
        "id": "uRjuESjVUWqH"
      },
      "execution_count": null,
      "outputs": []
    }
  ]
}