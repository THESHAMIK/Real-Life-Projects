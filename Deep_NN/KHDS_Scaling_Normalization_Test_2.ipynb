{
  "nbformat": 4,
  "nbformat_minor": 0,
  "metadata": {
    "colab": {
      "name": "KHDS_Scaling_Normalization_Test_2.ipynb",
      "provenance": [],
      "collapsed_sections": [],
      "authorship_tag": "ABX9TyMM5mCASG/Z91bIMTRANGGj",
      "include_colab_link": true
    },
    "kernelspec": {
      "name": "python3",
      "display_name": "Python 3"
    },
    "language_info": {
      "name": "python"
    }
  },
  "cells": [
    {
      "cell_type": "markdown",
      "metadata": {
        "id": "view-in-github",
        "colab_type": "text"
      },
      "source": [
        "<a href=\"https://colab.research.google.com/github/THESHAMIK/Real-Life-Projects/blob/main/Deep_NN/KHDS_Scaling_Normalization_Test_2.ipynb\" target=\"_parent\"><img src=\"https://colab.research.google.com/assets/colab-badge.svg\" alt=\"Open In Colab\"/></a>"
      ]
    },
    {
      "cell_type": "markdown",
      "source": [
        "Attained one of highest score for KHDS project of 0.75 as R2 for TRAIN data only ==> This is when both X & y r scaled & Deep/Neural nw used.\n",
        "Test Data is still 0.18 as r2.\n",
        "\n",
        "The R2 score on the Train set is:\t**0.753**\n",
        "The RMSE score on the Train set is:\t0.497\n",
        "The MSE score on the Test set is:\t0.247\n",
        "The MSA score on the Test set is:\t**0.368**\n",
        "The MAPE score on the Test set is:\t1.077\n",
        "\n",
        "Now scores on TEST data\n",
        "The R2 score on the Test set is:\t0.186\n",
        "The RMSE score on the Test set is:\t2.469\n",
        "The MSE score on the Test set is:\t6.097\n",
        "The MSA score on the Test set is:\t0.872\n",
        "The MAPE score on the Test set is:\t1.424\n",
        "\n",
        "NN Model name lr_model with increase batch size to 30 from 10 and epochs to 500 from 200 & check results."
      ],
      "metadata": {
        "id": "4sLuL9KrfQbQ"
      }
    },
    {
      "cell_type": "code",
      "execution_count": null,
      "metadata": {
        "id": "sRGzrtwae2hW"
      },
      "outputs": [],
      "source": [
        "# Import packages\n",
        "import numpy as np\n",
        "import pandas as pd\n",
        "import random\n",
        "import matplotlib.pyplot as plt\n",
        "import seaborn as sns\n",
        "from sklearn.model_selection import train_test_split\n",
        "from sklearn.model_selection import cross_val_score\n",
        "from keras.models import Sequential\n",
        "from keras.layers import Dense, BatchNormalization, Dropout\n",
        "#from keras.optimizers import SGD, RMSprop, Adadelta, Adagrad, Adamax, Nadam, Ftrl\n",
        "from tensorflow.keras.optimizers import SGD, RMSprop, Adadelta, Adagrad, Adamax, Nadam, Ftrl\n",
        "from tensorflow.keras.optimizers import Adam ##because cannot import name 'Adam' from 'keras.optimizers'\n",
        "from keras.callbacks import EarlyStopping, ModelCheckpoint\n",
        "#from keras.wrappers.scikit_learn import KerasClassifier\n",
        "from keras.wrappers.scikit_learn import KerasRegressor\n",
        "from math import floor\n",
        "from sklearn.metrics import make_scorer, accuracy_score\n",
        "from sklearn.metrics import mean_squared_error\n",
        "from sklearn.metrics import mean_absolute_error\n",
        "from sklearn.metrics import r2_score\n",
        "#from bayes_opt import BayesianOptimization\n",
        "from sklearn.model_selection import StratifiedKFold\n",
        "from keras.layers import LeakyReLU\n",
        "LeakyReLU = LeakyReLU(alpha=0.1)\n",
        "import tensorflow as tf\n",
        "\n",
        "import warnings\n",
        "warnings.filterwarnings('ignore')\n",
        "pd.set_option(\"display.max_columns\", None)"
      ]
    },
    {
      "cell_type": "code",
      "source": [
        "df = pd.read_csv(\"khds_final_1.csv\")\n",
        "df['Product Sulphur'] = pd.to_numeric(df['Product Sulphur'],errors = 'coerce') ##==> This one works as pd.to_numeric works for convert a list, a series, an array, or a tuple to a numeric datatype\n",
        "filtered_df = df[df['Product Sulphur'].notnull()]\n",
        "df.dropna(axis=0)\n",
        "filtered_df.info()"
      ],
      "metadata": {
        "colab": {
          "base_uri": "https://localhost:8080/"
        },
        "id": "tiGqJJ27fAxN",
        "outputId": "349fbf6c-467d-4b79-b09b-f6759c1d2f08"
      },
      "execution_count": null,
      "outputs": [
        {
          "output_type": "stream",
          "name": "stdout",
          "text": [
            "<class 'pandas.core.frame.DataFrame'>\n",
            "Int64Index: 711 entries, 0 to 710\n",
            "Data columns (total 34 columns):\n",
            " #   Column                                     Non-Null Count  Dtype  \n",
            "---  ------                                     --------------  -----  \n",
            " 0   LABfeed Sulphur                            711 non-null    float64\n",
            " 1   T1 : FRESH FEED FLOW TO KHDS KGPerHour     711 non-null    float64\n",
            " 2   T1 : Reactor inlet temperature DEGC        711 non-null    float64\n",
            " 3   T1 : Hydrogen make-up flow NM3perHour      711 non-null    float64\n",
            " 4   T1 : Recycle hydrogen flow NM3perHour      711 non-null    float64\n",
            " 5   T1 : REACTOR OUTLET Temp DEGC              711 non-null    float64\n",
            " 6   T1 : REACTOR FEED INLET Pressure KGperCM2  711 non-null    float64\n",
            " 7   T1 : Cold separator pressure KGperCM2      711 non-null    float64\n",
            " 8   T1 : KERO FEED DENSITY KGperCM2            711 non-null    float64\n",
            " 9   T2 : FRESH FEED FLOW TO KHDS KGPerHour     711 non-null    float64\n",
            " 10  T2 : Reactor inlet temperature DEGC        711 non-null    float64\n",
            " 11  T2 : Hydrogen make-up flow NM3perHour      711 non-null    float64\n",
            " 12  T2 : Recycle hydrogen flow NM3perHour      711 non-null    float64\n",
            " 13  T2 : REACTOR OUTLET Temp DEGC              711 non-null    float64\n",
            " 14  T2 : REACTOR FEED INLET Pressure KGperCM2  711 non-null    float64\n",
            " 15  T2 : Cold separator pressure KGperCM2      711 non-null    float64\n",
            " 16  T2 : KERO FEED DENSITY KGperCM2            711 non-null    float64\n",
            " 17  T3 : FRESH FEED FLOW TO KHDS KGPerHour     711 non-null    float64\n",
            " 18  T3 : Reactor inlet temperature DEGC        711 non-null    float64\n",
            " 19  T3 : Hydrogen make-up flow NM3perHour      711 non-null    float64\n",
            " 20  T3 : Recycle hydrogen flow NM3perHour      711 non-null    float64\n",
            " 21  T3 : REACTOR OUTLET Temp DEGC              711 non-null    float64\n",
            " 22  T3 : REACTOR FEED INLET Pressure KGperCM2  711 non-null    float64\n",
            " 23  T3 : Cold separator pressure KGperCM2      711 non-null    float64\n",
            " 24  T3 : KERO FEED DENSITY KGperCM2            711 non-null    float64\n",
            " 25  T4 : FRESH FEED FLOW TO KHDS KGPerHour     711 non-null    float64\n",
            " 26  T4 : Reactor inlet temperature DEGC        711 non-null    float64\n",
            " 27  T4 : Hydrogen make-up flow NM3perHour      711 non-null    float64\n",
            " 28  T4 : Recycle hydrogen flow NM3perHour      711 non-null    float64\n",
            " 29  T4 : REACTOR OUTLET Temp DEGC              711 non-null    float64\n",
            " 30  T4 : REACTOR FEED INLET Pressure KGperCM2  711 non-null    float64\n",
            " 31  T4 : Cold separator pressure KGperCM2      711 non-null    float64\n",
            " 32  T4 : KERO FEED DENSITY KGperCM2            711 non-null    float64\n",
            " 33  Product Sulphur                            711 non-null    float64\n",
            "dtypes: float64(34)\n",
            "memory usage: 194.4 KB\n"
          ]
        }
      ]
    },
    {
      "cell_type": "code",
      "source": [
        "target_col = \"Product Sulphur\"\n",
        "X = filtered_df.loc[:, filtered_df.columns != target_col]\n",
        "y = filtered_df.loc[:, target_col]"
      ],
      "metadata": {
        "id": "Z3dWIfl0fa4G"
      },
      "execution_count": null,
      "outputs": []
    },
    {
      "cell_type": "code",
      "source": [
        "# split into train and test ==> Not using train_test_split which is vertical split. Instead going for HORIZONTAL split\n",
        "n_train = 568\n",
        "trainX, testX = X.iloc[:n_train, :], X.iloc[n_train:, :]\n",
        "#trainX = X.iloc[:n_train, :]\n",
        "trainy, testy = y.iloc[:n_train], y.iloc[n_train:]"
      ],
      "metadata": {
        "id": "UcUeRiuofGV1"
      },
      "execution_count": null,
      "outputs": []
    },
    {
      "cell_type": "code",
      "source": [
        "trainX.shape"
      ],
      "metadata": {
        "colab": {
          "base_uri": "https://localhost:8080/"
        },
        "id": "pbNdA4UFkJu9",
        "outputId": "9dd52b20-9da3-492b-a32f-dbfbea1d088c"
      },
      "execution_count": null,
      "outputs": [
        {
          "output_type": "execute_result",
          "data": {
            "text/plain": [
              "(568, 33)"
            ]
          },
          "metadata": {},
          "execution_count": 34
        }
      ]
    },
    {
      "cell_type": "code",
      "source": [
        "trainy.shape"
      ],
      "metadata": {
        "colab": {
          "base_uri": "https://localhost:8080/"
        },
        "id": "URa4Ni0YkMVs",
        "outputId": "5c9abf7b-d9c7-421b-b5c1-d393f2484706"
      },
      "execution_count": null,
      "outputs": [
        {
          "output_type": "execute_result",
          "data": {
            "text/plain": [
              "(568,)"
            ]
          },
          "metadata": {},
          "execution_count": 35
        }
      ]
    },
    {
      "cell_type": "code",
      "source": [
        "testy.shape"
      ],
      "metadata": {
        "colab": {
          "base_uri": "https://localhost:8080/"
        },
        "id": "nNjW256ZkOs7",
        "outputId": "1b1180e3-943b-44d1-dd08-8bd9e751bb4d"
      },
      "execution_count": null,
      "outputs": [
        {
          "output_type": "execute_result",
          "data": {
            "text/plain": [
              "(143,)"
            ]
          },
          "metadata": {},
          "execution_count": 37
        }
      ]
    },
    {
      "cell_type": "code",
      "source": [
        "testX.shape"
      ],
      "metadata": {
        "colab": {
          "base_uri": "https://localhost:8080/"
        },
        "id": "z8qzq5APkT-8",
        "outputId": "340d72de-44b3-4c4e-e9d0-db5f12ecae6d"
      },
      "execution_count": null,
      "outputs": [
        {
          "output_type": "execute_result",
          "data": {
            "text/plain": [
              "(143, 33)"
            ]
          },
          "metadata": {},
          "execution_count": 38
        }
      ]
    },
    {
      "cell_type": "code",
      "source": [
        "len(testX)"
      ],
      "metadata": {
        "colab": {
          "base_uri": "https://localhost:8080/"
        },
        "id": "EKtWGHKXfhAN",
        "outputId": "c3eac75e-31c2-493a-c01e-066d5f223943"
      },
      "execution_count": null,
      "outputs": [
        {
          "output_type": "execute_result",
          "data": {
            "text/plain": [
              "143"
            ]
          },
          "metadata": {},
          "execution_count": 9
        }
      ]
    },
    {
      "cell_type": "code",
      "source": [
        "testy = testy.to_numpy()\n",
        "testy = testy.reshape(-1,1)\n",
        "trainy = trainy.to_numpy()\n",
        "trainy = trainy.reshape(-1,1)"
      ],
      "metadata": {
        "id": "F-78CVy1f2Hs"
      },
      "execution_count": null,
      "outputs": []
    },
    {
      "cell_type": "code",
      "source": [
        "testy = testy.reshape(-1,1)"
      ],
      "metadata": {
        "id": "jDFp_jwGgH5d"
      },
      "execution_count": null,
      "outputs": []
    },
    {
      "cell_type": "code",
      "source": [
        "trainy = trainy.to_numpy()"
      ],
      "metadata": {
        "id": "m-xGx2ypgSet"
      },
      "execution_count": null,
      "outputs": []
    },
    {
      "cell_type": "code",
      "source": [
        "trainy = trainy.reshape(-1,1)"
      ],
      "metadata": {
        "id": "DHluPdT_gTou"
      },
      "execution_count": null,
      "outputs": []
    },
    {
      "cell_type": "code",
      "source": [
        "from sklearn.preprocessing import StandardScaler\n",
        "import numpy as np\n",
        "# created scaler for only X predictors\n",
        "input_scaler = StandardScaler()\n",
        "# fit scaler on training dataset\n",
        "# fit scaler\n",
        "input_scaler.fit(trainy)\n",
        "# transform training dataset\n",
        "trainy_scaled = input_scaler.transform(trainy)\n",
        "# transform test dataset\n",
        "testy_scaled = input_scaler.transform(testy)"
      ],
      "metadata": {
        "id": "6OVThxosg9MQ"
      },
      "execution_count": null,
      "outputs": []
    },
    {
      "cell_type": "code",
      "source": [
        "testX.shape"
      ],
      "metadata": {
        "colab": {
          "base_uri": "https://localhost:8080/"
        },
        "id": "d4c8tEzdh-wt",
        "outputId": "948e7870-b0f8-4380-8bc1-d466ecbab2a2"
      },
      "execution_count": null,
      "outputs": [
        {
          "output_type": "execute_result",
          "data": {
            "text/plain": [
              "(143, 1)"
            ]
          },
          "metadata": {},
          "execution_count": 22
        }
      ]
    },
    {
      "cell_type": "code",
      "source": [
        "trainX.shape"
      ],
      "metadata": {
        "colab": {
          "base_uri": "https://localhost:8080/"
        },
        "id": "eYmbjaMeiDgT",
        "outputId": "c32878c4-d642-423b-f5e4-511e25580d57"
      },
      "execution_count": null,
      "outputs": [
        {
          "output_type": "execute_result",
          "data": {
            "text/plain": [
              "(568, 33)"
            ]
          },
          "metadata": {},
          "execution_count": 43
        }
      ]
    },
    {
      "cell_type": "code",
      "source": [
        "testy.shape"
      ],
      "metadata": {
        "colab": {
          "base_uri": "https://localhost:8080/"
        },
        "id": "2dOlXGNuiHXz",
        "outputId": "c2294c95-5347-4256-f609-0ee97ce46244"
      },
      "execution_count": null,
      "outputs": [
        {
          "output_type": "execute_result",
          "data": {
            "text/plain": [
              "(143, 1)"
            ]
          },
          "metadata": {},
          "execution_count": 24
        }
      ]
    },
    {
      "cell_type": "code",
      "source": [
        "trainy.shape"
      ],
      "metadata": {
        "colab": {
          "base_uri": "https://localhost:8080/"
        },
        "id": "s7Y9Hv_ViKXD",
        "outputId": "17655564-eec5-46d6-bda2-774a3dfd5648"
      },
      "execution_count": null,
      "outputs": [
        {
          "output_type": "execute_result",
          "data": {
            "text/plain": [
              "(568, 1)"
            ]
          },
          "metadata": {},
          "execution_count": 25
        }
      ]
    },
    {
      "cell_type": "markdown",
      "source": [
        "from keras.models import Sequential"
      ],
      "metadata": {
        "id": "JtzpHTYLhPFQ"
      }
    },
    {
      "cell_type": "code",
      "source": [
        "from keras.models import Sequential\n",
        "from tensorflow.keras.optimizers import Adam# define model\n",
        "from keras.optimizer_v2.adam import Adam\n",
        "model = Sequential()\n",
        "model.add(Dense(64, input_dim=33, activation='relu', kernel_initializer='he_uniform'))\n",
        "model.add(Dense(1, activation='linear'))\n",
        "# compile model\n",
        "#model.compile(loss='mean_squared_error', optimizer=SGD(lr=0.00001, momentum=0.9))\n",
        "model.compile(loss='mean_squared_error', optimizer=Adam(lr=0.001))\n"
      ],
      "metadata": {
        "id": "WonwSWqhhP6f"
      },
      "execution_count": null,
      "outputs": []
    },
    {
      "cell_type": "markdown",
      "source": [
        "Train: 25125.127, Test: 7531.135 for no scaling for both X and y\n",
        "Train: 1492.921, Test: 1864.310 for y scaled but X same\n",
        "Train: 0.774, Test: 7.438 ==> When both X and y r scaled!"
      ],
      "metadata": {
        "id": "CHHD2EPtlRsn"
      }
    },
    {
      "cell_type": "code",
      "source": [
        "# fit model\n",
        "history = model.fit(trainX, trainy_scaled, validation_data=(testX, testy_scaled), epochs=100, verbose=0)\n",
        "# evaluate the model\n",
        "train_mse = model.evaluate(trainX, trainy_scaled, verbose=0)\n",
        "test_mse = model.evaluate(testX, testy_scaled, verbose=0)\n",
        "print('Train: %.3f, Test: %.3f' % (train_mse, test_mse))"
      ],
      "metadata": {
        "colab": {
          "base_uri": "https://localhost:8080/"
        },
        "id": "BCZgP11YlDHp",
        "outputId": "5127fd6a-a489-4464-eced-28b1565d2643"
      },
      "execution_count": null,
      "outputs": [
        {
          "output_type": "stream",
          "name": "stdout",
          "text": [
            "Train: 1492.921, Test: 1864.310\n"
          ]
        }
      ]
    },
    {
      "cell_type": "code",
      "source": [
        "trainX.shape"
      ],
      "metadata": {
        "colab": {
          "base_uri": "https://localhost:8080/"
        },
        "id": "R7AD7-GZmZH9",
        "outputId": "3c683a65-eabf-41df-b1a8-196bee3ed521"
      },
      "execution_count": null,
      "outputs": [
        {
          "output_type": "execute_result",
          "data": {
            "text/plain": [
              "(568, 33)"
            ]
          },
          "metadata": {},
          "execution_count": 51
        }
      ]
    },
    {
      "cell_type": "code",
      "source": [
        "trainy.shape"
      ],
      "metadata": {
        "colab": {
          "base_uri": "https://localhost:8080/"
        },
        "id": "1JxdOO1Dmakg",
        "outputId": "7f233f3b-f0ab-413a-d4a0-fc8bf64cb30a"
      },
      "execution_count": null,
      "outputs": [
        {
          "output_type": "execute_result",
          "data": {
            "text/plain": [
              "(568, 1)"
            ]
          },
          "metadata": {},
          "execution_count": 52
        }
      ]
    },
    {
      "cell_type": "code",
      "source": [
        "testX.shape"
      ],
      "metadata": {
        "colab": {
          "base_uri": "https://localhost:8080/"
        },
        "id": "V0MeoEEume-H",
        "outputId": "595cfbb8-4fed-4fd8-d2d0-fd574ea9e338"
      },
      "execution_count": null,
      "outputs": [
        {
          "output_type": "execute_result",
          "data": {
            "text/plain": [
              "(143, 33)"
            ]
          },
          "metadata": {},
          "execution_count": 53
        }
      ]
    },
    {
      "cell_type": "code",
      "source": [
        "#from sklearn.preprocessing import StandardScaler\n",
        "#import numpy as np\n",
        "# created scaler for only X predictors\n",
        "input_scaler = StandardScaler()\n",
        "# fit scaler on training dataset\n",
        "# fit scaler\n",
        "input_scaler.fit(trainX)\n",
        "# transform training dataset\n",
        "trainX_scaled = input_scaler.transform(trainX)\n",
        "# transform test dataset\n",
        "testX_scaled = input_scaler.transform(testX)"
      ],
      "metadata": {
        "id": "aUlKaVgRgbLv"
      },
      "execution_count": null,
      "outputs": []
    },
    {
      "cell_type": "code",
      "source": [
        "trainX_scaled.shape"
      ],
      "metadata": {
        "colab": {
          "base_uri": "https://localhost:8080/"
        },
        "id": "rZJegOZTmvSW",
        "outputId": "9620b523-28ca-4ae2-eec8-fe6960d6be76"
      },
      "execution_count": null,
      "outputs": [
        {
          "output_type": "execute_result",
          "data": {
            "text/plain": [
              "(568, 33)"
            ]
          },
          "metadata": {},
          "execution_count": 56
        }
      ]
    },
    {
      "cell_type": "code",
      "source": [
        "testX.shape"
      ],
      "metadata": {
        "colab": {
          "base_uri": "https://localhost:8080/"
        },
        "id": "Itmp5oKKm0Ee",
        "outputId": "ba858e96-e408-495d-95c5-cd8ba6983981"
      },
      "execution_count": null,
      "outputs": [
        {
          "output_type": "execute_result",
          "data": {
            "text/plain": [
              "(143, 33)"
            ]
          },
          "metadata": {},
          "execution_count": 57
        }
      ]
    },
    {
      "cell_type": "code",
      "source": [
        "# fit model\n",
        "history = model.fit(trainX_scaled, trainy_scaled, validation_data=(testX_scaled, testy_scaled), epochs=100, verbose=0)\n",
        "# evaluate the model\n",
        "train_mse = model.evaluate(trainX_scaled, trainy_scaled, verbose=0)\n",
        "test_mse = model.evaluate(testX_scaled, testy_scaled, verbose=0)\n",
        "print('Train: %.3f, Test: %.3f' % (train_mse, test_mse))"
      ],
      "metadata": {
        "colab": {
          "base_uri": "https://localhost:8080/"
        },
        "id": "_G7IK7A2m2jm",
        "outputId": "4f8d9b96-f5e9-47d2-830b-98695a38cceb"
      },
      "execution_count": null,
      "outputs": [
        {
          "output_type": "stream",
          "name": "stdout",
          "text": [
            "Train: 0.774, Test: 7.438\n"
          ]
        }
      ]
    },
    {
      "cell_type": "code",
      "source": [
        "scores = model.evaluate(trainX_scaled, trainy_scaled, verbose=0)\n",
        "scores"
      ],
      "metadata": {
        "colab": {
          "base_uri": "https://localhost:8080/"
        },
        "id": "zK0XSah1oD1m",
        "outputId": "63cef32a-68b2-43bd-bc3c-f2cd17780f34"
      },
      "execution_count": null,
      "outputs": [
        {
          "output_type": "execute_result",
          "data": {
            "text/plain": [
              "0.774394154548645"
            ]
          },
          "metadata": {},
          "execution_count": 60
        }
      ]
    },
    {
      "cell_type": "code",
      "source": [
        "print(model.metrics_names)"
      ],
      "metadata": {
        "colab": {
          "base_uri": "https://localhost:8080/"
        },
        "id": "EnBPp9v6oLC_",
        "outputId": "0d4c0f87-8958-4ef2-dbae-a92e03ede820"
      },
      "execution_count": null,
      "outputs": [
        {
          "output_type": "stream",
          "name": "stdout",
          "text": [
            "['loss']\n"
          ]
        }
      ]
    },
    {
      "cell_type": "code",
      "source": [
        "from matplotlib import pyplot\n",
        "# plot loss during training\n",
        "pyplot.title('Loss / Mean Squared Error')\n",
        "pyplot.plot(history.history['loss'], label='train')\n",
        "pyplot.plot(history.history['val_loss'], label='test')\n",
        "pyplot.legend()\n",
        "pyplot.show()"
      ],
      "metadata": {
        "colab": {
          "base_uri": "https://localhost:8080/",
          "height": 281
        },
        "id": "V-t3MmIqoMrG",
        "outputId": "d40f57b6-c193-4df1-e7c4-fab202457af2"
      },
      "execution_count": null,
      "outputs": [
        {
          "output_type": "display_data",
          "data": {
            "text/plain": [
              "<Figure size 432x288 with 1 Axes>"
            ],
            "image/png": "[encoded data removed]"
          },
          "metadata": {
            "needs_background": "light"
          }
        }
      ]
    },
    {
      "cell_type": "markdown",
      "source": [
        "Now let's bring in the optimized model of Deep/NN & check."
      ],
      "metadata": {
        "id": "6JTyKBuynULO"
      }
    },
    {
      "cell_type": "code",
      "source": [
        "## KHDS_KerasTuner_Optimized_NN_2 ==> from here we picked the best model with best r2 so far!!\n",
        "##PASS 10: ==> lETS replicate pass 2 --> PASS 2: This has best result so far on both test & train = R2. \n",
        "from keras.activations import linear\n",
        "batch_size = 10\n",
        "epochs = 200\n",
        "\n",
        "# build the model\n",
        "#input_dim = X_train_scaled.shape[1]\n",
        "\n",
        "lr_model = Sequential()\n",
        "lr_model.add(Dense(64, input_shape=(33,), activation=tf.nn.relu, kernel_initializer='he_uniform')) \n",
        "lr_model.add(Dropout(0.1))\n",
        "lr_model.add(Dense(512, kernel_initializer='he_uniform', activation=tf.nn.relu)) #from 64 to 128\n",
        "lr_model.add(Dropout(0.1))\n",
        "lr_model.add(Dense(128, kernel_initializer='he_uniform', activation=tf.nn.relu)) #from 64 to 128\n",
        "lr_model.add(Dropout(0.1))\n",
        "#lr_model.add(Dense(256, kernel_initializer='he_uniform', activation=tf.nn.relu)) #from 64 to 128\n",
        "#lr_model.add(Dropout(0.1))\n",
        "lr_model.add(Dense(1, kernel_initializer='he_uniform',activation='linear'))\n",
        "\n",
        "# compile the model\n",
        "#lr_model.compile(loss='mean_squared_error',optimizer=sgd)\n",
        "lr_model.compile(loss='mse', optimizer=tf.keras.optimizers.Adam(0.0001), metrics=['mse', 'mae', 'mape'])\n",
        "\n",
        "# Pass several parameters to 'EarlyStopping' function and assigns it to 'earlystopper'\n",
        "earlystopper = EarlyStopping(monitor='val_loss', min_delta=0, patience=10, verbose=1, mode='auto') #patience reduced to 10 from 15"
      ],
      "metadata": {
        "id": "6tdcvJ7DnZlG"
      },
      "execution_count": null,
      "outputs": []
    },
    {
      "cell_type": "code",
      "source": [
        "# Fits model over 2000 iterations with 'earlystopper' callback, and assigns it to history\n",
        "history_4 = lr_model.fit(trainX_scaled, trainy, batch_size=batch_size, epochs = epochs, validation_split = 0.2,shuffle = True, verbose = 0, callbacks = [earlystopper])"
      ],
      "metadata": {
        "colab": {
          "base_uri": "https://localhost:8080/"
        },
        "id": "H7zdcN3DpLCf",
        "outputId": "c07f9a05-2d11-4c8b-a0a2-79486e6c114b"
      },
      "execution_count": null,
      "outputs": [
        {
          "output_type": "stream",
          "name": "stdout",
          "text": [
            "Epoch 12: early stopping\n"
          ]
        }
      ]
    },
    {
      "cell_type": "code",
      "source": [
        "# Plots 'history'\n",
        "history_dict=history_4.history\n",
        "loss_values = history_dict['loss']\n",
        "val_loss_values=history_dict['val_loss']\n",
        "plt.plot(loss_values,'bo',label='training loss')\n",
        "plt.plot(val_loss_values,'r',label='training loss val')"
      ],
      "metadata": {
        "colab": {
          "base_uri": "https://localhost:8080/",
          "height": 283
        },
        "id": "EX7ZbjWapntQ",
        "outputId": "4fe45ff5-9476-436f-b8e3-6667876ea025"
      },
      "execution_count": null,
      "outputs": [
        {
          "output_type": "execute_result",
          "data": {
            "text/plain": [
              "[<matplotlib.lines.Line2D at 0x7fb770a96190>]"
            ]
          },
          "metadata": {},
          "execution_count": 68
        },
        {
          "output_type": "display_data",
          "data": {
            "text/plain": [
              "<Figure size 432x288 with 1 Axes>"
            ],
            "image/png": "[encoded data removed]"
          },
          "metadata": {
            "needs_background": "light"
          }
        }
      ]
    },
    {
      "cell_type": "code",
      "source": [
        "# Runs model with its current weights on the training and testing data\n",
        "y_train_pred = lr_model.predict(trainX_scaled)\n",
        "y_test_pred = lr_model.predict(testX_scaled)"
      ],
      "metadata": {
        "id": "5IHFG7Odp7w3"
      },
      "execution_count": null,
      "outputs": []
    },
    {
      "cell_type": "code",
      "source": [
        ""
      ],
      "metadata": {
        "id": "zPsMuO2ZxiU6"
      },
      "execution_count": null,
      "outputs": []
    },
    {
      "cell_type": "code",
      "source": [
        "import numpy as np\n",
        "from sklearn.metrics import mean_absolute_percentage_error\n",
        "# Calculates and prints r2 score of training and testing data\n",
        "print(\"The R2 score on the Train set is:\\t{:0.3f}\".format(r2_score(trainy, y_train_pred)))\n",
        "print(\"The RMSE score on the Train set is:\\t{:0.3f}\".format(np.sqrt(mean_squared_error(trainy, y_train_pred))))\n",
        "print(\"The MSE score on the Test set is:\\t{:0.3f}\".format(mean_squared_error(trainy, y_train_pred)))\n",
        "print(\"The MSA score on the Test set is:\\t{:0.3f}\".format(mean_absolute_error(trainy, y_train_pred)))\n",
        "print(\"The MAPE score on the Test set is:\\t{:0.3f}\".format(mean_absolute_percentage_error(trainy, y_train_pred)))"
      ],
      "metadata": {
        "colab": {
          "base_uri": "https://localhost:8080/"
        },
        "id": "K9ntbmufqH2u",
        "outputId": "d156af01-6c6b-4609-a1a1-534178425aa5"
      },
      "execution_count": null,
      "outputs": [
        {
          "output_type": "stream",
          "name": "stdout",
          "text": [
            "The R2 score on the Train set is:\t0.094\n",
            "The RMSE score on the Train set is:\t2.777\n",
            "The MSE score on the Test set is:\t7.712\n",
            "The MSA score on the Test set is:\t1.575\n",
            "The MAPE score on the Test set is:\t0.555\n"
          ]
        }
      ]
    },
    {
      "cell_type": "code",
      "source": [
        "print(\"Now scores on TEST data\")\n",
        "print(\"The R2 score on the Test set is:\\t{:0.3f}\".format(r2_score(testy, y_test_pred)))\n",
        "print(\"The RMSE score on the Test set is:\\t{:0.3f}\".format(np.sqrt(mean_squared_error(testy, y_test_pred))))\n",
        "print(\"The MSE score on the Test set is:\\t{:0.3f}\".format(mean_squared_error(testy, y_test_pred)))\n",
        "print(\"The MSA score on the Test set is:\\t{:0.3f}\".format(mean_absolute_error(testy, y_test_pred)))\n",
        "print(\"The MAPE score on the Test set is:\\t{:0.3f}\".format(mean_absolute_percentage_error(testy, y_test_pred)))"
      ],
      "metadata": {
        "colab": {
          "base_uri": "https://localhost:8080/"
        },
        "id": "Q1ULfcMjqnYQ",
        "outputId": "15ed0d0e-b5e5-4e3b-b908-04220a6c0b56"
      },
      "execution_count": null,
      "outputs": [
        {
          "output_type": "stream",
          "name": "stdout",
          "text": [
            "Now scores on TEST data\n",
            "The R2 score on the Test set is:\t-0.123\n",
            "The RMSE score on the Test set is:\t8.460\n",
            "The MSE score on the Test set is:\t71.564\n",
            "The MSA score on the Test set is:\t3.213\n",
            "The MAPE score on the Test set is:\t0.451\n"
          ]
        }
      ]
    },
    {
      "cell_type": "code",
      "source": [
        "history_4_1 = lr_model.fit(trainX_scaled, trainy, batch_size=batch_size, epochs = epochs, validation_data=(testX_scaled, testy),shuffle = True, verbose = 0, callbacks = [earlystopper])"
      ],
      "metadata": {
        "colab": {
          "base_uri": "https://localhost:8080/"
        },
        "id": "vsk-dY_4ww0S",
        "outputId": "7f007d1c-fed8-49dd-88dd-4e9c0cf654b8"
      },
      "execution_count": null,
      "outputs": [
        {
          "output_type": "stream",
          "name": "stdout",
          "text": [
            "Epoch 140: early stopping\n"
          ]
        }
      ]
    },
    {
      "cell_type": "markdown",
      "source": [
        "Here above --> X is scaled but y is NOT scaled."
      ],
      "metadata": {
        "id": "_9FRCMll2Rph"
      }
    },
    {
      "cell_type": "code",
      "source": [
        "# Plots 'history'\n",
        "history_dict=history_4.history\n",
        "loss_values = history_dict['loss']\n",
        "val_loss_values=history_dict['val_loss']\n",
        "plt.plot(loss_values,'bo',label='training loss')\n",
        "plt.plot(val_loss_values,'r',label='training loss val')"
      ],
      "metadata": {
        "colab": {
          "base_uri": "https://localhost:8080/",
          "height": 283
        },
        "id": "RMzj116QxdJK",
        "outputId": "97aaaaa8-3cb1-466b-cb3a-52de11da9aab"
      },
      "execution_count": null,
      "outputs": [
        {
          "output_type": "execute_result",
          "data": {
            "text/plain": [
              "[<matplotlib.lines.Line2D at 0x7fb76e820e50>]"
            ]
          },
          "metadata": {},
          "execution_count": 78
        },
        {
          "output_type": "display_data",
          "data": {
            "text/plain": [
              "<Figure size 432x288 with 1 Axes>"
            ],
            "image/png": "[encoded data removed]"
          },
          "metadata": {
            "needs_background": "light"
          }
        }
      ]
    },
    {
      "cell_type": "code",
      "source": [
        "# Runs model with its current weights on the training and testing data\n",
        "y_train_pred = lr_model.predict(trainX_scaled)\n",
        "y_test_pred = lr_model.predict(testX_scaled)"
      ],
      "metadata": {
        "id": "B9ouJZ1kxjQD"
      },
      "execution_count": null,
      "outputs": []
    },
    {
      "cell_type": "code",
      "source": [
        "import numpy as np\n",
        "from sklearn.metrics import mean_absolute_percentage_error\n",
        "# Calculates and prints r2 score of training and testing data\n",
        "print(\"The R2 score on the Train set is:\\t{:0.3f}\".format(r2_score(trainy, y_train_pred)))\n",
        "print(\"The RMSE score on the Train set is:\\t{:0.3f}\".format(np.sqrt(mean_squared_error(trainy, y_train_pred))))\n",
        "print(\"The MSE score on the Test set is:\\t{:0.3f}\".format(mean_squared_error(trainy, y_train_pred)))\n",
        "print(\"The MSA score on the Test set is:\\t{:0.3f}\".format(mean_absolute_error(trainy, y_train_pred)))\n",
        "print(\"The MAPE score on the Test set is:\\t{:0.3f}\".format(mean_absolute_percentage_error(trainy, y_train_pred)))"
      ],
      "metadata": {
        "colab": {
          "base_uri": "https://localhost:8080/"
        },
        "id": "MVz98JrTxluN",
        "outputId": "e3fc4423-67e9-4281-c3e6-d61b87579c83"
      },
      "execution_count": null,
      "outputs": [
        {
          "output_type": "stream",
          "name": "stdout",
          "text": [
            "The R2 score on the Train set is:\t0.645\n",
            "The RMSE score on the Train set is:\t1.738\n",
            "The MSE score on the Test set is:\t3.022\n",
            "The MSA score on the Test set is:\t1.059\n",
            "The MAPE score on the Test set is:\t0.312\n"
          ]
        }
      ]
    },
    {
      "cell_type": "code",
      "source": [
        "print(\"Now scores on TEST data\")\n",
        "print(\"The R2 score on the Test set is:\\t{:0.3f}\".format(r2_score(testy, y_test_pred)))\n",
        "print(\"The RMSE score on the Test set is:\\t{:0.3f}\".format(np.sqrt(mean_squared_error(testy, y_test_pred))))\n",
        "print(\"The MSE score on the Test set is:\\t{:0.3f}\".format(mean_squared_error(testy, y_test_pred)))\n",
        "print(\"The MSA score on the Test set is:\\t{:0.3f}\".format(mean_absolute_error(testy, y_test_pred)))\n",
        "print(\"The MAPE score on the Test set is:\\t{:0.3f}\".format(mean_absolute_percentage_error(testy, y_test_pred)))"
      ],
      "metadata": {
        "colab": {
          "base_uri": "https://localhost:8080/"
        },
        "id": "izns9Qi8xqOy",
        "outputId": "3848d34a-d492-4ee9-f45d-bbd9e888036d"
      },
      "execution_count": null,
      "outputs": [
        {
          "output_type": "stream",
          "name": "stdout",
          "text": [
            "Now scores on TEST data\n",
            "The R2 score on the Test set is:\t0.166\n",
            "The RMSE score on the Test set is:\t7.291\n",
            "The MSE score on the Test set is:\t53.156\n",
            "The MSA score on the Test set is:\t2.568\n",
            "The MAPE score on the Test set is:\t0.311\n"
          ]
        }
      ]
    },
    {
      "cell_type": "code",
      "source": [
        "history_5 = lr_model.fit(trainX_scaled, trainy_scaled, batch_size=batch_size, epochs = epochs, validation_data=(testX_scaled, testy_scaled),shuffle = True, verbose = 0, callbacks = [earlystopper])"
      ],
      "metadata": {
        "colab": {
          "base_uri": "https://localhost:8080/"
        },
        "id": "oVTMHLs9yETq",
        "outputId": "88d15bd3-ed92-4202-aa99-a001a8d36cfd"
      },
      "execution_count": null,
      "outputs": [
        {
          "output_type": "stream",
          "name": "stdout",
          "text": [
            "Epoch 11: early stopping\n"
          ]
        }
      ]
    },
    {
      "cell_type": "code",
      "source": [
        ""
      ],
      "metadata": {
        "id": "SjDNcLEX3zKu"
      },
      "execution_count": null,
      "outputs": []
    },
    {
      "cell_type": "markdown",
      "source": [
        "Now above history_5 = both X & y is scaled!"
      ],
      "metadata": {
        "id": "b3QNwwf12X22"
      }
    },
    {
      "cell_type": "code",
      "source": [
        "# Runs model with its current weights on the training and testing data\n",
        "y_train_pred = lr_model.predict(trainX_scaled)\n",
        "y_test_pred = lr_model.predict(testX_scaled)"
      ],
      "metadata": {
        "id": "rBxxgXtUy0mA"
      },
      "execution_count": null,
      "outputs": []
    },
    {
      "cell_type": "code",
      "source": [
        "import numpy as np\n",
        "from sklearn.metrics import mean_absolute_percentage_error\n",
        "# Calculates and prints r2 score of training and testing data\n",
        "print(\"The R2 score on the Train set is:\\t{:0.3f}\".format(r2_score(trainy_scaled, y_train_pred)))\n",
        "print(\"The RMSE score on the Train set is:\\t{:0.3f}\".format(np.sqrt(mean_squared_error(trainy_scaled, y_train_pred))))\n",
        "print(\"The MSE score on the Test set is:\\t{:0.3f}\".format(mean_squared_error(trainy_scaled, y_train_pred)))\n",
        "print(\"The MSA score on the Test set is:\\t{:0.3f}\".format(mean_absolute_error(trainy_scaled, y_train_pred)))\n",
        "print(\"The MAPE score on the Test set is:\\t{:0.3f}\".format(mean_absolute_percentage_error(trainy_scaled, y_train_pred)))"
      ],
      "metadata": {
        "colab": {
          "base_uri": "https://localhost:8080/"
        },
        "id": "mfSU0aRyy9ni",
        "outputId": "1d91fbce-2f3d-42f6-e494-ae508c0bdf9c"
      },
      "execution_count": null,
      "outputs": [
        {
          "output_type": "stream",
          "name": "stdout",
          "text": [
            "The R2 score on the Train set is:\t0.709\n",
            "The RMSE score on the Train set is:\t0.539\n",
            "The MSE score on the Test set is:\t0.291\n",
            "The MSA score on the Test set is:\t0.395\n",
            "The MAPE score on the Test set is:\t1.287\n"
          ]
        }
      ]
    },
    {
      "cell_type": "code",
      "source": [
        "print(\"Now scores on TEST data\")\n",
        "print(\"The R2 score on the Test set is:\\t{:0.3f}\".format(r2_score(testy_scaled, y_test_pred)))\n",
        "print(\"The RMSE score on the Test set is:\\t{:0.3f}\".format(np.sqrt(mean_squared_error(testy_scaled, y_test_pred))))\n",
        "print(\"The MSE score on the Test set is:\\t{:0.3f}\".format(mean_squared_error(testy_scaled, y_test_pred)))\n",
        "print(\"The MSA score on the Test set is:\\t{:0.3f}\".format(mean_absolute_error(testy_scaled, y_test_pred)))\n",
        "print(\"The MAPE score on the Test set is:\\t{:0.3f}\".format(mean_absolute_percentage_error(testy_scaled, y_test_pred)))"
      ],
      "metadata": {
        "colab": {
          "base_uri": "https://localhost:8080/"
        },
        "id": "6M5YtaaAzTqq",
        "outputId": "0cd24f6d-237d-4dba-a11a-31c2a3bdabfe"
      },
      "execution_count": null,
      "outputs": [
        {
          "output_type": "stream",
          "name": "stdout",
          "text": [
            "Now scores on TEST data\n",
            "The R2 score on the Test set is:\t0.185\n",
            "The RMSE score on the Test set is:\t2.471\n",
            "The MSE score on the Test set is:\t6.105\n",
            "The MSA score on the Test set is:\t0.900\n",
            "The MAPE score on the Test set is:\t1.629\n"
          ]
        }
      ]
    },
    {
      "cell_type": "markdown",
      "source": [
        "THe above scores r much better when u check MSE& MSA from best model pickup prog = > KHDS_KerasTuner_Optimized_NN_2\n",
        "The R2 score on the Train set is:\t0.673\n",
        "The RMSE score on the Train set is:\t2.578\n",
        "The MSE score on the Test set is:\t6.646\n",
        "The MSA score on the Test set is:\t1.342\n",
        "The MAPE score on the Test set is:\t0.365\n",
        "Now scores on TEST data\n",
        "The R2 score on the Test set is:\t0.186\n",
        "The RMSE score on the Test set is:\t4.118\n",
        "The MSE score on the Test set is:\t16.959\n",
        "The MSA score on the Test set is:\t1.654\n",
        "The MAPE score on the Test set is:\t0.387"
      ],
      "metadata": {
        "id": "uFQsXl531ij_"
      }
    },
    {
      "cell_type": "code",
      "source": [
        "# Plots 'history'\n",
        "history_dict=history_5.history\n",
        "loss_values = history_dict['loss']\n",
        "val_loss_values=history_dict['val_loss']\n",
        "plt.plot(loss_values,'bo',label='training loss')\n",
        "plt.plot(val_loss_values,'r',label='training loss val')"
      ],
      "metadata": {
        "colab": {
          "base_uri": "https://localhost:8080/",
          "height": 283
        },
        "id": "njwNk_SfzCky",
        "outputId": "c41513bd-9473-49fa-d8b0-2f5a1f8367ef"
      },
      "execution_count": null,
      "outputs": [
        {
          "output_type": "execute_result",
          "data": {
            "text/plain": [
              "[<matplotlib.lines.Line2D at 0x7fb76e7ef650>]"
            ]
          },
          "metadata": {},
          "execution_count": 87
        },
        {
          "output_type": "display_data",
          "data": {
            "text/plain": [
              "<Figure size 432x288 with 1 Axes>"
            ],
            "image/png": "[encoded data removed]"
          },
          "metadata": {
            "needs_background": "light"
          }
        }
      ]
    },
    {
      "cell_type": "code",
      "source": [
        "history_6 = lr_model.fit(trainX, trainy_scaled, batch_size=batch_size, epochs = epochs, validation_data=(testX, testy_scaled),shuffle = True, verbose = 0, callbacks = [earlystopper])"
      ],
      "metadata": {
        "colab": {
          "base_uri": "https://localhost:8080/"
        },
        "id": "AxXqJnxX2k4B",
        "outputId": "74b8f8ab-923e-4500-de30-080f2672aa5e"
      },
      "execution_count": null,
      "outputs": [
        {
          "output_type": "stream",
          "name": "stdout",
          "text": [
            "Epoch 11: early stopping\n"
          ]
        }
      ]
    },
    {
      "cell_type": "markdown",
      "source": [
        "Above history_6 only y is SCALED & X is not scaled"
      ],
      "metadata": {
        "id": "xlwzGZ2n2uHq"
      }
    },
    {
      "cell_type": "code",
      "source": [
        "# Runs model with its current weights on the training and testing data\n",
        "y_train_pred = lr_model.predict(trainX)\n",
        "y_test_pred = lr_model.predict(testX)"
      ],
      "metadata": {
        "id": "dEX2sOwm21aR"
      },
      "execution_count": null,
      "outputs": []
    },
    {
      "cell_type": "code",
      "source": [
        "import numpy as np\n",
        "from sklearn.metrics import mean_absolute_percentage_error\n",
        "# Calculates and prints r2 score of training and testing data\n",
        "print(\"The R2 score on the Train set is:\\t{:0.3f}\".format(r2_score(trainy_scaled, y_train_pred)))\n",
        "print(\"The RMSE score on the Train set is:\\t{:0.3f}\".format(np.sqrt(mean_squared_error(trainy_scaled, y_train_pred))))\n",
        "print(\"The MSE score on the Test set is:\\t{:0.3f}\".format(mean_squared_error(trainy_scaled, y_train_pred)))\n",
        "print(\"The MSA score on the Test set is:\\t{:0.3f}\".format(mean_absolute_error(trainy_scaled, y_train_pred)))\n",
        "print(\"The MAPE score on the Test set is:\\t{:0.3f}\".format(mean_absolute_percentage_error(trainy_scaled, y_train_pred)))"
      ],
      "metadata": {
        "colab": {
          "base_uri": "https://localhost:8080/"
        },
        "id": "gjj73IHq28XH",
        "outputId": "30198a44-8ed9-4ed9-bc88-c425ea603ff7"
      },
      "execution_count": null,
      "outputs": [
        {
          "output_type": "stream",
          "name": "stdout",
          "text": [
            "The R2 score on the Train set is:\t-67.434\n",
            "The RMSE score on the Train set is:\t8.272\n",
            "The MSE score on the Test set is:\t68.434\n",
            "The MSA score on the Test set is:\t3.221\n",
            "The MAPE score on the Test set is:\t18.333\n"
          ]
        }
      ]
    },
    {
      "cell_type": "code",
      "source": [
        "print(\"Now scores on TEST data\")\n",
        "print(\"The R2 score on the Test set is:\\t{:0.3f}\".format(r2_score(testy_scaled, y_test_pred)))\n",
        "print(\"The RMSE score on the Test set is:\\t{:0.3f}\".format(np.sqrt(mean_squared_error(testy_scaled, y_test_pred))))\n",
        "print(\"The MSE score on the Test set is:\\t{:0.3f}\".format(mean_squared_error(testy_scaled, y_test_pred)))\n",
        "print(\"The MSA score on the Test set is:\\t{:0.3f}\".format(mean_absolute_error(testy_scaled, y_test_pred)))\n",
        "print(\"The MAPE score on the Test set is:\\t{:0.3f}\".format(mean_absolute_percentage_error(testy_scaled, y_test_pred)))"
      ],
      "metadata": {
        "colab": {
          "base_uri": "https://localhost:8080/"
        },
        "id": "hYf1B5GL3Ia4",
        "outputId": "b8f78cc3-9d38-4d5d-f09e-5171f07c4dcf"
      },
      "execution_count": null,
      "outputs": [
        {
          "output_type": "stream",
          "name": "stdout",
          "text": [
            "Now scores on TEST data\n",
            "The R2 score on the Test set is:\t-0.809\n",
            "The RMSE score on the Test set is:\t3.681\n",
            "The MSE score on the Test set is:\t13.549\n",
            "The MSA score on the Test set is:\t3.131\n",
            "The MAPE score on the Test set is:\t15.983\n"
          ]
        }
      ]
    },
    {
      "cell_type": "markdown",
      "source": [
        "Horrible score so lets stick to both X & y as scaled. & check if we can improve on that model?"
      ],
      "metadata": {
        "id": "0vWdUcOD3SiH"
      }
    },
    {
      "cell_type": "markdown",
      "source": [
        "Lets take model5 (both X & y scaled) & increase batch size to 30 from 10 and epochs to 500 from 200 & check results."
      ],
      "metadata": {
        "id": "PvL4FPxJ4Krr"
      }
    },
    {
      "cell_type": "code",
      "source": [
        "history_5_1 = lr_model.fit(trainX_scaled, trainy_scaled, batch_size=30, epochs = 500, validation_data=(testX_scaled, testy_scaled),shuffle = True, verbose = 0, callbacks = [earlystopper])"
      ],
      "metadata": {
        "colab": {
          "base_uri": "https://localhost:8080/"
        },
        "id": "H_2ZDPFM30J_",
        "outputId": "45b6fc22-7d22-4856-86cf-093af05691c4"
      },
      "execution_count": null,
      "outputs": [
        {
          "output_type": "stream",
          "name": "stdout",
          "text": [
            "Epoch 165: early stopping\n"
          ]
        }
      ]
    },
    {
      "cell_type": "code",
      "source": [
        "# Runs model with its current weights on the training and testing data\n",
        "y_train_pred = lr_model.predict(trainX_scaled)\n",
        "y_test_pred = lr_model.predict(testX_scaled)"
      ],
      "metadata": {
        "id": "ZQsPtnGo4VLi"
      },
      "execution_count": null,
      "outputs": []
    },
    {
      "cell_type": "code",
      "source": [
        "import numpy as np\n",
        "from sklearn.metrics import mean_absolute_percentage_error\n",
        "# Calculates and prints r2 score of training and testing data\n",
        "print(\"The R2 score on the Train set is:\\t{:0.3f}\".format(r2_score(trainy_scaled, y_train_pred)))\n",
        "print(\"The RMSE score on the Train set is:\\t{:0.3f}\".format(np.sqrt(mean_squared_error(trainy_scaled, y_train_pred))))\n",
        "print(\"The MSE score on the Test set is:\\t{:0.3f}\".format(mean_squared_error(trainy_scaled, y_train_pred)))\n",
        "print(\"The MSA score on the Test set is:\\t{:0.3f}\".format(mean_absolute_error(trainy_scaled, y_train_pred)))\n",
        "print(\"The MAPE score on the Test set is:\\t{:0.3f}\".format(mean_absolute_percentage_error(trainy_scaled, y_train_pred)))"
      ],
      "metadata": {
        "colab": {
          "base_uri": "https://localhost:8080/"
        },
        "id": "ANUHZYt34d4X",
        "outputId": "d507f943-29ac-4287-b81d-5c6f81be16f8"
      },
      "execution_count": null,
      "outputs": [
        {
          "output_type": "stream",
          "name": "stdout",
          "text": [
            "The R2 score on the Train set is:\t0.753\n",
            "The RMSE score on the Train set is:\t0.497\n",
            "The MSE score on the Test set is:\t0.247\n",
            "The MSA score on the Test set is:\t0.368\n",
            "The MAPE score on the Test set is:\t1.077\n"
          ]
        }
      ]
    },
    {
      "cell_type": "code",
      "source": [
        "print(\"Now scores on TEST data\")\n",
        "print(\"The R2 score on the Test set is:\\t{:0.3f}\".format(r2_score(testy_scaled, y_test_pred)))\n",
        "print(\"The RMSE score on the Test set is:\\t{:0.3f}\".format(np.sqrt(mean_squared_error(testy_scaled, y_test_pred))))\n",
        "print(\"The MSE score on the Test set is:\\t{:0.3f}\".format(mean_squared_error(testy_scaled, y_test_pred)))\n",
        "print(\"The MSA score on the Test set is:\\t{:0.3f}\".format(mean_absolute_error(testy_scaled, y_test_pred)))\n",
        "print(\"The MAPE score on the Test set is:\\t{:0.3f}\".format(mean_absolute_percentage_error(testy_scaled, y_test_pred)))"
      ],
      "metadata": {
        "colab": {
          "base_uri": "https://localhost:8080/"
        },
        "id": "EURCaKht4l1t",
        "outputId": "31dc4707-2ff8-4d0c-bdaa-f8e715912ccb"
      },
      "execution_count": null,
      "outputs": [
        {
          "output_type": "stream",
          "name": "stdout",
          "text": [
            "Now scores on TEST data\n",
            "The R2 score on the Test set is:\t0.186\n",
            "The RMSE score on the Test set is:\t2.469\n",
            "The MSE score on the Test set is:\t6.097\n",
            "The MSA score on the Test set is:\t0.872\n",
            "The MAPE score on the Test set is:\t1.424\n"
          ]
        }
      ]
    },
    {
      "cell_type": "markdown",
      "source": [
        "No doubt BEST r2 score for TRAIN of 0.753 but TEST score is still low..."
      ],
      "metadata": {
        "id": "Fh_yizHq4oVB"
      }
    },
    {
      "cell_type": "markdown",
      "source": [
        "Auto-Keras, or How You can Create a Deep Learning Model in 4 Lines of Code"
      ],
      "metadata": {
        "id": "rpQsLrCl8F_t"
      }
    },
    {
      "cell_type": "code",
      "source": [
        "!pip install autokeras"
      ],
      "metadata": {
        "colab": {
          "base_uri": "https://localhost:8080/"
        },
        "id": "9XxJXClE8FLX",
        "outputId": "ea75185b-b7f8-46b4-c0d4-e6b983fff213"
      },
      "execution_count": null,
      "outputs": [
        {
          "output_type": "stream",
          "name": "stdout",
          "text": [
            "Collecting autokeras\n",
            "  Downloading autokeras-1.0.19-py3-none-any.whl (162 kB)\n",
            "\u001b[?25l\r\u001b[K     |██                              | 10 kB 19.5 MB/s eta 0:00:01\r\u001b[K     |████                            | 20 kB 21.7 MB/s eta 0:00:01\r\u001b[K     |██████                          | 30 kB 12.8 MB/s eta 0:00:01\r\u001b[K     |████████                        | 40 kB 10.1 MB/s eta 0:00:01\r\u001b[K     |██████████                      | 51 kB 7.2 MB/s eta 0:00:01\r\u001b[K     |████████████                    | 61 kB 8.4 MB/s eta 0:00:01\r\u001b[K     |██████████████▏                 | 71 kB 8.2 MB/s eta 0:00:01\r\u001b[K     |████████████████▏               | 81 kB 6.1 MB/s eta 0:00:01\r\u001b[K     |██████████████████▏             | 92 kB 6.7 MB/s eta 0:00:01\r\u001b[K     |████████████████████▏           | 102 kB 7.3 MB/s eta 0:00:01\r\u001b[K     |██████████████████████▏         | 112 kB 7.3 MB/s eta 0:00:01\r\u001b[K     |████████████████████████▏       | 122 kB 7.3 MB/s eta 0:00:01\r\u001b[K     |██████████████████████████▎     | 133 kB 7.3 MB/s eta 0:00:01\r\u001b[K     |████████████████████████████▎   | 143 kB 7.3 MB/s eta 0:00:01\r\u001b[K     |██████████████████████████████▎ | 153 kB 7.3 MB/s eta 0:00:01\r\u001b[K     |████████████████████████████████| 162 kB 7.3 MB/s \n",
            "\u001b[?25hRequirement already satisfied: packaging in /usr/local/lib/python3.7/dist-packages (from autokeras) (21.3)\n",
            "Collecting keras-tuner>=1.1.0\n",
            "  Downloading keras_tuner-1.1.2-py3-none-any.whl (133 kB)\n",
            "\u001b[K     |████████████████████████████████| 133 kB 42.6 MB/s \n",
            "\u001b[?25hRequirement already satisfied: tensorflow>=2.8.0 in /usr/local/lib/python3.7/dist-packages (from autokeras) (2.8.0)\n",
            "Requirement already satisfied: pandas in /usr/local/lib/python3.7/dist-packages (from autokeras) (1.3.5)\n",
            "Collecting kt-legacy\n",
            "  Downloading kt_legacy-1.0.4-py3-none-any.whl (9.6 kB)\n",
            "Requirement already satisfied: tensorboard in /usr/local/lib/python3.7/dist-packages (from keras-tuner>=1.1.0->autokeras) (2.8.0)\n",
            "Requirement already satisfied: ipython in /usr/local/lib/python3.7/dist-packages (from keras-tuner>=1.1.0->autokeras) (5.5.0)\n",
            "Requirement already satisfied: requests in /usr/local/lib/python3.7/dist-packages (from keras-tuner>=1.1.0->autokeras) (2.23.0)\n",
            "Requirement already satisfied: numpy in /usr/local/lib/python3.7/dist-packages (from keras-tuner>=1.1.0->autokeras) (1.21.6)\n",
            "Requirement already satisfied: typing-extensions>=3.6.6 in /usr/local/lib/python3.7/dist-packages (from tensorflow>=2.8.0->autokeras) (4.2.0)\n",
            "Requirement already satisfied: protobuf>=3.9.2 in /usr/local/lib/python3.7/dist-packages (from tensorflow>=2.8.0->autokeras) (3.17.3)\n",
            "Requirement already satisfied: tensorflow-io-gcs-filesystem>=0.23.1 in /usr/local/lib/python3.7/dist-packages (from tensorflow>=2.8.0->autokeras) (0.25.0)\n",
            "Requirement already satisfied: h5py>=2.9.0 in /usr/local/lib/python3.7/dist-packages (from tensorflow>=2.8.0->autokeras) (3.1.0)\n",
            "Requirement already satisfied: absl-py>=0.4.0 in /usr/local/lib/python3.7/dist-packages (from tensorflow>=2.8.0->autokeras) (1.0.0)\n",
            "Requirement already satisfied: libclang>=9.0.1 in /usr/local/lib/python3.7/dist-packages (from tensorflow>=2.8.0->autokeras) (14.0.1)\n",
            "Requirement already satisfied: keras<2.9,>=2.8.0rc0 in /usr/local/lib/python3.7/dist-packages (from tensorflow>=2.8.0->autokeras) (2.8.0)\n",
            "Requirement already satisfied: termcolor>=1.1.0 in /usr/local/lib/python3.7/dist-packages (from tensorflow>=2.8.0->autokeras) (1.1.0)\n",
            "Requirement already satisfied: six>=1.12.0 in /usr/local/lib/python3.7/dist-packages (from tensorflow>=2.8.0->autokeras) (1.15.0)\n",
            "Requirement already satisfied: opt-einsum>=2.3.2 in /usr/local/lib/python3.7/dist-packages (from tensorflow>=2.8.0->autokeras) (3.3.0)\n",
            "Requirement already satisfied: flatbuffers>=1.12 in /usr/local/lib/python3.7/dist-packages (from tensorflow>=2.8.0->autokeras) (2.0)\n",
            "Requirement already satisfied: google-pasta>=0.1.1 in /usr/local/lib/python3.7/dist-packages (from tensorflow>=2.8.0->autokeras) (0.2.0)\n",
            "Requirement already satisfied: gast>=0.2.1 in /usr/local/lib/python3.7/dist-packages (from tensorflow>=2.8.0->autokeras) (0.5.3)\n",
            "Requirement already satisfied: wrapt>=1.11.0 in /usr/local/lib/python3.7/dist-packages (from tensorflow>=2.8.0->autokeras) (1.14.0)\n",
            "Requirement already satisfied: astunparse>=1.6.0 in /usr/local/lib/python3.7/dist-packages (from tensorflow>=2.8.0->autokeras) (1.6.3)\n",
            "Requirement already satisfied: setuptools in /usr/local/lib/python3.7/dist-packages (from tensorflow>=2.8.0->autokeras) (57.4.0)\n",
            "Collecting tf-estimator-nightly==2.8.0.dev2021122109\n",
            "  Downloading tf_estimator_nightly-2.8.0.dev2021122109-py2.py3-none-any.whl (462 kB)\n",
            "\u001b[K     |████████████████████████████████| 462 kB 37.6 MB/s \n",
            "\u001b[?25hRequirement already satisfied: keras-preprocessing>=1.1.1 in /usr/local/lib/python3.7/dist-packages (from tensorflow>=2.8.0->autokeras) (1.1.2)\n",
            "Requirement already satisfied: grpcio<2.0,>=1.24.3 in /usr/local/lib/python3.7/dist-packages (from tensorflow>=2.8.0->autokeras) (1.44.0)\n",
            "Requirement already satisfied: wheel<1.0,>=0.23.0 in /usr/local/lib/python3.7/dist-packages (from astunparse>=1.6.0->tensorflow>=2.8.0->autokeras) (0.37.1)\n",
            "Requirement already satisfied: cached-property in /usr/local/lib/python3.7/dist-packages (from h5py>=2.9.0->tensorflow>=2.8.0->autokeras) (1.5.2)\n",
            "Requirement already satisfied: google-auth-oauthlib<0.5,>=0.4.1 in /usr/local/lib/python3.7/dist-packages (from tensorboard->keras-tuner>=1.1.0->autokeras) (0.4.6)\n",
            "Requirement already satisfied: tensorboard-plugin-wit>=1.6.0 in /usr/local/lib/python3.7/dist-packages (from tensorboard->keras-tuner>=1.1.0->autokeras) (1.8.1)\n",
            "Requirement already satisfied: werkzeug>=0.11.15 in /usr/local/lib/python3.7/dist-packages (from tensorboard->keras-tuner>=1.1.0->autokeras) (1.0.1)\n",
            "Requirement already satisfied: google-auth<3,>=1.6.3 in /usr/local/lib/python3.7/dist-packages (from tensorboard->keras-tuner>=1.1.0->autokeras) (1.35.0)\n",
            "Requirement already satisfied: tensorboard-data-server<0.7.0,>=0.6.0 in /usr/local/lib/python3.7/dist-packages (from tensorboard->keras-tuner>=1.1.0->autokeras) (0.6.1)\n",
            "Requirement already satisfied: markdown>=2.6.8 in /usr/local/lib/python3.7/dist-packages (from tensorboard->keras-tuner>=1.1.0->autokeras) (3.3.6)\n",
            "Requirement already satisfied: cachetools<5.0,>=2.0.0 in /usr/local/lib/python3.7/dist-packages (from google-auth<3,>=1.6.3->tensorboard->keras-tuner>=1.1.0->autokeras) (4.2.4)\n",
            "Requirement already satisfied: pyasn1-modules>=0.2.1 in /usr/local/lib/python3.7/dist-packages (from google-auth<3,>=1.6.3->tensorboard->keras-tuner>=1.1.0->autokeras) (0.2.8)\n",
            "Requirement already satisfied: rsa<5,>=3.1.4 in /usr/local/lib/python3.7/dist-packages (from google-auth<3,>=1.6.3->tensorboard->keras-tuner>=1.1.0->autokeras) (4.8)\n",
            "Requirement already satisfied: requests-oauthlib>=0.7.0 in /usr/local/lib/python3.7/dist-packages (from google-auth-oauthlib<0.5,>=0.4.1->tensorboard->keras-tuner>=1.1.0->autokeras) (1.3.1)\n",
            "Requirement already satisfied: importlib-metadata>=4.4 in /usr/local/lib/python3.7/dist-packages (from markdown>=2.6.8->tensorboard->keras-tuner>=1.1.0->autokeras) (4.11.3)\n",
            "Requirement already satisfied: zipp>=0.5 in /usr/local/lib/python3.7/dist-packages (from importlib-metadata>=4.4->markdown>=2.6.8->tensorboard->keras-tuner>=1.1.0->autokeras) (3.8.0)\n",
            "Requirement already satisfied: pyasn1<0.5.0,>=0.4.6 in /usr/local/lib/python3.7/dist-packages (from pyasn1-modules>=0.2.1->google-auth<3,>=1.6.3->tensorboard->keras-tuner>=1.1.0->autokeras) (0.4.8)\n",
            "Requirement already satisfied: certifi>=2017.4.17 in /usr/local/lib/python3.7/dist-packages (from requests->keras-tuner>=1.1.0->autokeras) (2021.10.8)\n",
            "Requirement already satisfied: urllib3!=1.25.0,!=1.25.1,<1.26,>=1.21.1 in /usr/local/lib/python3.7/dist-packages (from requests->keras-tuner>=1.1.0->autokeras) (1.24.3)\n",
            "Requirement already satisfied: idna<3,>=2.5 in /usr/local/lib/python3.7/dist-packages (from requests->keras-tuner>=1.1.0->autokeras) (2.10)\n",
            "Requirement already satisfied: chardet<4,>=3.0.2 in /usr/local/lib/python3.7/dist-packages (from requests->keras-tuner>=1.1.0->autokeras) (3.0.4)\n",
            "Requirement already satisfied: oauthlib>=3.0.0 in /usr/local/lib/python3.7/dist-packages (from requests-oauthlib>=0.7.0->google-auth-oauthlib<0.5,>=0.4.1->tensorboard->keras-tuner>=1.1.0->autokeras) (3.2.0)\n",
            "Requirement already satisfied: traitlets>=4.2 in /usr/local/lib/python3.7/dist-packages (from ipython->keras-tuner>=1.1.0->autokeras) (5.1.1)\n",
            "Requirement already satisfied: decorator in /usr/local/lib/python3.7/dist-packages (from ipython->keras-tuner>=1.1.0->autokeras) (4.4.2)\n",
            "Requirement already satisfied: prompt-toolkit<2.0.0,>=1.0.4 in /usr/local/lib/python3.7/dist-packages (from ipython->keras-tuner>=1.1.0->autokeras) (1.0.18)\n",
            "Requirement already satisfied: simplegeneric>0.8 in /usr/local/lib/python3.7/dist-packages (from ipython->keras-tuner>=1.1.0->autokeras) (0.8.1)\n",
            "Requirement already satisfied: pickleshare in /usr/local/lib/python3.7/dist-packages (from ipython->keras-tuner>=1.1.0->autokeras) (0.7.5)\n",
            "Requirement already satisfied: pexpect in /usr/local/lib/python3.7/dist-packages (from ipython->keras-tuner>=1.1.0->autokeras) (4.8.0)\n",
            "Requirement already satisfied: pygments in /usr/local/lib/python3.7/dist-packages (from ipython->keras-tuner>=1.1.0->autokeras) (2.6.1)\n",
            "Requirement already satisfied: wcwidth in /usr/local/lib/python3.7/dist-packages (from prompt-toolkit<2.0.0,>=1.0.4->ipython->keras-tuner>=1.1.0->autokeras) (0.2.5)\n",
            "Requirement already satisfied: pyparsing!=3.0.5,>=2.0.2 in /usr/local/lib/python3.7/dist-packages (from packaging->autokeras) (3.0.8)\n",
            "Requirement already satisfied: pytz>=2017.3 in /usr/local/lib/python3.7/dist-packages (from pandas->autokeras) (2022.1)\n",
            "Requirement already satisfied: python-dateutil>=2.7.3 in /usr/local/lib/python3.7/dist-packages (from pandas->autokeras) (2.8.2)\n",
            "Requirement already satisfied: ptyprocess>=0.5 in /usr/local/lib/python3.7/dist-packages (from pexpect->ipython->keras-tuner>=1.1.0->autokeras) (0.7.0)\n",
            "Installing collected packages: tf-estimator-nightly, kt-legacy, keras-tuner, autokeras\n",
            "Successfully installed autokeras-1.0.19 keras-tuner-1.1.2 kt-legacy-1.0.4 tf-estimator-nightly-2.8.0.dev2021122109\n"
          ]
        }
      ]
    },
    {
      "cell_type": "code",
      "source": [
        "import plotly.express as px\n",
        "import autokeras as ak\n",
        "from autokeras import StructuredDataRegressor\n",
        "from sklearn.model_selection import train_test_split\n",
        "from IPython.display import HTML"
      ],
      "metadata": {
        "id": "RyRRgvum8Mtu"
      },
      "execution_count": null,
      "outputs": []
    },
    {
      "cell_type": "code",
      "source": [
        "# It tries 10 different models.\n",
        "reg = ak.StructuredDataRegressor(max_trials=3, overwrite=True)\n",
        "# Feed the structured data regressor with training data.\n",
        "reg.fit(trainX_scaled, trainy_scaled, epochs=100)"
      ],
      "metadata": {
        "colab": {
          "base_uri": "https://localhost:8080/"
        },
        "id": "9z8KBUFa8QbI",
        "outputId": "647645af-f357-4ccb-b0ab-5f2ef8da497a"
      },
      "execution_count": null,
      "outputs": [
        {
          "output_type": "stream",
          "name": "stdout",
          "text": [
            "Trial 3 Complete [00h 00m 06s]\n",
            "val_loss: 0.5763899683952332\n",
            "\n",
            "Best val_loss So Far: 0.5763899683952332\n",
            "Total elapsed time: 00h 00m 24s\n",
            "INFO:tensorflow:Oracle triggered exit\n",
            "Epoch 1/100\n",
            "18/18 [==============================] - 1s 2ms/step - loss: 1.1095 - mean_squared_error: 1.1095\n",
            "Epoch 2/100\n",
            "18/18 [==============================] - 0s 2ms/step - loss: 0.9470 - mean_squared_error: 0.9470\n",
            "Epoch 3/100\n",
            "18/18 [==============================] - 0s 4ms/step - loss: 0.9023 - mean_squared_error: 0.9023\n",
            "Epoch 4/100\n",
            "18/18 [==============================] - 0s 3ms/step - loss: 0.8856 - mean_squared_error: 0.8856\n",
            "Epoch 5/100\n",
            "18/18 [==============================] - 0s 2ms/step - loss: 0.8727 - mean_squared_error: 0.8727\n",
            "Epoch 6/100\n",
            "18/18 [==============================] - 0s 3ms/step - loss: 0.8640 - mean_squared_error: 0.8640\n",
            "Epoch 7/100\n",
            "18/18 [==============================] - 0s 3ms/step - loss: 0.8551 - mean_squared_error: 0.8551\n",
            "Epoch 8/100\n",
            "18/18 [==============================] - 0s 3ms/step - loss: 0.8494 - mean_squared_error: 0.8494\n",
            "Epoch 9/100\n",
            "18/18 [==============================] - 0s 3ms/step - loss: 0.8424 - mean_squared_error: 0.8424\n",
            "Epoch 10/100\n",
            "18/18 [==============================] - 0s 3ms/step - loss: 0.8386 - mean_squared_error: 0.8386\n",
            "Epoch 11/100\n",
            "18/18 [==============================] - 0s 3ms/step - loss: 0.8312 - mean_squared_error: 0.8312\n",
            "Epoch 12/100\n",
            "18/18 [==============================] - 0s 4ms/step - loss: 0.8271 - mean_squared_error: 0.8271\n",
            "Epoch 13/100\n",
            "18/18 [==============================] - 0s 3ms/step - loss: 0.8201 - mean_squared_error: 0.8201\n",
            "Epoch 14/100\n",
            "18/18 [==============================] - 0s 4ms/step - loss: 0.8154 - mean_squared_error: 0.8154\n",
            "Epoch 15/100\n",
            "18/18 [==============================] - 0s 3ms/step - loss: 0.8081 - mean_squared_error: 0.8081\n",
            "Epoch 16/100\n",
            "18/18 [==============================] - 0s 3ms/step - loss: 0.8058 - mean_squared_error: 0.8058\n",
            "Epoch 17/100\n",
            "18/18 [==============================] - 0s 2ms/step - loss: 0.7996 - mean_squared_error: 0.7996\n",
            "Epoch 18/100\n",
            "18/18 [==============================] - 0s 3ms/step - loss: 0.7993 - mean_squared_error: 0.7993\n",
            "Epoch 19/100\n",
            "18/18 [==============================] - 0s 3ms/step - loss: 0.7973 - mean_squared_error: 0.7973\n",
            "Epoch 20/100\n",
            "18/18 [==============================] - 0s 2ms/step - loss: 0.7954 - mean_squared_error: 0.7954\n",
            "Epoch 21/100\n",
            "18/18 [==============================] - 0s 4ms/step - loss: 0.7920 - mean_squared_error: 0.7920\n",
            "Epoch 22/100\n",
            "18/18 [==============================] - 0s 3ms/step - loss: 0.7827 - mean_squared_error: 0.7827\n",
            "Epoch 23/100\n",
            "18/18 [==============================] - 0s 3ms/step - loss: 0.7793 - mean_squared_error: 0.7793\n",
            "Epoch 24/100\n",
            "18/18 [==============================] - 0s 3ms/step - loss: 0.7701 - mean_squared_error: 0.7701\n",
            "Epoch 25/100\n",
            "18/18 [==============================] - 0s 3ms/step - loss: 0.7668 - mean_squared_error: 0.7668\n",
            "Epoch 26/100\n",
            "18/18 [==============================] - 0s 2ms/step - loss: 0.7598 - mean_squared_error: 0.7598\n",
            "Epoch 27/100\n",
            "18/18 [==============================] - 0s 3ms/step - loss: 0.7575 - mean_squared_error: 0.7575\n",
            "Epoch 28/100\n",
            "18/18 [==============================] - 0s 3ms/step - loss: 0.7517 - mean_squared_error: 0.7517\n",
            "Epoch 29/100\n",
            "18/18 [==============================] - 0s 3ms/step - loss: 0.7509 - mean_squared_error: 0.7509\n",
            "Epoch 30/100\n",
            "18/18 [==============================] - 0s 2ms/step - loss: 0.7466 - mean_squared_error: 0.7466\n",
            "Epoch 31/100\n",
            "18/18 [==============================] - 0s 3ms/step - loss: 0.7467 - mean_squared_error: 0.7467\n",
            "Epoch 32/100\n",
            "18/18 [==============================] - 0s 2ms/step - loss: 0.7421 - mean_squared_error: 0.7421\n",
            "Epoch 33/100\n",
            "18/18 [==============================] - 0s 2ms/step - loss: 0.7437 - mean_squared_error: 0.7437\n",
            "Epoch 34/100\n",
            "18/18 [==============================] - 0s 2ms/step - loss: 0.7401 - mean_squared_error: 0.7401\n",
            "Epoch 35/100\n",
            "18/18 [==============================] - 0s 3ms/step - loss: 0.7404 - mean_squared_error: 0.7404\n",
            "Epoch 36/100\n",
            "18/18 [==============================] - 0s 2ms/step - loss: 0.7356 - mean_squared_error: 0.7356\n",
            "Epoch 37/100\n",
            "18/18 [==============================] - 0s 3ms/step - loss: 0.7326 - mean_squared_error: 0.7326\n",
            "Epoch 38/100\n",
            "18/18 [==============================] - 0s 3ms/step - loss: 0.7360 - mean_squared_error: 0.7360\n",
            "Epoch 39/100\n",
            "18/18 [==============================] - 0s 3ms/step - loss: 0.7353 - mean_squared_error: 0.7353\n",
            "Epoch 40/100\n",
            "18/18 [==============================] - 0s 2ms/step - loss: 0.7230 - mean_squared_error: 0.7230\n",
            "Epoch 41/100\n",
            "18/18 [==============================] - 0s 3ms/step - loss: 0.7192 - mean_squared_error: 0.7192\n",
            "Epoch 42/100\n",
            "18/18 [==============================] - 0s 2ms/step - loss: 0.7086 - mean_squared_error: 0.7086\n",
            "Epoch 43/100\n",
            "18/18 [==============================] - 0s 2ms/step - loss: 0.7059 - mean_squared_error: 0.7059\n",
            "Epoch 44/100\n",
            "18/18 [==============================] - 0s 4ms/step - loss: 0.6995 - mean_squared_error: 0.6995\n",
            "Epoch 45/100\n",
            "18/18 [==============================] - 0s 2ms/step - loss: 0.6965 - mean_squared_error: 0.6965\n",
            "Epoch 46/100\n",
            "18/18 [==============================] - 0s 3ms/step - loss: 0.6918 - mean_squared_error: 0.6918\n",
            "Epoch 47/100\n",
            "18/18 [==============================] - 0s 3ms/step - loss: 0.6891 - mean_squared_error: 0.6891\n",
            "Epoch 48/100\n",
            "18/18 [==============================] - 0s 3ms/step - loss: 0.6853 - mean_squared_error: 0.6853\n",
            "Epoch 49/100\n",
            "18/18 [==============================] - 0s 2ms/step - loss: 0.6820 - mean_squared_error: 0.6820\n",
            "Epoch 50/100\n",
            "18/18 [==============================] - 0s 3ms/step - loss: 0.6808 - mean_squared_error: 0.6808\n",
            "Epoch 51/100\n",
            "18/18 [==============================] - 0s 3ms/step - loss: 0.6778 - mean_squared_error: 0.6778\n",
            "Epoch 52/100\n",
            "18/18 [==============================] - 0s 3ms/step - loss: 0.6750 - mean_squared_error: 0.6750\n",
            "Epoch 53/100\n",
            "18/18 [==============================] - 0s 3ms/step - loss: 0.6748 - mean_squared_error: 0.6748\n",
            "Epoch 54/100\n",
            "18/18 [==============================] - 0s 3ms/step - loss: 0.6710 - mean_squared_error: 0.6710\n",
            "Epoch 55/100\n",
            "18/18 [==============================] - 0s 3ms/step - loss: 0.6686 - mean_squared_error: 0.6686\n",
            "Epoch 56/100\n",
            "18/18 [==============================] - 0s 4ms/step - loss: 0.6638 - mean_squared_error: 0.6638\n",
            "Epoch 57/100\n",
            "18/18 [==============================] - 0s 3ms/step - loss: 0.6615 - mean_squared_error: 0.6615\n",
            "Epoch 58/100\n",
            "18/18 [==============================] - 0s 3ms/step - loss: 0.6542 - mean_squared_error: 0.6542\n",
            "Epoch 59/100\n",
            "18/18 [==============================] - 0s 2ms/step - loss: 0.6536 - mean_squared_error: 0.6536\n",
            "Epoch 60/100\n",
            "18/18 [==============================] - 0s 3ms/step - loss: 0.6477 - mean_squared_error: 0.6477\n",
            "Epoch 61/100\n",
            "18/18 [==============================] - 0s 3ms/step - loss: 0.6480 - mean_squared_error: 0.6480\n",
            "Epoch 62/100\n",
            "18/18 [==============================] - 0s 3ms/step - loss: 0.6477 - mean_squared_error: 0.6477\n",
            "Epoch 63/100\n",
            "18/18 [==============================] - 0s 3ms/step - loss: 0.6466 - mean_squared_error: 0.6466\n",
            "Epoch 64/100\n",
            "18/18 [==============================] - 0s 2ms/step - loss: 0.6436 - mean_squared_error: 0.6436\n",
            "Epoch 65/100\n",
            "18/18 [==============================] - 0s 3ms/step - loss: 0.6421 - mean_squared_error: 0.6421\n",
            "Epoch 66/100\n",
            "18/18 [==============================] - 0s 2ms/step - loss: 0.6414 - mean_squared_error: 0.6414\n",
            "Epoch 67/100\n",
            "18/18 [==============================] - 0s 3ms/step - loss: 0.6465 - mean_squared_error: 0.6465\n",
            "Epoch 68/100\n",
            "18/18 [==============================] - 0s 3ms/step - loss: 0.6457 - mean_squared_error: 0.6457\n",
            "Epoch 69/100\n",
            "18/18 [==============================] - 0s 3ms/step - loss: 0.6533 - mean_squared_error: 0.6533\n",
            "Epoch 70/100\n",
            "18/18 [==============================] - 0s 2ms/step - loss: 0.6537 - mean_squared_error: 0.6537\n",
            "Epoch 71/100\n",
            "18/18 [==============================] - 0s 3ms/step - loss: 0.6268 - mean_squared_error: 0.6268\n",
            "Epoch 72/100\n",
            "18/18 [==============================] - 0s 3ms/step - loss: 0.6211 - mean_squared_error: 0.6211\n",
            "Epoch 73/100\n",
            "18/18 [==============================] - 0s 3ms/step - loss: 0.6198 - mean_squared_error: 0.6198\n",
            "Epoch 74/100\n",
            "18/18 [==============================] - 0s 3ms/step - loss: 0.6146 - mean_squared_error: 0.6146\n",
            "Epoch 75/100\n",
            "18/18 [==============================] - 0s 3ms/step - loss: 0.6073 - mean_squared_error: 0.6073\n",
            "Epoch 76/100\n",
            "18/18 [==============================] - 0s 3ms/step - loss: 0.6035 - mean_squared_error: 0.6035\n",
            "Epoch 77/100\n",
            "18/18 [==============================] - 0s 4ms/step - loss: 0.5968 - mean_squared_error: 0.5968\n",
            "Epoch 78/100\n",
            "18/18 [==============================] - 0s 4ms/step - loss: 0.5972 - mean_squared_error: 0.5972\n",
            "Epoch 79/100\n",
            "18/18 [==============================] - 0s 3ms/step - loss: 0.5915 - mean_squared_error: 0.5915\n",
            "Epoch 80/100\n",
            "18/18 [==============================] - 0s 3ms/step - loss: 0.5894 - mean_squared_error: 0.5894\n",
            "Epoch 81/100\n",
            "18/18 [==============================] - 0s 3ms/step - loss: 0.5859 - mean_squared_error: 0.5859\n",
            "Epoch 82/100\n",
            "18/18 [==============================] - 0s 3ms/step - loss: 0.5831 - mean_squared_error: 0.5831\n",
            "Epoch 83/100\n",
            "18/18 [==============================] - 0s 4ms/step - loss: 0.5799 - mean_squared_error: 0.5799\n",
            "Epoch 84/100\n",
            "18/18 [==============================] - 0s 2ms/step - loss: 0.5802 - mean_squared_error: 0.5802\n",
            "Epoch 85/100\n",
            "18/18 [==============================] - 0s 3ms/step - loss: 0.5749 - mean_squared_error: 0.5749\n",
            "Epoch 86/100\n",
            "18/18 [==============================] - 0s 3ms/step - loss: 0.5782 - mean_squared_error: 0.5782\n",
            "Epoch 87/100\n",
            "18/18 [==============================] - 0s 3ms/step - loss: 0.5715 - mean_squared_error: 0.5715\n",
            "Epoch 88/100\n",
            "18/18 [==============================] - 0s 2ms/step - loss: 0.5740 - mean_squared_error: 0.5740\n",
            "Epoch 89/100\n",
            "18/18 [==============================] - 0s 3ms/step - loss: 0.5704 - mean_squared_error: 0.5704\n",
            "Epoch 90/100\n",
            "18/18 [==============================] - 0s 3ms/step - loss: 0.5730 - mean_squared_error: 0.5730\n",
            "Epoch 91/100\n",
            "18/18 [==============================] - 0s 2ms/step - loss: 0.5694 - mean_squared_error: 0.5694\n",
            "Epoch 92/100\n",
            "18/18 [==============================] - 0s 3ms/step - loss: 0.5712 - mean_squared_error: 0.5712\n",
            "Epoch 93/100\n",
            "18/18 [==============================] - 0s 3ms/step - loss: 0.5696 - mean_squared_error: 0.5696\n",
            "Epoch 94/100\n",
            "18/18 [==============================] - 0s 3ms/step - loss: 0.5733 - mean_squared_error: 0.5733\n",
            "Epoch 95/100\n",
            "18/18 [==============================] - 0s 3ms/step - loss: 0.5700 - mean_squared_error: 0.5700\n",
            "Epoch 96/100\n",
            "18/18 [==============================] - 0s 3ms/step - loss: 0.5715 - mean_squared_error: 0.5715\n",
            "Epoch 97/100\n",
            "18/18 [==============================] - 0s 2ms/step - loss: 0.5710 - mean_squared_error: 0.5710\n",
            "Epoch 98/100\n",
            "18/18 [==============================] - 0s 3ms/step - loss: 0.5726 - mean_squared_error: 0.5726\n",
            "Epoch 99/100\n",
            "18/18 [==============================] - 0s 3ms/step - loss: 0.5632 - mean_squared_error: 0.5632\n",
            "Epoch 100/100\n",
            "18/18 [==============================] - 0s 4ms/step - loss: 0.5622 - mean_squared_error: 0.5622\n",
            "INFO:tensorflow:Assets written to: ./structured_data_regressor/best_model/assets\n"
          ]
        },
        {
          "output_type": "execute_result",
          "data": {
            "text/plain": [
              "<keras.callbacks.History at 0x7fb7eab3b8d0>"
            ]
          },
          "metadata": {},
          "execution_count": 99
        }
      ]
    },
    {
      "cell_type": "code",
      "source": [
        "# Predict with the best model.\n",
        "predicted_y_scaled = reg.predict(testX_scaled)"
      ],
      "metadata": {
        "colab": {
          "base_uri": "https://localhost:8080/"
        },
        "id": "4R9WxGGc8019",
        "outputId": "b3c6a9da-d8fe-4dfd-df8b-335ef80f61c4"
      },
      "execution_count": null,
      "outputs": [
        {
          "output_type": "stream",
          "name": "stdout",
          "text": [
            "5/5 [==============================] - 0s 5ms/step\n"
          ]
        }
      ]
    },
    {
      "cell_type": "code",
      "source": [
        "from sklearn import metrics\n",
        "score = np.sqrt(metrics.mean_squared_error(predicted_y_scaled,testy_scaled))\n",
        "print(f\"Before save score (RMSE): {score}\")"
      ],
      "metadata": {
        "colab": {
          "base_uri": "https://localhost:8080/"
        },
        "id": "4KT-EQf_89vu",
        "outputId": "767b0dd2-2b00-4a8d-89c2-8a30fbdbdc10"
      },
      "execution_count": null,
      "outputs": [
        {
          "output_type": "stream",
          "name": "stdout",
          "text": [
            "Before save score (RMSE): 2.474448095588665\n"
          ]
        }
      ]
    },
    {
      "cell_type": "code",
      "source": [
        "# Measure MSE error.  \n",
        "score = metrics.mean_squared_error(predicted_y_scaled,testy_scaled)\n",
        "print(\"Final score (MSE): {}\".format(score))\n",
        "score1 = metrics.mean_absolute_error(predicted_y_scaled,testy_scaled)\n",
        "print(\"Final score (MAE): {}\".format(score1))\n",
        "score2 = metrics.r2_score(predicted_y_scaled,testy_scaled)\n",
        "print(\"Final score (R2): {}\".format(score2))\n",
        "score3 = metrics.mean_absolute_percentage_error(predicted_y_scaled,testy_scaled)\n",
        "print(\"Final score (MAPE): {}\".format(score3))\n",
        "#score4 = metrics.mean_squared_log_error(predicted_y_scaled,testy_scaled)\n",
        "#print(\"Final score (MSLE): {}\".format(score4))\n",
        "#score5 = metrics.log_loss(predicted_y_scaled,testy_scaled)"
      ],
      "metadata": {
        "colab": {
          "base_uri": "https://localhost:8080/"
        },
        "id": "T20SkGN09Hmc",
        "outputId": "d53b0376-057e-4df8-af8b-5e23279e522c"
      },
      "execution_count": null,
      "outputs": [
        {
          "output_type": "stream",
          "name": "stdout",
          "text": [
            "Final score (MSE): 6.122893377762371\n",
            "Final score (MAE): 0.8093436874593429\n",
            "Final score (R2): -17.210139256045256\n",
            "Final score (MAPE): 5.452198501882145\n"
          ]
        }
      ]
    },
    {
      "cell_type": "markdown",
      "source": [
        "SO with DEEP best model + increase in batch_size to 30 from 10 & epochs to 500 from 200 ==> result for TEST was:\n",
        "Now scores on TEST data\n",
        "The R2 score on the Test set is:\t0.186\n",
        "The RMSE score on the Test set is:\t2.469\n",
        "The MSE score on the Test set is:\t6.097\n",
        "The MSA score on the Test set is:\t0.872\n",
        "The MAPE score on the Test set is:\t1.424\n",
        "\n",
        "Here with AUTOML - AUTOKERAS killer for DEEP much worst result where both X & y scaled\n",
        "Before save score (RMSE): 2.474448095588665\n",
        "Final score (MSE): 6.122893377762371\n",
        "Final score (MAE): 0.8093436874593429\n",
        "Final score (R2): -17.210139256045256\n",
        "Final score (MAPE): 5.452198501882145"
      ],
      "metadata": {
        "id": "WbV6qUzN9fhD"
      }
    },
    {
      "cell_type": "markdown",
      "source": [
        "While yes R2 score was horrible for AUTOKERAS as -17 but MSE/MAE/RMSE r very similar!!"
      ],
      "metadata": {
        "id": "erdkfPy--Djn"
      }
    },
    {
      "cell_type": "code",
      "source": [
        "import numpy as np"
      ],
      "metadata": {
        "id": "ytmUz2kaGxV5"
      },
      "execution_count": null,
      "outputs": []
    },
    {
      "cell_type": "code",
      "source": [
        "# demonstrate data normalization with sklearn\n",
        "from sklearn.preprocessing import MinMaxScaler"
      ],
      "metadata": {
        "id": "m0T78lYYHF0E"
      },
      "execution_count": null,
      "outputs": []
    },
    {
      "cell_type": "code",
      "source": [
        "# create scaler\n",
        "scaler_MIN_MAX = MinMaxScaler()\n",
        "# fit scaler on data\n",
        "scaler_MIN_MAX.fit(trainX)\n",
        "# apply transform\n",
        "trainX_norm = scaler_MIN_MAX.transform(trainX)\n",
        "testX_norm = scaler_MIN_MAX.transform(testX)\n",
        "# inverse transform\n",
        "#inverse = scaler.inverse_transform(normalized)"
      ],
      "metadata": {
        "id": "WvZCNhpqHI69"
      },
      "execution_count": null,
      "outputs": []
    },
    {
      "cell_type": "code",
      "source": [
        "# fit model - for NORM X but y basic #trainy_scaled\n",
        "#history_normX_scaledY = lr_model.fit(trainX_norm, trainy, validation_data=(testX_norm, testy), epochs=100, verbose=0)\n",
        "history_normX_basicy = lr_model.fit(trainX_norm, trainy, batch_size=30, epochs = 500, validation_data=(testX_norm, testy),shuffle = True, verbose = 0, callbacks = [earlystopper])\n",
        "# evaluate the model\n",
        "train_mse = model.evaluate(trainX_norm, trainy, verbose=0)\n",
        "test_mse = model.evaluate(testX_norm, testy, verbose=0)\n",
        "print('Train: %.3f, Test: %.3f' % (train_mse, test_mse))"
      ],
      "metadata": {
        "colab": {
          "base_uri": "https://localhost:8080/"
        },
        "id": "kAYrjW5wHQ8W",
        "outputId": "4cb0bcd2-f67a-4cad-cab8-e09429bbe1ee"
      },
      "execution_count": null,
      "outputs": [
        {
          "output_type": "stream",
          "name": "stdout",
          "text": [
            "Epoch 27: early stopping\n",
            "Train: 22.291, Test: 98.113\n"
          ]
        }
      ]
    },
    {
      "cell_type": "code",
      "source": [
        "# fit model - for NORM X but SCALED y \n",
        "#history_normX_scaledY_1 = model.fit(trainX_norm, trainy_scaled, validation_data=(testX_norm, testy_scaled), epochs=100, verbose=0)\n",
        "history_normX_Scaledy = lr_model.fit(trainX_norm, trainy_scaled, batch_size=30, epochs = 500, validation_data=(testX_norm, testy_scaled),shuffle = True, verbose = 0, callbacks = [earlystopper])\n",
        "# evaluate the model\n",
        "train_mse = model.evaluate(trainX_norm, trainy_scaled, verbose=0)\n",
        "test_mse = model.evaluate(testX_norm, testy_scaled, verbose=0)\n",
        "print('Train: %.3f, Test: %.3f' % (train_mse, test_mse))"
      ],
      "metadata": {
        "colab": {
          "base_uri": "https://localhost:8080/"
        },
        "id": "Wq7G7eZTH5K8",
        "outputId": "1001d656-a974-4f34-8876-fc981fa90b9c"
      },
      "execution_count": null,
      "outputs": [
        {
          "output_type": "stream",
          "name": "stdout",
          "text": [
            "Epoch 14: early stopping\n",
            "Train: 0.855, Test: 7.778\n"
          ]
        }
      ]
    },
    {
      "cell_type": "code",
      "source": [
        "# Runs model with its current weights on the training and testing data\n",
        "y_train_pred = lr_model.predict(trainX_norm)\n",
        "y_test_pred = lr_model.predict(testX_norm)"
      ],
      "metadata": {
        "id": "eBy6iJISJiLo"
      },
      "execution_count": null,
      "outputs": []
    },
    {
      "cell_type": "code",
      "source": [
        "import numpy as np\n",
        "from sklearn.metrics import mean_absolute_percentage_error\n",
        "# Calculates and prints r2 score of training and testing data\n",
        "print(\"The R2 score on the Train set is:\\t{:0.3f}\".format(r2_score(trainy_scaled, y_train_pred)))\n",
        "print(\"The RMSE score on the Train set is:\\t{:0.3f}\".format(np.sqrt(mean_squared_error(trainy_scaled, y_train_pred))))\n",
        "print(\"The MSE score on the Test set is:\\t{:0.3f}\".format(mean_squared_error(trainy_scaled, y_train_pred)))\n",
        "print(\"The MSA score on the Test set is:\\t{:0.3f}\".format(mean_absolute_error(trainy_scaled, y_train_pred)))\n",
        "print(\"The MAPE score on the Test set is:\\t{:0.3f}\".format(mean_absolute_percentage_error(trainy_scaled, y_train_pred)))"
      ],
      "metadata": {
        "colab": {
          "base_uri": "https://localhost:8080/"
        },
        "id": "lrOGInCMKHaA",
        "outputId": "54671da2-f72c-4a0a-99cc-0a150b4888b3"
      },
      "execution_count": null,
      "outputs": [
        {
          "output_type": "stream",
          "name": "stdout",
          "text": [
            "The R2 score on the Train set is:\t0.030\n",
            "The RMSE score on the Train set is:\t0.985\n",
            "The MSE score on the Test set is:\t0.970\n",
            "The MSA score on the Test set is:\t0.620\n",
            "The MAPE score on the Test set is:\t1.291\n"
          ]
        }
      ]
    },
    {
      "cell_type": "code",
      "source": [
        "print(\"Now scores on TEST data\")\n",
        "print(\"The R2 score on the Test set is:\\t{:0.3f}\".format(r2_score(testy_scaled, y_test_pred)))\n",
        "print(\"The RMSE score on the Test set is:\\t{:0.3f}\".format(np.sqrt(mean_squared_error(testy_scaled, y_test_pred))))\n",
        "print(\"The MSE score on the Test set is:\\t{:0.3f}\".format(mean_squared_error(testy_scaled, y_test_pred)))\n",
        "print(\"The MSA score on the Test set is:\\t{:0.3f}\".format(mean_absolute_error(testy_scaled, y_test_pred)))\n",
        "print(\"The MAPE score on the Test set is:\\t{:0.3f}\".format(mean_absolute_percentage_error(testy_scaled, y_test_pred)))"
      ],
      "metadata": {
        "colab": {
          "base_uri": "https://localhost:8080/"
        },
        "id": "6855XFR0KO8b",
        "outputId": "92150288-b8ab-4aa6-a9e8-ccd48f1e1a50"
      },
      "execution_count": null,
      "outputs": [
        {
          "output_type": "stream",
          "name": "stdout",
          "text": [
            "Now scores on TEST data\n",
            "The R2 score on the Test set is:\t-0.044\n",
            "The RMSE score on the Test set is:\t2.796\n",
            "The MSE score on the Test set is:\t7.817\n",
            "The MSA score on the Test set is:\t1.051\n",
            "The MAPE score on the Test set is:\t1.467\n"
          ]
        }
      ]
    },
    {
      "cell_type": "markdown",
      "source": [
        "No better score than X SCALED + y Scaled which was :\n",
        "Now scores on TEST data\n",
        "The R2 score on the Test set is:\t0.186\n",
        "The RMSE score on the Test set is:\t2.469\n",
        "The MSE score on the Test set is:\t6.097\n",
        "The MSA score on the Test set is:\t0.872\n",
        "The MAPE score on the Test set is:\t1.424"
      ],
      "metadata": {
        "id": "L9Yvvkc-KasZ"
      }
    },
    {
      "cell_type": "code",
      "source": [
        "# create scaler\n",
        "scaler_MIN_MAX = MinMaxScaler()\n",
        "# fit scaler on data\n",
        "scaler_MIN_MAX.fit(trainy)\n",
        "# apply transform\n",
        "trainy_norm = scaler_MIN_MAX.transform(trainy)\n",
        "testy_norm = scaler_MIN_MAX.transform(testy)\n",
        "# inverse transform\n",
        "#inverse = scaler.inverse_transform(normalized)"
      ],
      "metadata": {
        "id": "wWVH8Xu2Kwpt"
      },
      "execution_count": null,
      "outputs": []
    },
    {
      "cell_type": "code",
      "source": [
        "# fit model - for NORM X but SCALED y \n",
        "#history_normX_scaledY_1 = model.fit(trainX_norm, trainy_scaled, validation_data=(testX_norm, testy_scaled), epochs=100, verbose=0)\n",
        "history_normX_normy = lr_model.fit(trainX_norm, trainy_norm, batch_size=30, epochs = 500, validation_data=(testX_norm, testy_norm),shuffle = True, verbose = 0, callbacks = [earlystopper])\n",
        "# evaluate the model\n",
        "train_mse = model.evaluate(trainX_norm, trainy_norm, verbose=0)\n",
        "test_mse = model.evaluate(testX_norm, testy_norm, verbose=0)\n",
        "print('Train: %.3f, Test: %.3f' % (train_mse, test_mse))"
      ],
      "metadata": {
        "colab": {
          "base_uri": "https://localhost:8080/"
        },
        "id": "Iiij3VlrK-R-",
        "outputId": "3e36cde3-6ad8-4111-a6a7-44c3832a3c34"
      },
      "execution_count": null,
      "outputs": [
        {
          "output_type": "stream",
          "name": "stdout",
          "text": [
            "Epoch 51: early stopping\n",
            "Train: 0.122, Test: 0.133\n"
          ]
        }
      ]
    },
    {
      "cell_type": "code",
      "source": [
        "# Runs model with its current weights on the training and testing data\n",
        "y_train_pred = lr_model.predict(trainX_norm)\n",
        "y_test_pred = lr_model.predict(testX_norm)"
      ],
      "metadata": {
        "id": "7COiZDnULpya"
      },
      "execution_count": null,
      "outputs": []
    },
    {
      "cell_type": "code",
      "source": [
        "import numpy as np\n",
        "from sklearn.metrics import mean_absolute_percentage_error\n",
        "# Calculates and prints r2 score of training and testing data\n",
        "print(\"The R2 score on the Train set is:\\t{:0.3f}\".format(r2_score(trainy_norm, y_train_pred)))\n",
        "print(\"The RMSE score on the Train set is:\\t{:0.3f}\".format(np.sqrt(mean_squared_error(trainy_norm, y_train_pred))))\n",
        "print(\"The MSE score on the Test set is:\\t{:0.3f}\".format(mean_squared_error(trainy_norm, y_train_pred)))\n",
        "print(\"The MSA score on the Test set is:\\t{:0.3f}\".format(mean_absolute_error(trainy_norm, y_train_pred)))\n",
        "print(\"The MAPE score on the Test set is:\\t{:0.3f}\".format(mean_absolute_percentage_error(trainy_norm, y_train_pred)))"
      ],
      "metadata": {
        "colab": {
          "base_uri": "https://localhost:8080/"
        },
        "id": "LaKU9WlhMFaW",
        "outputId": "69138a9e-12d2-499e-9f61-ca09a002566e"
      },
      "execution_count": null,
      "outputs": [
        {
          "output_type": "stream",
          "name": "stdout",
          "text": [
            "The R2 score on the Train set is:\t-1.613\n",
            "The RMSE score on the Train set is:\t0.111\n",
            "The MSE score on the Test set is:\t0.012\n",
            "The MSA score on the Test set is:\t0.064\n",
            "The MAPE score on the Test set is:\t1566020904413.374\n"
          ]
        }
      ]
    },
    {
      "cell_type": "code",
      "source": [
        "print(\"Now scores on TEST data\")\n",
        "print(\"The R2 score on the Test set is:\\t{:0.3f}\".format(r2_score(testy_norm, y_test_pred)))\n",
        "print(\"The RMSE score on the Test set is:\\t{:0.3f}\".format(np.sqrt(mean_squared_error(testy_norm, y_test_pred))))\n",
        "print(\"The MSE score on the Test set is:\\t{:0.3f}\".format(mean_squared_error(testy_norm, y_test_pred)))\n",
        "print(\"The MSA score on the Test set is:\\t{:0.3f}\".format(mean_absolute_error(testy_norm, y_test_pred)))\n",
        "print(\"The MAPE score on the Test set is:\\t{:0.3f}\".format(mean_absolute_percentage_error(testy_norm, y_test_pred)))"
      ],
      "metadata": {
        "colab": {
          "base_uri": "https://localhost:8080/"
        },
        "id": "D2ToVf3HMVnb",
        "outputId": "9b2e3c23-0f7a-45ce-a730-39cf65eb2b9c"
      },
      "execution_count": null,
      "outputs": [
        {
          "output_type": "stream",
          "name": "stdout",
          "text": [
            "Now scores on TEST data\n",
            "The R2 score on the Test set is:\t-0.023\n",
            "The RMSE score on the Test set is:\t0.190\n",
            "The MSE score on the Test set is:\t0.036\n",
            "The MSA score on the Test set is:\t0.092\n",
            "The MAPE score on the Test set is:\t0.827\n"
          ]
        }
      ]
    },
    {
      "cell_type": "markdown",
      "source": [
        "**SCORES for X SCALED + y scaled ::**\n",
        "The R2 score on the Train set is:\t0.709\n",
        "The RMSE score on the Train set is:\t0.539\n",
        "The MSE score on the Test set is:\t0.291\n",
        "The MSA score on the Test set is:\t0.395\n",
        "The MAPE score on the Test set is:\t1.287\n",
        "\n",
        "Now scores on TEST data\n",
        "The R2 score on the Test set is:\t0.185\n",
        "The RMSE score on the Test set is:\t2.471\n",
        "The MSE score on the Test set is:\t6.105\n",
        "The MSA score on the Test set is:\t0.900\n",
        "The MAPE score on the Test set is:\t1.629\n"
      ],
      "metadata": {
        "id": "v__PYxZrL9UZ"
      }
    },
    {
      "cell_type": "markdown",
      "source": [
        "**Scores for X norm + y Scaled ::**\n",
        "The R2 score on the Train set is:\t0.030\n",
        "The RMSE score on the Train set is:\t0.985\n",
        "The MSE score on the Test set is:\t0.970\n",
        "The MSA score on the Test set is:\t0.620\n",
        "The MAPE score on the Test set is:\t1.291\n",
        "\n",
        "Now scores on TEST data\n",
        "The R2 score on the Test set is:\t-0.044\n",
        "The RMSE score on the Test set is:\t2.796\n",
        "The MSE score on the Test set is:\t7.817\n",
        "The MSA score on the Test set is:\t1.051\n",
        "The MAPE score on the Test set is:\t1.467"
      ],
      "metadata": {
        "id": "HUB_JyUzNN4m"
      }
    },
    {
      "cell_type": "markdown",
      "source": [
        "CONCLUSION ==> **X scale + y scale performed mych better infact best **so far than X norm + y norm OR X norm + yscale"
      ],
      "metadata": {
        "id": "jvQyVuk3M0Ou"
      }
    },
    {
      "cell_type": "code",
      "source": [
        "import matplotlib.pyplot as plt"
      ],
      "metadata": {
        "id": "wzh2ffvvXfWb"
      },
      "execution_count": null,
      "outputs": []
    },
    {
      "cell_type": "code",
      "source": [
        "def plot_history(history):\n",
        "    \"\"\"Plots accuracy/loss for training/validation set as a function of the epochs\n",
        "        :param history: Training history of model\n",
        "        :return:\n",
        "    \"\"\"\n",
        "\n",
        "    fig, axs = plt.subplots(2)\n",
        "\n",
        "    # create accuracy sublpot\n",
        "    axs[0].plot(history.history[\"mse\"], label=\"train accuracy\")\n",
        "    axs[0].plot(history.history[\"val_mse\"], label=\"test accuracy\")\n",
        "    axs[0].set_ylabel(\"Accuracy\")\n",
        "    axs[0].legend(loc=\"lower right\")\n",
        "    axs[0].set_title(\"Accuracy eval\")\n",
        "\n",
        "    # create error sublpot\n",
        "    axs[1].plot(history.history[\"loss\"], label=\"train error\")\n",
        "    axs[1].plot(history.history[\"val_loss\"], label=\"test error\")\n",
        "    axs[1].set_ylabel(\"Error\")\n",
        "    axs[1].set_xlabel(\"Epoch\")\n",
        "    axs[1].legend(loc=\"upper right\")\n",
        "    axs[1].set_title(\"Error eval\")\n",
        "\n",
        "    plt.show()"
      ],
      "metadata": {
        "id": "XmYqPL6pW8bd"
      },
      "execution_count": null,
      "outputs": []
    },
    {
      "cell_type": "code",
      "source": [
        "print (\"Dict key-value are : \")\n",
        "for i in history_5_1.history :\n",
        "    print(i, history_5_1.history[i])"
      ],
      "metadata": {
        "colab": {
          "base_uri": "https://localhost:8080/"
        },
        "id": "KJDuW3J2YogZ",
        "outputId": "cacd4286-9b93-4992-dd4e-8834d8b1014e"
      },
      "execution_count": null,
      "outputs": [
        {
          "output_type": "stream",
          "name": "stdout",
          "text": [
            "Dict key-value are : \n",
            "loss [0.5561032295227051, 0.599965512752533, 0.5727571845054626, 0.5853535532951355, 0.572195827960968, 0.6057645678520203, 0.7154065370559692, 0.5831663608551025, 0.5449534058570862, 0.5170917510986328, 0.5397329926490784, 0.5070592761039734, 0.5040320754051208, 0.5371047258377075, 0.5510883331298828, 0.5090973377227783, 0.5048242211341858, 0.48919087648391724, 0.4759109914302826, 0.5267165899276733, 0.46239057183265686, 0.5133925676345825, 0.49979013204574585, 0.44342684745788574, 0.46871039271354675, 0.6287029981613159, 0.4584386646747589, 0.4378873407840729, 0.46384769678115845, 0.5435317754745483, 0.45379525423049927, 0.45105621218681335, 0.4796868860721588, 0.4659671485424042, 0.4540005624294281, 0.46561774611473083, 0.4605269134044647, 0.5367909669876099, 0.4239926040172577, 0.4356895983219147, 0.4544668197631836, 0.42511871457099915, 0.4048503339290619, 0.5414429903030396, 0.4274463653564453, 0.37266021966934204, 0.4896402060985565, 0.4858139455318451, 0.3948025107383728, 0.4270934760570526, 0.3966345489025116, 0.4225606918334961, 0.44269219040870667, 0.39148661494255066, 0.47487011551856995, 0.4887015223503113, 0.4932500720024109, 0.48156028985977173, 0.37394142150878906, 0.4923822581768036, 0.43809714913368225, 0.4018353223800659, 0.5493208765983582, 0.40199699997901917, 0.5295320153236389, 0.38409197330474854, 0.49309659004211426, 0.4479316174983978, 0.3864874243736267, 0.40004241466522217, 0.38795676827430725, 0.42764976620674133, 0.37646353244781494, 0.37776148319244385, 0.37740838527679443, 0.41393253207206726, 0.3834657669067383, 0.35106340050697327, 0.38614708185195923, 0.39603495597839355, 0.4097825288772583, 0.34928739070892334, 0.428803414106369, 0.39191004633903503, 0.3789873719215393, 0.35861149430274963, 0.39110830426216125, 0.3266370892524719, 0.3984226584434509, 0.41172146797180176, 0.43890243768692017, 0.42208731174468994, 0.5631141662597656, 0.34516504406929016, 0.31776130199432373, 0.35301896929740906, 0.5545093417167664, 0.475868284702301, 0.36857250332832336, 0.3407105505466461, 0.4145730435848236, 0.38643878698349, 0.3358350694179535, 0.4769500494003296, 0.3764200806617737, 0.530968964099884, 0.42518922686576843, 0.37079837918281555, 0.3473820984363556, 0.35261890292167664, 0.374164879322052, 0.3624633252620697, 0.3603998124599457, 0.3380984961986542, 0.34173035621643066, 0.32677921652793884, 0.34470391273498535, 0.4056992530822754, 0.33313608169555664, 0.5036397576332092, 0.3335452377796173, 0.37858930230140686, 0.39207547903060913, 0.384468674659729, 0.34846919775009155, 0.3476298749446869, 0.33539676666259766, 0.33898472785949707, 0.3341871201992035, 0.35734713077545166, 0.38622432947158813, 0.3715454936027527, 0.4107625186443329, 0.4641055762767792, 0.3190021812915802, 0.3538089990615845, 0.4504663050174713, 0.3887450098991394, 0.37657180428504944, 0.3968282639980316, 0.34873247146606445, 0.4396814703941345, 0.3289346396923065, 0.4763467311859131, 0.323457807302475, 0.3321198523044586, 0.40973755717277527, 0.34630677103996277, 0.35623598098754883, 0.3521561920642853, 0.3260098099708557, 0.3289853632450104, 0.3195623457431793, 0.3724552094936371, 0.38566648960113525, 0.3212186396121979, 0.3425177037715912, 0.33119407296180725, 0.37269213795661926, 0.3479459285736084, 0.337964802980423, 0.31129661202430725, 0.35284197330474854, 0.4842642545700073, 0.32518628239631653]\n",
            "mse [0.5561032295227051, 0.599965512752533, 0.5727571845054626, 0.5853535532951355, 0.572195827960968, 0.6057645678520203, 0.7154065370559692, 0.5831663608551025, 0.5449534058570862, 0.5170917510986328, 0.5397329926490784, 0.5070592761039734, 0.5040320754051208, 0.5371047258377075, 0.5510883331298828, 0.5090973377227783, 0.5048242211341858, 0.48919087648391724, 0.4759109914302826, 0.5267165899276733, 0.46239057183265686, 0.5133925676345825, 0.49979013204574585, 0.44342684745788574, 0.46871039271354675, 0.6287029981613159, 0.4584386646747589, 0.4378873407840729, 0.46384769678115845, 0.5435317754745483, 0.45379525423049927, 0.45105621218681335, 0.4796868860721588, 0.4659671485424042, 0.4540005624294281, 0.46561774611473083, 0.4605269134044647, 0.5367909669876099, 0.4239926040172577, 0.4356895983219147, 0.4544668197631836, 0.42511871457099915, 0.4048503339290619, 0.5414429903030396, 0.4274463653564453, 0.37266021966934204, 0.4896402060985565, 0.4858139455318451, 0.3948025107383728, 0.4270934760570526, 0.3966345489025116, 0.4225606918334961, 0.44269219040870667, 0.39148661494255066, 0.47487011551856995, 0.4887015223503113, 0.4932500720024109, 0.48156028985977173, 0.37394142150878906, 0.4923822581768036, 0.43809714913368225, 0.4018353223800659, 0.5493208765983582, 0.40199699997901917, 0.5295320153236389, 0.38409197330474854, 0.49309659004211426, 0.4479316174983978, 0.3864874243736267, 0.40004241466522217, 0.38795676827430725, 0.42764976620674133, 0.37646353244781494, 0.37776148319244385, 0.37740838527679443, 0.41393253207206726, 0.3834657669067383, 0.35106340050697327, 0.38614708185195923, 0.39603495597839355, 0.4097825288772583, 0.34928739070892334, 0.428803414106369, 0.39191004633903503, 0.3789873719215393, 0.35861149430274963, 0.39110830426216125, 0.3266370892524719, 0.3984226584434509, 0.41172146797180176, 0.43890243768692017, 0.42208731174468994, 0.5631141662597656, 0.34516504406929016, 0.31776130199432373, 0.35301896929740906, 0.5545093417167664, 0.475868284702301, 0.36857250332832336, 0.3407105505466461, 0.4145730435848236, 0.38643878698349, 0.3358350694179535, 0.4769500494003296, 0.3764200508594513, 0.530968964099884, 0.42518922686576843, 0.37079837918281555, 0.3473820984363556, 0.35261890292167664, 0.374164879322052, 0.3624633252620697, 0.3603998124599457, 0.3380984961986542, 0.34173035621643066, 0.32677921652793884, 0.34470391273498535, 0.4056992530822754, 0.33313608169555664, 0.5036397576332092, 0.3335452377796173, 0.37858930230140686, 0.39207547903060913, 0.38446861505508423, 0.34846919775009155, 0.3476298749446869, 0.33539676666259766, 0.33898472785949707, 0.3341871201992035, 0.35734716057777405, 0.38622432947158813, 0.3715454936027527, 0.4107625186443329, 0.4641055762767792, 0.3190021812915802, 0.3538089990615845, 0.4504663050174713, 0.3887450098991394, 0.37657180428504944, 0.3968282639980316, 0.34873247146606445, 0.4396814703941345, 0.3289346396923065, 0.4763467311859131, 0.323457807302475, 0.3321198523044586, 0.40973755717277527, 0.34630677103996277, 0.35623598098754883, 0.3521561920642853, 0.3260098099708557, 0.3289853632450104, 0.3195623457431793, 0.3724552094936371, 0.38566648960113525, 0.3212186396121979, 0.3425177037715912, 0.33119407296180725, 0.37269213795661926, 0.3479459285736084, 0.337964802980423, 0.31129661202430725, 0.35284197330474854, 0.4842642545700073, 0.32518628239631653]\n",
            "mae [0.5760472416877747, 0.5877110362052917, 0.579241156578064, 0.5706967115402222, 0.5679866075515747, 0.560330331325531, 0.5768377184867859, 0.5689530372619629, 0.5568822622299194, 0.5475326180458069, 0.5551621913909912, 0.5510904788970947, 0.544491708278656, 0.5582324266433716, 0.5567668080329895, 0.530296266078949, 0.5389158725738525, 0.5368369817733765, 0.5243903994560242, 0.5401288866996765, 0.5202075242996216, 0.5316815972328186, 0.5435523986816406, 0.5144394636154175, 0.5252870917320251, 0.5450435280799866, 0.5112659335136414, 0.5149834156036377, 0.5303060412406921, 0.529507577419281, 0.5149261355400085, 0.5153522491455078, 0.5060819983482361, 0.5192981362342834, 0.5112780332565308, 0.5137268900871277, 0.515950620174408, 0.5129544734954834, 0.5052180886268616, 0.502385139465332, 0.5029085874557495, 0.48397397994995117, 0.48292165994644165, 0.5157931447029114, 0.49322983622550964, 0.4755375385284424, 0.5067487359046936, 0.5037288665771484, 0.4809083938598633, 0.4892560541629791, 0.4847926199436188, 0.49362102150917053, 0.4902609586715698, 0.47339189052581787, 0.4965042769908905, 0.49386635422706604, 0.4938717186450958, 0.48249348998069763, 0.4792584776878357, 0.4819459021091461, 0.47267305850982666, 0.466071754693985, 0.49786216020584106, 0.46967437863349915, 0.5034471154212952, 0.4664686918258667, 0.4699416756629944, 0.47048890590667725, 0.4635007083415985, 0.4774511158466339, 0.46105101704597473, 0.4668642580509186, 0.45619314908981323, 0.4618626534938812, 0.45966875553131104, 0.46326500177383423, 0.4491051733493805, 0.4510096609592438, 0.460784375667572, 0.46008214354515076, 0.4581947326660156, 0.4434625506401062, 0.45632466673851013, 0.44847241044044495, 0.44564491510391235, 0.4475967586040497, 0.4409061670303345, 0.4234936535358429, 0.4490768611431122, 0.45120173692703247, 0.45062994956970215, 0.4589730501174927, 0.46898403763771057, 0.4421231150627136, 0.41909804940223694, 0.4291740357875824, 0.4625178575515747, 0.4392908215522766, 0.43444839119911194, 0.4368137717247009, 0.4558211863040924, 0.44606560468673706, 0.42655038833618164, 0.432248592376709, 0.43777021765708923, 0.45723757147789, 0.4315261244773865, 0.45007842779159546, 0.4389271140098572, 0.4405960142612457, 0.4387478828430176, 0.42890235781669617, 0.44080850481987, 0.4305351674556732, 0.4278762638568878, 0.4302690923213959, 0.4325426518917084, 0.4370863139629364, 0.4305688738822937, 0.44097474217414856, 0.42338448762893677, 0.4397183656692505, 0.44733092188835144, 0.44339725375175476, 0.43377840518951416, 0.4384208023548126, 0.431348592042923, 0.43539324402809143, 0.42420753836631775, 0.44322627782821655, 0.43396449089050293, 0.4365244209766388, 0.4343450367450714, 0.450441837310791, 0.41750848293304443, 0.4334770143032074, 0.45513254404067993, 0.44149431586265564, 0.43299612402915955, 0.42142513394355774, 0.42542222142219543, 0.4336428642272949, 0.4271179437637329, 0.44552019238471985, 0.4226955771446228, 0.41878965497016907, 0.42617613077163696, 0.4232056438922882, 0.42357051372528076, 0.4303847849369049, 0.4160397946834564, 0.4175153374671936, 0.417125940322876, 0.4169880449771881, 0.4420180916786194, 0.4221203327178955, 0.43253666162490845, 0.43439361453056335, 0.4231520891189575, 0.43128323554992676, 0.4247509241104126, 0.4200294017791748, 0.431606650352478, 0.45421406626701355, 0.42583468556404114]\n",
            "mape [126.45206451416016, 125.19639587402344, 124.08624267578125, 131.44204711914062, 126.65554809570312, 122.89701080322266, 128.3365020751953, 128.2768096923828, 127.71605682373047, 123.36347198486328, 132.04879760742188, 127.96287536621094, 128.79490661621094, 136.17111206054688, 125.38250732421875, 118.62787628173828, 126.41545104980469, 130.4037628173828, 128.26431274414062, 134.8083038330078, 129.79136657714844, 131.48342895507812, 144.46519470214844, 131.82269287109375, 136.9187774658203, 138.02671813964844, 130.0131072998047, 140.15733337402344, 146.98268127441406, 144.58404541015625, 134.14942932128906, 133.68687438964844, 134.32302856445312, 136.396728515625, 142.7354278564453, 141.31591796875, 148.3860321044922, 139.20462036132812, 147.56654357910156, 143.24606323242188, 145.08126831054688, 129.7460174560547, 139.8234405517578, 144.32464599609375, 139.2760467529297, 138.56216430664062, 143.79275512695312, 143.94552612304688, 138.56277465820312, 139.96038818359375, 136.3466796875, 145.9124755859375, 143.49517822265625, 138.89027404785156, 145.63368225097656, 134.57379150390625, 138.64585876464844, 135.2028045654297, 143.1590118408203, 138.80758666992188, 139.7228546142578, 139.2714080810547, 147.945556640625, 144.66207885742188, 149.3341827392578, 139.5852508544922, 140.21578979492188, 142.14112854003906, 138.35107421875, 143.871826171875, 141.09620666503906, 144.20924377441406, 138.92010498046875, 139.443603515625, 138.9777069091797, 140.1934051513672, 135.4308624267578, 137.21261596679688, 138.83749389648438, 142.0424346923828, 139.5177764892578, 137.35047912597656, 138.7595977783203, 138.85104370117188, 139.73753356933594, 136.52024841308594, 141.1446075439453, 137.09805297851562, 136.71463012695312, 135.1688232421875, 132.8200225830078, 140.77310180664062, 133.94589233398438, 142.5739288330078, 130.94760131835938, 133.15310668945312, 146.9849395751953, 129.5725860595703, 134.4046173095703, 142.38563537597656, 134.31007385253906, 137.57472229003906, 133.69012451171875, 137.22132873535156, 139.76136779785156, 143.98484802246094, 129.1914825439453, 144.58665466308594, 138.20608520507812, 136.05941772460938, 136.1717071533203, 133.2490692138672, 133.3056182861328, 129.333251953125, 139.22787475585938, 138.0834503173828, 137.02565002441406, 135.8446807861328, 131.66259765625, 134.88845825195312, 135.46847534179688, 132.05479431152344, 139.1083526611328, 132.0126190185547, 143.43032836914062, 147.91783142089844, 131.02764892578125, 142.6380157470703, 133.3510284423828, 137.5438232421875, 134.06326293945312, 145.39024353027344, 136.7466278076172, 139.98162841796875, 130.9911651611328, 132.63417053222656, 142.70143127441406, 141.58953857421875, 135.08628845214844, 128.9554443359375, 127.8182373046875, 139.4574432373047, 139.12562561035156, 143.94912719726562, 126.52818298339844, 136.13844299316406, 130.4183807373047, 130.1732940673828, 146.52891540527344, 138.470947265625, 131.4274139404297, 135.6118621826172, 137.6881561279297, 136.2587890625, 144.87130737304688, 142.03285217285156, 138.67727661132812, 140.75360107421875, 130.6942596435547, 140.71994018554688, 139.3529815673828, 134.90757751464844, 146.21385192871094, 141.34051513671875, 140.70237731933594]\n",
            "val_loss [7.021328926086426, 7.0117974281311035, 7.002536296844482, 6.991617679595947, 6.987250804901123, 6.975225925445557, 6.970874309539795, 6.960676193237305, 6.9547529220581055, 6.944879055023193, 6.9376654624938965, 6.927215576171875, 6.9157938957214355, 6.913372993469238, 6.906991958618164, 6.898252964019775, 6.882930278778076, 6.872410297393799, 6.866599082946777, 6.855020523071289, 6.832011699676514, 6.816592693328857, 6.812524795532227, 6.797667026519775, 6.792958736419678, 6.782728672027588, 6.775823593139648, 6.775681018829346, 6.762593746185303, 6.753337860107422, 6.750843524932861, 6.738790988922119, 6.730047702789307, 6.7355732917785645, 6.747684001922607, 6.741870403289795, 6.7319111824035645, 6.725754737854004, 6.71577262878418, 6.701580047607422, 6.700143337249756, 6.696835041046143, 6.689450263977051, 6.667336940765381, 6.6706767082214355, 6.662200927734375, 6.662382125854492, 6.666961669921875, 6.668564319610596, 6.651731014251709, 6.638111114501953, 6.631193161010742, 6.623630523681641, 6.622772693634033, 6.610408782958984, 6.596207618713379, 6.588305950164795, 6.579692840576172, 6.554652690887451, 6.561923027038574, 6.5495524406433105, 6.536945343017578, 6.548717975616455, 6.545775413513184, 6.542940139770508, 6.537999153137207, 6.530928134918213, 6.510300636291504, 6.509242534637451, 6.488665580749512, 6.475100040435791, 6.4615912437438965, 6.47739839553833, 6.485743522644043, 6.479873180389404, 6.4662933349609375, 6.457412242889404, 6.475336074829102, 6.485411167144775, 6.465808868408203, 6.45670223236084, 6.454048156738281, 6.452092170715332, 6.420187473297119, 6.430265426635742, 6.417612075805664, 6.39793062210083, 6.398541450500488, 6.39328145980835, 6.378190040588379, 6.369534492492676, 6.3527116775512695, 6.335637092590332, 6.342762470245361, 6.340535640716553, 6.3508524894714355, 6.336502552032471, 6.3423848152160645, 6.347670078277588, 6.349409580230713, 6.347818374633789, 6.342983722686768, 6.329164505004883, 6.328714370727539, 6.320106029510498, 6.2969770431518555, 6.288367748260498, 6.311616897583008, 6.326315402984619, 6.340795993804932, 6.315305233001709, 6.292558193206787, 6.274559020996094, 6.27551794052124, 6.270357608795166, 6.289548873901367, 6.287988185882568, 6.260338306427002, 6.2497148513793945, 6.245166778564453, 6.27352237701416, 6.245301246643066, 6.235753536224365, 6.225039005279541, 6.203362464904785, 6.171582221984863, 6.177397727966309, 6.185247421264648, 6.185826301574707, 6.182843208312988, 6.17279052734375, 6.169508934020996, 6.194825172424316, 6.1860857009887695, 6.1800856590271, 6.179147243499756, 6.169827938079834, 6.1637349128723145, 6.141549587249756, 6.143678188323975, 6.154881000518799, 6.140384674072266, 6.160952091217041, 6.150139331817627, 6.171547889709473, 6.174062252044678, 6.184686183929443, 6.180038928985596, 6.17523717880249, 6.1775946617126465, 6.138298988342285, 6.123654365539551, 6.09719181060791, 6.063708782196045, 6.054677486419678, 6.073408603668213, 6.070456027984619, 6.076221466064453, 6.065902233123779, 6.087047100067139, 6.069169521331787, 6.1109747886657715, 6.122252941131592, 6.118255615234375, 6.0965800285339355]\n",
            "val_mse [7.021328926086426, 7.0117974281311035, 7.002536296844482, 6.991617679595947, 6.987250804901123, 6.975225925445557, 6.970874309539795, 6.960676193237305, 6.9547529220581055, 6.944879055023193, 6.9376654624938965, 6.927215576171875, 6.9157938957214355, 6.913372993469238, 6.906991958618164, 6.898252964019775, 6.882929801940918, 6.872410297393799, 6.866599082946777, 6.855020523071289, 6.832011699676514, 6.816592216491699, 6.812524795532227, 6.797667026519775, 6.792958736419678, 6.782728672027588, 6.775823593139648, 6.775681018829346, 6.762593746185303, 6.753337860107422, 6.750843524932861, 6.738790988922119, 6.730047702789307, 6.7355732917785645, 6.747684478759766, 6.741870880126953, 6.7319111824035645, 6.725754261016846, 6.71577262878418, 6.701580047607422, 6.700143337249756, 6.696835041046143, 6.689450263977051, 6.667336940765381, 6.6706767082214355, 6.662200927734375, 6.662381649017334, 6.666961669921875, 6.668564319610596, 6.651731014251709, 6.638111114501953, 6.631192684173584, 6.623630523681641, 6.622772693634033, 6.610408782958984, 6.596207618713379, 6.588305950164795, 6.57969331741333, 6.554652690887451, 6.561923027038574, 6.5495524406433105, 6.536945819854736, 6.548717975616455, 6.545775413513184, 6.542940139770508, 6.537999153137207, 6.530928134918213, 6.510300636291504, 6.509242534637451, 6.488665580749512, 6.475100040435791, 6.4615912437438965, 6.47739839553833, 6.485743522644043, 6.479873180389404, 6.4662933349609375, 6.457412242889404, 6.475336074829102, 6.485411167144775, 6.465808868408203, 6.45670223236084, 6.454048156738281, 6.452092170715332, 6.420187473297119, 6.430265426635742, 6.417612075805664, 6.39793062210083, 6.398541450500488, 6.39328145980835, 6.378190040588379, 6.369534492492676, 6.3527116775512695, 6.335637092590332, 6.342762470245361, 6.340535640716553, 6.3508524894714355, 6.336503028869629, 6.3423848152160645, 6.347670078277588, 6.349409580230713, 6.347818374633789, 6.342983722686768, 6.329164505004883, 6.328714370727539, 6.320106029510498, 6.2969770431518555, 6.288367748260498, 6.311617374420166, 6.326315402984619, 6.340795993804932, 6.315305233001709, 6.292558193206787, 6.274559020996094, 6.27551794052124, 6.270357608795166, 6.289548873901367, 6.287988185882568, 6.260338306427002, 6.2497148513793945, 6.245166778564453, 6.27352237701416, 6.245301246643066, 6.235753059387207, 6.225039005279541, 6.203362464904785, 6.171582221984863, 6.177397727966309, 6.185247421264648, 6.185826301574707, 6.182843208312988, 6.17279052734375, 6.169508934020996, 6.194825172424316, 6.1860857009887695, 6.1800856590271, 6.179147243499756, 6.169827938079834, 6.1637349128723145, 6.141549587249756, 6.143678188323975, 6.154881000518799, 6.140384674072266, 6.160952091217041, 6.150139331817627, 6.171547889709473, 6.174062252044678, 6.184686183929443, 6.180038928985596, 6.17523717880249, 6.1775946617126465, 6.138298988342285, 6.123654365539551, 6.09719181060791, 6.063708782196045, 6.054677486419678, 6.073408603668213, 6.070456027984619, 6.076221466064453, 6.065902233123779, 6.087047100067139, 6.069169521331787, 6.1109747886657715, 6.122252941131592, 6.118255615234375, 6.0965800285339355]\n",
            "val_mae [0.9714332818984985, 0.969582736492157, 0.9676455855369568, 0.9658417701721191, 0.9647077918052673, 0.9631741642951965, 0.9624986052513123, 0.9612458944320679, 0.9605460166931152, 0.9593738317489624, 0.958631157875061, 0.9576258063316345, 0.9564998745918274, 0.95635986328125, 0.9558122754096985, 0.9548802971839905, 0.95314621925354, 0.9518985152244568, 0.9514084458351135, 0.9502817392349243, 0.9487408995628357, 0.9480569362640381, 0.9487242698669434, 0.9481522440910339, 0.9481552243232727, 0.9474722146987915, 0.9476221203804016, 0.948080837726593, 0.9475138187408447, 0.9471452832221985, 0.9470362067222595, 0.9460127949714661, 0.946204662322998, 0.946694552898407, 0.9473927021026611, 0.9470430612564087, 0.9461569786071777, 0.9452400207519531, 0.9438472390174866, 0.9416367411613464, 0.9414086937904358, 0.9406161904335022, 0.9387527108192444, 0.9371144771575928, 0.9376391172409058, 0.9367304444313049, 0.935952365398407, 0.9356377720832825, 0.935347855091095, 0.9345431923866272, 0.9341187477111816, 0.9328582286834717, 0.9325848817825317, 0.9315756559371948, 0.9299607872962952, 0.928665041923523, 0.9279029965400696, 0.9272501468658447, 0.9254518747329712, 0.9260256886482239, 0.9244657158851624, 0.9239645004272461, 0.9250925779342651, 0.9247042536735535, 0.924216091632843, 0.9236127734184265, 0.9225260019302368, 0.9207282662391663, 0.9202872514724731, 0.9177522659301758, 0.9163012504577637, 0.9147899150848389, 0.915695071220398, 0.9157418012619019, 0.9147128462791443, 0.9129728078842163, 0.9124558568000793, 0.9134570360183716, 0.9138186573982239, 0.911261260509491, 0.9107663631439209, 0.91009521484375, 0.9093121886253357, 0.9069666266441345, 0.9067080616950989, 0.9052391052246094, 0.9053720235824585, 0.9063857197761536, 0.9061129689216614, 0.9051775932312012, 0.9046295881271362, 0.9034522771835327, 0.9038661122322083, 0.9039954543113708, 0.9032596945762634, 0.9028838872909546, 0.9029616713523865, 0.9044137001037598, 0.9042677283287048, 0.9043622016906738, 0.904005765914917, 0.9035764932632446, 0.9023100137710571, 0.9021630883216858, 0.9019412398338318, 0.8995558619499207, 0.900037407875061, 0.9016360640525818, 0.9017978310585022, 0.9023458957672119, 0.9014573693275452, 0.900604248046875, 0.899345338344574, 0.8974880576133728, 0.8960563540458679, 0.8960667252540588, 0.8953603506088257, 0.8938390612602234, 0.8936046957969666, 0.893113911151886, 0.894048810005188, 0.8916717767715454, 0.8907656669616699, 0.8897002935409546, 0.8882764577865601, 0.8856260180473328, 0.8862313628196716, 0.8870962858200073, 0.8864561319351196, 0.8861147165298462, 0.8848845958709717, 0.8849145770072937, 0.8867929577827454, 0.8864526152610779, 0.8856309056282043, 0.88519287109375, 0.8849353790283203, 0.8843182325363159, 0.8818699717521667, 0.8815004825592041, 0.8813504576683044, 0.8796497583389282, 0.8806558847427368, 0.8792359828948975, 0.8812577128410339, 0.8817218542098999, 0.8814850449562073, 0.8807082176208496, 0.8793482780456543, 0.8776361346244812, 0.8753482103347778, 0.875267505645752, 0.8733751773834229, 0.8710365891456604, 0.8702782988548279, 0.8706104755401611, 0.8706048130989075, 0.8705747127532959, 0.8707764148712158, 0.8718606233596802, 0.8707900047302246, 0.8724830746650696, 0.8737983703613281, 0.8731620907783508, 0.8724790215492249]\n",
            "val_mape [114.08634185791016, 114.5121841430664, 114.75192260742188, 114.79613494873047, 114.55960845947266, 114.73453521728516, 114.7171630859375, 114.78199005126953, 114.7323226928711, 114.78062438964844, 115.00360870361328, 115.24449920654297, 115.46503448486328, 115.47025299072266, 115.8514633178711, 116.11759948730469, 116.56434631347656, 117.07714080810547, 117.80615997314453, 118.84212493896484, 121.00090026855469, 123.37496948242188, 125.43157196044922, 127.01074981689453, 127.82311248779297, 128.36412048339844, 129.7747039794922, 130.57962036132812, 131.47349548339844, 131.83538818359375, 131.84469604492188, 132.11981201171875, 134.25775146484375, 134.41685485839844, 133.8113555908203, 133.87603759765625, 134.6290283203125, 134.71856689453125, 135.18040466308594, 134.9008026123047, 134.71878051757812, 134.5975341796875, 133.2873992919922, 133.9938507080078, 133.32894897460938, 132.82850646972656, 132.2687530517578, 131.94728088378906, 131.27076721191406, 132.406494140625, 134.21798706054688, 133.6527557373047, 133.9679718017578, 132.72479248046875, 132.19680786132812, 132.4772186279297, 133.4216766357422, 133.21768188476562, 133.79693603515625, 133.9906463623047, 133.2190704345703, 135.44491577148438, 135.8072509765625, 135.82623291015625, 135.4875946044922, 136.65228271484375, 136.32806396484375, 137.2452850341797, 136.87362670898438, 137.357666015625, 137.97109985351562, 137.35995483398438, 136.73434448242188, 135.2978515625, 135.47181701660156, 136.69017028808594, 136.18258666992188, 134.81675720214844, 135.56521606445312, 136.87518310546875, 138.28468322753906, 137.59109497070312, 137.7214813232422, 140.33135986328125, 138.41343688964844, 137.90420532226562, 137.98500061035156, 137.75926208496094, 138.1973876953125, 139.40444946289062, 139.67831420898438, 139.44979858398438, 140.05030822753906, 138.09835815429688, 136.685302734375, 137.0724639892578, 139.5105438232422, 141.69732666015625, 140.9070587158203, 139.8689422607422, 140.4678955078125, 139.26953125, 140.78250122070312, 139.20065307617188, 139.05319213867188, 137.02239990234375, 137.9019317626953, 136.5316925048828, 134.54815673828125, 133.19496154785156, 134.89398193359375, 137.3505096435547, 139.20298767089844, 138.64576721191406, 139.37335205078125, 137.4283905029297, 136.2912139892578, 137.404296875, 138.5833740234375, 138.87086486816406, 137.7823028564453, 139.38645935058594, 138.39511108398438, 139.39093017578125, 140.93247985839844, 140.56211853027344, 138.89845275878906, 137.80747985839844, 137.71376037597656, 138.90980529785156, 139.27301025390625, 140.1142578125, 138.4250030517578, 138.87811279296875, 138.90261840820312, 139.43785095214844, 139.12538146972656, 137.31793212890625, 139.1821746826172, 139.9524688720703, 138.49497985839844, 139.21302795410156, 137.47593688964844, 138.47909545898438, 137.75726318359375, 138.25489807128906, 138.9409942626953, 140.25559997558594, 138.93304443359375, 137.154296875, 139.0102081298828, 140.19631958007812, 142.28073120117188, 142.75294494628906, 143.09877014160156, 142.25096130371094, 142.82516479492188, 142.4584503173828, 145.2294921875, 144.4401397705078, 144.8419647216797, 139.99366760253906, 138.9454345703125, 140.8704833984375, 142.38931274414062]\n"
          ]
        }
      ]
    },
    {
      "cell_type": "code",
      "source": [
        "print (\"Dict key-value are : \")\n",
        "print([(k, history_5_1.history[k]) for k in history_5_1.history])"
      ],
      "metadata": {
        "colab": {
          "base_uri": "https://localhost:8080/"
        },
        "id": "b1-H2OzLZsG2",
        "outputId": "9c6562a0-167c-4702-f541-1e09774b4b58"
      },
      "execution_count": null,
      "outputs": [
        {
          "output_type": "stream",
          "name": "stdout",
          "text": [
            "Dict key-value are : \n",
            "[('loss', [0.5561032295227051, 0.599965512752533, 0.5727571845054626, 0.5853535532951355, 0.572195827960968, 0.6057645678520203, 0.7154065370559692, 0.5831663608551025, 0.5449534058570862, 0.5170917510986328, 0.5397329926490784, 0.5070592761039734, 0.5040320754051208, 0.5371047258377075, 0.5510883331298828, 0.5090973377227783, 0.5048242211341858, 0.48919087648391724, 0.4759109914302826, 0.5267165899276733, 0.46239057183265686, 0.5133925676345825, 0.49979013204574585, 0.44342684745788574, 0.46871039271354675, 0.6287029981613159, 0.4584386646747589, 0.4378873407840729, 0.46384769678115845, 0.5435317754745483, 0.45379525423049927, 0.45105621218681335, 0.4796868860721588, 0.4659671485424042, 0.4540005624294281, 0.46561774611473083, 0.4605269134044647, 0.5367909669876099, 0.4239926040172577, 0.4356895983219147, 0.4544668197631836, 0.42511871457099915, 0.4048503339290619, 0.5414429903030396, 0.4274463653564453, 0.37266021966934204, 0.4896402060985565, 0.4858139455318451, 0.3948025107383728, 0.4270934760570526, 0.3966345489025116, 0.4225606918334961, 0.44269219040870667, 0.39148661494255066, 0.47487011551856995, 0.4887015223503113, 0.4932500720024109, 0.48156028985977173, 0.37394142150878906, 0.4923822581768036, 0.43809714913368225, 0.4018353223800659, 0.5493208765983582, 0.40199699997901917, 0.5295320153236389, 0.38409197330474854, 0.49309659004211426, 0.4479316174983978, 0.3864874243736267, 0.40004241466522217, 0.38795676827430725, 0.42764976620674133, 0.37646353244781494, 0.37776148319244385, 0.37740838527679443, 0.41393253207206726, 0.3834657669067383, 0.35106340050697327, 0.38614708185195923, 0.39603495597839355, 0.4097825288772583, 0.34928739070892334, 0.428803414106369, 0.39191004633903503, 0.3789873719215393, 0.35861149430274963, 0.39110830426216125, 0.3266370892524719, 0.3984226584434509, 0.41172146797180176, 0.43890243768692017, 0.42208731174468994, 0.5631141662597656, 0.34516504406929016, 0.31776130199432373, 0.35301896929740906, 0.5545093417167664, 0.475868284702301, 0.36857250332832336, 0.3407105505466461, 0.4145730435848236, 0.38643878698349, 0.3358350694179535, 0.4769500494003296, 0.3764200806617737, 0.530968964099884, 0.42518922686576843, 0.37079837918281555, 0.3473820984363556, 0.35261890292167664, 0.374164879322052, 0.3624633252620697, 0.3603998124599457, 0.3380984961986542, 0.34173035621643066, 0.32677921652793884, 0.34470391273498535, 0.4056992530822754, 0.33313608169555664, 0.5036397576332092, 0.3335452377796173, 0.37858930230140686, 0.39207547903060913, 0.384468674659729, 0.34846919775009155, 0.3476298749446869, 0.33539676666259766, 0.33898472785949707, 0.3341871201992035, 0.35734713077545166, 0.38622432947158813, 0.3715454936027527, 0.4107625186443329, 0.4641055762767792, 0.3190021812915802, 0.3538089990615845, 0.4504663050174713, 0.3887450098991394, 0.37657180428504944, 0.3968282639980316, 0.34873247146606445, 0.4396814703941345, 0.3289346396923065, 0.4763467311859131, 0.323457807302475, 0.3321198523044586, 0.40973755717277527, 0.34630677103996277, 0.35623598098754883, 0.3521561920642853, 0.3260098099708557, 0.3289853632450104, 0.3195623457431793, 0.3724552094936371, 0.38566648960113525, 0.3212186396121979, 0.3425177037715912, 0.33119407296180725, 0.37269213795661926, 0.3479459285736084, 0.337964802980423, 0.31129661202430725, 0.35284197330474854, 0.4842642545700073, 0.32518628239631653]), ('mse', [0.5561032295227051, 0.599965512752533, 0.5727571845054626, 0.5853535532951355, 0.572195827960968, 0.6057645678520203, 0.7154065370559692, 0.5831663608551025, 0.5449534058570862, 0.5170917510986328, 0.5397329926490784, 0.5070592761039734, 0.5040320754051208, 0.5371047258377075, 0.5510883331298828, 0.5090973377227783, 0.5048242211341858, 0.48919087648391724, 0.4759109914302826, 0.5267165899276733, 0.46239057183265686, 0.5133925676345825, 0.49979013204574585, 0.44342684745788574, 0.46871039271354675, 0.6287029981613159, 0.4584386646747589, 0.4378873407840729, 0.46384769678115845, 0.5435317754745483, 0.45379525423049927, 0.45105621218681335, 0.4796868860721588, 0.4659671485424042, 0.4540005624294281, 0.46561774611473083, 0.4605269134044647, 0.5367909669876099, 0.4239926040172577, 0.4356895983219147, 0.4544668197631836, 0.42511871457099915, 0.4048503339290619, 0.5414429903030396, 0.4274463653564453, 0.37266021966934204, 0.4896402060985565, 0.4858139455318451, 0.3948025107383728, 0.4270934760570526, 0.3966345489025116, 0.4225606918334961, 0.44269219040870667, 0.39148661494255066, 0.47487011551856995, 0.4887015223503113, 0.4932500720024109, 0.48156028985977173, 0.37394142150878906, 0.4923822581768036, 0.43809714913368225, 0.4018353223800659, 0.5493208765983582, 0.40199699997901917, 0.5295320153236389, 0.38409197330474854, 0.49309659004211426, 0.4479316174983978, 0.3864874243736267, 0.40004241466522217, 0.38795676827430725, 0.42764976620674133, 0.37646353244781494, 0.37776148319244385, 0.37740838527679443, 0.41393253207206726, 0.3834657669067383, 0.35106340050697327, 0.38614708185195923, 0.39603495597839355, 0.4097825288772583, 0.34928739070892334, 0.428803414106369, 0.39191004633903503, 0.3789873719215393, 0.35861149430274963, 0.39110830426216125, 0.3266370892524719, 0.3984226584434509, 0.41172146797180176, 0.43890243768692017, 0.42208731174468994, 0.5631141662597656, 0.34516504406929016, 0.31776130199432373, 0.35301896929740906, 0.5545093417167664, 0.475868284702301, 0.36857250332832336, 0.3407105505466461, 0.4145730435848236, 0.38643878698349, 0.3358350694179535, 0.4769500494003296, 0.3764200508594513, 0.530968964099884, 0.42518922686576843, 0.37079837918281555, 0.3473820984363556, 0.35261890292167664, 0.374164879322052, 0.3624633252620697, 0.3603998124599457, 0.3380984961986542, 0.34173035621643066, 0.32677921652793884, 0.34470391273498535, 0.4056992530822754, 0.33313608169555664, 0.5036397576332092, 0.3335452377796173, 0.37858930230140686, 0.39207547903060913, 0.38446861505508423, 0.34846919775009155, 0.3476298749446869, 0.33539676666259766, 0.33898472785949707, 0.3341871201992035, 0.35734716057777405, 0.38622432947158813, 0.3715454936027527, 0.4107625186443329, 0.4641055762767792, 0.3190021812915802, 0.3538089990615845, 0.4504663050174713, 0.3887450098991394, 0.37657180428504944, 0.3968282639980316, 0.34873247146606445, 0.4396814703941345, 0.3289346396923065, 0.4763467311859131, 0.323457807302475, 0.3321198523044586, 0.40973755717277527, 0.34630677103996277, 0.35623598098754883, 0.3521561920642853, 0.3260098099708557, 0.3289853632450104, 0.3195623457431793, 0.3724552094936371, 0.38566648960113525, 0.3212186396121979, 0.3425177037715912, 0.33119407296180725, 0.37269213795661926, 0.3479459285736084, 0.337964802980423, 0.31129661202430725, 0.35284197330474854, 0.4842642545700073, 0.32518628239631653]), ('mae', [0.5760472416877747, 0.5877110362052917, 0.579241156578064, 0.5706967115402222, 0.5679866075515747, 0.560330331325531, 0.5768377184867859, 0.5689530372619629, 0.5568822622299194, 0.5475326180458069, 0.5551621913909912, 0.5510904788970947, 0.544491708278656, 0.5582324266433716, 0.5567668080329895, 0.530296266078949, 0.5389158725738525, 0.5368369817733765, 0.5243903994560242, 0.5401288866996765, 0.5202075242996216, 0.5316815972328186, 0.5435523986816406, 0.5144394636154175, 0.5252870917320251, 0.5450435280799866, 0.5112659335136414, 0.5149834156036377, 0.5303060412406921, 0.529507577419281, 0.5149261355400085, 0.5153522491455078, 0.5060819983482361, 0.5192981362342834, 0.5112780332565308, 0.5137268900871277, 0.515950620174408, 0.5129544734954834, 0.5052180886268616, 0.502385139465332, 0.5029085874557495, 0.48397397994995117, 0.48292165994644165, 0.5157931447029114, 0.49322983622550964, 0.4755375385284424, 0.5067487359046936, 0.5037288665771484, 0.4809083938598633, 0.4892560541629791, 0.4847926199436188, 0.49362102150917053, 0.4902609586715698, 0.47339189052581787, 0.4965042769908905, 0.49386635422706604, 0.4938717186450958, 0.48249348998069763, 0.4792584776878357, 0.4819459021091461, 0.47267305850982666, 0.466071754693985, 0.49786216020584106, 0.46967437863349915, 0.5034471154212952, 0.4664686918258667, 0.4699416756629944, 0.47048890590667725, 0.4635007083415985, 0.4774511158466339, 0.46105101704597473, 0.4668642580509186, 0.45619314908981323, 0.4618626534938812, 0.45966875553131104, 0.46326500177383423, 0.4491051733493805, 0.4510096609592438, 0.460784375667572, 0.46008214354515076, 0.4581947326660156, 0.4434625506401062, 0.45632466673851013, 0.44847241044044495, 0.44564491510391235, 0.4475967586040497, 0.4409061670303345, 0.4234936535358429, 0.4490768611431122, 0.45120173692703247, 0.45062994956970215, 0.4589730501174927, 0.46898403763771057, 0.4421231150627136, 0.41909804940223694, 0.4291740357875824, 0.4625178575515747, 0.4392908215522766, 0.43444839119911194, 0.4368137717247009, 0.4558211863040924, 0.44606560468673706, 0.42655038833618164, 0.432248592376709, 0.43777021765708923, 0.45723757147789, 0.4315261244773865, 0.45007842779159546, 0.4389271140098572, 0.4405960142612457, 0.4387478828430176, 0.42890235781669617, 0.44080850481987, 0.4305351674556732, 0.4278762638568878, 0.4302690923213959, 0.4325426518917084, 0.4370863139629364, 0.4305688738822937, 0.44097474217414856, 0.42338448762893677, 0.4397183656692505, 0.44733092188835144, 0.44339725375175476, 0.43377840518951416, 0.4384208023548126, 0.431348592042923, 0.43539324402809143, 0.42420753836631775, 0.44322627782821655, 0.43396449089050293, 0.4365244209766388, 0.4343450367450714, 0.450441837310791, 0.41750848293304443, 0.4334770143032074, 0.45513254404067993, 0.44149431586265564, 0.43299612402915955, 0.42142513394355774, 0.42542222142219543, 0.4336428642272949, 0.4271179437637329, 0.44552019238471985, 0.4226955771446228, 0.41878965497016907, 0.42617613077163696, 0.4232056438922882, 0.42357051372528076, 0.4303847849369049, 0.4160397946834564, 0.4175153374671936, 0.417125940322876, 0.4169880449771881, 0.4420180916786194, 0.4221203327178955, 0.43253666162490845, 0.43439361453056335, 0.4231520891189575, 0.43128323554992676, 0.4247509241104126, 0.4200294017791748, 0.431606650352478, 0.45421406626701355, 0.42583468556404114]), ('mape', [126.45206451416016, 125.19639587402344, 124.08624267578125, 131.44204711914062, 126.65554809570312, 122.89701080322266, 128.3365020751953, 128.2768096923828, 127.71605682373047, 123.36347198486328, 132.04879760742188, 127.96287536621094, 128.79490661621094, 136.17111206054688, 125.38250732421875, 118.62787628173828, 126.41545104980469, 130.4037628173828, 128.26431274414062, 134.8083038330078, 129.79136657714844, 131.48342895507812, 144.46519470214844, 131.82269287109375, 136.9187774658203, 138.02671813964844, 130.0131072998047, 140.15733337402344, 146.98268127441406, 144.58404541015625, 134.14942932128906, 133.68687438964844, 134.32302856445312, 136.396728515625, 142.7354278564453, 141.31591796875, 148.3860321044922, 139.20462036132812, 147.56654357910156, 143.24606323242188, 145.08126831054688, 129.7460174560547, 139.8234405517578, 144.32464599609375, 139.2760467529297, 138.56216430664062, 143.79275512695312, 143.94552612304688, 138.56277465820312, 139.96038818359375, 136.3466796875, 145.9124755859375, 143.49517822265625, 138.89027404785156, 145.63368225097656, 134.57379150390625, 138.64585876464844, 135.2028045654297, 143.1590118408203, 138.80758666992188, 139.7228546142578, 139.2714080810547, 147.945556640625, 144.66207885742188, 149.3341827392578, 139.5852508544922, 140.21578979492188, 142.14112854003906, 138.35107421875, 143.871826171875, 141.09620666503906, 144.20924377441406, 138.92010498046875, 139.443603515625, 138.9777069091797, 140.1934051513672, 135.4308624267578, 137.21261596679688, 138.83749389648438, 142.0424346923828, 139.5177764892578, 137.35047912597656, 138.7595977783203, 138.85104370117188, 139.73753356933594, 136.52024841308594, 141.1446075439453, 137.09805297851562, 136.71463012695312, 135.1688232421875, 132.8200225830078, 140.77310180664062, 133.94589233398438, 142.5739288330078, 130.94760131835938, 133.15310668945312, 146.9849395751953, 129.5725860595703, 134.4046173095703, 142.38563537597656, 134.31007385253906, 137.57472229003906, 133.69012451171875, 137.22132873535156, 139.76136779785156, 143.98484802246094, 129.1914825439453, 144.58665466308594, 138.20608520507812, 136.05941772460938, 136.1717071533203, 133.2490692138672, 133.3056182861328, 129.333251953125, 139.22787475585938, 138.0834503173828, 137.02565002441406, 135.8446807861328, 131.66259765625, 134.88845825195312, 135.46847534179688, 132.05479431152344, 139.1083526611328, 132.0126190185547, 143.43032836914062, 147.91783142089844, 131.02764892578125, 142.6380157470703, 133.3510284423828, 137.5438232421875, 134.06326293945312, 145.39024353027344, 136.7466278076172, 139.98162841796875, 130.9911651611328, 132.63417053222656, 142.70143127441406, 141.58953857421875, 135.08628845214844, 128.9554443359375, 127.8182373046875, 139.4574432373047, 139.12562561035156, 143.94912719726562, 126.52818298339844, 136.13844299316406, 130.4183807373047, 130.1732940673828, 146.52891540527344, 138.470947265625, 131.4274139404297, 135.6118621826172, 137.6881561279297, 136.2587890625, 144.87130737304688, 142.03285217285156, 138.67727661132812, 140.75360107421875, 130.6942596435547, 140.71994018554688, 139.3529815673828, 134.90757751464844, 146.21385192871094, 141.34051513671875, 140.70237731933594]), ('val_loss', [7.021328926086426, 7.0117974281311035, 7.002536296844482, 6.991617679595947, 6.987250804901123, 6.975225925445557, 6.970874309539795, 6.960676193237305, 6.9547529220581055, 6.944879055023193, 6.9376654624938965, 6.927215576171875, 6.9157938957214355, 6.913372993469238, 6.906991958618164, 6.898252964019775, 6.882930278778076, 6.872410297393799, 6.866599082946777, 6.855020523071289, 6.832011699676514, 6.816592693328857, 6.812524795532227, 6.797667026519775, 6.792958736419678, 6.782728672027588, 6.775823593139648, 6.775681018829346, 6.762593746185303, 6.753337860107422, 6.750843524932861, 6.738790988922119, 6.730047702789307, 6.7355732917785645, 6.747684001922607, 6.741870403289795, 6.7319111824035645, 6.725754737854004, 6.71577262878418, 6.701580047607422, 6.700143337249756, 6.696835041046143, 6.689450263977051, 6.667336940765381, 6.6706767082214355, 6.662200927734375, 6.662382125854492, 6.666961669921875, 6.668564319610596, 6.651731014251709, 6.638111114501953, 6.631193161010742, 6.623630523681641, 6.622772693634033, 6.610408782958984, 6.596207618713379, 6.588305950164795, 6.579692840576172, 6.554652690887451, 6.561923027038574, 6.5495524406433105, 6.536945343017578, 6.548717975616455, 6.545775413513184, 6.542940139770508, 6.537999153137207, 6.530928134918213, 6.510300636291504, 6.509242534637451, 6.488665580749512, 6.475100040435791, 6.4615912437438965, 6.47739839553833, 6.485743522644043, 6.479873180389404, 6.4662933349609375, 6.457412242889404, 6.475336074829102, 6.485411167144775, 6.465808868408203, 6.45670223236084, 6.454048156738281, 6.452092170715332, 6.420187473297119, 6.430265426635742, 6.417612075805664, 6.39793062210083, 6.398541450500488, 6.39328145980835, 6.378190040588379, 6.369534492492676, 6.3527116775512695, 6.335637092590332, 6.342762470245361, 6.340535640716553, 6.3508524894714355, 6.336502552032471, 6.3423848152160645, 6.347670078277588, 6.349409580230713, 6.347818374633789, 6.342983722686768, 6.329164505004883, 6.328714370727539, 6.320106029510498, 6.2969770431518555, 6.288367748260498, 6.311616897583008, 6.326315402984619, 6.340795993804932, 6.315305233001709, 6.292558193206787, 6.274559020996094, 6.27551794052124, 6.270357608795166, 6.289548873901367, 6.287988185882568, 6.260338306427002, 6.2497148513793945, 6.245166778564453, 6.27352237701416, 6.245301246643066, 6.235753536224365, 6.225039005279541, 6.203362464904785, 6.171582221984863, 6.177397727966309, 6.185247421264648, 6.185826301574707, 6.182843208312988, 6.17279052734375, 6.169508934020996, 6.194825172424316, 6.1860857009887695, 6.1800856590271, 6.179147243499756, 6.169827938079834, 6.1637349128723145, 6.141549587249756, 6.143678188323975, 6.154881000518799, 6.140384674072266, 6.160952091217041, 6.150139331817627, 6.171547889709473, 6.174062252044678, 6.184686183929443, 6.180038928985596, 6.17523717880249, 6.1775946617126465, 6.138298988342285, 6.123654365539551, 6.09719181060791, 6.063708782196045, 6.054677486419678, 6.073408603668213, 6.070456027984619, 6.076221466064453, 6.065902233123779, 6.087047100067139, 6.069169521331787, 6.1109747886657715, 6.122252941131592, 6.118255615234375, 6.0965800285339355]), ('val_mse', [7.021328926086426, 7.0117974281311035, 7.002536296844482, 6.991617679595947, 6.987250804901123, 6.975225925445557, 6.970874309539795, 6.960676193237305, 6.9547529220581055, 6.944879055023193, 6.9376654624938965, 6.927215576171875, 6.9157938957214355, 6.913372993469238, 6.906991958618164, 6.898252964019775, 6.882929801940918, 6.872410297393799, 6.866599082946777, 6.855020523071289, 6.832011699676514, 6.816592216491699, 6.812524795532227, 6.797667026519775, 6.792958736419678, 6.782728672027588, 6.775823593139648, 6.775681018829346, 6.762593746185303, 6.753337860107422, 6.750843524932861, 6.738790988922119, 6.730047702789307, 6.7355732917785645, 6.747684478759766, 6.741870880126953, 6.7319111824035645, 6.725754261016846, 6.71577262878418, 6.701580047607422, 6.700143337249756, 6.696835041046143, 6.689450263977051, 6.667336940765381, 6.6706767082214355, 6.662200927734375, 6.662381649017334, 6.666961669921875, 6.668564319610596, 6.651731014251709, 6.638111114501953, 6.631192684173584, 6.623630523681641, 6.622772693634033, 6.610408782958984, 6.596207618713379, 6.588305950164795, 6.57969331741333, 6.554652690887451, 6.561923027038574, 6.5495524406433105, 6.536945819854736, 6.548717975616455, 6.545775413513184, 6.542940139770508, 6.537999153137207, 6.530928134918213, 6.510300636291504, 6.509242534637451, 6.488665580749512, 6.475100040435791, 6.4615912437438965, 6.47739839553833, 6.485743522644043, 6.479873180389404, 6.4662933349609375, 6.457412242889404, 6.475336074829102, 6.485411167144775, 6.465808868408203, 6.45670223236084, 6.454048156738281, 6.452092170715332, 6.420187473297119, 6.430265426635742, 6.417612075805664, 6.39793062210083, 6.398541450500488, 6.39328145980835, 6.378190040588379, 6.369534492492676, 6.3527116775512695, 6.335637092590332, 6.342762470245361, 6.340535640716553, 6.3508524894714355, 6.336503028869629, 6.3423848152160645, 6.347670078277588, 6.349409580230713, 6.347818374633789, 6.342983722686768, 6.329164505004883, 6.328714370727539, 6.320106029510498, 6.2969770431518555, 6.288367748260498, 6.311617374420166, 6.326315402984619, 6.340795993804932, 6.315305233001709, 6.292558193206787, 6.274559020996094, 6.27551794052124, 6.270357608795166, 6.289548873901367, 6.287988185882568, 6.260338306427002, 6.2497148513793945, 6.245166778564453, 6.27352237701416, 6.245301246643066, 6.235753059387207, 6.225039005279541, 6.203362464904785, 6.171582221984863, 6.177397727966309, 6.185247421264648, 6.185826301574707, 6.182843208312988, 6.17279052734375, 6.169508934020996, 6.194825172424316, 6.1860857009887695, 6.1800856590271, 6.179147243499756, 6.169827938079834, 6.1637349128723145, 6.141549587249756, 6.143678188323975, 6.154881000518799, 6.140384674072266, 6.160952091217041, 6.150139331817627, 6.171547889709473, 6.174062252044678, 6.184686183929443, 6.180038928985596, 6.17523717880249, 6.1775946617126465, 6.138298988342285, 6.123654365539551, 6.09719181060791, 6.063708782196045, 6.054677486419678, 6.073408603668213, 6.070456027984619, 6.076221466064453, 6.065902233123779, 6.087047100067139, 6.069169521331787, 6.1109747886657715, 6.122252941131592, 6.118255615234375, 6.0965800285339355]), ('val_mae', [0.9714332818984985, 0.969582736492157, 0.9676455855369568, 0.9658417701721191, 0.9647077918052673, 0.9631741642951965, 0.9624986052513123, 0.9612458944320679, 0.9605460166931152, 0.9593738317489624, 0.958631157875061, 0.9576258063316345, 0.9564998745918274, 0.95635986328125, 0.9558122754096985, 0.9548802971839905, 0.95314621925354, 0.9518985152244568, 0.9514084458351135, 0.9502817392349243, 0.9487408995628357, 0.9480569362640381, 0.9487242698669434, 0.9481522440910339, 0.9481552243232727, 0.9474722146987915, 0.9476221203804016, 0.948080837726593, 0.9475138187408447, 0.9471452832221985, 0.9470362067222595, 0.9460127949714661, 0.946204662322998, 0.946694552898407, 0.9473927021026611, 0.9470430612564087, 0.9461569786071777, 0.9452400207519531, 0.9438472390174866, 0.9416367411613464, 0.9414086937904358, 0.9406161904335022, 0.9387527108192444, 0.9371144771575928, 0.9376391172409058, 0.9367304444313049, 0.935952365398407, 0.9356377720832825, 0.935347855091095, 0.9345431923866272, 0.9341187477111816, 0.9328582286834717, 0.9325848817825317, 0.9315756559371948, 0.9299607872962952, 0.928665041923523, 0.9279029965400696, 0.9272501468658447, 0.9254518747329712, 0.9260256886482239, 0.9244657158851624, 0.9239645004272461, 0.9250925779342651, 0.9247042536735535, 0.924216091632843, 0.9236127734184265, 0.9225260019302368, 0.9207282662391663, 0.9202872514724731, 0.9177522659301758, 0.9163012504577637, 0.9147899150848389, 0.915695071220398, 0.9157418012619019, 0.9147128462791443, 0.9129728078842163, 0.9124558568000793, 0.9134570360183716, 0.9138186573982239, 0.911261260509491, 0.9107663631439209, 0.91009521484375, 0.9093121886253357, 0.9069666266441345, 0.9067080616950989, 0.9052391052246094, 0.9053720235824585, 0.9063857197761536, 0.9061129689216614, 0.9051775932312012, 0.9046295881271362, 0.9034522771835327, 0.9038661122322083, 0.9039954543113708, 0.9032596945762634, 0.9028838872909546, 0.9029616713523865, 0.9044137001037598, 0.9042677283287048, 0.9043622016906738, 0.904005765914917, 0.9035764932632446, 0.9023100137710571, 0.9021630883216858, 0.9019412398338318, 0.8995558619499207, 0.900037407875061, 0.9016360640525818, 0.9017978310585022, 0.9023458957672119, 0.9014573693275452, 0.900604248046875, 0.899345338344574, 0.8974880576133728, 0.8960563540458679, 0.8960667252540588, 0.8953603506088257, 0.8938390612602234, 0.8936046957969666, 0.893113911151886, 0.894048810005188, 0.8916717767715454, 0.8907656669616699, 0.8897002935409546, 0.8882764577865601, 0.8856260180473328, 0.8862313628196716, 0.8870962858200073, 0.8864561319351196, 0.8861147165298462, 0.8848845958709717, 0.8849145770072937, 0.8867929577827454, 0.8864526152610779, 0.8856309056282043, 0.88519287109375, 0.8849353790283203, 0.8843182325363159, 0.8818699717521667, 0.8815004825592041, 0.8813504576683044, 0.8796497583389282, 0.8806558847427368, 0.8792359828948975, 0.8812577128410339, 0.8817218542098999, 0.8814850449562073, 0.8807082176208496, 0.8793482780456543, 0.8776361346244812, 0.8753482103347778, 0.875267505645752, 0.8733751773834229, 0.8710365891456604, 0.8702782988548279, 0.8706104755401611, 0.8706048130989075, 0.8705747127532959, 0.8707764148712158, 0.8718606233596802, 0.8707900047302246, 0.8724830746650696, 0.8737983703613281, 0.8731620907783508, 0.8724790215492249]), ('val_mape', [114.08634185791016, 114.5121841430664, 114.75192260742188, 114.79613494873047, 114.55960845947266, 114.73453521728516, 114.7171630859375, 114.78199005126953, 114.7323226928711, 114.78062438964844, 115.00360870361328, 115.24449920654297, 115.46503448486328, 115.47025299072266, 115.8514633178711, 116.11759948730469, 116.56434631347656, 117.07714080810547, 117.80615997314453, 118.84212493896484, 121.00090026855469, 123.37496948242188, 125.43157196044922, 127.01074981689453, 127.82311248779297, 128.36412048339844, 129.7747039794922, 130.57962036132812, 131.47349548339844, 131.83538818359375, 131.84469604492188, 132.11981201171875, 134.25775146484375, 134.41685485839844, 133.8113555908203, 133.87603759765625, 134.6290283203125, 134.71856689453125, 135.18040466308594, 134.9008026123047, 134.71878051757812, 134.5975341796875, 133.2873992919922, 133.9938507080078, 133.32894897460938, 132.82850646972656, 132.2687530517578, 131.94728088378906, 131.27076721191406, 132.406494140625, 134.21798706054688, 133.6527557373047, 133.9679718017578, 132.72479248046875, 132.19680786132812, 132.4772186279297, 133.4216766357422, 133.21768188476562, 133.79693603515625, 133.9906463623047, 133.2190704345703, 135.44491577148438, 135.8072509765625, 135.82623291015625, 135.4875946044922, 136.65228271484375, 136.32806396484375, 137.2452850341797, 136.87362670898438, 137.357666015625, 137.97109985351562, 137.35995483398438, 136.73434448242188, 135.2978515625, 135.47181701660156, 136.69017028808594, 136.18258666992188, 134.81675720214844, 135.56521606445312, 136.87518310546875, 138.28468322753906, 137.59109497070312, 137.7214813232422, 140.33135986328125, 138.41343688964844, 137.90420532226562, 137.98500061035156, 137.75926208496094, 138.1973876953125, 139.40444946289062, 139.67831420898438, 139.44979858398438, 140.05030822753906, 138.09835815429688, 136.685302734375, 137.0724639892578, 139.5105438232422, 141.69732666015625, 140.9070587158203, 139.8689422607422, 140.4678955078125, 139.26953125, 140.78250122070312, 139.20065307617188, 139.05319213867188, 137.02239990234375, 137.9019317626953, 136.5316925048828, 134.54815673828125, 133.19496154785156, 134.89398193359375, 137.3505096435547, 139.20298767089844, 138.64576721191406, 139.37335205078125, 137.4283905029297, 136.2912139892578, 137.404296875, 138.5833740234375, 138.87086486816406, 137.7823028564453, 139.38645935058594, 138.39511108398438, 139.39093017578125, 140.93247985839844, 140.56211853027344, 138.89845275878906, 137.80747985839844, 137.71376037597656, 138.90980529785156, 139.27301025390625, 140.1142578125, 138.4250030517578, 138.87811279296875, 138.90261840820312, 139.43785095214844, 139.12538146972656, 137.31793212890625, 139.1821746826172, 139.9524688720703, 138.49497985839844, 139.21302795410156, 137.47593688964844, 138.47909545898438, 137.75726318359375, 138.25489807128906, 138.9409942626953, 140.25559997558594, 138.93304443359375, 137.154296875, 139.0102081298828, 140.19631958007812, 142.28073120117188, 142.75294494628906, 143.09877014160156, 142.25096130371094, 142.82516479492188, 142.4584503173828, 145.2294921875, 144.4401397705078, 144.8419647216797, 139.99366760253906, 138.9454345703125, 140.8704833984375, 142.38931274414062])]\n"
          ]
        }
      ]
    },
    {
      "cell_type": "code",
      "source": [
        "print (\"Dict key-value are : \")\n",
        "for key, value in history_5_1.history.items():\n",
        "    print (key, value)"
      ],
      "metadata": {
        "colab": {
          "base_uri": "https://localhost:8080/"
        },
        "id": "4Bpla84JaAqs",
        "outputId": "06f902a5-88ee-4f83-ee34-16ca33512a43"
      },
      "execution_count": null,
      "outputs": [
        {
          "output_type": "stream",
          "name": "stdout",
          "text": [
            "Dict key-value are : \n",
            "loss [0.5561032295227051, 0.599965512752533, 0.5727571845054626, 0.5853535532951355, 0.572195827960968, 0.6057645678520203, 0.7154065370559692, 0.5831663608551025, 0.5449534058570862, 0.5170917510986328, 0.5397329926490784, 0.5070592761039734, 0.5040320754051208, 0.5371047258377075, 0.5510883331298828, 0.5090973377227783, 0.5048242211341858, 0.48919087648391724, 0.4759109914302826, 0.5267165899276733, 0.46239057183265686, 0.5133925676345825, 0.49979013204574585, 0.44342684745788574, 0.46871039271354675, 0.6287029981613159, 0.4584386646747589, 0.4378873407840729, 0.46384769678115845, 0.5435317754745483, 0.45379525423049927, 0.45105621218681335, 0.4796868860721588, 0.4659671485424042, 0.4540005624294281, 0.46561774611473083, 0.4605269134044647, 0.5367909669876099, 0.4239926040172577, 0.4356895983219147, 0.4544668197631836, 0.42511871457099915, 0.4048503339290619, 0.5414429903030396, 0.4274463653564453, 0.37266021966934204, 0.4896402060985565, 0.4858139455318451, 0.3948025107383728, 0.4270934760570526, 0.3966345489025116, 0.4225606918334961, 0.44269219040870667, 0.39148661494255066, 0.47487011551856995, 0.4887015223503113, 0.4932500720024109, 0.48156028985977173, 0.37394142150878906, 0.4923822581768036, 0.43809714913368225, 0.4018353223800659, 0.5493208765983582, 0.40199699997901917, 0.5295320153236389, 0.38409197330474854, 0.49309659004211426, 0.4479316174983978, 0.3864874243736267, 0.40004241466522217, 0.38795676827430725, 0.42764976620674133, 0.37646353244781494, 0.37776148319244385, 0.37740838527679443, 0.41393253207206726, 0.3834657669067383, 0.35106340050697327, 0.38614708185195923, 0.39603495597839355, 0.4097825288772583, 0.34928739070892334, 0.428803414106369, 0.39191004633903503, 0.3789873719215393, 0.35861149430274963, 0.39110830426216125, 0.3266370892524719, 0.3984226584434509, 0.41172146797180176, 0.43890243768692017, 0.42208731174468994, 0.5631141662597656, 0.34516504406929016, 0.31776130199432373, 0.35301896929740906, 0.5545093417167664, 0.475868284702301, 0.36857250332832336, 0.3407105505466461, 0.4145730435848236, 0.38643878698349, 0.3358350694179535, 0.4769500494003296, 0.3764200806617737, 0.530968964099884, 0.42518922686576843, 0.37079837918281555, 0.3473820984363556, 0.35261890292167664, 0.374164879322052, 0.3624633252620697, 0.3603998124599457, 0.3380984961986542, 0.34173035621643066, 0.32677921652793884, 0.34470391273498535, 0.4056992530822754, 0.33313608169555664, 0.5036397576332092, 0.3335452377796173, 0.37858930230140686, 0.39207547903060913, 0.384468674659729, 0.34846919775009155, 0.3476298749446869, 0.33539676666259766, 0.33898472785949707, 0.3341871201992035, 0.35734713077545166, 0.38622432947158813, 0.3715454936027527, 0.4107625186443329, 0.4641055762767792, 0.3190021812915802, 0.3538089990615845, 0.4504663050174713, 0.3887450098991394, 0.37657180428504944, 0.3968282639980316, 0.34873247146606445, 0.4396814703941345, 0.3289346396923065, 0.4763467311859131, 0.323457807302475, 0.3321198523044586, 0.40973755717277527, 0.34630677103996277, 0.35623598098754883, 0.3521561920642853, 0.3260098099708557, 0.3289853632450104, 0.3195623457431793, 0.3724552094936371, 0.38566648960113525, 0.3212186396121979, 0.3425177037715912, 0.33119407296180725, 0.37269213795661926, 0.3479459285736084, 0.337964802980423, 0.31129661202430725, 0.35284197330474854, 0.4842642545700073, 0.32518628239631653]\n",
            "mse [0.5561032295227051, 0.599965512752533, 0.5727571845054626, 0.5853535532951355, 0.572195827960968, 0.6057645678520203, 0.7154065370559692, 0.5831663608551025, 0.5449534058570862, 0.5170917510986328, 0.5397329926490784, 0.5070592761039734, 0.5040320754051208, 0.5371047258377075, 0.5510883331298828, 0.5090973377227783, 0.5048242211341858, 0.48919087648391724, 0.4759109914302826, 0.5267165899276733, 0.46239057183265686, 0.5133925676345825, 0.49979013204574585, 0.44342684745788574, 0.46871039271354675, 0.6287029981613159, 0.4584386646747589, 0.4378873407840729, 0.46384769678115845, 0.5435317754745483, 0.45379525423049927, 0.45105621218681335, 0.4796868860721588, 0.4659671485424042, 0.4540005624294281, 0.46561774611473083, 0.4605269134044647, 0.5367909669876099, 0.4239926040172577, 0.4356895983219147, 0.4544668197631836, 0.42511871457099915, 0.4048503339290619, 0.5414429903030396, 0.4274463653564453, 0.37266021966934204, 0.4896402060985565, 0.4858139455318451, 0.3948025107383728, 0.4270934760570526, 0.3966345489025116, 0.4225606918334961, 0.44269219040870667, 0.39148661494255066, 0.47487011551856995, 0.4887015223503113, 0.4932500720024109, 0.48156028985977173, 0.37394142150878906, 0.4923822581768036, 0.43809714913368225, 0.4018353223800659, 0.5493208765983582, 0.40199699997901917, 0.5295320153236389, 0.38409197330474854, 0.49309659004211426, 0.4479316174983978, 0.3864874243736267, 0.40004241466522217, 0.38795676827430725, 0.42764976620674133, 0.37646353244781494, 0.37776148319244385, 0.37740838527679443, 0.41393253207206726, 0.3834657669067383, 0.35106340050697327, 0.38614708185195923, 0.39603495597839355, 0.4097825288772583, 0.34928739070892334, 0.428803414106369, 0.39191004633903503, 0.3789873719215393, 0.35861149430274963, 0.39110830426216125, 0.3266370892524719, 0.3984226584434509, 0.41172146797180176, 0.43890243768692017, 0.42208731174468994, 0.5631141662597656, 0.34516504406929016, 0.31776130199432373, 0.35301896929740906, 0.5545093417167664, 0.475868284702301, 0.36857250332832336, 0.3407105505466461, 0.4145730435848236, 0.38643878698349, 0.3358350694179535, 0.4769500494003296, 0.3764200508594513, 0.530968964099884, 0.42518922686576843, 0.37079837918281555, 0.3473820984363556, 0.35261890292167664, 0.374164879322052, 0.3624633252620697, 0.3603998124599457, 0.3380984961986542, 0.34173035621643066, 0.32677921652793884, 0.34470391273498535, 0.4056992530822754, 0.33313608169555664, 0.5036397576332092, 0.3335452377796173, 0.37858930230140686, 0.39207547903060913, 0.38446861505508423, 0.34846919775009155, 0.3476298749446869, 0.33539676666259766, 0.33898472785949707, 0.3341871201992035, 0.35734716057777405, 0.38622432947158813, 0.3715454936027527, 0.4107625186443329, 0.4641055762767792, 0.3190021812915802, 0.3538089990615845, 0.4504663050174713, 0.3887450098991394, 0.37657180428504944, 0.3968282639980316, 0.34873247146606445, 0.4396814703941345, 0.3289346396923065, 0.4763467311859131, 0.323457807302475, 0.3321198523044586, 0.40973755717277527, 0.34630677103996277, 0.35623598098754883, 0.3521561920642853, 0.3260098099708557, 0.3289853632450104, 0.3195623457431793, 0.3724552094936371, 0.38566648960113525, 0.3212186396121979, 0.3425177037715912, 0.33119407296180725, 0.37269213795661926, 0.3479459285736084, 0.337964802980423, 0.31129661202430725, 0.35284197330474854, 0.4842642545700073, 0.32518628239631653]\n",
            "mae [0.5760472416877747, 0.5877110362052917, 0.579241156578064, 0.5706967115402222, 0.5679866075515747, 0.560330331325531, 0.5768377184867859, 0.5689530372619629, 0.5568822622299194, 0.5475326180458069, 0.5551621913909912, 0.5510904788970947, 0.544491708278656, 0.5582324266433716, 0.5567668080329895, 0.530296266078949, 0.5389158725738525, 0.5368369817733765, 0.5243903994560242, 0.5401288866996765, 0.5202075242996216, 0.5316815972328186, 0.5435523986816406, 0.5144394636154175, 0.5252870917320251, 0.5450435280799866, 0.5112659335136414, 0.5149834156036377, 0.5303060412406921, 0.529507577419281, 0.5149261355400085, 0.5153522491455078, 0.5060819983482361, 0.5192981362342834, 0.5112780332565308, 0.5137268900871277, 0.515950620174408, 0.5129544734954834, 0.5052180886268616, 0.502385139465332, 0.5029085874557495, 0.48397397994995117, 0.48292165994644165, 0.5157931447029114, 0.49322983622550964, 0.4755375385284424, 0.5067487359046936, 0.5037288665771484, 0.4809083938598633, 0.4892560541629791, 0.4847926199436188, 0.49362102150917053, 0.4902609586715698, 0.47339189052581787, 0.4965042769908905, 0.49386635422706604, 0.4938717186450958, 0.48249348998069763, 0.4792584776878357, 0.4819459021091461, 0.47267305850982666, 0.466071754693985, 0.49786216020584106, 0.46967437863349915, 0.5034471154212952, 0.4664686918258667, 0.4699416756629944, 0.47048890590667725, 0.4635007083415985, 0.4774511158466339, 0.46105101704597473, 0.4668642580509186, 0.45619314908981323, 0.4618626534938812, 0.45966875553131104, 0.46326500177383423, 0.4491051733493805, 0.4510096609592438, 0.460784375667572, 0.46008214354515076, 0.4581947326660156, 0.4434625506401062, 0.45632466673851013, 0.44847241044044495, 0.44564491510391235, 0.4475967586040497, 0.4409061670303345, 0.4234936535358429, 0.4490768611431122, 0.45120173692703247, 0.45062994956970215, 0.4589730501174927, 0.46898403763771057, 0.4421231150627136, 0.41909804940223694, 0.4291740357875824, 0.4625178575515747, 0.4392908215522766, 0.43444839119911194, 0.4368137717247009, 0.4558211863040924, 0.44606560468673706, 0.42655038833618164, 0.432248592376709, 0.43777021765708923, 0.45723757147789, 0.4315261244773865, 0.45007842779159546, 0.4389271140098572, 0.4405960142612457, 0.4387478828430176, 0.42890235781669617, 0.44080850481987, 0.4305351674556732, 0.4278762638568878, 0.4302690923213959, 0.4325426518917084, 0.4370863139629364, 0.4305688738822937, 0.44097474217414856, 0.42338448762893677, 0.4397183656692505, 0.44733092188835144, 0.44339725375175476, 0.43377840518951416, 0.4384208023548126, 0.431348592042923, 0.43539324402809143, 0.42420753836631775, 0.44322627782821655, 0.43396449089050293, 0.4365244209766388, 0.4343450367450714, 0.450441837310791, 0.41750848293304443, 0.4334770143032074, 0.45513254404067993, 0.44149431586265564, 0.43299612402915955, 0.42142513394355774, 0.42542222142219543, 0.4336428642272949, 0.4271179437637329, 0.44552019238471985, 0.4226955771446228, 0.41878965497016907, 0.42617613077163696, 0.4232056438922882, 0.42357051372528076, 0.4303847849369049, 0.4160397946834564, 0.4175153374671936, 0.417125940322876, 0.4169880449771881, 0.4420180916786194, 0.4221203327178955, 0.43253666162490845, 0.43439361453056335, 0.4231520891189575, 0.43128323554992676, 0.4247509241104126, 0.4200294017791748, 0.431606650352478, 0.45421406626701355, 0.42583468556404114]\n",
            "mape [126.45206451416016, 125.19639587402344, 124.08624267578125, 131.44204711914062, 126.65554809570312, 122.89701080322266, 128.3365020751953, 128.2768096923828, 127.71605682373047, 123.36347198486328, 132.04879760742188, 127.96287536621094, 128.79490661621094, 136.17111206054688, 125.38250732421875, 118.62787628173828, 126.41545104980469, 130.4037628173828, 128.26431274414062, 134.8083038330078, 129.79136657714844, 131.48342895507812, 144.46519470214844, 131.82269287109375, 136.9187774658203, 138.02671813964844, 130.0131072998047, 140.15733337402344, 146.98268127441406, 144.58404541015625, 134.14942932128906, 133.68687438964844, 134.32302856445312, 136.396728515625, 142.7354278564453, 141.31591796875, 148.3860321044922, 139.20462036132812, 147.56654357910156, 143.24606323242188, 145.08126831054688, 129.7460174560547, 139.8234405517578, 144.32464599609375, 139.2760467529297, 138.56216430664062, 143.79275512695312, 143.94552612304688, 138.56277465820312, 139.96038818359375, 136.3466796875, 145.9124755859375, 143.49517822265625, 138.89027404785156, 145.63368225097656, 134.57379150390625, 138.64585876464844, 135.2028045654297, 143.1590118408203, 138.80758666992188, 139.7228546142578, 139.2714080810547, 147.945556640625, 144.66207885742188, 149.3341827392578, 139.5852508544922, 140.21578979492188, 142.14112854003906, 138.35107421875, 143.871826171875, 141.09620666503906, 144.20924377441406, 138.92010498046875, 139.443603515625, 138.9777069091797, 140.1934051513672, 135.4308624267578, 137.21261596679688, 138.83749389648438, 142.0424346923828, 139.5177764892578, 137.35047912597656, 138.7595977783203, 138.85104370117188, 139.73753356933594, 136.52024841308594, 141.1446075439453, 137.09805297851562, 136.71463012695312, 135.1688232421875, 132.8200225830078, 140.77310180664062, 133.94589233398438, 142.5739288330078, 130.94760131835938, 133.15310668945312, 146.9849395751953, 129.5725860595703, 134.4046173095703, 142.38563537597656, 134.31007385253906, 137.57472229003906, 133.69012451171875, 137.22132873535156, 139.76136779785156, 143.98484802246094, 129.1914825439453, 144.58665466308594, 138.20608520507812, 136.05941772460938, 136.1717071533203, 133.2490692138672, 133.3056182861328, 129.333251953125, 139.22787475585938, 138.0834503173828, 137.02565002441406, 135.8446807861328, 131.66259765625, 134.88845825195312, 135.46847534179688, 132.05479431152344, 139.1083526611328, 132.0126190185547, 143.43032836914062, 147.91783142089844, 131.02764892578125, 142.6380157470703, 133.3510284423828, 137.5438232421875, 134.06326293945312, 145.39024353027344, 136.7466278076172, 139.98162841796875, 130.9911651611328, 132.63417053222656, 142.70143127441406, 141.58953857421875, 135.08628845214844, 128.9554443359375, 127.8182373046875, 139.4574432373047, 139.12562561035156, 143.94912719726562, 126.52818298339844, 136.13844299316406, 130.4183807373047, 130.1732940673828, 146.52891540527344, 138.470947265625, 131.4274139404297, 135.6118621826172, 137.6881561279297, 136.2587890625, 144.87130737304688, 142.03285217285156, 138.67727661132812, 140.75360107421875, 130.6942596435547, 140.71994018554688, 139.3529815673828, 134.90757751464844, 146.21385192871094, 141.34051513671875, 140.70237731933594]\n",
            "val_loss [7.021328926086426, 7.0117974281311035, 7.002536296844482, 6.991617679595947, 6.987250804901123, 6.975225925445557, 6.970874309539795, 6.960676193237305, 6.9547529220581055, 6.944879055023193, 6.9376654624938965, 6.927215576171875, 6.9157938957214355, 6.913372993469238, 6.906991958618164, 6.898252964019775, 6.882930278778076, 6.872410297393799, 6.866599082946777, 6.855020523071289, 6.832011699676514, 6.816592693328857, 6.812524795532227, 6.797667026519775, 6.792958736419678, 6.782728672027588, 6.775823593139648, 6.775681018829346, 6.762593746185303, 6.753337860107422, 6.750843524932861, 6.738790988922119, 6.730047702789307, 6.7355732917785645, 6.747684001922607, 6.741870403289795, 6.7319111824035645, 6.725754737854004, 6.71577262878418, 6.701580047607422, 6.700143337249756, 6.696835041046143, 6.689450263977051, 6.667336940765381, 6.6706767082214355, 6.662200927734375, 6.662382125854492, 6.666961669921875, 6.668564319610596, 6.651731014251709, 6.638111114501953, 6.631193161010742, 6.623630523681641, 6.622772693634033, 6.610408782958984, 6.596207618713379, 6.588305950164795, 6.579692840576172, 6.554652690887451, 6.561923027038574, 6.5495524406433105, 6.536945343017578, 6.548717975616455, 6.545775413513184, 6.542940139770508, 6.537999153137207, 6.530928134918213, 6.510300636291504, 6.509242534637451, 6.488665580749512, 6.475100040435791, 6.4615912437438965, 6.47739839553833, 6.485743522644043, 6.479873180389404, 6.4662933349609375, 6.457412242889404, 6.475336074829102, 6.485411167144775, 6.465808868408203, 6.45670223236084, 6.454048156738281, 6.452092170715332, 6.420187473297119, 6.430265426635742, 6.417612075805664, 6.39793062210083, 6.398541450500488, 6.39328145980835, 6.378190040588379, 6.369534492492676, 6.3527116775512695, 6.335637092590332, 6.342762470245361, 6.340535640716553, 6.3508524894714355, 6.336502552032471, 6.3423848152160645, 6.347670078277588, 6.349409580230713, 6.347818374633789, 6.342983722686768, 6.329164505004883, 6.328714370727539, 6.320106029510498, 6.2969770431518555, 6.288367748260498, 6.311616897583008, 6.326315402984619, 6.340795993804932, 6.315305233001709, 6.292558193206787, 6.274559020996094, 6.27551794052124, 6.270357608795166, 6.289548873901367, 6.287988185882568, 6.260338306427002, 6.2497148513793945, 6.245166778564453, 6.27352237701416, 6.245301246643066, 6.235753536224365, 6.225039005279541, 6.203362464904785, 6.171582221984863, 6.177397727966309, 6.185247421264648, 6.185826301574707, 6.182843208312988, 6.17279052734375, 6.169508934020996, 6.194825172424316, 6.1860857009887695, 6.1800856590271, 6.179147243499756, 6.169827938079834, 6.1637349128723145, 6.141549587249756, 6.143678188323975, 6.154881000518799, 6.140384674072266, 6.160952091217041, 6.150139331817627, 6.171547889709473, 6.174062252044678, 6.184686183929443, 6.180038928985596, 6.17523717880249, 6.1775946617126465, 6.138298988342285, 6.123654365539551, 6.09719181060791, 6.063708782196045, 6.054677486419678, 6.073408603668213, 6.070456027984619, 6.076221466064453, 6.065902233123779, 6.087047100067139, 6.069169521331787, 6.1109747886657715, 6.122252941131592, 6.118255615234375, 6.0965800285339355]\n",
            "val_mse [7.021328926086426, 7.0117974281311035, 7.002536296844482, 6.991617679595947, 6.987250804901123, 6.975225925445557, 6.970874309539795, 6.960676193237305, 6.9547529220581055, 6.944879055023193, 6.9376654624938965, 6.927215576171875, 6.9157938957214355, 6.913372993469238, 6.906991958618164, 6.898252964019775, 6.882929801940918, 6.872410297393799, 6.866599082946777, 6.855020523071289, 6.832011699676514, 6.816592216491699, 6.812524795532227, 6.797667026519775, 6.792958736419678, 6.782728672027588, 6.775823593139648, 6.775681018829346, 6.762593746185303, 6.753337860107422, 6.750843524932861, 6.738790988922119, 6.730047702789307, 6.7355732917785645, 6.747684478759766, 6.741870880126953, 6.7319111824035645, 6.725754261016846, 6.71577262878418, 6.701580047607422, 6.700143337249756, 6.696835041046143, 6.689450263977051, 6.667336940765381, 6.6706767082214355, 6.662200927734375, 6.662381649017334, 6.666961669921875, 6.668564319610596, 6.651731014251709, 6.638111114501953, 6.631192684173584, 6.623630523681641, 6.622772693634033, 6.610408782958984, 6.596207618713379, 6.588305950164795, 6.57969331741333, 6.554652690887451, 6.561923027038574, 6.5495524406433105, 6.536945819854736, 6.548717975616455, 6.545775413513184, 6.542940139770508, 6.537999153137207, 6.530928134918213, 6.510300636291504, 6.509242534637451, 6.488665580749512, 6.475100040435791, 6.4615912437438965, 6.47739839553833, 6.485743522644043, 6.479873180389404, 6.4662933349609375, 6.457412242889404, 6.475336074829102, 6.485411167144775, 6.465808868408203, 6.45670223236084, 6.454048156738281, 6.452092170715332, 6.420187473297119, 6.430265426635742, 6.417612075805664, 6.39793062210083, 6.398541450500488, 6.39328145980835, 6.378190040588379, 6.369534492492676, 6.3527116775512695, 6.335637092590332, 6.342762470245361, 6.340535640716553, 6.3508524894714355, 6.336503028869629, 6.3423848152160645, 6.347670078277588, 6.349409580230713, 6.347818374633789, 6.342983722686768, 6.329164505004883, 6.328714370727539, 6.320106029510498, 6.2969770431518555, 6.288367748260498, 6.311617374420166, 6.326315402984619, 6.340795993804932, 6.315305233001709, 6.292558193206787, 6.274559020996094, 6.27551794052124, 6.270357608795166, 6.289548873901367, 6.287988185882568, 6.260338306427002, 6.2497148513793945, 6.245166778564453, 6.27352237701416, 6.245301246643066, 6.235753059387207, 6.225039005279541, 6.203362464904785, 6.171582221984863, 6.177397727966309, 6.185247421264648, 6.185826301574707, 6.182843208312988, 6.17279052734375, 6.169508934020996, 6.194825172424316, 6.1860857009887695, 6.1800856590271, 6.179147243499756, 6.169827938079834, 6.1637349128723145, 6.141549587249756, 6.143678188323975, 6.154881000518799, 6.140384674072266, 6.160952091217041, 6.150139331817627, 6.171547889709473, 6.174062252044678, 6.184686183929443, 6.180038928985596, 6.17523717880249, 6.1775946617126465, 6.138298988342285, 6.123654365539551, 6.09719181060791, 6.063708782196045, 6.054677486419678, 6.073408603668213, 6.070456027984619, 6.076221466064453, 6.065902233123779, 6.087047100067139, 6.069169521331787, 6.1109747886657715, 6.122252941131592, 6.118255615234375, 6.0965800285339355]\n",
            "val_mae [0.9714332818984985, 0.969582736492157, 0.9676455855369568, 0.9658417701721191, 0.9647077918052673, 0.9631741642951965, 0.9624986052513123, 0.9612458944320679, 0.9605460166931152, 0.9593738317489624, 0.958631157875061, 0.9576258063316345, 0.9564998745918274, 0.95635986328125, 0.9558122754096985, 0.9548802971839905, 0.95314621925354, 0.9518985152244568, 0.9514084458351135, 0.9502817392349243, 0.9487408995628357, 0.9480569362640381, 0.9487242698669434, 0.9481522440910339, 0.9481552243232727, 0.9474722146987915, 0.9476221203804016, 0.948080837726593, 0.9475138187408447, 0.9471452832221985, 0.9470362067222595, 0.9460127949714661, 0.946204662322998, 0.946694552898407, 0.9473927021026611, 0.9470430612564087, 0.9461569786071777, 0.9452400207519531, 0.9438472390174866, 0.9416367411613464, 0.9414086937904358, 0.9406161904335022, 0.9387527108192444, 0.9371144771575928, 0.9376391172409058, 0.9367304444313049, 0.935952365398407, 0.9356377720832825, 0.935347855091095, 0.9345431923866272, 0.9341187477111816, 0.9328582286834717, 0.9325848817825317, 0.9315756559371948, 0.9299607872962952, 0.928665041923523, 0.9279029965400696, 0.9272501468658447, 0.9254518747329712, 0.9260256886482239, 0.9244657158851624, 0.9239645004272461, 0.9250925779342651, 0.9247042536735535, 0.924216091632843, 0.9236127734184265, 0.9225260019302368, 0.9207282662391663, 0.9202872514724731, 0.9177522659301758, 0.9163012504577637, 0.9147899150848389, 0.915695071220398, 0.9157418012619019, 0.9147128462791443, 0.9129728078842163, 0.9124558568000793, 0.9134570360183716, 0.9138186573982239, 0.911261260509491, 0.9107663631439209, 0.91009521484375, 0.9093121886253357, 0.9069666266441345, 0.9067080616950989, 0.9052391052246094, 0.9053720235824585, 0.9063857197761536, 0.9061129689216614, 0.9051775932312012, 0.9046295881271362, 0.9034522771835327, 0.9038661122322083, 0.9039954543113708, 0.9032596945762634, 0.9028838872909546, 0.9029616713523865, 0.9044137001037598, 0.9042677283287048, 0.9043622016906738, 0.904005765914917, 0.9035764932632446, 0.9023100137710571, 0.9021630883216858, 0.9019412398338318, 0.8995558619499207, 0.900037407875061, 0.9016360640525818, 0.9017978310585022, 0.9023458957672119, 0.9014573693275452, 0.900604248046875, 0.899345338344574, 0.8974880576133728, 0.8960563540458679, 0.8960667252540588, 0.8953603506088257, 0.8938390612602234, 0.8936046957969666, 0.893113911151886, 0.894048810005188, 0.8916717767715454, 0.8907656669616699, 0.8897002935409546, 0.8882764577865601, 0.8856260180473328, 0.8862313628196716, 0.8870962858200073, 0.8864561319351196, 0.8861147165298462, 0.8848845958709717, 0.8849145770072937, 0.8867929577827454, 0.8864526152610779, 0.8856309056282043, 0.88519287109375, 0.8849353790283203, 0.8843182325363159, 0.8818699717521667, 0.8815004825592041, 0.8813504576683044, 0.8796497583389282, 0.8806558847427368, 0.8792359828948975, 0.8812577128410339, 0.8817218542098999, 0.8814850449562073, 0.8807082176208496, 0.8793482780456543, 0.8776361346244812, 0.8753482103347778, 0.875267505645752, 0.8733751773834229, 0.8710365891456604, 0.8702782988548279, 0.8706104755401611, 0.8706048130989075, 0.8705747127532959, 0.8707764148712158, 0.8718606233596802, 0.8707900047302246, 0.8724830746650696, 0.8737983703613281, 0.8731620907783508, 0.8724790215492249]\n",
            "val_mape [114.08634185791016, 114.5121841430664, 114.75192260742188, 114.79613494873047, 114.55960845947266, 114.73453521728516, 114.7171630859375, 114.78199005126953, 114.7323226928711, 114.78062438964844, 115.00360870361328, 115.24449920654297, 115.46503448486328, 115.47025299072266, 115.8514633178711, 116.11759948730469, 116.56434631347656, 117.07714080810547, 117.80615997314453, 118.84212493896484, 121.00090026855469, 123.37496948242188, 125.43157196044922, 127.01074981689453, 127.82311248779297, 128.36412048339844, 129.7747039794922, 130.57962036132812, 131.47349548339844, 131.83538818359375, 131.84469604492188, 132.11981201171875, 134.25775146484375, 134.41685485839844, 133.8113555908203, 133.87603759765625, 134.6290283203125, 134.71856689453125, 135.18040466308594, 134.9008026123047, 134.71878051757812, 134.5975341796875, 133.2873992919922, 133.9938507080078, 133.32894897460938, 132.82850646972656, 132.2687530517578, 131.94728088378906, 131.27076721191406, 132.406494140625, 134.21798706054688, 133.6527557373047, 133.9679718017578, 132.72479248046875, 132.19680786132812, 132.4772186279297, 133.4216766357422, 133.21768188476562, 133.79693603515625, 133.9906463623047, 133.2190704345703, 135.44491577148438, 135.8072509765625, 135.82623291015625, 135.4875946044922, 136.65228271484375, 136.32806396484375, 137.2452850341797, 136.87362670898438, 137.357666015625, 137.97109985351562, 137.35995483398438, 136.73434448242188, 135.2978515625, 135.47181701660156, 136.69017028808594, 136.18258666992188, 134.81675720214844, 135.56521606445312, 136.87518310546875, 138.28468322753906, 137.59109497070312, 137.7214813232422, 140.33135986328125, 138.41343688964844, 137.90420532226562, 137.98500061035156, 137.75926208496094, 138.1973876953125, 139.40444946289062, 139.67831420898438, 139.44979858398438, 140.05030822753906, 138.09835815429688, 136.685302734375, 137.0724639892578, 139.5105438232422, 141.69732666015625, 140.9070587158203, 139.8689422607422, 140.4678955078125, 139.26953125, 140.78250122070312, 139.20065307617188, 139.05319213867188, 137.02239990234375, 137.9019317626953, 136.5316925048828, 134.54815673828125, 133.19496154785156, 134.89398193359375, 137.3505096435547, 139.20298767089844, 138.64576721191406, 139.37335205078125, 137.4283905029297, 136.2912139892578, 137.404296875, 138.5833740234375, 138.87086486816406, 137.7823028564453, 139.38645935058594, 138.39511108398438, 139.39093017578125, 140.93247985839844, 140.56211853027344, 138.89845275878906, 137.80747985839844, 137.71376037597656, 138.90980529785156, 139.27301025390625, 140.1142578125, 138.4250030517578, 138.87811279296875, 138.90261840820312, 139.43785095214844, 139.12538146972656, 137.31793212890625, 139.1821746826172, 139.9524688720703, 138.49497985839844, 139.21302795410156, 137.47593688964844, 138.47909545898438, 137.75726318359375, 138.25489807128906, 138.9409942626953, 140.25559997558594, 138.93304443359375, 137.154296875, 139.0102081298828, 140.19631958007812, 142.28073120117188, 142.75294494628906, 143.09877014160156, 142.25096130371094, 142.82516479492188, 142.4584503173828, 145.2294921875, 144.4401397705078, 144.8419647216797, 139.99366760253906, 138.9454345703125, 140.8704833984375, 142.38931274414062]\n"
          ]
        }
      ]
    },
    {
      "cell_type": "code",
      "source": [
        "print (\"Dict key-value are : \")\n",
        "for i in enumerate(history_5_1.history.items()):\n",
        "    print (i)"
      ],
      "metadata": {
        "colab": {
          "base_uri": "https://localhost:8080/"
        },
        "id": "ue3uFZP7aLfV",
        "outputId": "cb5ae90c-7289-428b-a20b-9d73d53fd81b"
      },
      "execution_count": null,
      "outputs": [
        {
          "output_type": "stream",
          "name": "stdout",
          "text": [
            "Dict key-value are : \n",
            "(0, ('loss', [0.5561032295227051, 0.599965512752533, 0.5727571845054626, 0.5853535532951355, 0.572195827960968, 0.6057645678520203, 0.7154065370559692, 0.5831663608551025, 0.5449534058570862, 0.5170917510986328, 0.5397329926490784, 0.5070592761039734, 0.5040320754051208, 0.5371047258377075, 0.5510883331298828, 0.5090973377227783, 0.5048242211341858, 0.48919087648391724, 0.4759109914302826, 0.5267165899276733, 0.46239057183265686, 0.5133925676345825, 0.49979013204574585, 0.44342684745788574, 0.46871039271354675, 0.6287029981613159, 0.4584386646747589, 0.4378873407840729, 0.46384769678115845, 0.5435317754745483, 0.45379525423049927, 0.45105621218681335, 0.4796868860721588, 0.4659671485424042, 0.4540005624294281, 0.46561774611473083, 0.4605269134044647, 0.5367909669876099, 0.4239926040172577, 0.4356895983219147, 0.4544668197631836, 0.42511871457099915, 0.4048503339290619, 0.5414429903030396, 0.4274463653564453, 0.37266021966934204, 0.4896402060985565, 0.4858139455318451, 0.3948025107383728, 0.4270934760570526, 0.3966345489025116, 0.4225606918334961, 0.44269219040870667, 0.39148661494255066, 0.47487011551856995, 0.4887015223503113, 0.4932500720024109, 0.48156028985977173, 0.37394142150878906, 0.4923822581768036, 0.43809714913368225, 0.4018353223800659, 0.5493208765983582, 0.40199699997901917, 0.5295320153236389, 0.38409197330474854, 0.49309659004211426, 0.4479316174983978, 0.3864874243736267, 0.40004241466522217, 0.38795676827430725, 0.42764976620674133, 0.37646353244781494, 0.37776148319244385, 0.37740838527679443, 0.41393253207206726, 0.3834657669067383, 0.35106340050697327, 0.38614708185195923, 0.39603495597839355, 0.4097825288772583, 0.34928739070892334, 0.428803414106369, 0.39191004633903503, 0.3789873719215393, 0.35861149430274963, 0.39110830426216125, 0.3266370892524719, 0.3984226584434509, 0.41172146797180176, 0.43890243768692017, 0.42208731174468994, 0.5631141662597656, 0.34516504406929016, 0.31776130199432373, 0.35301896929740906, 0.5545093417167664, 0.475868284702301, 0.36857250332832336, 0.3407105505466461, 0.4145730435848236, 0.38643878698349, 0.3358350694179535, 0.4769500494003296, 0.3764200806617737, 0.530968964099884, 0.42518922686576843, 0.37079837918281555, 0.3473820984363556, 0.35261890292167664, 0.374164879322052, 0.3624633252620697, 0.3603998124599457, 0.3380984961986542, 0.34173035621643066, 0.32677921652793884, 0.34470391273498535, 0.4056992530822754, 0.33313608169555664, 0.5036397576332092, 0.3335452377796173, 0.37858930230140686, 0.39207547903060913, 0.384468674659729, 0.34846919775009155, 0.3476298749446869, 0.33539676666259766, 0.33898472785949707, 0.3341871201992035, 0.35734713077545166, 0.38622432947158813, 0.3715454936027527, 0.4107625186443329, 0.4641055762767792, 0.3190021812915802, 0.3538089990615845, 0.4504663050174713, 0.3887450098991394, 0.37657180428504944, 0.3968282639980316, 0.34873247146606445, 0.4396814703941345, 0.3289346396923065, 0.4763467311859131, 0.323457807302475, 0.3321198523044586, 0.40973755717277527, 0.34630677103996277, 0.35623598098754883, 0.3521561920642853, 0.3260098099708557, 0.3289853632450104, 0.3195623457431793, 0.3724552094936371, 0.38566648960113525, 0.3212186396121979, 0.3425177037715912, 0.33119407296180725, 0.37269213795661926, 0.3479459285736084, 0.337964802980423, 0.31129661202430725, 0.35284197330474854, 0.4842642545700073, 0.32518628239631653]))\n",
            "(1, ('mse', [0.5561032295227051, 0.599965512752533, 0.5727571845054626, 0.5853535532951355, 0.572195827960968, 0.6057645678520203, 0.7154065370559692, 0.5831663608551025, 0.5449534058570862, 0.5170917510986328, 0.5397329926490784, 0.5070592761039734, 0.5040320754051208, 0.5371047258377075, 0.5510883331298828, 0.5090973377227783, 0.5048242211341858, 0.48919087648391724, 0.4759109914302826, 0.5267165899276733, 0.46239057183265686, 0.5133925676345825, 0.49979013204574585, 0.44342684745788574, 0.46871039271354675, 0.6287029981613159, 0.4584386646747589, 0.4378873407840729, 0.46384769678115845, 0.5435317754745483, 0.45379525423049927, 0.45105621218681335, 0.4796868860721588, 0.4659671485424042, 0.4540005624294281, 0.46561774611473083, 0.4605269134044647, 0.5367909669876099, 0.4239926040172577, 0.4356895983219147, 0.4544668197631836, 0.42511871457099915, 0.4048503339290619, 0.5414429903030396, 0.4274463653564453, 0.37266021966934204, 0.4896402060985565, 0.4858139455318451, 0.3948025107383728, 0.4270934760570526, 0.3966345489025116, 0.4225606918334961, 0.44269219040870667, 0.39148661494255066, 0.47487011551856995, 0.4887015223503113, 0.4932500720024109, 0.48156028985977173, 0.37394142150878906, 0.4923822581768036, 0.43809714913368225, 0.4018353223800659, 0.5493208765983582, 0.40199699997901917, 0.5295320153236389, 0.38409197330474854, 0.49309659004211426, 0.4479316174983978, 0.3864874243736267, 0.40004241466522217, 0.38795676827430725, 0.42764976620674133, 0.37646353244781494, 0.37776148319244385, 0.37740838527679443, 0.41393253207206726, 0.3834657669067383, 0.35106340050697327, 0.38614708185195923, 0.39603495597839355, 0.4097825288772583, 0.34928739070892334, 0.428803414106369, 0.39191004633903503, 0.3789873719215393, 0.35861149430274963, 0.39110830426216125, 0.3266370892524719, 0.3984226584434509, 0.41172146797180176, 0.43890243768692017, 0.42208731174468994, 0.5631141662597656, 0.34516504406929016, 0.31776130199432373, 0.35301896929740906, 0.5545093417167664, 0.475868284702301, 0.36857250332832336, 0.3407105505466461, 0.4145730435848236, 0.38643878698349, 0.3358350694179535, 0.4769500494003296, 0.3764200508594513, 0.530968964099884, 0.42518922686576843, 0.37079837918281555, 0.3473820984363556, 0.35261890292167664, 0.374164879322052, 0.3624633252620697, 0.3603998124599457, 0.3380984961986542, 0.34173035621643066, 0.32677921652793884, 0.34470391273498535, 0.4056992530822754, 0.33313608169555664, 0.5036397576332092, 0.3335452377796173, 0.37858930230140686, 0.39207547903060913, 0.38446861505508423, 0.34846919775009155, 0.3476298749446869, 0.33539676666259766, 0.33898472785949707, 0.3341871201992035, 0.35734716057777405, 0.38622432947158813, 0.3715454936027527, 0.4107625186443329, 0.4641055762767792, 0.3190021812915802, 0.3538089990615845, 0.4504663050174713, 0.3887450098991394, 0.37657180428504944, 0.3968282639980316, 0.34873247146606445, 0.4396814703941345, 0.3289346396923065, 0.4763467311859131, 0.323457807302475, 0.3321198523044586, 0.40973755717277527, 0.34630677103996277, 0.35623598098754883, 0.3521561920642853, 0.3260098099708557, 0.3289853632450104, 0.3195623457431793, 0.3724552094936371, 0.38566648960113525, 0.3212186396121979, 0.3425177037715912, 0.33119407296180725, 0.37269213795661926, 0.3479459285736084, 0.337964802980423, 0.31129661202430725, 0.35284197330474854, 0.4842642545700073, 0.32518628239631653]))\n",
            "(2, ('mae', [0.5760472416877747, 0.5877110362052917, 0.579241156578064, 0.5706967115402222, 0.5679866075515747, 0.560330331325531, 0.5768377184867859, 0.5689530372619629, 0.5568822622299194, 0.5475326180458069, 0.5551621913909912, 0.5510904788970947, 0.544491708278656, 0.5582324266433716, 0.5567668080329895, 0.530296266078949, 0.5389158725738525, 0.5368369817733765, 0.5243903994560242, 0.5401288866996765, 0.5202075242996216, 0.5316815972328186, 0.5435523986816406, 0.5144394636154175, 0.5252870917320251, 0.5450435280799866, 0.5112659335136414, 0.5149834156036377, 0.5303060412406921, 0.529507577419281, 0.5149261355400085, 0.5153522491455078, 0.5060819983482361, 0.5192981362342834, 0.5112780332565308, 0.5137268900871277, 0.515950620174408, 0.5129544734954834, 0.5052180886268616, 0.502385139465332, 0.5029085874557495, 0.48397397994995117, 0.48292165994644165, 0.5157931447029114, 0.49322983622550964, 0.4755375385284424, 0.5067487359046936, 0.5037288665771484, 0.4809083938598633, 0.4892560541629791, 0.4847926199436188, 0.49362102150917053, 0.4902609586715698, 0.47339189052581787, 0.4965042769908905, 0.49386635422706604, 0.4938717186450958, 0.48249348998069763, 0.4792584776878357, 0.4819459021091461, 0.47267305850982666, 0.466071754693985, 0.49786216020584106, 0.46967437863349915, 0.5034471154212952, 0.4664686918258667, 0.4699416756629944, 0.47048890590667725, 0.4635007083415985, 0.4774511158466339, 0.46105101704597473, 0.4668642580509186, 0.45619314908981323, 0.4618626534938812, 0.45966875553131104, 0.46326500177383423, 0.4491051733493805, 0.4510096609592438, 0.460784375667572, 0.46008214354515076, 0.4581947326660156, 0.4434625506401062, 0.45632466673851013, 0.44847241044044495, 0.44564491510391235, 0.4475967586040497, 0.4409061670303345, 0.4234936535358429, 0.4490768611431122, 0.45120173692703247, 0.45062994956970215, 0.4589730501174927, 0.46898403763771057, 0.4421231150627136, 0.41909804940223694, 0.4291740357875824, 0.4625178575515747, 0.4392908215522766, 0.43444839119911194, 0.4368137717247009, 0.4558211863040924, 0.44606560468673706, 0.42655038833618164, 0.432248592376709, 0.43777021765708923, 0.45723757147789, 0.4315261244773865, 0.45007842779159546, 0.4389271140098572, 0.4405960142612457, 0.4387478828430176, 0.42890235781669617, 0.44080850481987, 0.4305351674556732, 0.4278762638568878, 0.4302690923213959, 0.4325426518917084, 0.4370863139629364, 0.4305688738822937, 0.44097474217414856, 0.42338448762893677, 0.4397183656692505, 0.44733092188835144, 0.44339725375175476, 0.43377840518951416, 0.4384208023548126, 0.431348592042923, 0.43539324402809143, 0.42420753836631775, 0.44322627782821655, 0.43396449089050293, 0.4365244209766388, 0.4343450367450714, 0.450441837310791, 0.41750848293304443, 0.4334770143032074, 0.45513254404067993, 0.44149431586265564, 0.43299612402915955, 0.42142513394355774, 0.42542222142219543, 0.4336428642272949, 0.4271179437637329, 0.44552019238471985, 0.4226955771446228, 0.41878965497016907, 0.42617613077163696, 0.4232056438922882, 0.42357051372528076, 0.4303847849369049, 0.4160397946834564, 0.4175153374671936, 0.417125940322876, 0.4169880449771881, 0.4420180916786194, 0.4221203327178955, 0.43253666162490845, 0.43439361453056335, 0.4231520891189575, 0.43128323554992676, 0.4247509241104126, 0.4200294017791748, 0.431606650352478, 0.45421406626701355, 0.42583468556404114]))\n",
            "(3, ('mape', [126.45206451416016, 125.19639587402344, 124.08624267578125, 131.44204711914062, 126.65554809570312, 122.89701080322266, 128.3365020751953, 128.2768096923828, 127.71605682373047, 123.36347198486328, 132.04879760742188, 127.96287536621094, 128.79490661621094, 136.17111206054688, 125.38250732421875, 118.62787628173828, 126.41545104980469, 130.4037628173828, 128.26431274414062, 134.8083038330078, 129.79136657714844, 131.48342895507812, 144.46519470214844, 131.82269287109375, 136.9187774658203, 138.02671813964844, 130.0131072998047, 140.15733337402344, 146.98268127441406, 144.58404541015625, 134.14942932128906, 133.68687438964844, 134.32302856445312, 136.396728515625, 142.7354278564453, 141.31591796875, 148.3860321044922, 139.20462036132812, 147.56654357910156, 143.24606323242188, 145.08126831054688, 129.7460174560547, 139.8234405517578, 144.32464599609375, 139.2760467529297, 138.56216430664062, 143.79275512695312, 143.94552612304688, 138.56277465820312, 139.96038818359375, 136.3466796875, 145.9124755859375, 143.49517822265625, 138.89027404785156, 145.63368225097656, 134.57379150390625, 138.64585876464844, 135.2028045654297, 143.1590118408203, 138.80758666992188, 139.7228546142578, 139.2714080810547, 147.945556640625, 144.66207885742188, 149.3341827392578, 139.5852508544922, 140.21578979492188, 142.14112854003906, 138.35107421875, 143.871826171875, 141.09620666503906, 144.20924377441406, 138.92010498046875, 139.443603515625, 138.9777069091797, 140.1934051513672, 135.4308624267578, 137.21261596679688, 138.83749389648438, 142.0424346923828, 139.5177764892578, 137.35047912597656, 138.7595977783203, 138.85104370117188, 139.73753356933594, 136.52024841308594, 141.1446075439453, 137.09805297851562, 136.71463012695312, 135.1688232421875, 132.8200225830078, 140.77310180664062, 133.94589233398438, 142.5739288330078, 130.94760131835938, 133.15310668945312, 146.9849395751953, 129.5725860595703, 134.4046173095703, 142.38563537597656, 134.31007385253906, 137.57472229003906, 133.69012451171875, 137.22132873535156, 139.76136779785156, 143.98484802246094, 129.1914825439453, 144.58665466308594, 138.20608520507812, 136.05941772460938, 136.1717071533203, 133.2490692138672, 133.3056182861328, 129.333251953125, 139.22787475585938, 138.0834503173828, 137.02565002441406, 135.8446807861328, 131.66259765625, 134.88845825195312, 135.46847534179688, 132.05479431152344, 139.1083526611328, 132.0126190185547, 143.43032836914062, 147.91783142089844, 131.02764892578125, 142.6380157470703, 133.3510284423828, 137.5438232421875, 134.06326293945312, 145.39024353027344, 136.7466278076172, 139.98162841796875, 130.9911651611328, 132.63417053222656, 142.70143127441406, 141.58953857421875, 135.08628845214844, 128.9554443359375, 127.8182373046875, 139.4574432373047, 139.12562561035156, 143.94912719726562, 126.52818298339844, 136.13844299316406, 130.4183807373047, 130.1732940673828, 146.52891540527344, 138.470947265625, 131.4274139404297, 135.6118621826172, 137.6881561279297, 136.2587890625, 144.87130737304688, 142.03285217285156, 138.67727661132812, 140.75360107421875, 130.6942596435547, 140.71994018554688, 139.3529815673828, 134.90757751464844, 146.21385192871094, 141.34051513671875, 140.70237731933594]))\n",
            "(4, ('val_loss', [7.021328926086426, 7.0117974281311035, 7.002536296844482, 6.991617679595947, 6.987250804901123, 6.975225925445557, 6.970874309539795, 6.960676193237305, 6.9547529220581055, 6.944879055023193, 6.9376654624938965, 6.927215576171875, 6.9157938957214355, 6.913372993469238, 6.906991958618164, 6.898252964019775, 6.882930278778076, 6.872410297393799, 6.866599082946777, 6.855020523071289, 6.832011699676514, 6.816592693328857, 6.812524795532227, 6.797667026519775, 6.792958736419678, 6.782728672027588, 6.775823593139648, 6.775681018829346, 6.762593746185303, 6.753337860107422, 6.750843524932861, 6.738790988922119, 6.730047702789307, 6.7355732917785645, 6.747684001922607, 6.741870403289795, 6.7319111824035645, 6.725754737854004, 6.71577262878418, 6.701580047607422, 6.700143337249756, 6.696835041046143, 6.689450263977051, 6.667336940765381, 6.6706767082214355, 6.662200927734375, 6.662382125854492, 6.666961669921875, 6.668564319610596, 6.651731014251709, 6.638111114501953, 6.631193161010742, 6.623630523681641, 6.622772693634033, 6.610408782958984, 6.596207618713379, 6.588305950164795, 6.579692840576172, 6.554652690887451, 6.561923027038574, 6.5495524406433105, 6.536945343017578, 6.548717975616455, 6.545775413513184, 6.542940139770508, 6.537999153137207, 6.530928134918213, 6.510300636291504, 6.509242534637451, 6.488665580749512, 6.475100040435791, 6.4615912437438965, 6.47739839553833, 6.485743522644043, 6.479873180389404, 6.4662933349609375, 6.457412242889404, 6.475336074829102, 6.485411167144775, 6.465808868408203, 6.45670223236084, 6.454048156738281, 6.452092170715332, 6.420187473297119, 6.430265426635742, 6.417612075805664, 6.39793062210083, 6.398541450500488, 6.39328145980835, 6.378190040588379, 6.369534492492676, 6.3527116775512695, 6.335637092590332, 6.342762470245361, 6.340535640716553, 6.3508524894714355, 6.336502552032471, 6.3423848152160645, 6.347670078277588, 6.349409580230713, 6.347818374633789, 6.342983722686768, 6.329164505004883, 6.328714370727539, 6.320106029510498, 6.2969770431518555, 6.288367748260498, 6.311616897583008, 6.326315402984619, 6.340795993804932, 6.315305233001709, 6.292558193206787, 6.274559020996094, 6.27551794052124, 6.270357608795166, 6.289548873901367, 6.287988185882568, 6.260338306427002, 6.2497148513793945, 6.245166778564453, 6.27352237701416, 6.245301246643066, 6.235753536224365, 6.225039005279541, 6.203362464904785, 6.171582221984863, 6.177397727966309, 6.185247421264648, 6.185826301574707, 6.182843208312988, 6.17279052734375, 6.169508934020996, 6.194825172424316, 6.1860857009887695, 6.1800856590271, 6.179147243499756, 6.169827938079834, 6.1637349128723145, 6.141549587249756, 6.143678188323975, 6.154881000518799, 6.140384674072266, 6.160952091217041, 6.150139331817627, 6.171547889709473, 6.174062252044678, 6.184686183929443, 6.180038928985596, 6.17523717880249, 6.1775946617126465, 6.138298988342285, 6.123654365539551, 6.09719181060791, 6.063708782196045, 6.054677486419678, 6.073408603668213, 6.070456027984619, 6.076221466064453, 6.065902233123779, 6.087047100067139, 6.069169521331787, 6.1109747886657715, 6.122252941131592, 6.118255615234375, 6.0965800285339355]))\n",
            "(5, ('val_mse', [7.021328926086426, 7.0117974281311035, 7.002536296844482, 6.991617679595947, 6.987250804901123, 6.975225925445557, 6.970874309539795, 6.960676193237305, 6.9547529220581055, 6.944879055023193, 6.9376654624938965, 6.927215576171875, 6.9157938957214355, 6.913372993469238, 6.906991958618164, 6.898252964019775, 6.882929801940918, 6.872410297393799, 6.866599082946777, 6.855020523071289, 6.832011699676514, 6.816592216491699, 6.812524795532227, 6.797667026519775, 6.792958736419678, 6.782728672027588, 6.775823593139648, 6.775681018829346, 6.762593746185303, 6.753337860107422, 6.750843524932861, 6.738790988922119, 6.730047702789307, 6.7355732917785645, 6.747684478759766, 6.741870880126953, 6.7319111824035645, 6.725754261016846, 6.71577262878418, 6.701580047607422, 6.700143337249756, 6.696835041046143, 6.689450263977051, 6.667336940765381, 6.6706767082214355, 6.662200927734375, 6.662381649017334, 6.666961669921875, 6.668564319610596, 6.651731014251709, 6.638111114501953, 6.631192684173584, 6.623630523681641, 6.622772693634033, 6.610408782958984, 6.596207618713379, 6.588305950164795, 6.57969331741333, 6.554652690887451, 6.561923027038574, 6.5495524406433105, 6.536945819854736, 6.548717975616455, 6.545775413513184, 6.542940139770508, 6.537999153137207, 6.530928134918213, 6.510300636291504, 6.509242534637451, 6.488665580749512, 6.475100040435791, 6.4615912437438965, 6.47739839553833, 6.485743522644043, 6.479873180389404, 6.4662933349609375, 6.457412242889404, 6.475336074829102, 6.485411167144775, 6.465808868408203, 6.45670223236084, 6.454048156738281, 6.452092170715332, 6.420187473297119, 6.430265426635742, 6.417612075805664, 6.39793062210083, 6.398541450500488, 6.39328145980835, 6.378190040588379, 6.369534492492676, 6.3527116775512695, 6.335637092590332, 6.342762470245361, 6.340535640716553, 6.3508524894714355, 6.336503028869629, 6.3423848152160645, 6.347670078277588, 6.349409580230713, 6.347818374633789, 6.342983722686768, 6.329164505004883, 6.328714370727539, 6.320106029510498, 6.2969770431518555, 6.288367748260498, 6.311617374420166, 6.326315402984619, 6.340795993804932, 6.315305233001709, 6.292558193206787, 6.274559020996094, 6.27551794052124, 6.270357608795166, 6.289548873901367, 6.287988185882568, 6.260338306427002, 6.2497148513793945, 6.245166778564453, 6.27352237701416, 6.245301246643066, 6.235753059387207, 6.225039005279541, 6.203362464904785, 6.171582221984863, 6.177397727966309, 6.185247421264648, 6.185826301574707, 6.182843208312988, 6.17279052734375, 6.169508934020996, 6.194825172424316, 6.1860857009887695, 6.1800856590271, 6.179147243499756, 6.169827938079834, 6.1637349128723145, 6.141549587249756, 6.143678188323975, 6.154881000518799, 6.140384674072266, 6.160952091217041, 6.150139331817627, 6.171547889709473, 6.174062252044678, 6.184686183929443, 6.180038928985596, 6.17523717880249, 6.1775946617126465, 6.138298988342285, 6.123654365539551, 6.09719181060791, 6.063708782196045, 6.054677486419678, 6.073408603668213, 6.070456027984619, 6.076221466064453, 6.065902233123779, 6.087047100067139, 6.069169521331787, 6.1109747886657715, 6.122252941131592, 6.118255615234375, 6.0965800285339355]))\n",
            "(6, ('val_mae', [0.9714332818984985, 0.969582736492157, 0.9676455855369568, 0.9658417701721191, 0.9647077918052673, 0.9631741642951965, 0.9624986052513123, 0.9612458944320679, 0.9605460166931152, 0.9593738317489624, 0.958631157875061, 0.9576258063316345, 0.9564998745918274, 0.95635986328125, 0.9558122754096985, 0.9548802971839905, 0.95314621925354, 0.9518985152244568, 0.9514084458351135, 0.9502817392349243, 0.9487408995628357, 0.9480569362640381, 0.9487242698669434, 0.9481522440910339, 0.9481552243232727, 0.9474722146987915, 0.9476221203804016, 0.948080837726593, 0.9475138187408447, 0.9471452832221985, 0.9470362067222595, 0.9460127949714661, 0.946204662322998, 0.946694552898407, 0.9473927021026611, 0.9470430612564087, 0.9461569786071777, 0.9452400207519531, 0.9438472390174866, 0.9416367411613464, 0.9414086937904358, 0.9406161904335022, 0.9387527108192444, 0.9371144771575928, 0.9376391172409058, 0.9367304444313049, 0.935952365398407, 0.9356377720832825, 0.935347855091095, 0.9345431923866272, 0.9341187477111816, 0.9328582286834717, 0.9325848817825317, 0.9315756559371948, 0.9299607872962952, 0.928665041923523, 0.9279029965400696, 0.9272501468658447, 0.9254518747329712, 0.9260256886482239, 0.9244657158851624, 0.9239645004272461, 0.9250925779342651, 0.9247042536735535, 0.924216091632843, 0.9236127734184265, 0.9225260019302368, 0.9207282662391663, 0.9202872514724731, 0.9177522659301758, 0.9163012504577637, 0.9147899150848389, 0.915695071220398, 0.9157418012619019, 0.9147128462791443, 0.9129728078842163, 0.9124558568000793, 0.9134570360183716, 0.9138186573982239, 0.911261260509491, 0.9107663631439209, 0.91009521484375, 0.9093121886253357, 0.9069666266441345, 0.9067080616950989, 0.9052391052246094, 0.9053720235824585, 0.9063857197761536, 0.9061129689216614, 0.9051775932312012, 0.9046295881271362, 0.9034522771835327, 0.9038661122322083, 0.9039954543113708, 0.9032596945762634, 0.9028838872909546, 0.9029616713523865, 0.9044137001037598, 0.9042677283287048, 0.9043622016906738, 0.904005765914917, 0.9035764932632446, 0.9023100137710571, 0.9021630883216858, 0.9019412398338318, 0.8995558619499207, 0.900037407875061, 0.9016360640525818, 0.9017978310585022, 0.9023458957672119, 0.9014573693275452, 0.900604248046875, 0.899345338344574, 0.8974880576133728, 0.8960563540458679, 0.8960667252540588, 0.8953603506088257, 0.8938390612602234, 0.8936046957969666, 0.893113911151886, 0.894048810005188, 0.8916717767715454, 0.8907656669616699, 0.8897002935409546, 0.8882764577865601, 0.8856260180473328, 0.8862313628196716, 0.8870962858200073, 0.8864561319351196, 0.8861147165298462, 0.8848845958709717, 0.8849145770072937, 0.8867929577827454, 0.8864526152610779, 0.8856309056282043, 0.88519287109375, 0.8849353790283203, 0.8843182325363159, 0.8818699717521667, 0.8815004825592041, 0.8813504576683044, 0.8796497583389282, 0.8806558847427368, 0.8792359828948975, 0.8812577128410339, 0.8817218542098999, 0.8814850449562073, 0.8807082176208496, 0.8793482780456543, 0.8776361346244812, 0.8753482103347778, 0.875267505645752, 0.8733751773834229, 0.8710365891456604, 0.8702782988548279, 0.8706104755401611, 0.8706048130989075, 0.8705747127532959, 0.8707764148712158, 0.8718606233596802, 0.8707900047302246, 0.8724830746650696, 0.8737983703613281, 0.8731620907783508, 0.8724790215492249]))\n",
            "(7, ('val_mape', [114.08634185791016, 114.5121841430664, 114.75192260742188, 114.79613494873047, 114.55960845947266, 114.73453521728516, 114.7171630859375, 114.78199005126953, 114.7323226928711, 114.78062438964844, 115.00360870361328, 115.24449920654297, 115.46503448486328, 115.47025299072266, 115.8514633178711, 116.11759948730469, 116.56434631347656, 117.07714080810547, 117.80615997314453, 118.84212493896484, 121.00090026855469, 123.37496948242188, 125.43157196044922, 127.01074981689453, 127.82311248779297, 128.36412048339844, 129.7747039794922, 130.57962036132812, 131.47349548339844, 131.83538818359375, 131.84469604492188, 132.11981201171875, 134.25775146484375, 134.41685485839844, 133.8113555908203, 133.87603759765625, 134.6290283203125, 134.71856689453125, 135.18040466308594, 134.9008026123047, 134.71878051757812, 134.5975341796875, 133.2873992919922, 133.9938507080078, 133.32894897460938, 132.82850646972656, 132.2687530517578, 131.94728088378906, 131.27076721191406, 132.406494140625, 134.21798706054688, 133.6527557373047, 133.9679718017578, 132.72479248046875, 132.19680786132812, 132.4772186279297, 133.4216766357422, 133.21768188476562, 133.79693603515625, 133.9906463623047, 133.2190704345703, 135.44491577148438, 135.8072509765625, 135.82623291015625, 135.4875946044922, 136.65228271484375, 136.32806396484375, 137.2452850341797, 136.87362670898438, 137.357666015625, 137.97109985351562, 137.35995483398438, 136.73434448242188, 135.2978515625, 135.47181701660156, 136.69017028808594, 136.18258666992188, 134.81675720214844, 135.56521606445312, 136.87518310546875, 138.28468322753906, 137.59109497070312, 137.7214813232422, 140.33135986328125, 138.41343688964844, 137.90420532226562, 137.98500061035156, 137.75926208496094, 138.1973876953125, 139.40444946289062, 139.67831420898438, 139.44979858398438, 140.05030822753906, 138.09835815429688, 136.685302734375, 137.0724639892578, 139.5105438232422, 141.69732666015625, 140.9070587158203, 139.8689422607422, 140.4678955078125, 139.26953125, 140.78250122070312, 139.20065307617188, 139.05319213867188, 137.02239990234375, 137.9019317626953, 136.5316925048828, 134.54815673828125, 133.19496154785156, 134.89398193359375, 137.3505096435547, 139.20298767089844, 138.64576721191406, 139.37335205078125, 137.4283905029297, 136.2912139892578, 137.404296875, 138.5833740234375, 138.87086486816406, 137.7823028564453, 139.38645935058594, 138.39511108398438, 139.39093017578125, 140.93247985839844, 140.56211853027344, 138.89845275878906, 137.80747985839844, 137.71376037597656, 138.90980529785156, 139.27301025390625, 140.1142578125, 138.4250030517578, 138.87811279296875, 138.90261840820312, 139.43785095214844, 139.12538146972656, 137.31793212890625, 139.1821746826172, 139.9524688720703, 138.49497985839844, 139.21302795410156, 137.47593688964844, 138.47909545898438, 137.75726318359375, 138.25489807128906, 138.9409942626953, 140.25559997558594, 138.93304443359375, 137.154296875, 139.0102081298828, 140.19631958007812, 142.28073120117188, 142.75294494628906, 143.09877014160156, 142.25096130371094, 142.82516479492188, 142.4584503173828, 145.2294921875, 144.4401397705078, 144.8419647216797, 139.99366760253906, 138.9454345703125, 140.8704833984375, 142.38931274414062]))\n"
          ]
        }
      ]
    },
    {
      "cell_type": "code",
      "source": [
        "plot_history(history_5_1)"
      ],
      "metadata": {
        "colab": {
          "base_uri": "https://localhost:8080/",
          "height": 295
        },
        "id": "ITlbyosHXIGV",
        "outputId": "e8db6154-3b66-4641-b539-cfdb8cf90332"
      },
      "execution_count": null,
      "outputs": [
        {
          "output_type": "display_data",
          "data": {
            "text/plain": [
              "<Figure size 432x288 with 2 Axes>"
            ],
            "image/png": "[encoded data removed]"
          },
          "metadata": {
            "needs_background": "light"
          }
        }
      ]
    },
    {
      "cell_type": "markdown",
      "source": [
        "Lets try to play with dropouts & then Regularization as was explained in::\n",
        "https://github.com/musikalkemist/DeepLearningForAudioWithPython/blob/master/14-%20Solving%20overfitting%20in%20neural%20networks/code/solving_overfitting.py\n",
        "\n",
        "https://www.youtube.com/watch?v=Gf5DO6br0ts"
      ],
      "metadata": {
        "id": "DHFXXNZQagVV"
      }
    },
    {
      "cell_type": "markdown",
      "source": [
        "First lets increase dropuout from 0.1 to 0.3 & patience = 15 from 10"
      ],
      "metadata": {
        "id": "XBsyc8awavwK"
      }
    },
    {
      "cell_type": "code",
      "source": [
        "## KHDS_KerasTuner_Optimized_NN_2 ==> from here we picked the best model with best r2 so far!!\n",
        "##PASS 10: ==> lETS replicate pass 2 --> PASS 2: This has best result so far on both test & train = R2. \n",
        "from keras.activations import linear\n",
        "batch_size = 30\n",
        "epochs = 500\n",
        "\n",
        "# build the model\n",
        "#input_dim = X_train_scaled.shape[1]\n",
        "\n",
        "lr_model_d = Sequential()\n",
        "lr_model_d.add(Dense(64, input_shape=(33,), activation=tf.nn.relu, kernel_initializer='he_uniform')) \n",
        "lr_model_d.add(Dropout(0.3))\n",
        "lr_model_d.add(Dense(512, kernel_initializer='he_uniform', activation=tf.nn.relu)) #from 64 to 128\n",
        "lr_model_d.add(Dropout(0.3))\n",
        "lr_model_d.add(Dense(128, kernel_initializer='he_uniform', activation=tf.nn.relu)) #from 64 to 128\n",
        "lr_model_d.add(Dropout(0.3))\n",
        "#lr_model_d.add(Dense(256, kernel_initializer='he_uniform', activation=tf.nn.relu)) #from 64 to 128\n",
        "#lr_model_d.add(Dropout(0.3))\n",
        "lr_model_d.add(Dense(1, kernel_initializer='he_uniform',activation='linear'))\n",
        "\n",
        "# compile the model\n",
        "#lr_model.compile(loss='mean_squared_error',optimizer=sgd)\n",
        "lr_model_d.compile(loss='mse', optimizer=tf.keras.optimizers.Adam(0.0001), metrics=['mse', 'mae', 'mape'])\n",
        "\n",
        "# Pass several parameters to 'EarlyStopping' function and assigns it to 'earlystopper'\n",
        "earlystopper = EarlyStopping(monitor='val_loss', min_delta=0, patience=15, verbose=1, mode='auto') #patience reduced to 10 from 15"
      ],
      "metadata": {
        "id": "VtUKo_UlabVr"
      },
      "execution_count": null,
      "outputs": []
    },
    {
      "cell_type": "code",
      "source": [
        "history_5_2 = lr_model_d.fit(trainX_scaled, trainy_scaled, batch_size=30, epochs = 500, validation_data=(testX_scaled, testy_scaled),shuffle = True, verbose = 0, callbacks = [earlystopper])"
      ],
      "metadata": {
        "colab": {
          "base_uri": "https://localhost:8080/"
        },
        "id": "LivIh5eba-Ox",
        "outputId": "57fed327-b70c-4b43-f5de-f1bc30987fe7"
      },
      "execution_count": null,
      "outputs": [
        {
          "output_type": "stream",
          "name": "stdout",
          "text": [
            "Epoch 70: early stopping\n"
          ]
        }
      ]
    },
    {
      "cell_type": "code",
      "source": [
        "plot_history(history_5_2)"
      ],
      "metadata": {
        "colab": {
          "base_uri": "https://localhost:8080/",
          "height": 295
        },
        "id": "1AiMZHiXbn4F",
        "outputId": "5f7a3a10-8dfc-425e-abf4-1ef82ab513be"
      },
      "execution_count": null,
      "outputs": [
        {
          "output_type": "display_data",
          "data": {
            "text/plain": [
              "<Figure size 432x288 with 2 Axes>"
            ],
            "image/png": "[encoded data removed]"
          },
          "metadata": {
            "needs_background": "light"
          }
        }
      ]
    },
    {
      "cell_type": "code",
      "source": [
        "import tensorflow.keras as keras\n",
        "from tensorflow.keras import regularizers\n",
        "#https://keras.io/api/layers/regularizers/"
      ],
      "metadata": {
        "id": "TqskmkPocCdJ"
      },
      "execution_count": null,
      "outputs": []
    },
    {
      "cell_type": "code",
      "source": [
        "## KHDS_KerasTuner_Optimized_NN_2 ==> from here we picked the best model with best r2 so far!!\n",
        "##PASS 10: ==> lETS replicate pass 2 --> PASS 2: This has best result so far on both test & train = R2. \n",
        "from keras.activations import linear\n",
        "batch_size = 30\n",
        "epochs = 500\n",
        "\n",
        "# build the model\n",
        "#input_dim = X_train_scaled.shape[1]\n",
        "\n",
        "lr_model_d = Sequential()\n",
        "#lr_model_d.add(Dense(64, input_shape=(33,), activation=tf.nn.relu, kernel_initializer='he_uniform'),kernel_regularizer=keras.regularizers.l2(0.001)) \n",
        "lr_model_d.add(Dense(64, input_shape=(33,), activation=tf.nn.relu, kernel_initializer='he_uniform', kernel_regularizer=regularizers.L1L2(l1=1e-5, l2=1e-4)))\n",
        "lr_model_d.add(Dropout(0.3))\n",
        "lr_model_d.add(Dense(512, kernel_initializer='he_uniform', activation=tf.nn.relu, kernel_regularizer=regularizers.L1L2(l1=1e-5, l2=1e-4))) #from 64 to 128\n",
        "lr_model_d.add(Dropout(0.3))\n",
        "lr_model_d.add(Dense(128, kernel_initializer='he_uniform', activation=tf.nn.relu, kernel_regularizer=regularizers.L1L2(l1=1e-5, l2=1e-4))) #from 64 to 128\n",
        "lr_model_d.add(Dropout(0.3))\n",
        "#lr_model_d.add(Dense(256, kernel_initializer='he_uniform', activation=tf.nn.relu, kernel_regularizer=regularizers.L1L2(l1=1e-5, l2=1e-4))) #from 64 to 128\n",
        "#lr_model_d.add(Dropout(0.3))\n",
        "lr_model_d.add(Dense(1, kernel_initializer='he_uniform',activation='linear'))\n",
        "\n",
        "# compile the model\n",
        "#lr_model.compile(loss='mean_squared_error',optimizer=sgd)\n",
        "lr_model_d.compile(loss='mse', optimizer=tf.keras.optimizers.Adam(0.0001), metrics=['mse', 'mae', 'mape'])\n",
        "\n",
        "# Pass several parameters to 'EarlyStopping' function and assigns it to 'earlystopper'\n",
        "earlystopper = EarlyStopping(monitor='val_loss', min_delta=0, patience=15, verbose=1, mode='auto') #patience reduced to 10 from 15"
      ],
      "metadata": {
        "id": "KGCpufmKbzBh"
      },
      "execution_count": null,
      "outputs": []
    },
    {
      "cell_type": "code",
      "source": [
        "history_5_3 = lr_model_d.fit(trainX_scaled, trainy_scaled, batch_size=30, epochs = 500, validation_data=(testX_scaled, testy_scaled),shuffle = True, verbose = 0, callbacks = [earlystopper])"
      ],
      "metadata": {
        "colab": {
          "base_uri": "https://localhost:8080/"
        },
        "id": "mAcY6FQCdd55",
        "outputId": "57260417-21ac-4c97-9c59-ceea07507e0e"
      },
      "execution_count": null,
      "outputs": [
        {
          "output_type": "stream",
          "name": "stdout",
          "text": [
            "Epoch 41: early stopping\n"
          ]
        }
      ]
    },
    {
      "cell_type": "code",
      "source": [
        "# evaluate the model\n",
        "train_mse = lr_model_d.evaluate(trainX_scaled, trainy_scaled, verbose=0)\n",
        "test_mse = lr_model_d.evaluate(testX_scaled, testy_scaled, verbose=0)\n",
        "print('Train: %.3f, Test: %.3f' % (train_mse[0], test_mse[0]))"
      ],
      "metadata": {
        "colab": {
          "base_uri": "https://localhost:8080/"
        },
        "id": "2HTDv6QfdpQV",
        "outputId": "613bd70e-e1b9-4c4a-eba4-b06141fc1a75"
      },
      "execution_count": null,
      "outputs": [
        {
          "output_type": "stream",
          "name": "stdout",
          "text": [
            "Train: 1.134, Test: 8.071\n"
          ]
        }
      ]
    },
    {
      "cell_type": "code",
      "source": [
        "plot_history(history_5_3)"
      ],
      "metadata": {
        "colab": {
          "base_uri": "https://localhost:8080/",
          "height": 295
        },
        "id": "cOXY_QI5d9OA",
        "outputId": "00c36477-2eab-49f0-cb2a-04d733e42a3e"
      },
      "execution_count": null,
      "outputs": [
        {
          "output_type": "display_data",
          "data": {
            "text/plain": [
              "<Figure size 432x288 with 2 Axes>"
            ],
            "image/png": "[encoded data removed]"
          },
          "metadata": {
            "needs_background": "light"
          }
        }
      ]
    },
    {
      "cell_type": "code",
      "source": [
        "## KHDS_KerasTuner_Optimized_NN_2 ==> from here we picked the best model with best r2 so far!!\n",
        "##PASS 10: ==> lETS replicate pass 2 --> PASS 2: This has best result so far on both test & train = R2. \n",
        "from keras.activations import linear\n",
        "batch_size = 30\n",
        "epochs = 500\n",
        "\n",
        "# build the model\n",
        "#input_dim = X_train_scaled.shape[1]\n",
        "\n",
        "lr_model_d_1 = Sequential()\n",
        "#lr_model_d_1.add(Dense(64, input_shape=(33,), activation=tf.nn.relu, kernel_initializer='he_uniform'),kernel_regularizer=keras.regularizers.l2(0.001)) \n",
        "#lr_model_d_1.add(Dense(32, input_shape=(33,), activation=tf.nn.relu, kernel_initializer='he_uniform', kernel_regularizer=regularizers.L1L2(l1=1e-5, l2=1e-4),bias_regularizer=regularizers.L2(1e-4),activity_regularizer=regularizers.L2(1e-5)))\n",
        "lr_model_d_1.add(Dense(32, input_shape=(33,), activation=tf.nn.relu))\n",
        "lr_model_d_1.add(Dropout(0.1))\n",
        "#lr_model_d_1.add(Dense(64, kernel_initializer='he_uniform', activation=tf.nn.relu, kernel_regularizer=regularizers.L1L2(l1=1e-5, l2=1e-4),bias_regularizer=regularizers.L2(1e-4),activity_regularizer=regularizers.L2(1e-5))) #from 64 to 128\n",
        "#lr_model_d_1.add(Dropout(0.3))\n",
        "#lr_model_d_1.add(Dense(64, kernel_initializer='he_uniform', activation=tf.nn.relu, kernel_regularizer=regularizers.L1L2(l1=1e-5, l2=1e-4),bias_regularizer=regularizers.L2(1e-4),activity_regularizer=regularizers.L2(1e-5))) #from 64 to 128\n",
        "#lr_model_d_1.add(Dropout(0.3))\n",
        "#lr_model_d_1.add(Dense(256, kernel_initializer='he_uniform', activation=tf.nn.relu, kernel_regularizer=regularizers.L1L2(l1=1e-5, l2=1e-4),bias_regularizer=regularizers.L2(1e-4),activity_regularizer=regularizers.L2(1e-5))) #from 64 to 128\n",
        "#lr_model_d_1.add(Dropout(0.3))\n",
        "#lr_model_d_1.add(Dense(1, kernel_initializer='he_uniform',activation='linear'))\n",
        "lr_model_d_1.add(Dense(1, ))\n",
        "\n",
        "# compile the model\n",
        "#lr_model.compile(loss='mean_squared_error',optimizer=sgd)\n",
        "#lr_model_d_1.compile(loss='mse', optimizer=tf.keras.optimizers.Adam(0.0001), metrics=['mse', 'mae', 'mape'])\n",
        "lr_model_d_1.compile(loss='mse', optimizer=tf.keras.optimizers.Adam(0.0001), metrics=['mse'])\n",
        "#lr_model_d_1.compile(loss='mse', optimizer=tf.keras.optimizers.RMSprop(0.0001), metrics=['mse', 'mae', 'mape'])\n",
        "\n",
        "# Pass several parameters to 'EarlyStopping' function and assigns it to 'earlystopper'\n",
        "earlystopper = EarlyStopping(monitor='val_loss', min_delta=0, patience=15, verbose=1, mode='auto') #patience reduced to 10 from 15"
      ],
      "metadata": {
        "id": "3a3OzPlSeFZQ"
      },
      "execution_count": null,
      "outputs": []
    },
    {
      "cell_type": "code",
      "source": [
        "#history_5_4 = lr_model_d.fit(trainX_scaled, trainy_scaled, batch_size=30, epochs = 500, validation_data=(testX_scaled, testy_scaled),shuffle = True, verbose = 0, callbacks = [earlystopper])\n",
        "history_5_4 = lr_model_d_1.fit(trainX, trainy_scaled, batch_size=30, epochs = 500, validation_data=(testX, testy_scaled),shuffle = True, verbose = 0, callbacks = [earlystopper])"
      ],
      "metadata": {
        "colab": {
          "base_uri": "https://localhost:8080/"
        },
        "id": "OBpmhrvle1Rx",
        "outputId": "38b0705d-5655-426e-c1e6-2e976620fade"
      },
      "execution_count": null,
      "outputs": [
        {
          "output_type": "stream",
          "name": "stdout",
          "text": [
            "Epoch 158: early stopping\n"
          ]
        }
      ]
    },
    {
      "cell_type": "code",
      "source": [
        "# evaluate the model\n",
        "train_mse = lr_model_d_1.evaluate(trainX, trainy_scaled, verbose=0)\n",
        "test_mse = lr_model_d_1.evaluate(testX, testy_scaled, verbose=0)\n",
        "print('Train: %.3f, Test: %.3f' % (train_mse[0], test_mse[0]))"
      ],
      "metadata": {
        "colab": {
          "base_uri": "https://localhost:8080/"
        },
        "id": "Wx1BMUkFeY5J",
        "outputId": "d9a05892-bcd6-4877-9133-bcedcafd6aba"
      },
      "execution_count": null,
      "outputs": [
        {
          "output_type": "stream",
          "name": "stdout",
          "text": [
            "Train: 77752.945, Test: 31568.818\n"
          ]
        }
      ]
    },
    {
      "cell_type": "markdown",
      "source": [
        "Train: 1.079, Test: 8.068\n",
        "Train: 1.077, Test: 8.113\n",
        "Train: 1.065, Test: 8.094\n",
        "Train: 0.668, Test: 6.771 with simplest model "
      ],
      "metadata": {
        "id": "5L8uue3rfTCU"
      }
    },
    {
      "cell_type": "code",
      "source": [
        "plot_history(history_5_4)"
      ],
      "metadata": {
        "colab": {
          "base_uri": "https://localhost:8080/",
          "height": 295
        },
        "id": "vdaoMuHye_7k",
        "outputId": "713f878b-37d6-4b8f-ce5c-3ce2718c70ca"
      },
      "execution_count": null,
      "outputs": [
        {
          "output_type": "display_data",
          "data": {
            "text/plain": [
              "<Figure size 432x288 with 2 Axes>"
            ],
            "image/png": "[encoded data removed]"
          },
          "metadata": {
            "needs_background": "light"
          }
        }
      ]
    },
    {
      "cell_type": "markdown",
      "source": [
        "Lets use from keras.wrappers.scikit_learn import KerasRegressor to build an NN.\n",
        "Basically idea is to use kfold cross validation for NN based on cross_val_score.\n",
        "\n",
        "https://machinelearningmastery.com/regression-tutorial-keras-deep-learning-library-python/"
      ],
      "metadata": {
        "id": "KdQkP5Hizp-v"
      }
    },
    {
      "cell_type": "code",
      "source": [
        "\n",
        "import pandas\n",
        "from keras.models import Sequential\n",
        "from keras.layers import Dense\n",
        "from keras.wrappers.scikit_learn import KerasRegressor\n",
        "from sklearn.model_selection import cross_val_score\n",
        "from sklearn.model_selection import KFold\n",
        "from sklearn.preprocessing import StandardScaler\n",
        "from sklearn.pipeline import Pipeline\n",
        "from keras.activations import linear\n",
        "import tensorflow.keras as keras\n",
        "from tensorflow.keras import regularizers\n",
        "import matplotlib.pyplot as plt\n",
        "from keras.models import Sequential\n",
        "from tensorflow.keras.optimizers import Adam# define model\n",
        "from keras.optimizer_v2.adam import Adam"
      ],
      "metadata": {
        "id": "AyJWXskezBHM"
      },
      "execution_count": null,
      "outputs": []
    },
    {
      "cell_type": "code",
      "source": [
        "y"
      ],
      "metadata": {
        "colab": {
          "base_uri": "https://localhost:8080/"
        },
        "id": "Ohx2Gx9tOnxS",
        "outputId": "83af2a69-7c56-44e5-ca16-9a10a953d5e9"
      },
      "execution_count": null,
      "outputs": [
        {
          "output_type": "execute_result",
          "data": {
            "text/plain": [
              "0       2.0\n",
              "1       0.5\n",
              "2       3.0\n",
              "3       4.0\n",
              "4       3.0\n",
              "       ... \n",
              "706    19.0\n",
              "707    20.0\n",
              "708    25.0\n",
              "709    28.0\n",
              "710    19.0\n",
              "Name: Product Sulphur, Length: 711, dtype: float64"
            ]
          },
          "metadata": {},
          "execution_count": 14
        }
      ]
    },
    {
      "cell_type": "code",
      "source": [
        "# define base model\n",
        "def baseline_model():\n",
        "  lr_model_d_1 = Sequential()\n",
        "  #lr_model_d_1.add(Dense(64, input_shape=(33,), activation=tf.nn.relu, kernel_initializer='he_uniform'),kernel_regularizer=keras.regularizers.l2(0.001)) \n",
        "  #lr_model_d_1.add(Dense(32, input_shape=(33,), activation=tf.nn.relu, kernel_initializer='he_uniform', kernel_regularizer=regularizers.L1L2(l1=1e-5, l2=1e-4),bias_regularizer=regularizers.L2(1e-4),activity_regularizer=regularizers.L2(1e-5)))\n",
        "  lr_model_d_1.add(Dense(32, input_shape=(33,), activation=tf.nn.relu))\n",
        "  lr_model_d_1.add(Dropout(0.1))\n",
        "  #lr_model_d_1.add(Dense(64, kernel_initializer='he_uniform', activation=tf.nn.relu, kernel_regularizer=regularizers.L1L2(l1=1e-5, l2=1e-4),bias_regularizer=regularizers.L2(1e-4),activity_regularizer=regularizers.L2(1e-5))) #from 64 to 128\n",
        "  lr_model_d_1.add(Dense(64, kernel_initializer='he_uniform', activation=tf.nn.relu))\n",
        "  lr_model_d_1.add(Dropout(0.1))\n",
        "  #lr_model_d_1.add(Dense(64, kernel_initializer='he_uniform', activation=tf.nn.relu, kernel_regularizer=regularizers.L1L2(l1=1e-5, l2=1e-4),bias_regularizer=regularizers.L2(1e-4),activity_regularizer=regularizers.L2(1e-5))) #from 64 to 128\n",
        "  #lr_model_d_1.add(Dropout(0.3))\n",
        "  #lr_model_d_1.add(Dense(256, kernel_initializer='he_uniform', activation=tf.nn.relu, kernel_regularizer=regularizers.L1L2(l1=1e-5, l2=1e-4),bias_regularizer=regularizers.L2(1e-4),activity_regularizer=regularizers.L2(1e-5))) #from 64 to 128\n",
        "  #lr_model_d_1.add(Dropout(0.3))\n",
        "  lr_model_d_1.add(Dense(1, kernel_initializer='he_uniform',activation='linear'))\n",
        "  #lr_model_d_1.add(Dense(1, ))\n",
        "  # Compile model\n",
        "  lr_model_d_1.compile(loss='mean_squared_error', optimizer='adam')\n",
        "  return lr_model_d_1"
      ],
      "metadata": {
        "id": "ocB34nqhzsNW"
      },
      "execution_count": null,
      "outputs": []
    },
    {
      "cell_type": "code",
      "source": [
        "# evaluate model\n",
        "estimator = KerasRegressor(build_fn=baseline_model, epochs=100, batch_size=5, verbose=0, shuffle=False)\n",
        "kfold = KFold(n_splits=10)\n",
        "results = cross_val_score(estimator, X, y, cv=kfold)\n",
        "print(\"Baseline: %.2f (%.2f) MSE\" % (results.mean(), results.std()))"
      ],
      "metadata": {
        "colab": {
          "base_uri": "https://localhost:8080/"
        },
        "id": "euAY43Xez1b4",
        "outputId": "773bffb0-3a81-47c4-a913-b9ada610bceb"
      },
      "execution_count": null,
      "outputs": [
        {
          "output_type": "stream",
          "name": "stdout",
          "text": [
            "Baseline: -6330.64 (18721.69) MSE\n"
          ]
        }
      ]
    },
    {
      "cell_type": "markdown",
      "source": [
        "Best score so far :: Baseline: -34.48 (35.34) MSE"
      ],
      "metadata": {
        "id": "beWate4A51n4"
      }
    },
    {
      "cell_type": "code",
      "source": [
        "import numpy as np\n",
        "estimator.fit(X, y)\n",
        "prediction = estimator.predict(X)\n",
        "\n",
        "train_error =  np.abs(y - prediction)\n",
        "mean_error = np.mean(train_error)\n",
        "min_error = np.min(train_error)\n",
        "max_error = np.max(train_error)\n",
        "std_error = np.std(train_error)"
      ],
      "metadata": {
        "id": "YYbrertBQNpw"
      },
      "execution_count": null,
      "outputs": []
    },
    {
      "cell_type": "code",
      "source": [
        "print(\"mean error\" , mean_error , min_error , max_error , std_error)"
      ],
      "metadata": {
        "colab": {
          "base_uri": "https://localhost:8080/"
        },
        "id": "2HSPuHR7RKDI",
        "outputId": "2181fc51-0dff-4ee8-b407-36fbee0fdfda"
      },
      "execution_count": null,
      "outputs": [
        {
          "output_type": "stream",
          "name": "stdout",
          "text": [
            "mean error 2.9515584695858963 0.038472008705139116 81.52578711509705 4.459649962295211\n"
          ]
        }
      ]
    },
    {
      "cell_type": "code",
      "source": [
        "from sklearn import metrics\n",
        "score = np.sqrt(metrics.mean_squared_error(prediction,y))\n",
        "print(f\"Before save score (RMSE): {score}\")\n",
        "# Measure MSE error.  \n",
        "score = metrics.mean_squared_error(prediction,y)\n",
        "print(\"Final score (MSE): {}\".format(score))\n",
        "score1 = metrics.mean_absolute_error(prediction,y)\n",
        "print(\"Final score (MAE): {}\".format(score1))\n",
        "score2 = metrics.r2_score(prediction,y)\n",
        "print(\"Final score (R2): {}\".format(score2))\n",
        "score3 = metrics.mean_absolute_percentage_error(prediction,y)\n",
        "print(\"Final score (MAPE): {}\".format(score3))\n",
        "#score4 = metrics.mean_squared_log_error(predicted_y_scaled,testy_scaled)\n",
        "#print(\"Final score (MSLE): {}\".format(score4))\n",
        "#score5 = metrics.log_loss(predicted_y_scaled,testy_scaled)"
      ],
      "metadata": {
        "colab": {
          "base_uri": "https://localhost:8080/"
        },
        "id": "mr-l_c-gSrdt",
        "outputId": "9eabcc04-b4f3-4a15-bd2f-d59c33a84be9"
      },
      "execution_count": null,
      "outputs": [
        {
          "output_type": "stream",
          "name": "stdout",
          "text": [
            "Before save score (RMSE): 5.347913161746728\n",
            "Final score (MSE): 28.600175185583886\n",
            "Final score (MAE): 2.9515584695858963\n",
            "Final score (R2): -244.30781906197856\n",
            "Final score (MAPE): 2.1024515310739944\n"
          ]
        }
      ]
    },
    {
      "cell_type": "code",
      "source": [
        "model = baseline_model()\n",
        "model.fit(X, y, epochs=100, batch_size=5, verbose=False, shuffle=False)\n",
        "prediction_base = model.predict(X)"
      ],
      "metadata": {
        "id": "t7ZKCD13SGGH"
      },
      "execution_count": null,
      "outputs": []
    },
    {
      "cell_type": "code",
      "source": [
        "from sklearn import metrics\n",
        "score = np.sqrt(metrics.mean_squared_error(prediction_base,y))\n",
        "print(f\"Before save score (RMSE): {score}\")\n",
        "# Measure MSE error.  \n",
        "score = metrics.mean_squared_error(prediction_base,y)\n",
        "print(\"Final score (MSE): {}\".format(score))\n",
        "score1 = metrics.mean_absolute_error(prediction_base,y)\n",
        "print(\"Final score (MAE): {}\".format(score1))\n",
        "score2 = metrics.r2_score(prediction_base,y)\n",
        "print(\"Final score (R2): {}\".format(score2))\n",
        "score3 = metrics.mean_absolute_percentage_error(prediction_base,y)\n",
        "print(\"Final score (MAPE): {}\".format(score3))\n",
        "#score4 = metrics.mean_squared_log_error(predicted_y_scaled,testy_scaled)\n",
        "#print(\"Final score (MSLE): {}\".format(score4))\n",
        "#score5 = metrics.log_loss(predicted_y_scaled,testy_scaled)"
      ],
      "metadata": {
        "colab": {
          "base_uri": "https://localhost:8080/"
        },
        "id": "DWw2ifLWTQm2",
        "outputId": "93d613c0-ca62-4393-835f-5e437a6e7fe3"
      },
      "execution_count": null,
      "outputs": [
        {
          "output_type": "stream",
          "name": "stdout",
          "text": [
            "Before save score (RMSE): 5.780737420736676\n",
            "Final score (MSE): 33.416925127505316\n",
            "Final score (MAE): 3.4334662339858366\n",
            "Final score (R2): -19.340798911724722\n",
            "Final score (MAPE): 3.8025718884170088\n"
          ]
        }
      ]
    },
    {
      "cell_type": "code",
      "source": [
        "y = y.to_numpy()\n",
        "y = y.reshape(-1,1)\n",
        "#trainy = trainy.to_numpy()\n",
        "#trainy = trainy.reshape(-1,1)"
      ],
      "metadata": {
        "id": "b-mNGk_Evxd4"
      },
      "execution_count": null,
      "outputs": []
    },
    {
      "cell_type": "code",
      "source": [
        "#from sklearn.preprocessing import StandardScaler\n",
        "#import numpy as np\n",
        "# created scaler for only X predictors\n",
        "input_scaler = StandardScaler()\n",
        "# fit scaler on training dataset\n",
        "# fit scaler\n",
        "input_scaler.fit(y)\n",
        "# transform training dataset\n",
        "y_scaled = input_scaler.transform(y)\n",
        "# transform test dataset\n",
        "#testX_scaled = input_scaler.transform(testX)"
      ],
      "metadata": {
        "id": "VMvvHVMXwL-w"
      },
      "execution_count": null,
      "outputs": []
    },
    {
      "cell_type": "code",
      "source": [
        "#from sklearn.preprocessing import StandardScaler\n",
        "#import numpy as np\n",
        "# created scaler for only X predictors\n",
        "input_scaler = StandardScaler()\n",
        "# fit scaler on training dataset\n",
        "# fit scaler\n",
        "input_scaler.fit(X)\n",
        "# transform training dataset\n",
        "X_scaled = input_scaler.transform(X)\n",
        "# transform test dataset\n",
        "#testX_scaled = input_scaler.transform(testX)"
      ],
      "metadata": {
        "id": "Myiey2J9wU0Y"
      },
      "execution_count": null,
      "outputs": []
    },
    {
      "cell_type": "code",
      "source": [
        "# evaluate model ==#callbacks=[EarlyStopping(monitor='val_loss', patience=20)])\n",
        "earlystopper = EarlyStopping(monitor='val_loss', min_delta=0, patience=15, verbose=1, mode='auto') #patience reduced to 10 from 15\n",
        "#estimator = KerasRegressor(build_fn=baseline_model, epochs=100, batch_size=5, verbose=0, shuffle=False)\n",
        "#history_5_4 = lr_model_d.fit(trainX_scaled, trainy_scaled, batch_size=30, epochs = 500, validation_data=(testX_scaled, testy_scaled),shuffle = True, verbose = 0, callbacks = [earlystopper])\n",
        "#history_5_4 = lr_model_d_1.fit(trainX, trainy_scaled, batch_size=30, epochs = 500, validation_data=(testX, testy_scaled),shuffle = True, verbose = 0, callbacks = [earlystopper])\n",
        "#estimator = KerasRegressor(build_fn=baseline_model, epochs=100, batch_size=5, verbose=0, shuffle=False,callbacks=[EarlyStopping(monitor='val_loss', patience=20)])\n",
        "estimator = KerasRegressor(build_fn=baseline_model, epochs=100, batch_size=5, verbose=0, shuffle=False,callbacks=[earlystopper])\n",
        "kfold = KFold(n_splits=10)\n",
        "results = cross_val_score(estimator, X_scaled, y_scaled, cv=kfold)\n",
        "print(\"Baseline: %.2f (%.2f) MSE\" % (results.mean(), results.std()))"
      ],
      "metadata": {
        "colab": {
          "base_uri": "https://localhost:8080/"
        },
        "id": "fSJF990zw-5h",
        "outputId": "a80fa7e1-7347-42d0-f454-2dea08155272"
      },
      "execution_count": null,
      "outputs": [
        {
          "output_type": "stream",
          "name": "stdout",
          "text": [
            "WARNING:tensorflow:Early stopping conditioned on metric `val_loss` which is not available. Available metrics are: loss\n",
            "WARNING:tensorflow:Early stopping conditioned on metric `val_loss` which is not available. Available metrics are: loss\n",
            "WARNING:tensorflow:Early stopping conditioned on metric `val_loss` which is not available. Available metrics are: loss\n",
            "WARNING:tensorflow:Early stopping conditioned on metric `val_loss` which is not available. Available metrics are: loss\n",
            "WARNING:tensorflow:Early stopping conditioned on metric `val_loss` which is not available. Available metrics are: loss\n",
            "WARNING:tensorflow:Early stopping conditioned on metric `val_loss` which is not available. Available metrics are: loss\n",
            "WARNING:tensorflow:Early stopping conditioned on metric `val_loss` which is not available. Available metrics are: loss\n",
            "WARNING:tensorflow:Early stopping conditioned on metric `val_loss` which is not available. Available metrics are: loss\n",
            "WARNING:tensorflow:Early stopping conditioned on metric `val_loss` which is not available. Available metrics are: loss\n",
            "WARNING:tensorflow:Early stopping conditioned on metric `val_loss` which is not available. Available metrics are: loss\n",
            "WARNING:tensorflow:Early stopping conditioned on metric `val_loss` which is not available. Available metrics are: loss\n",
            "WARNING:tensorflow:Early stopping conditioned on metric `val_loss` which is not available. Available metrics are: loss\n",
            "WARNING:tensorflow:Early stopping conditioned on metric `val_loss` which is not available. Available metrics are: loss\n",
            "WARNING:tensorflow:Early stopping conditioned on metric `val_loss` which is not available. Available metrics are: loss\n",
            "WARNING:tensorflow:Early stopping conditioned on metric `val_loss` which is not available. Available metrics are: loss\n",
            "WARNING:tensorflow:Early stopping conditioned on metric `val_loss` which is not available. Available metrics are: loss\n",
            "WARNING:tensorflow:Early stopping conditioned on metric `val_loss` which is not available. Available metrics are: loss\n",
            "WARNING:tensorflow:Early stopping conditioned on metric `val_loss` which is not available. Available metrics are: loss\n",
            "WARNING:tensorflow:Early stopping conditioned on metric `val_loss` which is not available. Available metrics are: loss\n",
            "WARNING:tensorflow:Early stopping conditioned on metric `val_loss` which is not available. Available metrics are: loss\n",
            "WARNING:tensorflow:Early stopping conditioned on metric `val_loss` which is not available. Available metrics are: loss\n",
            "WARNING:tensorflow:Early stopping conditioned on metric `val_loss` which is not available. Available metrics are: loss\n",
            "WARNING:tensorflow:Early stopping conditioned on metric `val_loss` which is not available. Available metrics are: loss\n",
            "WARNING:tensorflow:Early stopping conditioned on metric `val_loss` which is not available. Available metrics are: loss\n",
            "WARNING:tensorflow:Early stopping conditioned on metric `val_loss` which is not available. Available metrics are: loss\n",
            "WARNING:tensorflow:Early stopping conditioned on metric `val_loss` which is not available. Available metrics are: loss\n",
            "WARNING:tensorflow:Early stopping conditioned on metric `val_loss` which is not available. Available metrics are: loss\n",
            "WARNING:tensorflow:Early stopping conditioned on metric `val_loss` which is not available. Available metrics are: loss\n",
            "WARNING:tensorflow:Early stopping conditioned on metric `val_loss` which is not available. Available metrics are: loss\n",
            "WARNING:tensorflow:Early stopping conditioned on metric `val_loss` which is not available. Available metrics are: loss\n",
            "WARNING:tensorflow:Early stopping conditioned on metric `val_loss` which is not available. Available metrics are: loss\n",
            "WARNING:tensorflow:Early stopping conditioned on metric `val_loss` which is not available. Available metrics are: loss\n",
            "WARNING:tensorflow:Early stopping conditioned on metric `val_loss` which is not available. Available metrics are: loss\n",
            "WARNING:tensorflow:Early stopping conditioned on metric `val_loss` which is not available. Available metrics are: loss\n",
            "WARNING:tensorflow:Early stopping conditioned on metric `val_loss` which is not available. Available metrics are: loss\n",
            "WARNING:tensorflow:Early stopping conditioned on metric `val_loss` which is not available. Available metrics are: loss\n",
            "WARNING:tensorflow:Early stopping conditioned on metric `val_loss` which is not available. Available metrics are: loss\n",
            "WARNING:tensorflow:Early stopping conditioned on metric `val_loss` which is not available. Available metrics are: loss\n",
            "WARNING:tensorflow:Early stopping conditioned on metric `val_loss` which is not available. Available metrics are: loss\n",
            "WARNING:tensorflow:Early stopping conditioned on metric `val_loss` which is not available. Available metrics are: loss\n",
            "WARNING:tensorflow:Early stopping conditioned on metric `val_loss` which is not available. Available metrics are: loss\n",
            "WARNING:tensorflow:Early stopping conditioned on metric `val_loss` which is not available. Available metrics are: loss\n",
            "WARNING:tensorflow:Early stopping conditioned on metric `val_loss` which is not available. Available metrics are: loss\n",
            "WARNING:tensorflow:Early stopping conditioned on metric `val_loss` which is not available. Available metrics are: loss\n",
            "WARNING:tensorflow:Early stopping conditioned on metric `val_loss` which is not available. Available metrics are: loss\n",
            "WARNING:tensorflow:Early stopping conditioned on metric `val_loss` which is not available. Available metrics are: loss\n",
            "WARNING:tensorflow:Early stopping conditioned on metric `val_loss` which is not available. Available metrics are: loss\n",
            "WARNING:tensorflow:Early stopping conditioned on metric `val_loss` which is not available. Available metrics are: loss\n",
            "WARNING:tensorflow:Early stopping conditioned on metric `val_loss` which is not available. Available metrics are: loss\n",
            "WARNING:tensorflow:Early stopping conditioned on metric `val_loss` which is not available. Available metrics are: loss\n",
            "WARNING:tensorflow:Early stopping conditioned on metric `val_loss` which is not available. Available metrics are: loss\n",
            "WARNING:tensorflow:Early stopping conditioned on metric `val_loss` which is not available. Available metrics are: loss\n",
            "WARNING:tensorflow:Early stopping conditioned on metric `val_loss` which is not available. Available metrics are: loss\n",
            "WARNING:tensorflow:Early stopping conditioned on metric `val_loss` which is not available. Available metrics are: loss\n",
            "WARNING:tensorflow:Early stopping conditioned on metric `val_loss` which is not available. Available metrics are: loss\n",
            "WARNING:tensorflow:Early stopping conditioned on metric `val_loss` which is not available. Available metrics are: loss\n",
            "WARNING:tensorflow:Early stopping conditioned on metric `val_loss` which is not available. Available metrics are: loss\n",
            "WARNING:tensorflow:Early stopping conditioned on metric `val_loss` which is not available. Available metrics are: loss\n",
            "WARNING:tensorflow:Early stopping conditioned on metric `val_loss` which is not available. Available metrics are: loss\n",
            "WARNING:tensorflow:Early stopping conditioned on metric `val_loss` which is not available. Available metrics are: loss\n",
            "WARNING:tensorflow:Early stopping conditioned on metric `val_loss` which is not available. Available metrics are: loss\n",
            "WARNING:tensorflow:Early stopping conditioned on metric `val_loss` which is not available. Available metrics are: loss\n",
            "WARNING:tensorflow:Early stopping conditioned on metric `val_loss` which is not available. Available metrics are: loss\n",
            "WARNING:tensorflow:Early stopping conditioned on metric `val_loss` which is not available. Available metrics are: loss\n",
            "WARNING:tensorflow:Early stopping conditioned on metric `val_loss` which is not available. Available metrics are: loss\n",
            "WARNING:tensorflow:Early stopping conditioned on metric `val_loss` which is not available. Available metrics are: loss\n",
            "WARNING:tensorflow:Early stopping conditioned on metric `val_loss` which is not available. Available metrics are: loss\n",
            "WARNING:tensorflow:Early stopping conditioned on metric `val_loss` which is not available. Available metrics are: loss\n",
            "WARNING:tensorflow:Early stopping conditioned on metric `val_loss` which is not available. Available metrics are: loss\n",
            "WARNING:tensorflow:Early stopping conditioned on metric `val_loss` which is not available. Available metrics are: loss\n",
            "WARNING:tensorflow:Early stopping conditioned on metric `val_loss` which is not available. Available metrics are: loss\n",
            "WARNING:tensorflow:Early stopping conditioned on metric `val_loss` which is not available. Available metrics are: loss\n",
            "WARNING:tensorflow:Early stopping conditioned on metric `val_loss` which is not available. Available metrics are: loss\n",
            "WARNING:tensorflow:Early stopping conditioned on metric `val_loss` which is not available. Available metrics are: loss\n",
            "WARNING:tensorflow:Early stopping conditioned on metric `val_loss` which is not available. Available metrics are: loss\n",
            "WARNING:tensorflow:Early stopping conditioned on metric `val_loss` which is not available. Available metrics are: loss\n",
            "WARNING:tensorflow:Early stopping conditioned on metric `val_loss` which is not available. Available metrics are: loss\n",
            "WARNING:tensorflow:Early stopping conditioned on metric `val_loss` which is not available. Available metrics are: loss\n",
            "WARNING:tensorflow:Early stopping conditioned on metric `val_loss` which is not available. Available metrics are: loss\n",
            "WARNING:tensorflow:Early stopping conditioned on metric `val_loss` which is not available. Available metrics are: loss\n",
            "WARNING:tensorflow:Early stopping conditioned on metric `val_loss` which is not available. Available metrics are: loss\n",
            "WARNING:tensorflow:Early stopping conditioned on metric `val_loss` which is not available. Available metrics are: loss\n",
            "WARNING:tensorflow:Early stopping conditioned on metric `val_loss` which is not available. Available metrics are: loss\n",
            "WARNING:tensorflow:Early stopping conditioned on metric `val_loss` which is not available. Available metrics are: loss\n",
            "WARNING:tensorflow:Early stopping conditioned on metric `val_loss` which is not available. Available metrics are: loss\n",
            "WARNING:tensorflow:Early stopping conditioned on metric `val_loss` which is not available. Available metrics are: loss\n",
            "WARNING:tensorflow:Early stopping conditioned on metric `val_loss` which is not available. Available metrics are: loss\n",
            "WARNING:tensorflow:Early stopping conditioned on metric `val_loss` which is not available. Available metrics are: loss\n",
            "WARNING:tensorflow:Early stopping conditioned on metric `val_loss` which is not available. Available metrics are: loss\n",
            "WARNING:tensorflow:Early stopping conditioned on metric `val_loss` which is not available. Available metrics are: loss\n",
            "WARNING:tensorflow:Early stopping conditioned on metric `val_loss` which is not available. Available metrics are: loss\n",
            "WARNING:tensorflow:Early stopping conditioned on metric `val_loss` which is not available. Available metrics are: loss\n",
            "WARNING:tensorflow:Early stopping conditioned on metric `val_loss` which is not available. Available metrics are: loss\n",
            "WARNING:tensorflow:Early stopping conditioned on metric `val_loss` which is not available. Available metrics are: loss\n",
            "WARNING:tensorflow:Early stopping conditioned on metric `val_loss` which is not available. Available metrics are: loss\n",
            "WARNING:tensorflow:Early stopping conditioned on metric `val_loss` which is not available. Available metrics are: loss\n",
            "WARNING:tensorflow:Early stopping conditioned on metric `val_loss` which is not available. Available metrics are: loss\n",
            "WARNING:tensorflow:Early stopping conditioned on metric `val_loss` which is not available. Available metrics are: loss\n",
            "WARNING:tensorflow:Early stopping conditioned on metric `val_loss` which is not available. Available metrics are: loss\n",
            "WARNING:tensorflow:Early stopping conditioned on metric `val_loss` which is not available. Available metrics are: loss\n",
            "WARNING:tensorflow:Early stopping conditioned on metric `val_loss` which is not available. Available metrics are: loss\n",
            "WARNING:tensorflow:Early stopping conditioned on metric `val_loss` which is not available. Available metrics are: loss\n",
            "WARNING:tensorflow:Early stopping conditioned on metric `val_loss` which is not available. Available metrics are: loss\n",
            "WARNING:tensorflow:Early stopping conditioned on metric `val_loss` which is not available. Available metrics are: loss\n",
            "WARNING:tensorflow:Early stopping conditioned on metric `val_loss` which is not available. Available metrics are: loss\n",
            "WARNING:tensorflow:Early stopping conditioned on metric `val_loss` which is not available. Available metrics are: loss\n",
            "WARNING:tensorflow:Early stopping conditioned on metric `val_loss` which is not available. Available metrics are: loss\n",
            "WARNING:tensorflow:Early stopping conditioned on metric `val_loss` which is not available. Available metrics are: loss\n",
            "WARNING:tensorflow:Early stopping conditioned on metric `val_loss` which is not available. Available metrics are: loss\n",
            "WARNING:tensorflow:Early stopping conditioned on metric `val_loss` which is not available. Available metrics are: loss\n",
            "WARNING:tensorflow:Early stopping conditioned on metric `val_loss` which is not available. Available metrics are: loss\n",
            "WARNING:tensorflow:Early stopping conditioned on metric `val_loss` which is not available. Available metrics are: loss\n",
            "WARNING:tensorflow:Early stopping conditioned on metric `val_loss` which is not available. Available metrics are: loss\n",
            "WARNING:tensorflow:Early stopping conditioned on metric `val_loss` which is not available. Available metrics are: loss\n",
            "WARNING:tensorflow:Early stopping conditioned on metric `val_loss` which is not available. Available metrics are: loss\n",
            "WARNING:tensorflow:Early stopping conditioned on metric `val_loss` which is not available. Available metrics are: loss\n",
            "WARNING:tensorflow:Early stopping conditioned on metric `val_loss` which is not available. Available metrics are: loss\n",
            "WARNING:tensorflow:Early stopping conditioned on metric `val_loss` which is not available. Available metrics are: loss\n",
            "WARNING:tensorflow:Early stopping conditioned on metric `val_loss` which is not available. Available metrics are: loss\n",
            "WARNING:tensorflow:Early stopping conditioned on metric `val_loss` which is not available. Available metrics are: loss\n",
            "WARNING:tensorflow:Early stopping conditioned on metric `val_loss` which is not available. Available metrics are: loss\n",
            "WARNING:tensorflow:Early stopping conditioned on metric `val_loss` which is not available. Available metrics are: loss\n",
            "WARNING:tensorflow:Early stopping conditioned on metric `val_loss` which is not available. Available metrics are: loss\n",
            "WARNING:tensorflow:Early stopping conditioned on metric `val_loss` which is not available. Available metrics are: loss\n",
            "WARNING:tensorflow:Early stopping conditioned on metric `val_loss` which is not available. Available metrics are: loss\n",
            "WARNING:tensorflow:Early stopping conditioned on metric `val_loss` which is not available. Available metrics are: loss\n",
            "WARNING:tensorflow:Early stopping conditioned on metric `val_loss` which is not available. Available metrics are: loss\n",
            "WARNING:tensorflow:Early stopping conditioned on metric `val_loss` which is not available. Available metrics are: loss\n",
            "WARNING:tensorflow:Early stopping conditioned on metric `val_loss` which is not available. Available metrics are: loss\n",
            "WARNING:tensorflow:Early stopping conditioned on metric `val_loss` which is not available. Available metrics are: loss\n",
            "WARNING:tensorflow:Early stopping conditioned on metric `val_loss` which is not available. Available metrics are: loss\n",
            "WARNING:tensorflow:Early stopping conditioned on metric `val_loss` which is not available. Available metrics are: loss\n",
            "WARNING:tensorflow:Early stopping conditioned on metric `val_loss` which is not available. Available metrics are: loss\n",
            "WARNING:tensorflow:Early stopping conditioned on metric `val_loss` which is not available. Available metrics are: loss\n",
            "WARNING:tensorflow:Early stopping conditioned on metric `val_loss` which is not available. Available metrics are: loss\n",
            "WARNING:tensorflow:Early stopping conditioned on metric `val_loss` which is not available. Available metrics are: loss\n",
            "WARNING:tensorflow:Early stopping conditioned on metric `val_loss` which is not available. Available metrics are: loss\n",
            "WARNING:tensorflow:Early stopping conditioned on metric `val_loss` which is not available. Available metrics are: loss\n",
            "WARNING:tensorflow:Early stopping conditioned on metric `val_loss` which is not available. Available metrics are: loss\n",
            "WARNING:tensorflow:Early stopping conditioned on metric `val_loss` which is not available. Available metrics are: loss\n",
            "WARNING:tensorflow:Early stopping conditioned on metric `val_loss` which is not available. Available metrics are: loss\n",
            "WARNING:tensorflow:Early stopping conditioned on metric `val_loss` which is not available. Available metrics are: loss\n",
            "WARNING:tensorflow:Early stopping conditioned on metric `val_loss` which is not available. Available metrics are: loss\n",
            "WARNING:tensorflow:Early stopping conditioned on metric `val_loss` which is not available. Available metrics are: loss\n",
            "WARNING:tensorflow:Early stopping conditioned on metric `val_loss` which is not available. Available metrics are: loss\n",
            "WARNING:tensorflow:Early stopping conditioned on metric `val_loss` which is not available. Available metrics are: loss\n",
            "WARNING:tensorflow:Early stopping conditioned on metric `val_loss` which is not available. Available metrics are: loss\n",
            "WARNING:tensorflow:Early stopping conditioned on metric `val_loss` which is not available. Available metrics are: loss\n",
            "WARNING:tensorflow:Early stopping conditioned on metric `val_loss` which is not available. Available metrics are: loss\n",
            "WARNING:tensorflow:Early stopping conditioned on metric `val_loss` which is not available. Available metrics are: loss\n",
            "WARNING:tensorflow:Early stopping conditioned on metric `val_loss` which is not available. Available metrics are: loss\n",
            "WARNING:tensorflow:Early stopping conditioned on metric `val_loss` which is not available. Available metrics are: loss\n",
            "WARNING:tensorflow:Early stopping conditioned on metric `val_loss` which is not available. Available metrics are: loss\n",
            "WARNING:tensorflow:Early stopping conditioned on metric `val_loss` which is not available. Available metrics are: loss\n",
            "WARNING:tensorflow:Early stopping conditioned on metric `val_loss` which is not available. Available metrics are: loss\n",
            "WARNING:tensorflow:Early stopping conditioned on metric `val_loss` which is not available. Available metrics are: loss\n",
            "WARNING:tensorflow:Early stopping conditioned on metric `val_loss` which is not available. Available metrics are: loss\n",
            "WARNING:tensorflow:Early stopping conditioned on metric `val_loss` which is not available. Available metrics are: loss\n",
            "WARNING:tensorflow:Early stopping conditioned on metric `val_loss` which is not available. Available metrics are: loss\n",
            "WARNING:tensorflow:Early stopping conditioned on metric `val_loss` which is not available. Available metrics are: loss\n",
            "WARNING:tensorflow:Early stopping conditioned on metric `val_loss` which is not available. Available metrics are: loss\n",
            "WARNING:tensorflow:Early stopping conditioned on metric `val_loss` which is not available. Available metrics are: loss\n",
            "WARNING:tensorflow:Early stopping conditioned on metric `val_loss` which is not available. Available metrics are: loss\n",
            "WARNING:tensorflow:Early stopping conditioned on metric `val_loss` which is not available. Available metrics are: loss\n",
            "WARNING:tensorflow:Early stopping conditioned on metric `val_loss` which is not available. Available metrics are: loss\n",
            "WARNING:tensorflow:Early stopping conditioned on metric `val_loss` which is not available. Available metrics are: loss\n",
            "WARNING:tensorflow:Early stopping conditioned on metric `val_loss` which is not available. Available metrics are: loss\n",
            "WARNING:tensorflow:Early stopping conditioned on metric `val_loss` which is not available. Available metrics are: loss\n",
            "WARNING:tensorflow:Early stopping conditioned on metric `val_loss` which is not available. Available metrics are: loss\n",
            "WARNING:tensorflow:Early stopping conditioned on metric `val_loss` which is not available. Available metrics are: loss\n",
            "WARNING:tensorflow:Early stopping conditioned on metric `val_loss` which is not available. Available metrics are: loss\n",
            "WARNING:tensorflow:Early stopping conditioned on metric `val_loss` which is not available. Available metrics are: loss\n",
            "WARNING:tensorflow:Early stopping conditioned on metric `val_loss` which is not available. Available metrics are: loss\n",
            "WARNING:tensorflow:Early stopping conditioned on metric `val_loss` which is not available. Available metrics are: loss\n",
            "WARNING:tensorflow:Early stopping conditioned on metric `val_loss` which is not available. Available metrics are: loss\n",
            "WARNING:tensorflow:Early stopping conditioned on metric `val_loss` which is not available. Available metrics are: loss\n",
            "WARNING:tensorflow:Early stopping conditioned on metric `val_loss` which is not available. Available metrics are: loss\n",
            "WARNING:tensorflow:Early stopping conditioned on metric `val_loss` which is not available. Available metrics are: loss\n",
            "WARNING:tensorflow:Early stopping conditioned on metric `val_loss` which is not available. Available metrics are: loss\n",
            "WARNING:tensorflow:Early stopping conditioned on metric `val_loss` which is not available. Available metrics are: loss\n",
            "WARNING:tensorflow:Early stopping conditioned on metric `val_loss` which is not available. Available metrics are: loss\n",
            "WARNING:tensorflow:Early stopping conditioned on metric `val_loss` which is not available. Available metrics are: loss\n",
            "WARNING:tensorflow:Early stopping conditioned on metric `val_loss` which is not available. Available metrics are: loss\n",
            "WARNING:tensorflow:Early stopping conditioned on metric `val_loss` which is not available. Available metrics are: loss\n",
            "WARNING:tensorflow:Early stopping conditioned on metric `val_loss` which is not available. Available metrics are: loss\n",
            "WARNING:tensorflow:Early stopping conditioned on metric `val_loss` which is not available. Available metrics are: loss\n",
            "WARNING:tensorflow:Early stopping conditioned on metric `val_loss` which is not available. Available metrics are: loss\n",
            "WARNING:tensorflow:Early stopping conditioned on metric `val_loss` which is not available. Available metrics are: loss\n",
            "WARNING:tensorflow:Early stopping conditioned on metric `val_loss` which is not available. Available metrics are: loss\n",
            "WARNING:tensorflow:Early stopping conditioned on metric `val_loss` which is not available. Available metrics are: loss\n",
            "WARNING:tensorflow:Early stopping conditioned on metric `val_loss` which is not available. Available metrics are: loss\n",
            "WARNING:tensorflow:Early stopping conditioned on metric `val_loss` which is not available. Available metrics are: loss\n",
            "WARNING:tensorflow:Early stopping conditioned on metric `val_loss` which is not available. Available metrics are: loss\n",
            "WARNING:tensorflow:Early stopping conditioned on metric `val_loss` which is not available. Available metrics are: loss\n",
            "WARNING:tensorflow:Early stopping conditioned on metric `val_loss` which is not available. Available metrics are: loss\n",
            "WARNING:tensorflow:Early stopping conditioned on metric `val_loss` which is not available. Available metrics are: loss\n",
            "WARNING:tensorflow:Early stopping conditioned on metric `val_loss` which is not available. Available metrics are: loss\n",
            "WARNING:tensorflow:Early stopping conditioned on metric `val_loss` which is not available. Available metrics are: loss\n",
            "WARNING:tensorflow:Early stopping conditioned on metric `val_loss` which is not available. Available metrics are: loss\n",
            "WARNING:tensorflow:Early stopping conditioned on metric `val_loss` which is not available. Available metrics are: loss\n",
            "WARNING:tensorflow:Early stopping conditioned on metric `val_loss` which is not available. Available metrics are: loss\n",
            "WARNING:tensorflow:Early stopping conditioned on metric `val_loss` which is not available. Available metrics are: loss\n",
            "WARNING:tensorflow:Early stopping conditioned on metric `val_loss` which is not available. Available metrics are: loss\n",
            "WARNING:tensorflow:Early stopping conditioned on metric `val_loss` which is not available. Available metrics are: loss\n",
            "WARNING:tensorflow:Early stopping conditioned on metric `val_loss` which is not available. Available metrics are: loss\n",
            "WARNING:tensorflow:Early stopping conditioned on metric `val_loss` which is not available. Available metrics are: loss\n",
            "WARNING:tensorflow:Early stopping conditioned on metric `val_loss` which is not available. Available metrics are: loss\n",
            "WARNING:tensorflow:Early stopping conditioned on metric `val_loss` which is not available. Available metrics are: loss\n",
            "WARNING:tensorflow:Early stopping conditioned on metric `val_loss` which is not available. Available metrics are: loss\n",
            "WARNING:tensorflow:Early stopping conditioned on metric `val_loss` which is not available. Available metrics are: loss\n",
            "WARNING:tensorflow:Early stopping conditioned on metric `val_loss` which is not available. Available metrics are: loss\n",
            "WARNING:tensorflow:Early stopping conditioned on metric `val_loss` which is not available. Available metrics are: loss\n",
            "WARNING:tensorflow:Early stopping conditioned on metric `val_loss` which is not available. Available metrics are: loss\n",
            "WARNING:tensorflow:Early stopping conditioned on metric `val_loss` which is not available. Available metrics are: loss\n",
            "WARNING:tensorflow:Early stopping conditioned on metric `val_loss` which is not available. Available metrics are: loss\n",
            "WARNING:tensorflow:Early stopping conditioned on metric `val_loss` which is not available. Available metrics are: loss\n",
            "WARNING:tensorflow:Early stopping conditioned on metric `val_loss` which is not available. Available metrics are: loss\n",
            "WARNING:tensorflow:Early stopping conditioned on metric `val_loss` which is not available. Available metrics are: loss\n",
            "WARNING:tensorflow:Early stopping conditioned on metric `val_loss` which is not available. Available metrics are: loss\n",
            "WARNING:tensorflow:Early stopping conditioned on metric `val_loss` which is not available. Available metrics are: loss\n",
            "WARNING:tensorflow:Early stopping conditioned on metric `val_loss` which is not available. Available metrics are: loss\n",
            "WARNING:tensorflow:Early stopping conditioned on metric `val_loss` which is not available. Available metrics are: loss\n",
            "WARNING:tensorflow:Early stopping conditioned on metric `val_loss` which is not available. Available metrics are: loss\n",
            "WARNING:tensorflow:Early stopping conditioned on metric `val_loss` which is not available. Available metrics are: loss\n",
            "WARNING:tensorflow:Early stopping conditioned on metric `val_loss` which is not available. Available metrics are: loss\n",
            "WARNING:tensorflow:Early stopping conditioned on metric `val_loss` which is not available. Available metrics are: loss\n",
            "WARNING:tensorflow:Early stopping conditioned on metric `val_loss` which is not available. Available metrics are: loss\n",
            "WARNING:tensorflow:Early stopping conditioned on metric `val_loss` which is not available. Available metrics are: loss\n",
            "WARNING:tensorflow:Early stopping conditioned on metric `val_loss` which is not available. Available metrics are: loss\n",
            "WARNING:tensorflow:Early stopping conditioned on metric `val_loss` which is not available. Available metrics are: loss\n",
            "WARNING:tensorflow:Early stopping conditioned on metric `val_loss` which is not available. Available metrics are: loss\n",
            "WARNING:tensorflow:Early stopping conditioned on metric `val_loss` which is not available. Available metrics are: loss\n",
            "WARNING:tensorflow:Early stopping conditioned on metric `val_loss` which is not available. Available metrics are: loss\n",
            "WARNING:tensorflow:Early stopping conditioned on metric `val_loss` which is not available. Available metrics are: loss\n",
            "WARNING:tensorflow:Early stopping conditioned on metric `val_loss` which is not available. Available metrics are: loss\n",
            "WARNING:tensorflow:Early stopping conditioned on metric `val_loss` which is not available. Available metrics are: loss\n",
            "WARNING:tensorflow:Early stopping conditioned on metric `val_loss` which is not available. Available metrics are: loss\n",
            "WARNING:tensorflow:Early stopping conditioned on metric `val_loss` which is not available. Available metrics are: loss\n",
            "WARNING:tensorflow:Early stopping conditioned on metric `val_loss` which is not available. Available metrics are: loss\n",
            "WARNING:tensorflow:Early stopping conditioned on metric `val_loss` which is not available. Available metrics are: loss\n",
            "WARNING:tensorflow:Early stopping conditioned on metric `val_loss` which is not available. Available metrics are: loss\n",
            "WARNING:tensorflow:Early stopping conditioned on metric `val_loss` which is not available. Available metrics are: loss\n",
            "WARNING:tensorflow:Early stopping conditioned on metric `val_loss` which is not available. Available metrics are: loss\n",
            "WARNING:tensorflow:Early stopping conditioned on metric `val_loss` which is not available. Available metrics are: loss\n",
            "WARNING:tensorflow:Early stopping conditioned on metric `val_loss` which is not available. Available metrics are: loss\n",
            "WARNING:tensorflow:Early stopping conditioned on metric `val_loss` which is not available. Available metrics are: loss\n",
            "WARNING:tensorflow:Early stopping conditioned on metric `val_loss` which is not available. Available metrics are: loss\n",
            "WARNING:tensorflow:Early stopping conditioned on metric `val_loss` which is not available. Available metrics are: loss\n",
            "WARNING:tensorflow:Early stopping conditioned on metric `val_loss` which is not available. Available metrics are: loss\n",
            "WARNING:tensorflow:Early stopping conditioned on metric `val_loss` which is not available. Available metrics are: loss\n",
            "WARNING:tensorflow:Early stopping conditioned on metric `val_loss` which is not available. Available metrics are: loss\n",
            "WARNING:tensorflow:Early stopping conditioned on metric `val_loss` which is not available. Available metrics are: loss\n",
            "WARNING:tensorflow:Early stopping conditioned on metric `val_loss` which is not available. Available metrics are: loss\n",
            "WARNING:tensorflow:Early stopping conditioned on metric `val_loss` which is not available. Available metrics are: loss\n",
            "WARNING:tensorflow:Early stopping conditioned on metric `val_loss` which is not available. Available metrics are: loss\n",
            "WARNING:tensorflow:Early stopping conditioned on metric `val_loss` which is not available. Available metrics are: loss\n",
            "WARNING:tensorflow:Early stopping conditioned on metric `val_loss` which is not available. Available metrics are: loss\n",
            "WARNING:tensorflow:Early stopping conditioned on metric `val_loss` which is not available. Available metrics are: loss\n",
            "WARNING:tensorflow:Early stopping conditioned on metric `val_loss` which is not available. Available metrics are: loss\n",
            "WARNING:tensorflow:Early stopping conditioned on metric `val_loss` which is not available. Available metrics are: loss\n",
            "WARNING:tensorflow:Early stopping conditioned on metric `val_loss` which is not available. Available metrics are: loss\n",
            "WARNING:tensorflow:Early stopping conditioned on metric `val_loss` which is not available. Available metrics are: loss\n",
            "WARNING:tensorflow:Early stopping conditioned on metric `val_loss` which is not available. Available metrics are: loss\n",
            "WARNING:tensorflow:Early stopping conditioned on metric `val_loss` which is not available. Available metrics are: loss\n",
            "WARNING:tensorflow:Early stopping conditioned on metric `val_loss` which is not available. Available metrics are: loss\n",
            "WARNING:tensorflow:Early stopping conditioned on metric `val_loss` which is not available. Available metrics are: loss\n",
            "WARNING:tensorflow:Early stopping conditioned on metric `val_loss` which is not available. Available metrics are: loss\n",
            "WARNING:tensorflow:Early stopping conditioned on metric `val_loss` which is not available. Available metrics are: loss\n",
            "WARNING:tensorflow:Early stopping conditioned on metric `val_loss` which is not available. Available metrics are: loss\n",
            "WARNING:tensorflow:Early stopping conditioned on metric `val_loss` which is not available. Available metrics are: loss\n",
            "WARNING:tensorflow:Early stopping conditioned on metric `val_loss` which is not available. Available metrics are: loss\n",
            "WARNING:tensorflow:Early stopping conditioned on metric `val_loss` which is not available. Available metrics are: loss\n",
            "WARNING:tensorflow:Early stopping conditioned on metric `val_loss` which is not available. Available metrics are: loss\n",
            "WARNING:tensorflow:Early stopping conditioned on metric `val_loss` which is not available. Available metrics are: loss\n",
            "WARNING:tensorflow:Early stopping conditioned on metric `val_loss` which is not available. Available metrics are: loss\n",
            "WARNING:tensorflow:Early stopping conditioned on metric `val_loss` which is not available. Available metrics are: loss\n",
            "WARNING:tensorflow:Early stopping conditioned on metric `val_loss` which is not available. Available metrics are: loss\n",
            "WARNING:tensorflow:Early stopping conditioned on metric `val_loss` which is not available. Available metrics are: loss\n",
            "WARNING:tensorflow:Early stopping conditioned on metric `val_loss` which is not available. Available metrics are: loss\n",
            "WARNING:tensorflow:Early stopping conditioned on metric `val_loss` which is not available. Available metrics are: loss\n",
            "WARNING:tensorflow:Early stopping conditioned on metric `val_loss` which is not available. Available metrics are: loss\n",
            "WARNING:tensorflow:Early stopping conditioned on metric `val_loss` which is not available. Available metrics are: loss\n",
            "WARNING:tensorflow:Early stopping conditioned on metric `val_loss` which is not available. Available metrics are: loss\n",
            "WARNING:tensorflow:Early stopping conditioned on metric `val_loss` which is not available. Available metrics are: loss\n",
            "WARNING:tensorflow:Early stopping conditioned on metric `val_loss` which is not available. Available metrics are: loss\n",
            "WARNING:tensorflow:Early stopping conditioned on metric `val_loss` which is not available. Available metrics are: loss\n",
            "WARNING:tensorflow:Early stopping conditioned on metric `val_loss` which is not available. Available metrics are: loss\n",
            "WARNING:tensorflow:Early stopping conditioned on metric `val_loss` which is not available. Available metrics are: loss\n",
            "WARNING:tensorflow:Early stopping conditioned on metric `val_loss` which is not available. Available metrics are: loss\n",
            "WARNING:tensorflow:Early stopping conditioned on metric `val_loss` which is not available. Available metrics are: loss\n",
            "WARNING:tensorflow:Early stopping conditioned on metric `val_loss` which is not available. Available metrics are: loss\n",
            "WARNING:tensorflow:Early stopping conditioned on metric `val_loss` which is not available. Available metrics are: loss\n",
            "WARNING:tensorflow:Early stopping conditioned on metric `val_loss` which is not available. Available metrics are: loss\n",
            "WARNING:tensorflow:Early stopping conditioned on metric `val_loss` which is not available. Available metrics are: loss\n",
            "WARNING:tensorflow:Early stopping conditioned on metric `val_loss` which is not available. Available metrics are: loss\n",
            "WARNING:tensorflow:Early stopping conditioned on metric `val_loss` which is not available. Available metrics are: loss\n",
            "WARNING:tensorflow:Early stopping conditioned on metric `val_loss` which is not available. Available metrics are: loss\n",
            "WARNING:tensorflow:Early stopping conditioned on metric `val_loss` which is not available. Available metrics are: loss\n",
            "WARNING:tensorflow:Early stopping conditioned on metric `val_loss` which is not available. Available metrics are: loss\n",
            "WARNING:tensorflow:Early stopping conditioned on metric `val_loss` which is not available. Available metrics are: loss\n",
            "WARNING:tensorflow:Early stopping conditioned on metric `val_loss` which is not available. Available metrics are: loss\n",
            "WARNING:tensorflow:Early stopping conditioned on metric `val_loss` which is not available. Available metrics are: loss\n",
            "WARNING:tensorflow:Early stopping conditioned on metric `val_loss` which is not available. Available metrics are: loss\n",
            "WARNING:tensorflow:Early stopping conditioned on metric `val_loss` which is not available. Available metrics are: loss\n",
            "WARNING:tensorflow:Early stopping conditioned on metric `val_loss` which is not available. Available metrics are: loss\n",
            "WARNING:tensorflow:Early stopping conditioned on metric `val_loss` which is not available. Available metrics are: loss\n",
            "WARNING:tensorflow:Early stopping conditioned on metric `val_loss` which is not available. Available metrics are: loss\n",
            "WARNING:tensorflow:Early stopping conditioned on metric `val_loss` which is not available. Available metrics are: loss\n",
            "WARNING:tensorflow:Early stopping conditioned on metric `val_loss` which is not available. Available metrics are: loss\n",
            "WARNING:tensorflow:Early stopping conditioned on metric `val_loss` which is not available. Available metrics are: loss\n",
            "WARNING:tensorflow:Early stopping conditioned on metric `val_loss` which is not available. Available metrics are: loss\n",
            "WARNING:tensorflow:Early stopping conditioned on metric `val_loss` which is not available. Available metrics are: loss\n",
            "WARNING:tensorflow:Early stopping conditioned on metric `val_loss` which is not available. Available metrics are: loss\n",
            "WARNING:tensorflow:Early stopping conditioned on metric `val_loss` which is not available. Available metrics are: loss\n",
            "WARNING:tensorflow:Early stopping conditioned on metric `val_loss` which is not available. Available metrics are: loss\n",
            "WARNING:tensorflow:Early stopping conditioned on metric `val_loss` which is not available. Available metrics are: loss\n",
            "WARNING:tensorflow:Early stopping conditioned on metric `val_loss` which is not available. Available metrics are: loss\n",
            "WARNING:tensorflow:Early stopping conditioned on metric `val_loss` which is not available. Available metrics are: loss\n",
            "WARNING:tensorflow:Early stopping conditioned on metric `val_loss` which is not available. Available metrics are: loss\n",
            "WARNING:tensorflow:Early stopping conditioned on metric `val_loss` which is not available. Available metrics are: loss\n",
            "WARNING:tensorflow:Early stopping conditioned on metric `val_loss` which is not available. Available metrics are: loss\n",
            "WARNING:tensorflow:Early stopping conditioned on metric `val_loss` which is not available. Available metrics are: loss\n",
            "WARNING:tensorflow:Early stopping conditioned on metric `val_loss` which is not available. Available metrics are: loss\n",
            "WARNING:tensorflow:Early stopping conditioned on metric `val_loss` which is not available. Available metrics are: loss\n",
            "WARNING:tensorflow:Early stopping conditioned on metric `val_loss` which is not available. Available metrics are: loss\n",
            "WARNING:tensorflow:Early stopping conditioned on metric `val_loss` which is not available. Available metrics are: loss\n",
            "WARNING:tensorflow:Early stopping conditioned on metric `val_loss` which is not available. Available metrics are: loss\n",
            "WARNING:tensorflow:Early stopping conditioned on metric `val_loss` which is not available. Available metrics are: loss\n",
            "WARNING:tensorflow:Early stopping conditioned on metric `val_loss` which is not available. Available metrics are: loss\n",
            "WARNING:tensorflow:Early stopping conditioned on metric `val_loss` which is not available. Available metrics are: loss\n",
            "WARNING:tensorflow:Early stopping conditioned on metric `val_loss` which is not available. Available metrics are: loss\n",
            "WARNING:tensorflow:Early stopping conditioned on metric `val_loss` which is not available. Available metrics are: loss\n",
            "WARNING:tensorflow:Early stopping conditioned on metric `val_loss` which is not available. Available metrics are: loss\n",
            "WARNING:tensorflow:Early stopping conditioned on metric `val_loss` which is not available. Available metrics are: loss\n",
            "WARNING:tensorflow:Early stopping conditioned on metric `val_loss` which is not available. Available metrics are: loss\n",
            "WARNING:tensorflow:Early stopping conditioned on metric `val_loss` which is not available. Available metrics are: loss\n",
            "WARNING:tensorflow:Early stopping conditioned on metric `val_loss` which is not available. Available metrics are: loss\n",
            "WARNING:tensorflow:Early stopping conditioned on metric `val_loss` which is not available. Available metrics are: loss\n",
            "WARNING:tensorflow:Early stopping conditioned on metric `val_loss` which is not available. Available metrics are: loss\n",
            "WARNING:tensorflow:Early stopping conditioned on metric `val_loss` which is not available. Available metrics are: loss\n",
            "WARNING:tensorflow:Early stopping conditioned on metric `val_loss` which is not available. Available metrics are: loss\n",
            "WARNING:tensorflow:Early stopping conditioned on metric `val_loss` which is not available. Available metrics are: loss\n",
            "WARNING:tensorflow:Early stopping conditioned on metric `val_loss` which is not available. Available metrics are: loss\n",
            "WARNING:tensorflow:Early stopping conditioned on metric `val_loss` which is not available. Available metrics are: loss\n",
            "WARNING:tensorflow:Early stopping conditioned on metric `val_loss` which is not available. Available metrics are: loss\n",
            "WARNING:tensorflow:Early stopping conditioned on metric `val_loss` which is not available. Available metrics are: loss\n",
            "WARNING:tensorflow:Early stopping conditioned on metric `val_loss` which is not available. Available metrics are: loss\n",
            "WARNING:tensorflow:Early stopping conditioned on metric `val_loss` which is not available. Available metrics are: loss\n",
            "WARNING:tensorflow:Early stopping conditioned on metric `val_loss` which is not available. Available metrics are: loss\n",
            "WARNING:tensorflow:Early stopping conditioned on metric `val_loss` which is not available. Available metrics are: loss\n",
            "WARNING:tensorflow:Early stopping conditioned on metric `val_loss` which is not available. Available metrics are: loss\n",
            "WARNING:tensorflow:Early stopping conditioned on metric `val_loss` which is not available. Available metrics are: loss\n",
            "WARNING:tensorflow:Early stopping conditioned on metric `val_loss` which is not available. Available metrics are: loss\n",
            "WARNING:tensorflow:Early stopping conditioned on metric `val_loss` which is not available. Available metrics are: loss\n",
            "WARNING:tensorflow:Early stopping conditioned on metric `val_loss` which is not available. Available metrics are: loss\n",
            "WARNING:tensorflow:Early stopping conditioned on metric `val_loss` which is not available. Available metrics are: loss\n",
            "WARNING:tensorflow:Early stopping conditioned on metric `val_loss` which is not available. Available metrics are: loss\n",
            "WARNING:tensorflow:Early stopping conditioned on metric `val_loss` which is not available. Available metrics are: loss\n",
            "WARNING:tensorflow:Early stopping conditioned on metric `val_loss` which is not available. Available metrics are: loss\n",
            "WARNING:tensorflow:Early stopping conditioned on metric `val_loss` which is not available. Available metrics are: loss\n",
            "WARNING:tensorflow:Early stopping conditioned on metric `val_loss` which is not available. Available metrics are: loss\n",
            "WARNING:tensorflow:Early stopping conditioned on metric `val_loss` which is not available. Available metrics are: loss\n",
            "WARNING:tensorflow:Early stopping conditioned on metric `val_loss` which is not available. Available metrics are: loss\n",
            "WARNING:tensorflow:Early stopping conditioned on metric `val_loss` which is not available. Available metrics are: loss\n",
            "WARNING:tensorflow:Early stopping conditioned on metric `val_loss` which is not available. Available metrics are: loss\n",
            "WARNING:tensorflow:Early stopping conditioned on metric `val_loss` which is not available. Available metrics are: loss\n",
            "WARNING:tensorflow:Early stopping conditioned on metric `val_loss` which is not available. Available metrics are: loss\n",
            "WARNING:tensorflow:Early stopping conditioned on metric `val_loss` which is not available. Available metrics are: loss\n",
            "WARNING:tensorflow:Early stopping conditioned on metric `val_loss` which is not available. Available metrics are: loss\n",
            "WARNING:tensorflow:Early stopping conditioned on metric `val_loss` which is not available. Available metrics are: loss\n",
            "WARNING:tensorflow:Early stopping conditioned on metric `val_loss` which is not available. Available metrics are: loss\n",
            "WARNING:tensorflow:Early stopping conditioned on metric `val_loss` which is not available. Available metrics are: loss\n",
            "WARNING:tensorflow:Early stopping conditioned on metric `val_loss` which is not available. Available metrics are: loss\n",
            "WARNING:tensorflow:Early stopping conditioned on metric `val_loss` which is not available. Available metrics are: loss\n",
            "WARNING:tensorflow:Early stopping conditioned on metric `val_loss` which is not available. Available metrics are: loss\n",
            "WARNING:tensorflow:Early stopping conditioned on metric `val_loss` which is not available. Available metrics are: loss\n",
            "WARNING:tensorflow:Early stopping conditioned on metric `val_loss` which is not available. Available metrics are: loss\n",
            "WARNING:tensorflow:Early stopping conditioned on metric `val_loss` which is not available. Available metrics are: loss\n",
            "WARNING:tensorflow:Early stopping conditioned on metric `val_loss` which is not available. Available metrics are: loss\n",
            "WARNING:tensorflow:Early stopping conditioned on metric `val_loss` which is not available. Available metrics are: loss\n",
            "WARNING:tensorflow:Early stopping conditioned on metric `val_loss` which is not available. Available metrics are: loss\n",
            "WARNING:tensorflow:Early stopping conditioned on metric `val_loss` which is not available. Available metrics are: loss\n",
            "WARNING:tensorflow:Early stopping conditioned on metric `val_loss` which is not available. Available metrics are: loss\n",
            "WARNING:tensorflow:Early stopping conditioned on metric `val_loss` which is not available. Available metrics are: loss\n",
            "WARNING:tensorflow:Early stopping conditioned on metric `val_loss` which is not available. Available metrics are: loss\n",
            "WARNING:tensorflow:Early stopping conditioned on metric `val_loss` which is not available. Available metrics are: loss\n",
            "WARNING:tensorflow:Early stopping conditioned on metric `val_loss` which is not available. Available metrics are: loss\n",
            "WARNING:tensorflow:Early stopping conditioned on metric `val_loss` which is not available. Available metrics are: loss\n",
            "WARNING:tensorflow:Early stopping conditioned on metric `val_loss` which is not available. Available metrics are: loss\n",
            "WARNING:tensorflow:Early stopping conditioned on metric `val_loss` which is not available. Available metrics are: loss\n",
            "WARNING:tensorflow:Early stopping conditioned on metric `val_loss` which is not available. Available metrics are: loss\n",
            "WARNING:tensorflow:Early stopping conditioned on metric `val_loss` which is not available. Available metrics are: loss\n",
            "WARNING:tensorflow:Early stopping conditioned on metric `val_loss` which is not available. Available metrics are: loss\n",
            "WARNING:tensorflow:Early stopping conditioned on metric `val_loss` which is not available. Available metrics are: loss\n",
            "WARNING:tensorflow:Early stopping conditioned on metric `val_loss` which is not available. Available metrics are: loss\n",
            "WARNING:tensorflow:Early stopping conditioned on metric `val_loss` which is not available. Available metrics are: loss\n",
            "WARNING:tensorflow:Early stopping conditioned on metric `val_loss` which is not available. Available metrics are: loss\n",
            "WARNING:tensorflow:Early stopping conditioned on metric `val_loss` which is not available. Available metrics are: loss\n",
            "WARNING:tensorflow:Early stopping conditioned on metric `val_loss` which is not available. Available metrics are: loss\n",
            "WARNING:tensorflow:Early stopping conditioned on metric `val_loss` which is not available. Available metrics are: loss\n",
            "WARNING:tensorflow:Early stopping conditioned on metric `val_loss` which is not available. Available metrics are: loss\n",
            "WARNING:tensorflow:Early stopping conditioned on metric `val_loss` which is not available. Available metrics are: loss\n",
            "WARNING:tensorflow:Early stopping conditioned on metric `val_loss` which is not available. Available metrics are: loss\n",
            "WARNING:tensorflow:Early stopping conditioned on metric `val_loss` which is not available. Available metrics are: loss\n",
            "WARNING:tensorflow:Early stopping conditioned on metric `val_loss` which is not available. Available metrics are: loss\n",
            "WARNING:tensorflow:Early stopping conditioned on metric `val_loss` which is not available. Available metrics are: loss\n",
            "WARNING:tensorflow:Early stopping conditioned on metric `val_loss` which is not available. Available metrics are: loss\n",
            "WARNING:tensorflow:Early stopping conditioned on metric `val_loss` which is not available. Available metrics are: loss\n",
            "WARNING:tensorflow:Early stopping conditioned on metric `val_loss` which is not available. Available metrics are: loss\n",
            "WARNING:tensorflow:Early stopping conditioned on metric `val_loss` which is not available. Available metrics are: loss\n",
            "WARNING:tensorflow:Early stopping conditioned on metric `val_loss` which is not available. Available metrics are: loss\n",
            "WARNING:tensorflow:Early stopping conditioned on metric `val_loss` which is not available. Available metrics are: loss\n",
            "WARNING:tensorflow:Early stopping conditioned on metric `val_loss` which is not available. Available metrics are: loss\n",
            "WARNING:tensorflow:Early stopping conditioned on metric `val_loss` which is not available. Available metrics are: loss\n",
            "WARNING:tensorflow:Early stopping conditioned on metric `val_loss` which is not available. Available metrics are: loss\n",
            "WARNING:tensorflow:Early stopping conditioned on metric `val_loss` which is not available. Available metrics are: loss\n",
            "WARNING:tensorflow:Early stopping conditioned on metric `val_loss` which is not available. Available metrics are: loss\n",
            "WARNING:tensorflow:Early stopping conditioned on metric `val_loss` which is not available. Available metrics are: loss\n",
            "WARNING:tensorflow:Early stopping conditioned on metric `val_loss` which is not available. Available metrics are: loss\n",
            "WARNING:tensorflow:Early stopping conditioned on metric `val_loss` which is not available. Available metrics are: loss\n",
            "WARNING:tensorflow:Early stopping conditioned on metric `val_loss` which is not available. Available metrics are: loss\n",
            "WARNING:tensorflow:Early stopping conditioned on metric `val_loss` which is not available. Available metrics are: loss\n",
            "WARNING:tensorflow:Early stopping conditioned on metric `val_loss` which is not available. Available metrics are: loss\n",
            "WARNING:tensorflow:Early stopping conditioned on metric `val_loss` which is not available. Available metrics are: loss\n",
            "WARNING:tensorflow:Early stopping conditioned on metric `val_loss` which is not available. Available metrics are: loss\n",
            "WARNING:tensorflow:Early stopping conditioned on metric `val_loss` which is not available. Available metrics are: loss\n",
            "WARNING:tensorflow:Early stopping conditioned on metric `val_loss` which is not available. Available metrics are: loss\n",
            "WARNING:tensorflow:Early stopping conditioned on metric `val_loss` which is not available. Available metrics are: loss\n",
            "WARNING:tensorflow:Early stopping conditioned on metric `val_loss` which is not available. Available metrics are: loss\n",
            "WARNING:tensorflow:Early stopping conditioned on metric `val_loss` which is not available. Available metrics are: loss\n",
            "WARNING:tensorflow:Early stopping conditioned on metric `val_loss` which is not available. Available metrics are: loss\n",
            "WARNING:tensorflow:Early stopping conditioned on metric `val_loss` which is not available. Available metrics are: loss\n",
            "WARNING:tensorflow:Early stopping conditioned on metric `val_loss` which is not available. Available metrics are: loss\n",
            "WARNING:tensorflow:Early stopping conditioned on metric `val_loss` which is not available. Available metrics are: loss\n",
            "WARNING:tensorflow:Early stopping conditioned on metric `val_loss` which is not available. Available metrics are: loss\n",
            "WARNING:tensorflow:Early stopping conditioned on metric `val_loss` which is not available. Available metrics are: loss\n",
            "WARNING:tensorflow:Early stopping conditioned on metric `val_loss` which is not available. Available metrics are: loss\n",
            "WARNING:tensorflow:Early stopping conditioned on metric `val_loss` which is not available. Available metrics are: loss\n",
            "WARNING:tensorflow:Early stopping conditioned on metric `val_loss` which is not available. Available metrics are: loss\n",
            "WARNING:tensorflow:Early stopping conditioned on metric `val_loss` which is not available. Available metrics are: loss\n",
            "WARNING:tensorflow:Early stopping conditioned on metric `val_loss` which is not available. Available metrics are: loss\n",
            "WARNING:tensorflow:Early stopping conditioned on metric `val_loss` which is not available. Available metrics are: loss\n",
            "WARNING:tensorflow:Early stopping conditioned on metric `val_loss` which is not available. Available metrics are: loss\n",
            "WARNING:tensorflow:Early stopping conditioned on metric `val_loss` which is not available. Available metrics are: loss\n",
            "WARNING:tensorflow:Early stopping conditioned on metric `val_loss` which is not available. Available metrics are: loss\n",
            "WARNING:tensorflow:Early stopping conditioned on metric `val_loss` which is not available. Available metrics are: loss\n",
            "WARNING:tensorflow:Early stopping conditioned on metric `val_loss` which is not available. Available metrics are: loss\n",
            "WARNING:tensorflow:Early stopping conditioned on metric `val_loss` which is not available. Available metrics are: loss\n",
            "WARNING:tensorflow:Early stopping conditioned on metric `val_loss` which is not available. Available metrics are: loss\n",
            "WARNING:tensorflow:Early stopping conditioned on metric `val_loss` which is not available. Available metrics are: loss\n",
            "WARNING:tensorflow:Early stopping conditioned on metric `val_loss` which is not available. Available metrics are: loss\n",
            "WARNING:tensorflow:Early stopping conditioned on metric `val_loss` which is not available. Available metrics are: loss\n",
            "WARNING:tensorflow:Early stopping conditioned on metric `val_loss` which is not available. Available metrics are: loss\n",
            "WARNING:tensorflow:Early stopping conditioned on metric `val_loss` which is not available. Available metrics are: loss\n",
            "WARNING:tensorflow:Early stopping conditioned on metric `val_loss` which is not available. Available metrics are: loss\n",
            "WARNING:tensorflow:Early stopping conditioned on metric `val_loss` which is not available. Available metrics are: loss\n",
            "WARNING:tensorflow:Early stopping conditioned on metric `val_loss` which is not available. Available metrics are: loss\n",
            "WARNING:tensorflow:Early stopping conditioned on metric `val_loss` which is not available. Available metrics are: loss\n",
            "WARNING:tensorflow:Early stopping conditioned on metric `val_loss` which is not available. Available metrics are: loss\n",
            "WARNING:tensorflow:Early stopping conditioned on metric `val_loss` which is not available. Available metrics are: loss\n",
            "WARNING:tensorflow:Early stopping conditioned on metric `val_loss` which is not available. Available metrics are: loss\n",
            "WARNING:tensorflow:Early stopping conditioned on metric `val_loss` which is not available. Available metrics are: loss\n",
            "WARNING:tensorflow:Early stopping conditioned on metric `val_loss` which is not available. Available metrics are: loss\n",
            "WARNING:tensorflow:Early stopping conditioned on metric `val_loss` which is not available. Available metrics are: loss\n",
            "WARNING:tensorflow:Early stopping conditioned on metric `val_loss` which is not available. Available metrics are: loss\n",
            "WARNING:tensorflow:Early stopping conditioned on metric `val_loss` which is not available. Available metrics are: loss\n",
            "WARNING:tensorflow:Early stopping conditioned on metric `val_loss` which is not available. Available metrics are: loss\n",
            "WARNING:tensorflow:Early stopping conditioned on metric `val_loss` which is not available. Available metrics are: loss\n",
            "WARNING:tensorflow:Early stopping conditioned on metric `val_loss` which is not available. Available metrics are: loss\n",
            "WARNING:tensorflow:Early stopping conditioned on metric `val_loss` which is not available. Available metrics are: loss\n",
            "WARNING:tensorflow:Early stopping conditioned on metric `val_loss` which is not available. Available metrics are: loss\n",
            "WARNING:tensorflow:Early stopping conditioned on metric `val_loss` which is not available. Available metrics are: loss\n",
            "WARNING:tensorflow:Early stopping conditioned on metric `val_loss` which is not available. Available metrics are: loss\n",
            "WARNING:tensorflow:Early stopping conditioned on metric `val_loss` which is not available. Available metrics are: loss\n",
            "WARNING:tensorflow:Early stopping conditioned on metric `val_loss` which is not available. Available metrics are: loss\n",
            "WARNING:tensorflow:Early stopping conditioned on metric `val_loss` which is not available. Available metrics are: loss\n",
            "WARNING:tensorflow:Early stopping conditioned on metric `val_loss` which is not available. Available metrics are: loss\n",
            "WARNING:tensorflow:Early stopping conditioned on metric `val_loss` which is not available. Available metrics are: loss\n",
            "WARNING:tensorflow:Early stopping conditioned on metric `val_loss` which is not available. Available metrics are: loss\n",
            "WARNING:tensorflow:Early stopping conditioned on metric `val_loss` which is not available. Available metrics are: loss\n",
            "WARNING:tensorflow:Early stopping conditioned on metric `val_loss` which is not available. Available metrics are: loss\n",
            "WARNING:tensorflow:Early stopping conditioned on metric `val_loss` which is not available. Available metrics are: loss\n",
            "WARNING:tensorflow:Early stopping conditioned on metric `val_loss` which is not available. Available metrics are: loss\n",
            "WARNING:tensorflow:Early stopping conditioned on metric `val_loss` which is not available. Available metrics are: loss\n",
            "WARNING:tensorflow:Early stopping conditioned on metric `val_loss` which is not available. Available metrics are: loss\n",
            "WARNING:tensorflow:Early stopping conditioned on metric `val_loss` which is not available. Available metrics are: loss\n",
            "WARNING:tensorflow:Early stopping conditioned on metric `val_loss` which is not available. Available metrics are: loss\n",
            "WARNING:tensorflow:Early stopping conditioned on metric `val_loss` which is not available. Available metrics are: loss\n",
            "WARNING:tensorflow:Early stopping conditioned on metric `val_loss` which is not available. Available metrics are: loss\n",
            "WARNING:tensorflow:Early stopping conditioned on metric `val_loss` which is not available. Available metrics are: loss\n",
            "WARNING:tensorflow:Early stopping conditioned on metric `val_loss` which is not available. Available metrics are: loss\n",
            "WARNING:tensorflow:Early stopping conditioned on metric `val_loss` which is not available. Available metrics are: loss\n",
            "WARNING:tensorflow:Early stopping conditioned on metric `val_loss` which is not available. Available metrics are: loss\n",
            "WARNING:tensorflow:Early stopping conditioned on metric `val_loss` which is not available. Available metrics are: loss\n",
            "WARNING:tensorflow:Early stopping conditioned on metric `val_loss` which is not available. Available metrics are: loss\n",
            "WARNING:tensorflow:Early stopping conditioned on metric `val_loss` which is not available. Available metrics are: loss\n",
            "WARNING:tensorflow:Early stopping conditioned on metric `val_loss` which is not available. Available metrics are: loss\n",
            "WARNING:tensorflow:Early stopping conditioned on metric `val_loss` which is not available. Available metrics are: loss\n",
            "WARNING:tensorflow:Early stopping conditioned on metric `val_loss` which is not available. Available metrics are: loss\n",
            "WARNING:tensorflow:Early stopping conditioned on metric `val_loss` which is not available. Available metrics are: loss\n",
            "WARNING:tensorflow:Early stopping conditioned on metric `val_loss` which is not available. Available metrics are: loss\n",
            "WARNING:tensorflow:Early stopping conditioned on metric `val_loss` which is not available. Available metrics are: loss\n",
            "WARNING:tensorflow:Early stopping conditioned on metric `val_loss` which is not available. Available metrics are: loss\n",
            "WARNING:tensorflow:Early stopping conditioned on metric `val_loss` which is not available. Available metrics are: loss\n",
            "WARNING:tensorflow:Early stopping conditioned on metric `val_loss` which is not available. Available metrics are: loss\n",
            "WARNING:tensorflow:Early stopping conditioned on metric `val_loss` which is not available. Available metrics are: loss\n",
            "WARNING:tensorflow:Early stopping conditioned on metric `val_loss` which is not available. Available metrics are: loss\n",
            "WARNING:tensorflow:Early stopping conditioned on metric `val_loss` which is not available. Available metrics are: loss\n",
            "WARNING:tensorflow:Early stopping conditioned on metric `val_loss` which is not available. Available metrics are: loss\n",
            "WARNING:tensorflow:Early stopping conditioned on metric `val_loss` which is not available. Available metrics are: loss\n",
            "WARNING:tensorflow:Early stopping conditioned on metric `val_loss` which is not available. Available metrics are: loss\n",
            "WARNING:tensorflow:Early stopping conditioned on metric `val_loss` which is not available. Available metrics are: loss\n",
            "WARNING:tensorflow:Early stopping conditioned on metric `val_loss` which is not available. Available metrics are: loss\n",
            "WARNING:tensorflow:Early stopping conditioned on metric `val_loss` which is not available. Available metrics are: loss\n",
            "WARNING:tensorflow:Early stopping conditioned on metric `val_loss` which is not available. Available metrics are: loss\n",
            "WARNING:tensorflow:Early stopping conditioned on metric `val_loss` which is not available. Available metrics are: loss\n",
            "WARNING:tensorflow:Early stopping conditioned on metric `val_loss` which is not available. Available metrics are: loss\n",
            "WARNING:tensorflow:Early stopping conditioned on metric `val_loss` which is not available. Available metrics are: loss\n",
            "WARNING:tensorflow:Early stopping conditioned on metric `val_loss` which is not available. Available metrics are: loss\n",
            "WARNING:tensorflow:Early stopping conditioned on metric `val_loss` which is not available. Available metrics are: loss\n",
            "WARNING:tensorflow:Early stopping conditioned on metric `val_loss` which is not available. Available metrics are: loss\n",
            "WARNING:tensorflow:Early stopping conditioned on metric `val_loss` which is not available. Available metrics are: loss\n",
            "WARNING:tensorflow:Early stopping conditioned on metric `val_loss` which is not available. Available metrics are: loss\n",
            "WARNING:tensorflow:Early stopping conditioned on metric `val_loss` which is not available. Available metrics are: loss\n",
            "WARNING:tensorflow:Early stopping conditioned on metric `val_loss` which is not available. Available metrics are: loss\n",
            "WARNING:tensorflow:Early stopping conditioned on metric `val_loss` which is not available. Available metrics are: loss\n",
            "WARNING:tensorflow:Early stopping conditioned on metric `val_loss` which is not available. Available metrics are: loss\n",
            "WARNING:tensorflow:Early stopping conditioned on metric `val_loss` which is not available. Available metrics are: loss\n",
            "WARNING:tensorflow:Early stopping conditioned on metric `val_loss` which is not available. Available metrics are: loss\n",
            "WARNING:tensorflow:Early stopping conditioned on metric `val_loss` which is not available. Available metrics are: loss\n",
            "WARNING:tensorflow:Early stopping conditioned on metric `val_loss` which is not available. Available metrics are: loss\n",
            "WARNING:tensorflow:Early stopping conditioned on metric `val_loss` which is not available. Available metrics are: loss\n",
            "WARNING:tensorflow:Early stopping conditioned on metric `val_loss` which is not available. Available metrics are: loss\n",
            "WARNING:tensorflow:Early stopping conditioned on metric `val_loss` which is not available. Available metrics are: loss\n",
            "WARNING:tensorflow:Early stopping conditioned on metric `val_loss` which is not available. Available metrics are: loss\n",
            "WARNING:tensorflow:Early stopping conditioned on metric `val_loss` which is not available. Available metrics are: loss\n",
            "WARNING:tensorflow:Early stopping conditioned on metric `val_loss` which is not available. Available metrics are: loss\n",
            "WARNING:tensorflow:Early stopping conditioned on metric `val_loss` which is not available. Available metrics are: loss\n",
            "WARNING:tensorflow:Early stopping conditioned on metric `val_loss` which is not available. Available metrics are: loss\n",
            "WARNING:tensorflow:Early stopping conditioned on metric `val_loss` which is not available. Available metrics are: loss\n",
            "WARNING:tensorflow:Early stopping conditioned on metric `val_loss` which is not available. Available metrics are: loss\n",
            "WARNING:tensorflow:Early stopping conditioned on metric `val_loss` which is not available. Available metrics are: loss\n",
            "WARNING:tensorflow:Early stopping conditioned on metric `val_loss` which is not available. Available metrics are: loss\n",
            "WARNING:tensorflow:Early stopping conditioned on metric `val_loss` which is not available. Available metrics are: loss\n",
            "WARNING:tensorflow:Early stopping conditioned on metric `val_loss` which is not available. Available metrics are: loss\n",
            "WARNING:tensorflow:Early stopping conditioned on metric `val_loss` which is not available. Available metrics are: loss\n",
            "WARNING:tensorflow:Early stopping conditioned on metric `val_loss` which is not available. Available metrics are: loss\n",
            "WARNING:tensorflow:Early stopping conditioned on metric `val_loss` which is not available. Available metrics are: loss\n",
            "WARNING:tensorflow:Early stopping conditioned on metric `val_loss` which is not available. Available metrics are: loss\n",
            "WARNING:tensorflow:Early stopping conditioned on metric `val_loss` which is not available. Available metrics are: loss\n",
            "WARNING:tensorflow:Early stopping conditioned on metric `val_loss` which is not available. Available metrics are: loss\n",
            "WARNING:tensorflow:Early stopping conditioned on metric `val_loss` which is not available. Available metrics are: loss\n",
            "WARNING:tensorflow:Early stopping conditioned on metric `val_loss` which is not available. Available metrics are: loss\n",
            "WARNING:tensorflow:Early stopping conditioned on metric `val_loss` which is not available. Available metrics are: loss\n",
            "WARNING:tensorflow:Early stopping conditioned on metric `val_loss` which is not available. Available metrics are: loss\n",
            "WARNING:tensorflow:Early stopping conditioned on metric `val_loss` which is not available. Available metrics are: loss\n",
            "WARNING:tensorflow:Early stopping conditioned on metric `val_loss` which is not available. Available metrics are: loss\n",
            "WARNING:tensorflow:Early stopping conditioned on metric `val_loss` which is not available. Available metrics are: loss\n",
            "WARNING:tensorflow:Early stopping conditioned on metric `val_loss` which is not available. Available metrics are: loss\n",
            "WARNING:tensorflow:Early stopping conditioned on metric `val_loss` which is not available. Available metrics are: loss\n",
            "WARNING:tensorflow:Early stopping conditioned on metric `val_loss` which is not available. Available metrics are: loss\n",
            "WARNING:tensorflow:Early stopping conditioned on metric `val_loss` which is not available. Available metrics are: loss\n",
            "WARNING:tensorflow:Early stopping conditioned on metric `val_loss` which is not available. Available metrics are: loss\n",
            "WARNING:tensorflow:Early stopping conditioned on metric `val_loss` which is not available. Available metrics are: loss\n",
            "WARNING:tensorflow:Early stopping conditioned on metric `val_loss` which is not available. Available metrics are: loss\n",
            "WARNING:tensorflow:Early stopping conditioned on metric `val_loss` which is not available. Available metrics are: loss\n",
            "WARNING:tensorflow:Early stopping conditioned on metric `val_loss` which is not available. Available metrics are: loss\n",
            "WARNING:tensorflow:Early stopping conditioned on metric `val_loss` which is not available. Available metrics are: loss\n",
            "WARNING:tensorflow:Early stopping conditioned on metric `val_loss` which is not available. Available metrics are: loss\n",
            "WARNING:tensorflow:Early stopping conditioned on metric `val_loss` which is not available. Available metrics are: loss\n",
            "WARNING:tensorflow:Early stopping conditioned on metric `val_loss` which is not available. Available metrics are: loss\n",
            "WARNING:tensorflow:Early stopping conditioned on metric `val_loss` which is not available. Available metrics are: loss\n",
            "WARNING:tensorflow:Early stopping conditioned on metric `val_loss` which is not available. Available metrics are: loss\n",
            "WARNING:tensorflow:Early stopping conditioned on metric `val_loss` which is not available. Available metrics are: loss\n",
            "WARNING:tensorflow:Early stopping conditioned on metric `val_loss` which is not available. Available metrics are: loss\n",
            "WARNING:tensorflow:Early stopping conditioned on metric `val_loss` which is not available. Available metrics are: loss\n",
            "WARNING:tensorflow:Early stopping conditioned on metric `val_loss` which is not available. Available metrics are: loss\n",
            "WARNING:tensorflow:Early stopping conditioned on metric `val_loss` which is not available. Available metrics are: loss\n",
            "WARNING:tensorflow:Early stopping conditioned on metric `val_loss` which is not available. Available metrics are: loss\n",
            "WARNING:tensorflow:Early stopping conditioned on metric `val_loss` which is not available. Available metrics are: loss\n",
            "WARNING:tensorflow:Early stopping conditioned on metric `val_loss` which is not available. Available metrics are: loss\n",
            "WARNING:tensorflow:Early stopping conditioned on metric `val_loss` which is not available. Available metrics are: loss\n",
            "WARNING:tensorflow:Early stopping conditioned on metric `val_loss` which is not available. Available metrics are: loss\n",
            "WARNING:tensorflow:Early stopping conditioned on metric `val_loss` which is not available. Available metrics are: loss\n",
            "WARNING:tensorflow:Early stopping conditioned on metric `val_loss` which is not available. Available metrics are: loss\n",
            "WARNING:tensorflow:Early stopping conditioned on metric `val_loss` which is not available. Available metrics are: loss\n",
            "WARNING:tensorflow:Early stopping conditioned on metric `val_loss` which is not available. Available metrics are: loss\n",
            "WARNING:tensorflow:Early stopping conditioned on metric `val_loss` which is not available. Available metrics are: loss\n",
            "WARNING:tensorflow:Early stopping conditioned on metric `val_loss` which is not available. Available metrics are: loss\n",
            "WARNING:tensorflow:Early stopping conditioned on metric `val_loss` which is not available. Available metrics are: loss\n",
            "WARNING:tensorflow:Early stopping conditioned on metric `val_loss` which is not available. Available metrics are: loss\n",
            "WARNING:tensorflow:Early stopping conditioned on metric `val_loss` which is not available. Available metrics are: loss\n",
            "WARNING:tensorflow:Early stopping conditioned on metric `val_loss` which is not available. Available metrics are: loss\n",
            "WARNING:tensorflow:Early stopping conditioned on metric `val_loss` which is not available. Available metrics are: loss\n",
            "WARNING:tensorflow:Early stopping conditioned on metric `val_loss` which is not available. Available metrics are: loss\n",
            "WARNING:tensorflow:Early stopping conditioned on metric `val_loss` which is not available. Available metrics are: loss\n",
            "WARNING:tensorflow:Early stopping conditioned on metric `val_loss` which is not available. Available metrics are: loss\n",
            "WARNING:tensorflow:Early stopping conditioned on metric `val_loss` which is not available. Available metrics are: loss\n",
            "WARNING:tensorflow:Early stopping conditioned on metric `val_loss` which is not available. Available metrics are: loss\n",
            "WARNING:tensorflow:Early stopping conditioned on metric `val_loss` which is not available. Available metrics are: loss\n",
            "WARNING:tensorflow:Early stopping conditioned on metric `val_loss` which is not available. Available metrics are: loss\n",
            "WARNING:tensorflow:Early stopping conditioned on metric `val_loss` which is not available. Available metrics are: loss\n",
            "WARNING:tensorflow:Early stopping conditioned on metric `val_loss` which is not available. Available metrics are: loss\n",
            "WARNING:tensorflow:Early stopping conditioned on metric `val_loss` which is not available. Available metrics are: loss\n",
            "WARNING:tensorflow:Early stopping conditioned on metric `val_loss` which is not available. Available metrics are: loss\n",
            "WARNING:tensorflow:Early stopping conditioned on metric `val_loss` which is not available. Available metrics are: loss\n",
            "WARNING:tensorflow:Early stopping conditioned on metric `val_loss` which is not available. Available metrics are: loss\n",
            "WARNING:tensorflow:Early stopping conditioned on metric `val_loss` which is not available. Available metrics are: loss\n",
            "WARNING:tensorflow:Early stopping conditioned on metric `val_loss` which is not available. Available metrics are: loss\n",
            "WARNING:tensorflow:Early stopping conditioned on metric `val_loss` which is not available. Available metrics are: loss\n",
            "WARNING:tensorflow:Early stopping conditioned on metric `val_loss` which is not available. Available metrics are: loss\n",
            "WARNING:tensorflow:Early stopping conditioned on metric `val_loss` which is not available. Available metrics are: loss\n",
            "WARNING:tensorflow:Early stopping conditioned on metric `val_loss` which is not available. Available metrics are: loss\n",
            "WARNING:tensorflow:Early stopping conditioned on metric `val_loss` which is not available. Available metrics are: loss\n",
            "WARNING:tensorflow:Early stopping conditioned on metric `val_loss` which is not available. Available metrics are: loss\n",
            "WARNING:tensorflow:Early stopping conditioned on metric `val_loss` which is not available. Available metrics are: loss\n",
            "WARNING:tensorflow:Early stopping conditioned on metric `val_loss` which is not available. Available metrics are: loss\n",
            "WARNING:tensorflow:Early stopping conditioned on metric `val_loss` which is not available. Available metrics are: loss\n",
            "WARNING:tensorflow:Early stopping conditioned on metric `val_loss` which is not available. Available metrics are: loss\n",
            "WARNING:tensorflow:Early stopping conditioned on metric `val_loss` which is not available. Available metrics are: loss\n",
            "WARNING:tensorflow:Early stopping conditioned on metric `val_loss` which is not available. Available metrics are: loss\n",
            "WARNING:tensorflow:Early stopping conditioned on metric `val_loss` which is not available. Available metrics are: loss\n",
            "WARNING:tensorflow:Early stopping conditioned on metric `val_loss` which is not available. Available metrics are: loss\n",
            "WARNING:tensorflow:Early stopping conditioned on metric `val_loss` which is not available. Available metrics are: loss\n",
            "WARNING:tensorflow:Early stopping conditioned on metric `val_loss` which is not available. Available metrics are: loss\n",
            "WARNING:tensorflow:Early stopping conditioned on metric `val_loss` which is not available. Available metrics are: loss\n",
            "WARNING:tensorflow:Early stopping conditioned on metric `val_loss` which is not available. Available metrics are: loss\n",
            "WARNING:tensorflow:Early stopping conditioned on metric `val_loss` which is not available. Available metrics are: loss\n",
            "WARNING:tensorflow:Early stopping conditioned on metric `val_loss` which is not available. Available metrics are: loss\n",
            "WARNING:tensorflow:Early stopping conditioned on metric `val_loss` which is not available. Available metrics are: loss\n",
            "WARNING:tensorflow:Early stopping conditioned on metric `val_loss` which is not available. Available metrics are: loss\n",
            "WARNING:tensorflow:Early stopping conditioned on metric `val_loss` which is not available. Available metrics are: loss\n",
            "WARNING:tensorflow:Early stopping conditioned on metric `val_loss` which is not available. Available metrics are: loss\n",
            "WARNING:tensorflow:Early stopping conditioned on metric `val_loss` which is not available. Available metrics are: loss\n",
            "WARNING:tensorflow:Early stopping conditioned on metric `val_loss` which is not available. Available metrics are: loss\n",
            "WARNING:tensorflow:Early stopping conditioned on metric `val_loss` which is not available. Available metrics are: loss\n",
            "WARNING:tensorflow:Early stopping conditioned on metric `val_loss` which is not available. Available metrics are: loss\n",
            "WARNING:tensorflow:Early stopping conditioned on metric `val_loss` which is not available. Available metrics are: loss\n",
            "WARNING:tensorflow:Early stopping conditioned on metric `val_loss` which is not available. Available metrics are: loss\n",
            "WARNING:tensorflow:Early stopping conditioned on metric `val_loss` which is not available. Available metrics are: loss\n",
            "WARNING:tensorflow:Early stopping conditioned on metric `val_loss` which is not available. Available metrics are: loss\n",
            "WARNING:tensorflow:Early stopping conditioned on metric `val_loss` which is not available. Available metrics are: loss\n",
            "WARNING:tensorflow:Early stopping conditioned on metric `val_loss` which is not available. Available metrics are: loss\n",
            "WARNING:tensorflow:Early stopping conditioned on metric `val_loss` which is not available. Available metrics are: loss\n",
            "WARNING:tensorflow:Early stopping conditioned on metric `val_loss` which is not available. Available metrics are: loss\n",
            "WARNING:tensorflow:Early stopping conditioned on metric `val_loss` which is not available. Available metrics are: loss\n",
            "WARNING:tensorflow:Early stopping conditioned on metric `val_loss` which is not available. Available metrics are: loss\n",
            "WARNING:tensorflow:Early stopping conditioned on metric `val_loss` which is not available. Available metrics are: loss\n",
            "WARNING:tensorflow:Early stopping conditioned on metric `val_loss` which is not available. Available metrics are: loss\n",
            "WARNING:tensorflow:Early stopping conditioned on metric `val_loss` which is not available. Available metrics are: loss\n",
            "WARNING:tensorflow:Early stopping conditioned on metric `val_loss` which is not available. Available metrics are: loss\n",
            "WARNING:tensorflow:Early stopping conditioned on metric `val_loss` which is not available. Available metrics are: loss\n",
            "WARNING:tensorflow:Early stopping conditioned on metric `val_loss` which is not available. Available metrics are: loss\n",
            "WARNING:tensorflow:Early stopping conditioned on metric `val_loss` which is not available. Available metrics are: loss\n",
            "WARNING:tensorflow:Early stopping conditioned on metric `val_loss` which is not available. Available metrics are: loss\n",
            "WARNING:tensorflow:Early stopping conditioned on metric `val_loss` which is not available. Available metrics are: loss\n",
            "WARNING:tensorflow:Early stopping conditioned on metric `val_loss` which is not available. Available metrics are: loss\n",
            "WARNING:tensorflow:Early stopping conditioned on metric `val_loss` which is not available. Available metrics are: loss\n",
            "WARNING:tensorflow:Early stopping conditioned on metric `val_loss` which is not available. Available metrics are: loss\n",
            "WARNING:tensorflow:Early stopping conditioned on metric `val_loss` which is not available. Available metrics are: loss\n",
            "WARNING:tensorflow:Early stopping conditioned on metric `val_loss` which is not available. Available metrics are: loss\n",
            "WARNING:tensorflow:Early stopping conditioned on metric `val_loss` which is not available. Available metrics are: loss\n",
            "WARNING:tensorflow:Early stopping conditioned on metric `val_loss` which is not available. Available metrics are: loss\n",
            "WARNING:tensorflow:Early stopping conditioned on metric `val_loss` which is not available. Available metrics are: loss\n",
            "WARNING:tensorflow:Early stopping conditioned on metric `val_loss` which is not available. Available metrics are: loss\n",
            "WARNING:tensorflow:Early stopping conditioned on metric `val_loss` which is not available. Available metrics are: loss\n",
            "WARNING:tensorflow:Early stopping conditioned on metric `val_loss` which is not available. Available metrics are: loss\n",
            "WARNING:tensorflow:Early stopping conditioned on metric `val_loss` which is not available. Available metrics are: loss\n",
            "WARNING:tensorflow:Early stopping conditioned on metric `val_loss` which is not available. Available metrics are: loss\n",
            "WARNING:tensorflow:Early stopping conditioned on metric `val_loss` which is not available. Available metrics are: loss\n",
            "WARNING:tensorflow:Early stopping conditioned on metric `val_loss` which is not available. Available metrics are: loss\n",
            "WARNING:tensorflow:Early stopping conditioned on metric `val_loss` which is not available. Available metrics are: loss\n",
            "WARNING:tensorflow:Early stopping conditioned on metric `val_loss` which is not available. Available metrics are: loss\n",
            "WARNING:tensorflow:Early stopping conditioned on metric `val_loss` which is not available. Available metrics are: loss\n",
            "WARNING:tensorflow:Early stopping conditioned on metric `val_loss` which is not available. Available metrics are: loss\n",
            "WARNING:tensorflow:Early stopping conditioned on metric `val_loss` which is not available. Available metrics are: loss\n",
            "WARNING:tensorflow:Early stopping conditioned on metric `val_loss` which is not available. Available metrics are: loss\n",
            "WARNING:tensorflow:Early stopping conditioned on metric `val_loss` which is not available. Available metrics are: loss\n",
            "WARNING:tensorflow:Early stopping conditioned on metric `val_loss` which is not available. Available metrics are: loss\n",
            "WARNING:tensorflow:Early stopping conditioned on metric `val_loss` which is not available. Available metrics are: loss\n",
            "WARNING:tensorflow:Early stopping conditioned on metric `val_loss` which is not available. Available metrics are: loss\n",
            "WARNING:tensorflow:Early stopping conditioned on metric `val_loss` which is not available. Available metrics are: loss\n",
            "WARNING:tensorflow:Early stopping conditioned on metric `val_loss` which is not available. Available metrics are: loss\n",
            "WARNING:tensorflow:Early stopping conditioned on metric `val_loss` which is not available. Available metrics are: loss\n",
            "WARNING:tensorflow:Early stopping conditioned on metric `val_loss` which is not available. Available metrics are: loss\n",
            "WARNING:tensorflow:Early stopping conditioned on metric `val_loss` which is not available. Available metrics are: loss\n",
            "WARNING:tensorflow:Early stopping conditioned on metric `val_loss` which is not available. Available metrics are: loss\n",
            "WARNING:tensorflow:Early stopping conditioned on metric `val_loss` which is not available. Available metrics are: loss\n",
            "WARNING:tensorflow:Early stopping conditioned on metric `val_loss` which is not available. Available metrics are: loss\n",
            "WARNING:tensorflow:Early stopping conditioned on metric `val_loss` which is not available. Available metrics are: loss\n",
            "WARNING:tensorflow:Early stopping conditioned on metric `val_loss` which is not available. Available metrics are: loss\n",
            "WARNING:tensorflow:Early stopping conditioned on metric `val_loss` which is not available. Available metrics are: loss\n",
            "WARNING:tensorflow:Early stopping conditioned on metric `val_loss` which is not available. Available metrics are: loss\n",
            "WARNING:tensorflow:Early stopping conditioned on metric `val_loss` which is not available. Available metrics are: loss\n",
            "WARNING:tensorflow:Early stopping conditioned on metric `val_loss` which is not available. Available metrics are: loss\n",
            "WARNING:tensorflow:Early stopping conditioned on metric `val_loss` which is not available. Available metrics are: loss\n",
            "WARNING:tensorflow:Early stopping conditioned on metric `val_loss` which is not available. Available metrics are: loss\n",
            "WARNING:tensorflow:Early stopping conditioned on metric `val_loss` which is not available. Available metrics are: loss\n",
            "WARNING:tensorflow:Early stopping conditioned on metric `val_loss` which is not available. Available metrics are: loss\n",
            "WARNING:tensorflow:Early stopping conditioned on metric `val_loss` which is not available. Available metrics are: loss\n",
            "WARNING:tensorflow:Early stopping conditioned on metric `val_loss` which is not available. Available metrics are: loss\n",
            "WARNING:tensorflow:Early stopping conditioned on metric `val_loss` which is not available. Available metrics are: loss\n",
            "WARNING:tensorflow:Early stopping conditioned on metric `val_loss` which is not available. Available metrics are: loss\n",
            "WARNING:tensorflow:Early stopping conditioned on metric `val_loss` which is not available. Available metrics are: loss\n",
            "WARNING:tensorflow:Early stopping conditioned on metric `val_loss` which is not available. Available metrics are: loss\n",
            "WARNING:tensorflow:Early stopping conditioned on metric `val_loss` which is not available. Available metrics are: loss\n",
            "WARNING:tensorflow:Early stopping conditioned on metric `val_loss` which is not available. Available metrics are: loss\n",
            "WARNING:tensorflow:Early stopping conditioned on metric `val_loss` which is not available. Available metrics are: loss\n",
            "WARNING:tensorflow:Early stopping conditioned on metric `val_loss` which is not available. Available metrics are: loss\n",
            "WARNING:tensorflow:Early stopping conditioned on metric `val_loss` which is not available. Available metrics are: loss\n",
            "WARNING:tensorflow:Early stopping conditioned on metric `val_loss` which is not available. Available metrics are: loss\n",
            "WARNING:tensorflow:Early stopping conditioned on metric `val_loss` which is not available. Available metrics are: loss\n",
            "WARNING:tensorflow:Early stopping conditioned on metric `val_loss` which is not available. Available metrics are: loss\n",
            "WARNING:tensorflow:Early stopping conditioned on metric `val_loss` which is not available. Available metrics are: loss\n",
            "WARNING:tensorflow:Early stopping conditioned on metric `val_loss` which is not available. Available metrics are: loss\n",
            "WARNING:tensorflow:Early stopping conditioned on metric `val_loss` which is not available. Available metrics are: loss\n",
            "WARNING:tensorflow:Early stopping conditioned on metric `val_loss` which is not available. Available metrics are: loss\n",
            "WARNING:tensorflow:Early stopping conditioned on metric `val_loss` which is not available. Available metrics are: loss\n",
            "WARNING:tensorflow:Early stopping conditioned on metric `val_loss` which is not available. Available metrics are: loss\n",
            "WARNING:tensorflow:Early stopping conditioned on metric `val_loss` which is not available. Available metrics are: loss\n",
            "WARNING:tensorflow:Early stopping conditioned on metric `val_loss` which is not available. Available metrics are: loss\n",
            "WARNING:tensorflow:Early stopping conditioned on metric `val_loss` which is not available. Available metrics are: loss\n",
            "WARNING:tensorflow:Early stopping conditioned on metric `val_loss` which is not available. Available metrics are: loss\n",
            "WARNING:tensorflow:Early stopping conditioned on metric `val_loss` which is not available. Available metrics are: loss\n",
            "WARNING:tensorflow:Early stopping conditioned on metric `val_loss` which is not available. Available metrics are: loss\n",
            "WARNING:tensorflow:Early stopping conditioned on metric `val_loss` which is not available. Available metrics are: loss\n",
            "WARNING:tensorflow:Early stopping conditioned on metric `val_loss` which is not available. Available metrics are: loss\n",
            "WARNING:tensorflow:Early stopping conditioned on metric `val_loss` which is not available. Available metrics are: loss\n",
            "WARNING:tensorflow:Early stopping conditioned on metric `val_loss` which is not available. Available metrics are: loss\n",
            "WARNING:tensorflow:Early stopping conditioned on metric `val_loss` which is not available. Available metrics are: loss\n",
            "WARNING:tensorflow:Early stopping conditioned on metric `val_loss` which is not available. Available metrics are: loss\n",
            "WARNING:tensorflow:Early stopping conditioned on metric `val_loss` which is not available. Available metrics are: loss\n",
            "WARNING:tensorflow:Early stopping conditioned on metric `val_loss` which is not available. Available metrics are: loss\n",
            "WARNING:tensorflow:Early stopping conditioned on metric `val_loss` which is not available. Available metrics are: loss\n",
            "WARNING:tensorflow:Early stopping conditioned on metric `val_loss` which is not available. Available metrics are: loss\n",
            "WARNING:tensorflow:Early stopping conditioned on metric `val_loss` which is not available. Available metrics are: loss\n",
            "WARNING:tensorflow:Early stopping conditioned on metric `val_loss` which is not available. Available metrics are: loss\n",
            "WARNING:tensorflow:Early stopping conditioned on metric `val_loss` which is not available. Available metrics are: loss\n",
            "WARNING:tensorflow:Early stopping conditioned on metric `val_loss` which is not available. Available metrics are: loss\n",
            "WARNING:tensorflow:Early stopping conditioned on metric `val_loss` which is not available. Available metrics are: loss\n",
            "WARNING:tensorflow:Early stopping conditioned on metric `val_loss` which is not available. Available metrics are: loss\n",
            "WARNING:tensorflow:Early stopping conditioned on metric `val_loss` which is not available. Available metrics are: loss\n",
            "WARNING:tensorflow:Early stopping conditioned on metric `val_loss` which is not available. Available metrics are: loss\n",
            "WARNING:tensorflow:Early stopping conditioned on metric `val_loss` which is not available. Available metrics are: loss\n",
            "WARNING:tensorflow:Early stopping conditioned on metric `val_loss` which is not available. Available metrics are: loss\n",
            "WARNING:tensorflow:Early stopping conditioned on metric `val_loss` which is not available. Available metrics are: loss\n",
            "WARNING:tensorflow:Early stopping conditioned on metric `val_loss` which is not available. Available metrics are: loss\n",
            "WARNING:tensorflow:Early stopping conditioned on metric `val_loss` which is not available. Available metrics are: loss\n",
            "WARNING:tensorflow:Early stopping conditioned on metric `val_loss` which is not available. Available metrics are: loss\n",
            "WARNING:tensorflow:Early stopping conditioned on metric `val_loss` which is not available. Available metrics are: loss\n",
            "WARNING:tensorflow:Early stopping conditioned on metric `val_loss` which is not available. Available metrics are: loss\n",
            "WARNING:tensorflow:Early stopping conditioned on metric `val_loss` which is not available. Available metrics are: loss\n",
            "WARNING:tensorflow:Early stopping conditioned on metric `val_loss` which is not available. Available metrics are: loss\n",
            "WARNING:tensorflow:Early stopping conditioned on metric `val_loss` which is not available. Available metrics are: loss\n",
            "WARNING:tensorflow:Early stopping conditioned on metric `val_loss` which is not available. Available metrics are: loss\n",
            "WARNING:tensorflow:Early stopping conditioned on metric `val_loss` which is not available. Available metrics are: loss\n",
            "WARNING:tensorflow:Early stopping conditioned on metric `val_loss` which is not available. Available metrics are: loss\n",
            "WARNING:tensorflow:Early stopping conditioned on metric `val_loss` which is not available. Available metrics are: loss\n",
            "WARNING:tensorflow:Early stopping conditioned on metric `val_loss` which is not available. Available metrics are: loss\n",
            "WARNING:tensorflow:Early stopping conditioned on metric `val_loss` which is not available. Available metrics are: loss\n",
            "WARNING:tensorflow:Early stopping conditioned on metric `val_loss` which is not available. Available metrics are: loss\n",
            "WARNING:tensorflow:Early stopping conditioned on metric `val_loss` which is not available. Available metrics are: loss\n",
            "WARNING:tensorflow:Early stopping conditioned on metric `val_loss` which is not available. Available metrics are: loss\n",
            "WARNING:tensorflow:Early stopping conditioned on metric `val_loss` which is not available. Available metrics are: loss\n",
            "WARNING:tensorflow:Early stopping conditioned on metric `val_loss` which is not available. Available metrics are: loss\n",
            "WARNING:tensorflow:Early stopping conditioned on metric `val_loss` which is not available. Available metrics are: loss\n",
            "WARNING:tensorflow:Early stopping conditioned on metric `val_loss` which is not available. Available metrics are: loss\n",
            "WARNING:tensorflow:Early stopping conditioned on metric `val_loss` which is not available. Available metrics are: loss\n",
            "WARNING:tensorflow:Early stopping conditioned on metric `val_loss` which is not available. Available metrics are: loss\n",
            "WARNING:tensorflow:Early stopping conditioned on metric `val_loss` which is not available. Available metrics are: loss\n",
            "WARNING:tensorflow:Early stopping conditioned on metric `val_loss` which is not available. Available metrics are: loss\n",
            "WARNING:tensorflow:Early stopping conditioned on metric `val_loss` which is not available. Available metrics are: loss\n",
            "WARNING:tensorflow:Early stopping conditioned on metric `val_loss` which is not available. Available metrics are: loss\n",
            "WARNING:tensorflow:Early stopping conditioned on metric `val_loss` which is not available. Available metrics are: loss\n",
            "WARNING:tensorflow:Early stopping conditioned on metric `val_loss` which is not available. Available metrics are: loss\n",
            "WARNING:tensorflow:Early stopping conditioned on metric `val_loss` which is not available. Available metrics are: loss\n",
            "WARNING:tensorflow:Early stopping conditioned on metric `val_loss` which is not available. Available metrics are: loss\n",
            "WARNING:tensorflow:Early stopping conditioned on metric `val_loss` which is not available. Available metrics are: loss\n",
            "WARNING:tensorflow:Early stopping conditioned on metric `val_loss` which is not available. Available metrics are: loss\n",
            "WARNING:tensorflow:Early stopping conditioned on metric `val_loss` which is not available. Available metrics are: loss\n",
            "WARNING:tensorflow:Early stopping conditioned on metric `val_loss` which is not available. Available metrics are: loss\n",
            "WARNING:tensorflow:Early stopping conditioned on metric `val_loss` which is not available. Available metrics are: loss\n",
            "WARNING:tensorflow:Early stopping conditioned on metric `val_loss` which is not available. Available metrics are: loss\n",
            "WARNING:tensorflow:Early stopping conditioned on metric `val_loss` which is not available. Available metrics are: loss\n",
            "WARNING:tensorflow:Early stopping conditioned on metric `val_loss` which is not available. Available metrics are: loss\n",
            "WARNING:tensorflow:Early stopping conditioned on metric `val_loss` which is not available. Available metrics are: loss\n",
            "WARNING:tensorflow:Early stopping conditioned on metric `val_loss` which is not available. Available metrics are: loss\n",
            "WARNING:tensorflow:Early stopping conditioned on metric `val_loss` which is not available. Available metrics are: loss\n",
            "WARNING:tensorflow:Early stopping conditioned on metric `val_loss` which is not available. Available metrics are: loss\n",
            "WARNING:tensorflow:Early stopping conditioned on metric `val_loss` which is not available. Available metrics are: loss\n",
            "WARNING:tensorflow:Early stopping conditioned on metric `val_loss` which is not available. Available metrics are: loss\n",
            "WARNING:tensorflow:Early stopping conditioned on metric `val_loss` which is not available. Available metrics are: loss\n",
            "WARNING:tensorflow:Early stopping conditioned on metric `val_loss` which is not available. Available metrics are: loss\n",
            "WARNING:tensorflow:Early stopping conditioned on metric `val_loss` which is not available. Available metrics are: loss\n",
            "WARNING:tensorflow:Early stopping conditioned on metric `val_loss` which is not available. Available metrics are: loss\n",
            "WARNING:tensorflow:Early stopping conditioned on metric `val_loss` which is not available. Available metrics are: loss\n",
            "WARNING:tensorflow:Early stopping conditioned on metric `val_loss` which is not available. Available metrics are: loss\n",
            "WARNING:tensorflow:Early stopping conditioned on metric `val_loss` which is not available. Available metrics are: loss\n",
            "WARNING:tensorflow:Early stopping conditioned on metric `val_loss` which is not available. Available metrics are: loss\n",
            "WARNING:tensorflow:Early stopping conditioned on metric `val_loss` which is not available. Available metrics are: loss\n",
            "WARNING:tensorflow:Early stopping conditioned on metric `val_loss` which is not available. Available metrics are: loss\n",
            "WARNING:tensorflow:Early stopping conditioned on metric `val_loss` which is not available. Available metrics are: loss\n",
            "WARNING:tensorflow:Early stopping conditioned on metric `val_loss` which is not available. Available metrics are: loss\n",
            "WARNING:tensorflow:Early stopping conditioned on metric `val_loss` which is not available. Available metrics are: loss\n",
            "WARNING:tensorflow:Early stopping conditioned on metric `val_loss` which is not available. Available metrics are: loss\n",
            "WARNING:tensorflow:Early stopping conditioned on metric `val_loss` which is not available. Available metrics are: loss\n",
            "WARNING:tensorflow:Early stopping conditioned on metric `val_loss` which is not available. Available metrics are: loss\n",
            "WARNING:tensorflow:Early stopping conditioned on metric `val_loss` which is not available. Available metrics are: loss\n",
            "WARNING:tensorflow:Early stopping conditioned on metric `val_loss` which is not available. Available metrics are: loss\n",
            "WARNING:tensorflow:Early stopping conditioned on metric `val_loss` which is not available. Available metrics are: loss\n",
            "WARNING:tensorflow:Early stopping conditioned on metric `val_loss` which is not available. Available metrics are: loss\n",
            "WARNING:tensorflow:Early stopping conditioned on metric `val_loss` which is not available. Available metrics are: loss\n",
            "WARNING:tensorflow:Early stopping conditioned on metric `val_loss` which is not available. Available metrics are: loss\n",
            "WARNING:tensorflow:Early stopping conditioned on metric `val_loss` which is not available. Available metrics are: loss\n",
            "WARNING:tensorflow:Early stopping conditioned on metric `val_loss` which is not available. Available metrics are: loss\n",
            "WARNING:tensorflow:Early stopping conditioned on metric `val_loss` which is not available. Available metrics are: loss\n",
            "WARNING:tensorflow:Early stopping conditioned on metric `val_loss` which is not available. Available metrics are: loss\n",
            "WARNING:tensorflow:Early stopping conditioned on metric `val_loss` which is not available. Available metrics are: loss\n",
            "WARNING:tensorflow:Early stopping conditioned on metric `val_loss` which is not available. Available metrics are: loss\n",
            "WARNING:tensorflow:Early stopping conditioned on metric `val_loss` which is not available. Available metrics are: loss\n",
            "WARNING:tensorflow:Early stopping conditioned on metric `val_loss` which is not available. Available metrics are: loss\n",
            "WARNING:tensorflow:Early stopping conditioned on metric `val_loss` which is not available. Available metrics are: loss\n",
            "WARNING:tensorflow:Early stopping conditioned on metric `val_loss` which is not available. Available metrics are: loss\n",
            "WARNING:tensorflow:Early stopping conditioned on metric `val_loss` which is not available. Available metrics are: loss\n",
            "WARNING:tensorflow:Early stopping conditioned on metric `val_loss` which is not available. Available metrics are: loss\n",
            "WARNING:tensorflow:Early stopping conditioned on metric `val_loss` which is not available. Available metrics are: loss\n",
            "WARNING:tensorflow:Early stopping conditioned on metric `val_loss` which is not available. Available metrics are: loss\n",
            "WARNING:tensorflow:Early stopping conditioned on metric `val_loss` which is not available. Available metrics are: loss\n",
            "WARNING:tensorflow:Early stopping conditioned on metric `val_loss` which is not available. Available metrics are: loss\n",
            "WARNING:tensorflow:Early stopping conditioned on metric `val_loss` which is not available. Available metrics are: loss\n",
            "WARNING:tensorflow:Early stopping conditioned on metric `val_loss` which is not available. Available metrics are: loss\n",
            "WARNING:tensorflow:Early stopping conditioned on metric `val_loss` which is not available. Available metrics are: loss\n",
            "WARNING:tensorflow:Early stopping conditioned on metric `val_loss` which is not available. Available metrics are: loss\n",
            "WARNING:tensorflow:Early stopping conditioned on metric `val_loss` which is not available. Available metrics are: loss\n",
            "WARNING:tensorflow:Early stopping conditioned on metric `val_loss` which is not available. Available metrics are: loss\n",
            "WARNING:tensorflow:Early stopping conditioned on metric `val_loss` which is not available. Available metrics are: loss\n",
            "WARNING:tensorflow:Early stopping conditioned on metric `val_loss` which is not available. Available metrics are: loss\n",
            "WARNING:tensorflow:Early stopping conditioned on metric `val_loss` which is not available. Available metrics are: loss\n",
            "WARNING:tensorflow:Early stopping conditioned on metric `val_loss` which is not available. Available metrics are: loss\n",
            "WARNING:tensorflow:Early stopping conditioned on metric `val_loss` which is not available. Available metrics are: loss\n",
            "WARNING:tensorflow:Early stopping conditioned on metric `val_loss` which is not available. Available metrics are: loss\n",
            "WARNING:tensorflow:Early stopping conditioned on metric `val_loss` which is not available. Available metrics are: loss\n",
            "WARNING:tensorflow:Early stopping conditioned on metric `val_loss` which is not available. Available metrics are: loss\n",
            "WARNING:tensorflow:Early stopping conditioned on metric `val_loss` which is not available. Available metrics are: loss\n",
            "WARNING:tensorflow:Early stopping conditioned on metric `val_loss` which is not available. Available metrics are: loss\n",
            "WARNING:tensorflow:Early stopping conditioned on metric `val_loss` which is not available. Available metrics are: loss\n",
            "WARNING:tensorflow:Early stopping conditioned on metric `val_loss` which is not available. Available metrics are: loss\n",
            "WARNING:tensorflow:Early stopping conditioned on metric `val_loss` which is not available. Available metrics are: loss\n",
            "WARNING:tensorflow:Early stopping conditioned on metric `val_loss` which is not available. Available metrics are: loss\n",
            "WARNING:tensorflow:Early stopping conditioned on metric `val_loss` which is not available. Available metrics are: loss\n",
            "WARNING:tensorflow:Early stopping conditioned on metric `val_loss` which is not available. Available metrics are: loss\n",
            "WARNING:tensorflow:Early stopping conditioned on metric `val_loss` which is not available. Available metrics are: loss\n",
            "WARNING:tensorflow:Early stopping conditioned on metric `val_loss` which is not available. Available metrics are: loss\n",
            "WARNING:tensorflow:Early stopping conditioned on metric `val_loss` which is not available. Available metrics are: loss\n",
            "WARNING:tensorflow:Early stopping conditioned on metric `val_loss` which is not available. Available metrics are: loss\n",
            "WARNING:tensorflow:Early stopping conditioned on metric `val_loss` which is not available. Available metrics are: loss\n",
            "WARNING:tensorflow:Early stopping conditioned on metric `val_loss` which is not available. Available metrics are: loss\n",
            "WARNING:tensorflow:Early stopping conditioned on metric `val_loss` which is not available. Available metrics are: loss\n",
            "WARNING:tensorflow:Early stopping conditioned on metric `val_loss` which is not available. Available metrics are: loss\n",
            "WARNING:tensorflow:Early stopping conditioned on metric `val_loss` which is not available. Available metrics are: loss\n",
            "WARNING:tensorflow:Early stopping conditioned on metric `val_loss` which is not available. Available metrics are: loss\n",
            "WARNING:tensorflow:Early stopping conditioned on metric `val_loss` which is not available. Available metrics are: loss\n",
            "WARNING:tensorflow:Early stopping conditioned on metric `val_loss` which is not available. Available metrics are: loss\n",
            "WARNING:tensorflow:Early stopping conditioned on metric `val_loss` which is not available. Available metrics are: loss\n",
            "WARNING:tensorflow:Early stopping conditioned on metric `val_loss` which is not available. Available metrics are: loss\n",
            "WARNING:tensorflow:Early stopping conditioned on metric `val_loss` which is not available. Available metrics are: loss\n",
            "WARNING:tensorflow:Early stopping conditioned on metric `val_loss` which is not available. Available metrics are: loss\n",
            "WARNING:tensorflow:Early stopping conditioned on metric `val_loss` which is not available. Available metrics are: loss\n",
            "WARNING:tensorflow:Early stopping conditioned on metric `val_loss` which is not available. Available metrics are: loss\n",
            "WARNING:tensorflow:Early stopping conditioned on metric `val_loss` which is not available. Available metrics are: loss\n",
            "WARNING:tensorflow:Early stopping conditioned on metric `val_loss` which is not available. Available metrics are: loss\n",
            "WARNING:tensorflow:Early stopping conditioned on metric `val_loss` which is not available. Available metrics are: loss\n",
            "WARNING:tensorflow:Early stopping conditioned on metric `val_loss` which is not available. Available metrics are: loss\n",
            "WARNING:tensorflow:Early stopping conditioned on metric `val_loss` which is not available. Available metrics are: loss\n",
            "WARNING:tensorflow:Early stopping conditioned on metric `val_loss` which is not available. Available metrics are: loss\n",
            "WARNING:tensorflow:Early stopping conditioned on metric `val_loss` which is not available. Available metrics are: loss\n",
            "WARNING:tensorflow:Early stopping conditioned on metric `val_loss` which is not available. Available metrics are: loss\n",
            "WARNING:tensorflow:Early stopping conditioned on metric `val_loss` which is not available. Available metrics are: loss\n",
            "WARNING:tensorflow:Early stopping conditioned on metric `val_loss` which is not available. Available metrics are: loss\n",
            "WARNING:tensorflow:Early stopping conditioned on metric `val_loss` which is not available. Available metrics are: loss\n",
            "WARNING:tensorflow:Early stopping conditioned on metric `val_loss` which is not available. Available metrics are: loss\n",
            "WARNING:tensorflow:Early stopping conditioned on metric `val_loss` which is not available. Available metrics are: loss\n",
            "WARNING:tensorflow:Early stopping conditioned on metric `val_loss` which is not available. Available metrics are: loss\n",
            "WARNING:tensorflow:Early stopping conditioned on metric `val_loss` which is not available. Available metrics are: loss\n",
            "WARNING:tensorflow:Early stopping conditioned on metric `val_loss` which is not available. Available metrics are: loss\n",
            "WARNING:tensorflow:Early stopping conditioned on metric `val_loss` which is not available. Available metrics are: loss\n",
            "WARNING:tensorflow:Early stopping conditioned on metric `val_loss` which is not available. Available metrics are: loss\n",
            "WARNING:tensorflow:Early stopping conditioned on metric `val_loss` which is not available. Available metrics are: loss\n",
            "WARNING:tensorflow:Early stopping conditioned on metric `val_loss` which is not available. Available metrics are: loss\n",
            "WARNING:tensorflow:Early stopping conditioned on metric `val_loss` which is not available. Available metrics are: loss\n",
            "WARNING:tensorflow:Early stopping conditioned on metric `val_loss` which is not available. Available metrics are: loss\n",
            "WARNING:tensorflow:Early stopping conditioned on metric `val_loss` which is not available. Available metrics are: loss\n",
            "WARNING:tensorflow:Early stopping conditioned on metric `val_loss` which is not available. Available metrics are: loss\n",
            "WARNING:tensorflow:Early stopping conditioned on metric `val_loss` which is not available. Available metrics are: loss\n",
            "WARNING:tensorflow:Early stopping conditioned on metric `val_loss` which is not available. Available metrics are: loss\n",
            "WARNING:tensorflow:Early stopping conditioned on metric `val_loss` which is not available. Available metrics are: loss\n",
            "WARNING:tensorflow:Early stopping conditioned on metric `val_loss` which is not available. Available metrics are: loss\n",
            "WARNING:tensorflow:Early stopping conditioned on metric `val_loss` which is not available. Available metrics are: loss\n",
            "WARNING:tensorflow:Early stopping conditioned on metric `val_loss` which is not available. Available metrics are: loss\n",
            "WARNING:tensorflow:Early stopping conditioned on metric `val_loss` which is not available. Available metrics are: loss\n",
            "WARNING:tensorflow:Early stopping conditioned on metric `val_loss` which is not available. Available metrics are: loss\n",
            "WARNING:tensorflow:Early stopping conditioned on metric `val_loss` which is not available. Available metrics are: loss\n",
            "WARNING:tensorflow:Early stopping conditioned on metric `val_loss` which is not available. Available metrics are: loss\n",
            "WARNING:tensorflow:Early stopping conditioned on metric `val_loss` which is not available. Available metrics are: loss\n",
            "WARNING:tensorflow:Early stopping conditioned on metric `val_loss` which is not available. Available metrics are: loss\n",
            "WARNING:tensorflow:Early stopping conditioned on metric `val_loss` which is not available. Available metrics are: loss\n",
            "WARNING:tensorflow:Early stopping conditioned on metric `val_loss` which is not available. Available metrics are: loss\n",
            "WARNING:tensorflow:Early stopping conditioned on metric `val_loss` which is not available. Available metrics are: loss\n",
            "WARNING:tensorflow:Early stopping conditioned on metric `val_loss` which is not available. Available metrics are: loss\n",
            "WARNING:tensorflow:Early stopping conditioned on metric `val_loss` which is not available. Available metrics are: loss\n",
            "WARNING:tensorflow:Early stopping conditioned on metric `val_loss` which is not available. Available metrics are: loss\n",
            "WARNING:tensorflow:Early stopping conditioned on metric `val_loss` which is not available. Available metrics are: loss\n",
            "WARNING:tensorflow:Early stopping conditioned on metric `val_loss` which is not available. Available metrics are: loss\n",
            "WARNING:tensorflow:Early stopping conditioned on metric `val_loss` which is not available. Available metrics are: loss\n",
            "WARNING:tensorflow:Early stopping conditioned on metric `val_loss` which is not available. Available metrics are: loss\n",
            "WARNING:tensorflow:Early stopping conditioned on metric `val_loss` which is not available. Available metrics are: loss\n",
            "WARNING:tensorflow:Early stopping conditioned on metric `val_loss` which is not available. Available metrics are: loss\n",
            "WARNING:tensorflow:Early stopping conditioned on metric `val_loss` which is not available. Available metrics are: loss\n",
            "WARNING:tensorflow:Early stopping conditioned on metric `val_loss` which is not available. Available metrics are: loss\n",
            "WARNING:tensorflow:Early stopping conditioned on metric `val_loss` which is not available. Available metrics are: loss\n",
            "WARNING:tensorflow:Early stopping conditioned on metric `val_loss` which is not available. Available metrics are: loss\n",
            "WARNING:tensorflow:Early stopping conditioned on metric `val_loss` which is not available. Available metrics are: loss\n",
            "WARNING:tensorflow:Early stopping conditioned on metric `val_loss` which is not available. Available metrics are: loss\n",
            "WARNING:tensorflow:Early stopping conditioned on metric `val_loss` which is not available. Available metrics are: loss\n",
            "WARNING:tensorflow:Early stopping conditioned on metric `val_loss` which is not available. Available metrics are: loss\n",
            "WARNING:tensorflow:Early stopping conditioned on metric `val_loss` which is not available. Available metrics are: loss\n",
            "WARNING:tensorflow:Early stopping conditioned on metric `val_loss` which is not available. Available metrics are: loss\n",
            "WARNING:tensorflow:Early stopping conditioned on metric `val_loss` which is not available. Available metrics are: loss\n",
            "WARNING:tensorflow:Early stopping conditioned on metric `val_loss` which is not available. Available metrics are: loss\n",
            "WARNING:tensorflow:Early stopping conditioned on metric `val_loss` which is not available. Available metrics are: loss\n",
            "WARNING:tensorflow:Early stopping conditioned on metric `val_loss` which is not available. Available metrics are: loss\n",
            "WARNING:tensorflow:Early stopping conditioned on metric `val_loss` which is not available. Available metrics are: loss\n",
            "WARNING:tensorflow:Early stopping conditioned on metric `val_loss` which is not available. Available metrics are: loss\n",
            "WARNING:tensorflow:Early stopping conditioned on metric `val_loss` which is not available. Available metrics are: loss\n",
            "WARNING:tensorflow:Early stopping conditioned on metric `val_loss` which is not available. Available metrics are: loss\n",
            "WARNING:tensorflow:Early stopping conditioned on metric `val_loss` which is not available. Available metrics are: loss\n",
            "WARNING:tensorflow:Early stopping conditioned on metric `val_loss` which is not available. Available metrics are: loss\n",
            "WARNING:tensorflow:Early stopping conditioned on metric `val_loss` which is not available. Available metrics are: loss\n",
            "WARNING:tensorflow:Early stopping conditioned on metric `val_loss` which is not available. Available metrics are: loss\n",
            "WARNING:tensorflow:Early stopping conditioned on metric `val_loss` which is not available. Available metrics are: loss\n",
            "WARNING:tensorflow:Early stopping conditioned on metric `val_loss` which is not available. Available metrics are: loss\n",
            "WARNING:tensorflow:Early stopping conditioned on metric `val_loss` which is not available. Available metrics are: loss\n",
            "WARNING:tensorflow:Early stopping conditioned on metric `val_loss` which is not available. Available metrics are: loss\n",
            "WARNING:tensorflow:Early stopping conditioned on metric `val_loss` which is not available. Available metrics are: loss\n",
            "WARNING:tensorflow:Early stopping conditioned on metric `val_loss` which is not available. Available metrics are: loss\n",
            "WARNING:tensorflow:Early stopping conditioned on metric `val_loss` which is not available. Available metrics are: loss\n",
            "WARNING:tensorflow:Early stopping conditioned on metric `val_loss` which is not available. Available metrics are: loss\n",
            "WARNING:tensorflow:Early stopping conditioned on metric `val_loss` which is not available. Available metrics are: loss\n",
            "WARNING:tensorflow:Early stopping conditioned on metric `val_loss` which is not available. Available metrics are: loss\n"
          ]
        }
      ]
    },
    {
      "cell_type": "code",
      "source": [
        "import numpy as np\n",
        "estimator.fit(X_scaled, y_scaled)\n",
        "prediction = estimator.predict(X_scaled)\n",
        "\n",
        "train_error =  np.abs(y_scaled - prediction)\n",
        "mean_error = np.mean(train_error)\n",
        "min_error = np.min(train_error)\n",
        "max_error = np.max(train_error)\n",
        "std_error = np.std(train_error)"
      ],
      "metadata": {
        "id": "IfhggGqWxrqv"
      },
      "execution_count": null,
      "outputs": []
    },
    {
      "cell_type": "code",
      "source": [
        "print(\"mean error\" , mean_error , min_error , max_error , std_error)"
      ],
      "metadata": {
        "colab": {
          "base_uri": "https://localhost:8080/"
        },
        "id": "jRCOM6GbxvNO",
        "outputId": "3bea29c0-37ab-4e88-995e-025b4bae5701"
      },
      "execution_count": null,
      "outputs": [
        {
          "output_type": "stream",
          "name": "stdout",
          "text": [
            "mean error 0.6296161913273055 4.899007676872902e-05 18.159416109832 1.0971493622854178\n"
          ]
        }
      ]
    },
    {
      "cell_type": "code",
      "source": [
        "from sklearn import metrics\n",
        "score = np.sqrt(metrics.mean_squared_error(prediction,y_scaled))\n",
        "print(f\"Before save score (RMSE): {score}\")\n",
        "# Measure MSE error.  \n",
        "score = metrics.mean_squared_error(prediction,y_scaled)\n",
        "print(\"Final score (MSE): {}\".format(score))\n",
        "score1 = metrics.mean_absolute_error(prediction,y_scaled)\n",
        "print(\"Final score (MAE): {}\".format(score1))\n",
        "score2 = metrics.r2_score(prediction,y_scaled)\n",
        "print(\"Final score (R2): {}\".format(score2))\n",
        "score3 = metrics.mean_absolute_percentage_error(prediction,y_scaled)\n",
        "print(\"Final score (MAPE): {}\".format(score3))\n",
        "#score4 = metrics.mean_squared_log_error(predicted_y_scaled,testy_scaled)\n",
        "#print(\"Final score (MSLE): {}\".format(score4))\n",
        "#score5 = metrics.log_loss(predicted_y_scaled,testy_scaled)"
      ],
      "metadata": {
        "colab": {
          "base_uri": "https://localhost:8080/"
        },
        "id": "VR5ecFZpxzim",
        "outputId": "58bdfe8b-f104-4704-a56e-26725d863f0f"
      },
      "execution_count": null,
      "outputs": [
        {
          "output_type": "stream",
          "name": "stdout",
          "text": [
            "Before save score (RMSE): 0.5319021764031656\n",
            "Final score (MSE): 0.28291992526242427\n",
            "Final score (MAE): 0.3054030092483974\n",
            "Final score (R2): 0.5266885162624682\n",
            "Final score (MAPE): 3.6766527177182344\n"
          ]
        }
      ]
    },
    {
      "cell_type": "markdown",
      "source": [
        "hence PROVED that scaled data has much better scores. \n",
        "UNSCALED data has this score:\n",
        "Before save score (RMSE): 5.347913161746728\n",
        "Final score (MSE): 28.600175185583886\n",
        "Final score (MAE): 2.9515584695858963\n",
        "Final score (R2): -244.30781906197856\n",
        "Final score (MAPE): 2.1024515310739944\n",
        "\n",
        "ANd SCALED data has this score:\n",
        "Before save score (RMSE): 0.5319021764031656\n",
        "Final score (MSE): 0.28291992526242427\n",
        "Final score (MAE): 0.3054030092483974\n",
        "Final score (R2): 0.5266885162624682\n",
        "Final score (MAPE): 3.6766527177182344\n",
        "\n",
        "**Basically Scaled data solved r2 negative problem in short!**"
      ],
      "metadata": {
        "id": "-q__0UfSzFX9"
      }
    }
  ]
}